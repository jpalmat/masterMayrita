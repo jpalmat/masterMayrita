{
 "cells": [
  {
   "cell_type": "markdown",
   "metadata": {
    "id": "e-Xr73DZ8CGE"
   },
   "source": [
    "## **NUESTRA PRIMERA RED NEURONAL: MNIST DATASET**"
   ]
  },
  {
   "cell_type": "code",
   "execution_count": null,
   "metadata": {
    "id": "AMjhP1vDde1e"
   },
   "outputs": [],
   "source": [
    "!pip freeze"
   ]
  },
  {
   "cell_type": "markdown",
   "metadata": {
    "id": "BGr4or3pd8Ql"
   },
   "source": [
    "Hola voy a ejecutar el comando ```!pip freeze``` para cotillear a Google Colab"
   ]
  },
  {
   "cell_type": "code",
   "execution_count": 2,
   "metadata": {
    "colab": {
     "base_uri": "https://localhost:8080/",
     "height": 35
    },
    "executionInfo": {
     "elapsed": 2148,
     "status": "ok",
     "timestamp": 1613413362085,
     "user": {
      "displayName": "Adrian Colomer Granero",
      "photoUrl": "",
      "userId": "01358379493934063214"
     },
     "user_tz": -60
    },
    "id": "76L_IBAfwr5y",
    "outputId": "35b067a6-3f6e-43b6-cf8b-17d170b0f6f8"
   },
   "outputs": [
    {
     "data": {
      "application/vnd.google.colaboratory.intrinsic+json": {
       "type": "string"
      },
      "text/plain": [
       "'2.4.1'"
      ]
     },
     "execution_count": 2,
     "metadata": {
      "tags": []
     },
     "output_type": "execute_result"
    }
   ],
   "source": [
    "#Importemos TensorFlow 2.X y Numpy\n",
    "import numpy as np\n",
    "import tensorflow as tf\n",
    "tf.__version__"
   ]
  },
  {
   "cell_type": "markdown",
   "metadata": {
    "id": "Cm6TBi8k8pnq"
   },
   "source": [
    "#### **- Cargando el conjunto de datos**"
   ]
  },
  {
   "cell_type": "code",
   "execution_count": 3,
   "metadata": {
    "colab": {
     "base_uri": "https://localhost:8080/"
    },
    "executionInfo": {
     "elapsed": 1140,
     "status": "ok",
     "timestamp": 1613413364104,
     "user": {
      "displayName": "Adrian Colomer Granero",
      "photoUrl": "",
      "userId": "01358379493934063214"
     },
     "user_tz": -60
    },
    "id": "Q97EgDoewMWu",
    "outputId": "1e9159c3-1feb-4fbc-df90-3b902c1ada6f"
   },
   "outputs": [
    {
     "name": "stdout",
     "output_type": "stream",
     "text": [
      "Downloading data from https://storage.googleapis.com/tensorflow/tf-keras-datasets/mnist.npz\n",
      "11493376/11490434 [==============================] - 0s 0us/step\n",
      "(60000, 28, 28)\n",
      "(60000,)\n",
      "(10000, 28, 28)\n",
      "(10000,)\n"
     ]
    }
   ],
   "source": [
    "# Importamos el dataset MNIST y cargamos los datos\n",
    "mnist = tf.keras.datasets.mnist\n",
    "(x_train, y_train), (x_test, y_test) = mnist.load_data()\n",
    "print(x_train.shape)\n",
    "print(y_train.shape)\n",
    "print(x_test.shape)\n",
    "print(y_test.shape)"
   ]
  },
  {
   "cell_type": "markdown",
   "metadata": {
    "id": "UHWTjTJe80h7"
   },
   "source": [
    "#### **- Inspeccionando el conjunto de datos**"
   ]
  },
  {
   "cell_type": "code",
   "execution_count": 6,
   "metadata": {
    "colab": {
     "base_uri": "https://localhost:8080/",
     "height": 809
    },
    "executionInfo": {
     "elapsed": 905,
     "status": "ok",
     "timestamp": 1613413386898,
     "user": {
      "displayName": "Adrian Colomer Granero",
      "photoUrl": "",
      "userId": "01358379493934063214"
     },
     "user_tz": -60
    },
    "id": "yQydjXExS1hI",
    "outputId": "8f9a75df-eaef-49aa-f0b4-af5f5d3cd5e5"
   },
   "outputs": [
    {
     "data": {
      "image/png": "[encoded data removed]",
      "text/plain": [
       "<Figure size 432x288 with 1 Axes>"
      ]
     },
     "metadata": {
      "needs_background": "light",
      "tags": []
     },
     "output_type": "display_data"
    },
    {
     "data": {
      "image/png": "[encoded data removed]",
      "text/plain": [
       "<Figure size 432x288 with 1 Axes>"
      ]
     },
     "metadata": {
      "needs_background": "light",
      "tags": []
     },
     "output_type": "display_data"
    },
    {
     "data": {
      "image/png": "[encoded data removed]",
      "text/plain": [
       "<Figure size 432x288 with 1 Axes>"
      ]
     },
     "metadata": {
      "needs_background": "light",
      "tags": []
     },
     "output_type": "display_data"
    }
   ],
   "source": [
    "import matplotlib.pyplot as plt\n",
    "# Función auxiliar para visualizar datos de entrenamiento de manera aleatoria\n",
    "def display_digit(num):\n",
    "  # Seleccionar la imagen num de mnist.train.images y hacer un reshape al tamaño de la imagen\n",
    "  image = x_train[num,:,:] \n",
    "  # Seleccionar el target num de mnist.train.labels\n",
    "  label = y_train[num] \n",
    "  # Mostrar\n",
    "  plt.title('Example: %d  Label: %d' % (num, label))\n",
    "  plt.imshow(image, cmap=plt.get_cmap('gray_r'))\n",
    "  plt.show()\n",
    "\n",
    "# Mostramos algunos ejemplos\n",
    "display_digit(np.random.randint(0, x_train.shape[0]))\n",
    "display_digit(np.random.randint(0, x_train.shape[0]))\n",
    "display_digit(np.random.randint(0, x_train.shape[0]))"
   ]
  },
  {
   "cell_type": "markdown",
   "metadata": {
    "id": "meo3FjAr85We"
   },
   "source": [
    "#### **- Acondicionando el conjunto de datos**"
   ]
  },
  {
   "cell_type": "code",
   "execution_count": 8,
   "metadata": {
    "colab": {
     "base_uri": "https://localhost:8080/"
    },
    "executionInfo": {
     "elapsed": 605,
     "status": "ok",
     "timestamp": 1613413686516,
     "user": {
      "displayName": "Adrian Colomer Granero",
      "photoUrl": "",
      "userId": "01358379493934063214"
     },
     "user_tz": -60
    },
    "id": "dgSOya1_8rsu",
    "outputId": "c6cd58ba-56b9-409f-eee2-b6fcdd802448"
   },
   "outputs": [
    {
     "name": "stdout",
     "output_type": "stream",
     "text": [
      "4\n"
     ]
    }
   ],
   "source": [
    "print(y_train[25555])"
   ]
  },
  {
   "cell_type": "code",
   "execution_count": null,
   "metadata": {
    "colab": {
     "base_uri": "https://localhost:8080/"
    },
    "executionInfo": {
     "elapsed": 1553,
     "status": "ok",
     "timestamp": 1612987627715,
     "user": {
      "displayName": "Adrian Colomer Granero",
      "photoUrl": "",
      "userId": "01358379493934063214"
     },
     "user_tz": -60
    },
    "id": "PrtVcOxow_JA",
    "outputId": "d8ca2cd3-44ee-4c43-f15b-c608ff747317"
   },
   "outputs": [
    {
     "name": "stdout",
     "output_type": "stream",
     "text": [
      "(60000, 10)\n",
      "(54000, 10)\n"
     ]
    }
   ],
   "source": [
    "# Pre-procesado obligatorio cuando trabajo con redes neuronales\n",
    "from tensorflow.keras.utils import to_categorical\n",
    "from sklearn.model_selection import train_test_split\n",
    "\n",
    "x_train, x_te = x_train / 255.0, x_test / 255.0 #Cambio al rango 0-1 -> Disminuyo CC\n",
    "y_train = to_categorical(y_train, num_classes=10) #One-hot encoding para minimizar error\n",
    "print(y_train.shape)\n",
    "y_te = to_categorical(y_test, num_classes=10)\n",
    "x_tr, x_val, y_tr, y_val = train_test_split(x_train, y_train, test_size=0.1, random_state=42) # 3 subconjuntos es de vital importancia\n",
    "print(y_tr.shape)\n",
    "# print(y_tr[0])"
   ]
  },
  {
   "cell_type": "code",
   "execution_count": null,
   "metadata": {
    "colab": {
     "base_uri": "https://localhost:8080/"
    },
    "executionInfo": {
     "elapsed": 589,
     "status": "ok",
     "timestamp": 1612987764917,
     "user": {
      "displayName": "Adrian Colomer Granero",
      "photoUrl": "",
      "userId": "01358379493934063214"
     },
     "user_tz": -60
    },
    "id": "erZKA-oWj85E",
    "outputId": "2eead58c-cd80-4049-85d1-b60890c325aa"
   },
   "outputs": [
    {
     "name": "stdout",
     "output_type": "stream",
     "text": [
      "[0. 0. 0. 0. 0. 1. 0. 0. 0. 0.]\n"
     ]
    }
   ],
   "source": [
    "print(y_tr[36])"
   ]
  },
  {
   "cell_type": "code",
   "execution_count": null,
   "metadata": {
    "colab": {
     "base_uri": "https://localhost:8080/"
    },
    "executionInfo": {
     "elapsed": 643,
     "status": "ok",
     "timestamp": 1612987809317,
     "user": {
      "displayName": "Adrian Colomer Granero",
      "photoUrl": "",
      "userId": "01358379493934063214"
     },
     "user_tz": -60
    },
    "id": "q010WRGbLI5P",
    "outputId": "878edde6-5b6d-486e-ed13-4f5b4a2b8462"
   },
   "outputs": [
    {
     "name": "stdout",
     "output_type": "stream",
     "text": [
      "5\n"
     ]
    }
   ],
   "source": [
    "print(y_tr[36].argmax(axis=0))"
   ]
  },
  {
   "cell_type": "markdown",
   "metadata": {
    "id": "YBO56FZh89P3"
   },
   "source": [
    "#### **- Creando la topología de Red Neuronal (MLP) y entrenándola**"
   ]
  },
  {
   "cell_type": "code",
   "execution_count": 11,
   "metadata": {
    "executionInfo": {
     "elapsed": 632,
     "status": "ok",
     "timestamp": 1613415601541,
     "user": {
      "displayName": "Adrian Colomer Granero",
      "photoUrl": "",
      "userId": "01358379493934063214"
     },
     "user_tz": -60
    },
    "id": "7O8gSDXgyo4-"
   },
   "outputs": [],
   "source": [
    "# Voy a necesitar importar una serie de modulos para programar mi red neuronal\n",
    "from tensorflow.keras.models import Sequential\n",
    "from tensorflow.keras.layers import Dense, Flatten\n",
    "# Vamos a codificar la topología de nuestra primera red neuronal!!!\n",
    "model = Sequential()\n",
    "model.add(Flatten())\n",
    "model.add(Dense(512, input_shape=(28*28,), activation=\"relu\"))\n",
    "model.add(Dense(10, activation=\"softmax\")) #Capa salida -> Mismo número de neuronas que de clases objetivo\n",
    "\n",
    "# Ahí tenemos nuestro primer MLP con una única capa oculta de 512 neuronas"
   ]
  },
  {
   "cell_type": "code",
   "execution_count": 12,
   "metadata": {
    "executionInfo": {
     "elapsed": 685,
     "status": "ok",
     "timestamp": 1613415627850,
     "user": {
      "displayName": "Adrian Colomer Granero",
      "photoUrl": "",
      "userId": "01358379493934063214"
     },
     "user_tz": -60
    },
    "id": "y0x4icp30SGE"
   },
   "outputs": [],
   "source": [
    "#Traigamos nuestro optimizador\n",
    "from tensorflow.keras.optimizers import SGD\n",
    "# Ahora que tengo definida la arquitectura, la compilo\n",
    "model.compile(loss=\"categorical_crossentropy\", optimizer=SGD(0.005), metrics=[\"accuracy\"])"
   ]
  },
  {
   "cell_type": "code",
   "execution_count": null,
   "metadata": {
    "colab": {
     "base_uri": "https://localhost:8080/"
    },
    "executionInfo": {
     "elapsed": 61444,
     "status": "ok",
     "timestamp": 1612988594937,
     "user": {
      "displayName": "Adrian Colomer Granero",
      "photoUrl": "",
      "userId": "01358379493934063214"
     },
     "user_tz": -60
    },
    "id": "iSWwUUWM1W7a",
    "outputId": "7e172a47-e25d-43ae-995d-d5992e4f2ac0"
   },
   "outputs": [
    {
     "name": "stdout",
     "output_type": "stream",
     "text": [
      "[INFO]: Entrenando red neuronal...\n",
      "Epoch 1/50\n",
      "422/422 [==============================] - 3s 4ms/step - loss: 1.8769 - accuracy: 0.4656 - val_loss: 0.9947 - val_accuracy: 0.8103\n",
      "Epoch 2/50\n",
      "422/422 [==============================] - 1s 3ms/step - loss: 0.8757 - accuracy: 0.8296 - val_loss: 0.6633 - val_accuracy: 0.8523\n",
      "Epoch 3/50\n",
      "422/422 [==============================] - 1s 3ms/step - loss: 0.6234 - accuracy: 0.8557 - val_loss: 0.5404 - val_accuracy: 0.8668\n",
      "Epoch 4/50\n",
      "422/422 [==============================] - 1s 3ms/step - loss: 0.5148 - accuracy: 0.8752 - val_loss: 0.4761 - val_accuracy: 0.8797\n",
      "Epoch 5/50\n",
      "422/422 [==============================] - 1s 3ms/step - loss: 0.4651 - accuracy: 0.8808 - val_loss: 0.4355 - val_accuracy: 0.8890\n",
      "Epoch 6/50\n",
      "422/422 [==============================] - 1s 3ms/step - loss: 0.4278 - accuracy: 0.8882 - val_loss: 0.4065 - val_accuracy: 0.8930\n",
      "Epoch 7/50\n",
      "422/422 [==============================] - 1s 3ms/step - loss: 0.3955 - accuracy: 0.8967 - val_loss: 0.3854 - val_accuracy: 0.8975\n",
      "Epoch 8/50\n",
      "422/422 [==============================] - 1s 3ms/step - loss: 0.3750 - accuracy: 0.9003 - val_loss: 0.3687 - val_accuracy: 0.8998\n",
      "Epoch 9/50\n",
      "422/422 [==============================] - 1s 3ms/step - loss: 0.3706 - accuracy: 0.8997 - val_loss: 0.3546 - val_accuracy: 0.9033\n",
      "Epoch 10/50\n",
      "422/422 [==============================] - 1s 3ms/step - loss: 0.3536 - accuracy: 0.9036 - val_loss: 0.3434 - val_accuracy: 0.9055\n",
      "Epoch 11/50\n",
      "422/422 [==============================] - 1s 3ms/step - loss: 0.3438 - accuracy: 0.9059 - val_loss: 0.3332 - val_accuracy: 0.9083\n",
      "Epoch 12/50\n",
      "422/422 [==============================] - 1s 3ms/step - loss: 0.3313 - accuracy: 0.9079 - val_loss: 0.3247 - val_accuracy: 0.9103\n",
      "Epoch 13/50\n",
      "422/422 [==============================] - 1s 3ms/step - loss: 0.3161 - accuracy: 0.9129 - val_loss: 0.3165 - val_accuracy: 0.9138\n",
      "Epoch 14/50\n",
      "422/422 [==============================] - 1s 3ms/step - loss: 0.3148 - accuracy: 0.9138 - val_loss: 0.3097 - val_accuracy: 0.9142\n",
      "Epoch 15/50\n",
      "422/422 [==============================] - 1s 3ms/step - loss: 0.3085 - accuracy: 0.9141 - val_loss: 0.3034 - val_accuracy: 0.9153\n",
      "Epoch 16/50\n",
      "422/422 [==============================] - 1s 3ms/step - loss: 0.3017 - accuracy: 0.9163 - val_loss: 0.2977 - val_accuracy: 0.9180\n",
      "Epoch 17/50\n",
      "422/422 [==============================] - 1s 3ms/step - loss: 0.2957 - accuracy: 0.9183 - val_loss: 0.2920 - val_accuracy: 0.9183\n",
      "Epoch 18/50\n",
      "422/422 [==============================] - 1s 3ms/step - loss: 0.2940 - accuracy: 0.9167 - val_loss: 0.2872 - val_accuracy: 0.9207\n",
      "Epoch 19/50\n",
      "422/422 [==============================] - 1s 3ms/step - loss: 0.2876 - accuracy: 0.9198 - val_loss: 0.2823 - val_accuracy: 0.9205\n",
      "Epoch 20/50\n",
      "422/422 [==============================] - 1s 3ms/step - loss: 0.2827 - accuracy: 0.9210 - val_loss: 0.2782 - val_accuracy: 0.9228\n",
      "Epoch 21/50\n",
      "422/422 [==============================] - 1s 3ms/step - loss: 0.2849 - accuracy: 0.9203 - val_loss: 0.2740 - val_accuracy: 0.9248\n",
      "Epoch 22/50\n",
      "422/422 [==============================] - 1s 3ms/step - loss: 0.2747 - accuracy: 0.9226 - val_loss: 0.2698 - val_accuracy: 0.9252\n",
      "Epoch 23/50\n",
      "422/422 [==============================] - 1s 3ms/step - loss: 0.2665 - accuracy: 0.9263 - val_loss: 0.2663 - val_accuracy: 0.9258\n",
      "Epoch 24/50\n",
      "422/422 [==============================] - 1s 3ms/step - loss: 0.2683 - accuracy: 0.9254 - val_loss: 0.2625 - val_accuracy: 0.9265\n",
      "Epoch 25/50\n",
      "422/422 [==============================] - 1s 3ms/step - loss: 0.2632 - accuracy: 0.9264 - val_loss: 0.2591 - val_accuracy: 0.9287\n",
      "Epoch 26/50\n",
      "422/422 [==============================] - 1s 3ms/step - loss: 0.2601 - accuracy: 0.9283 - val_loss: 0.2561 - val_accuracy: 0.9290\n",
      "Epoch 27/50\n",
      "422/422 [==============================] - 1s 3ms/step - loss: 0.2605 - accuracy: 0.9297 - val_loss: 0.2529 - val_accuracy: 0.9305\n",
      "Epoch 28/50\n",
      "422/422 [==============================] - 1s 3ms/step - loss: 0.2548 - accuracy: 0.9300 - val_loss: 0.2492 - val_accuracy: 0.9302\n",
      "Epoch 29/50\n",
      "422/422 [==============================] - 1s 3ms/step - loss: 0.2480 - accuracy: 0.9307 - val_loss: 0.2469 - val_accuracy: 0.9318\n",
      "Epoch 30/50\n",
      "422/422 [==============================] - 1s 3ms/step - loss: 0.2466 - accuracy: 0.9322 - val_loss: 0.2438 - val_accuracy: 0.9320\n",
      "Epoch 31/50\n",
      "422/422 [==============================] - 1s 3ms/step - loss: 0.2379 - accuracy: 0.9350 - val_loss: 0.2408 - val_accuracy: 0.9328\n",
      "Epoch 32/50\n",
      "422/422 [==============================] - 1s 3ms/step - loss: 0.2369 - accuracy: 0.9342 - val_loss: 0.2387 - val_accuracy: 0.9340\n",
      "Epoch 33/50\n",
      "422/422 [==============================] - 1s 3ms/step - loss: 0.2349 - accuracy: 0.9344 - val_loss: 0.2364 - val_accuracy: 0.9355\n",
      "Epoch 34/50\n",
      "422/422 [==============================] - 1s 3ms/step - loss: 0.2387 - accuracy: 0.9330 - val_loss: 0.2332 - val_accuracy: 0.9360\n",
      "Epoch 35/50\n",
      "422/422 [==============================] - 1s 3ms/step - loss: 0.2352 - accuracy: 0.9357 - val_loss: 0.2314 - val_accuracy: 0.9367\n",
      "Epoch 36/50\n",
      "422/422 [==============================] - 1s 3ms/step - loss: 0.2276 - accuracy: 0.9374 - val_loss: 0.2292 - val_accuracy: 0.9373\n",
      "Epoch 37/50\n",
      "422/422 [==============================] - 1s 3ms/step - loss: 0.2238 - accuracy: 0.9375 - val_loss: 0.2265 - val_accuracy: 0.9377\n",
      "Epoch 38/50\n",
      "422/422 [==============================] - 1s 3ms/step - loss: 0.2236 - accuracy: 0.9381 - val_loss: 0.2241 - val_accuracy: 0.9383\n",
      "Epoch 39/50\n",
      "422/422 [==============================] - 1s 3ms/step - loss: 0.2258 - accuracy: 0.9366 - val_loss: 0.2224 - val_accuracy: 0.9385\n",
      "Epoch 40/50\n",
      "422/422 [==============================] - 1s 3ms/step - loss: 0.2236 - accuracy: 0.9371 - val_loss: 0.2200 - val_accuracy: 0.9402\n",
      "Epoch 41/50\n",
      "422/422 [==============================] - 1s 3ms/step - loss: 0.2183 - accuracy: 0.9392 - val_loss: 0.2183 - val_accuracy: 0.9405\n",
      "Epoch 42/50\n",
      "422/422 [==============================] - 1s 3ms/step - loss: 0.2129 - accuracy: 0.9417 - val_loss: 0.2164 - val_accuracy: 0.9410\n",
      "Epoch 43/50\n",
      "422/422 [==============================] - 1s 3ms/step - loss: 0.2123 - accuracy: 0.9420 - val_loss: 0.2145 - val_accuracy: 0.9418\n",
      "Epoch 44/50\n",
      "422/422 [==============================] - 1s 3ms/step - loss: 0.2113 - accuracy: 0.9409 - val_loss: 0.2121 - val_accuracy: 0.9417\n",
      "Epoch 45/50\n",
      "422/422 [==============================] - 1s 3ms/step - loss: 0.2103 - accuracy: 0.9413 - val_loss: 0.2104 - val_accuracy: 0.9423\n",
      "Epoch 46/50\n",
      "422/422 [==============================] - 1s 3ms/step - loss: 0.2058 - accuracy: 0.9437 - val_loss: 0.2084 - val_accuracy: 0.9427\n",
      "Epoch 47/50\n",
      "422/422 [==============================] - 1s 3ms/step - loss: 0.2108 - accuracy: 0.9418 - val_loss: 0.2074 - val_accuracy: 0.9427\n",
      "Epoch 48/50\n",
      "422/422 [==============================] - 1s 3ms/step - loss: 0.2051 - accuracy: 0.9431 - val_loss: 0.2050 - val_accuracy: 0.9423\n",
      "Epoch 49/50\n",
      "422/422 [==============================] - 1s 3ms/step - loss: 0.1998 - accuracy: 0.9443 - val_loss: 0.2037 - val_accuracy: 0.9428\n",
      "Epoch 50/50\n",
      "422/422 [==============================] - 1s 3ms/step - loss: 0.2023 - accuracy: 0.9435 - val_loss: 0.2016 - val_accuracy: 0.9445\n"
     ]
    }
   ],
   "source": [
    "# Por fin podemos entrenar nuestra primera red neuronal\n",
    "print(\"[INFO]: Entrenando red neuronal...\")\n",
    "H = model.fit(x_tr, y_tr, validation_data=(x_val, y_val), epochs=50, batch_size=128)"
   ]
  },
  {
   "cell_type": "markdown",
   "metadata": {
    "id": "EtR8fpxq9JRG"
   },
   "source": [
    "#### **- Observando el proceso de entrenamiento para tomar decisiones**"
   ]
  },
  {
   "cell_type": "code",
   "execution_count": null,
   "metadata": {
    "colab": {
     "base_uri": "https://localhost:8080/",
     "height": 316
    },
    "executionInfo": {
     "elapsed": 951,
     "status": "ok",
     "timestamp": 1612988635343,
     "user": {
      "displayName": "Adrian Colomer Granero",
      "photoUrl": "",
      "userId": "01358379493934063214"
     },
     "user_tz": -60
    },
    "id": "R7OoJts-122A",
    "outputId": "10c70776-70a4-4368-8bc0-4d5c2d1c7bdf"
   },
   "outputs": [
    {
     "data": {
      "text/plain": [
       "<matplotlib.legend.Legend at 0x7f0c2e9904e0>"
      ]
     },
     "execution_count": 15,
     "metadata": {
      "tags": []
     },
     "output_type": "execute_result"
    },
    {
     "data": {
      "image/png": "[encoded data removed]",
      "text/plain": [
       "<Figure size 432x288 with 1 Axes>"
      ]
     },
     "metadata": {
      "tags": []
     },
     "output_type": "display_data"
    }
   ],
   "source": [
    "# Muestro gráfica de accuracy y losses\n",
    "plt.style.use(\"ggplot\")\n",
    "plt.figure()\n",
    "plt.plot(np.arange(0, 50), H.history[\"loss\"], label=\"train_loss\")\n",
    "plt.plot(np.arange(0, 50), H.history[\"val_loss\"], label=\"val_loss\")\n",
    "plt.plot(np.arange(0, 50), H.history[\"accuracy\"], label=\"train_acc\")\n",
    "plt.plot(np.arange(0, 50), H.history[\"val_accuracy\"], label=\"val_acc\")\n",
    "plt.title(\"Training Loss and Accuracy\")\n",
    "plt.xlabel(\"Epoch #\")\n",
    "plt.ylabel(\"Loss/Accuracy\")\n",
    "plt.legend()"
   ]
  },
  {
   "cell_type": "markdown",
   "metadata": {
    "id": "7ll4EzHI9Of5"
   },
   "source": [
    "#### **- Probando el conjunto de datos en el subset de test y evaluando el performance del modelo**"
   ]
  },
  {
   "cell_type": "code",
   "execution_count": null,
   "metadata": {
    "colab": {
     "base_uri": "https://localhost:8080/"
    },
    "executionInfo": {
     "elapsed": 607,
     "status": "ok",
     "timestamp": 1612988700147,
     "user": {
      "displayName": "Adrian Colomer Granero",
      "photoUrl": "",
      "userId": "01358379493934063214"
     },
     "user_tz": -60
    },
    "id": "7J38sfBN742h",
    "outputId": "fb3879d8-a9d8-4a63-da7c-54aba6d162bc"
   },
   "outputs": [
    {
     "name": "stdout",
     "output_type": "stream",
     "text": [
      "[INFO]: Evaluando red neuronal...\n",
      "[0. 0. 0. 0. 0. 0. 0. 1. 0. 0.]\n",
      "[1.8735764e-04 3.1621215e-07 7.8220881e-04 3.2658586e-03 2.8957616e-06\n",
      " 1.3592681e-04 9.3926609e-08 9.9500918e-01 2.6146845e-05 5.9009145e-04]\n",
      "              precision    recall  f1-score   support\n",
      "\n",
      "           0       0.96      0.98      0.97       980\n",
      "           1       0.98      0.98      0.98      1135\n",
      "           2       0.95      0.93      0.94      1032\n",
      "           3       0.92      0.94      0.93      1010\n",
      "           4       0.93      0.95      0.94       982\n",
      "           5       0.94      0.91      0.93       892\n",
      "           6       0.94      0.96      0.95       958\n",
      "           7       0.95      0.93      0.94      1028\n",
      "           8       0.93      0.92      0.93       974\n",
      "           9       0.93      0.91      0.92      1009\n",
      "\n",
      "    accuracy                           0.94     10000\n",
      "   macro avg       0.94      0.94      0.94     10000\n",
      "weighted avg       0.94      0.94      0.94     10000\n",
      "\n"
     ]
    }
   ],
   "source": [
    "from sklearn.metrics import classification_report\n",
    "# Evaluando el modelo de predicción con las imágenes de test\n",
    "print(\"[INFO]: Evaluando red neuronal...\")\n",
    "predictions = model.predict(x_te, batch_size=128)\n",
    "print(y_te[0])\n",
    "print(predictions[0])\n",
    "print(classification_report(y_te.argmax(axis=1), predictions.argmax(axis=1)))"
   ]
  },
  {
   "cell_type": "code",
   "execution_count": null,
   "metadata": {
    "colab": {
     "base_uri": "https://localhost:8080/"
    },
    "executionInfo": {
     "elapsed": 621,
     "status": "ok",
     "timestamp": 1612988917894,
     "user": {
      "displayName": "Adrian Colomer Granero",
      "photoUrl": "",
      "userId": "01358379493934063214"
     },
     "user_tz": -60
    },
    "id": "jnH0BudjoWag",
    "outputId": "468590df-de02-4a65-e251-6053bafc8b71"
   },
   "outputs": [
    {
     "name": "stdout",
     "output_type": "stream",
     "text": [
      "Model: \"sequential\"\n",
      "_________________________________________________________________\n",
      "Layer (type)                 Output Shape              Param #   \n",
      "=================================================================\n",
      "flatten (Flatten)            (None, 784)               0         \n",
      "_________________________________________________________________\n",
      "dense (Dense)                (None, 512)               401920    \n",
      "_________________________________________________________________\n",
      "dense_1 (Dense)              (None, 10)                5130      \n",
      "=================================================================\n",
      "Total params: 407,050\n",
      "Trainable params: 407,050\n",
      "Non-trainable params: 0\n",
      "_________________________________________________________________\n",
      "None\n"
     ]
    }
   ],
   "source": [
    "print(model.summary())"
   ]
  },
  {
   "cell_type": "markdown",
   "metadata": {
    "id": "zQ5iYaP4-TdJ"
   },
   "source": [
    "--------------------------------------------------------------------------"
   ]
  },
  {
   "cell_type": "markdown",
   "metadata": {
    "id": "gkAfYEmB-KGU"
   },
   "source": [
    "## **MLP APLICADO A TEXTO: EJEMPLO REUTERS**"
   ]
  },
  {
   "cell_type": "markdown",
   "metadata": {
    "id": "rtdAIq1JQPNA"
   },
   "source": [
    "#### **- Cargando el conjunto de datos**"
   ]
  },
  {
   "cell_type": "code",
   "execution_count": 13,
   "metadata": {
    "colab": {
     "base_uri": "https://localhost:8080/"
    },
    "executionInfo": {
     "elapsed": 1215,
     "status": "ok",
     "timestamp": 1613416547290,
     "user": {
      "displayName": "Adrian Colomer Granero",
      "photoUrl": "",
      "userId": "01358379493934063214"
     },
     "user_tz": -60
    },
    "id": "2mHvSYFm-Sp_",
    "outputId": "2801a9de-099d-4cb8-f6b2-6ee382633a95"
   },
   "outputs": [
    {
     "name": "stdout",
     "output_type": "stream",
     "text": [
      "Downloading data from https://storage.googleapis.com/tensorflow/tf-keras-datasets/reuters.npz\n",
      "2113536/2110848 [==============================] - 0s 0us/step\n",
      "(8982,)\n",
      "(8982,)\n",
      "(2246,)\n",
      "(2246,)\n"
     ]
    },
    {
     "name": "stderr",
     "output_type": "stream",
     "text": [
      "/usr/local/lib/python3.6/dist-packages/tensorflow/python/keras/datasets/reuters.py:148: VisibleDeprecationWarning: Creating an ndarray from ragged nested sequences (which is a list-or-tuple of lists-or-tuples-or ndarrays with different lengths or shapes) is deprecated. If you meant to do this, you must specify 'dtype=object' when creating the ndarray\n",
      "  x_train, y_train = np.array(xs[:idx]), np.array(labels[:idx])\n",
      "/usr/local/lib/python3.6/dist-packages/tensorflow/python/keras/datasets/reuters.py:149: VisibleDeprecationWarning: Creating an ndarray from ragged nested sequences (which is a list-or-tuple of lists-or-tuples-or ndarrays with different lengths or shapes) is deprecated. If you meant to do this, you must specify 'dtype=object' when creating the ndarray\n",
      "  x_test, y_test = np.array(xs[idx:]), np.array(labels[idx:])\n"
     ]
    }
   ],
   "source": [
    "import numpy as np\n",
    "import tensorflow as tf\n",
    "# Importamos el dataset REUTERS y cargamos los datos\n",
    "reuters = tf.keras.datasets.reuters\n",
    "WORD_LIMIT = 10000\n",
    "(training_data, training_labels), (testing_data, testing_labels) = reuters.load_data(num_words=WORD_LIMIT)\n",
    "print(training_data.shape)\n",
    "print(training_labels.shape)\n",
    "print(testing_data.shape)\n",
    "print(testing_labels.shape)"
   ]
  },
  {
   "cell_type": "markdown",
   "metadata": {
    "id": "426afMQqQUxn"
   },
   "source": [
    "#### **- Inspeccionando el conjunto de datos**"
   ]
  },
  {
   "cell_type": "code",
   "execution_count": 15,
   "metadata": {
    "colab": {
     "base_uri": "https://localhost:8080/",
     "height": 69
    },
    "executionInfo": {
     "elapsed": 964,
     "status": "ok",
     "timestamp": 1613416776310,
     "user": {
      "displayName": "Adrian Colomer Granero",
      "photoUrl": "",
      "userId": "01358379493934063214"
     },
     "user_tz": -60
    },
    "id": "Ab4lT3HI-reW",
    "outputId": "9287e615-8c65-46ed-8eb9-68ef5a78ad64"
   },
   "outputs": [
    {
     "data": {
      "application/vnd.google.colaboratory.intrinsic+json": {
       "type": "string"
      },
      "text/plain": [
       "'? ? oil corp said it has completed a ? well on its ? ? in jefferson davis ? la which is currently producing at a rate of 1 1 mln cubic feet of gas and 40 barrels of condensate daily the company said it has a 20 pct working interest in the well which is flowing from lower ? ? sand ? between 10 104 and 10 110 feet additional ? but possibly productive zones exist behind the pipe it added it said the remaining owners are privately held petroleum companies reuter 3'"
      ]
     },
     "execution_count": 15,
     "metadata": {
      "tags": []
     },
     "output_type": "execute_result"
    }
   ],
   "source": [
    "# Los datos son numericos para decodificarlos, se puede usar reuters.get_word_index()\n",
    "word_index = reuters.get_word_index()\n",
    "reverse_word_index = dict({value : key for key, value in word_index.items()})\n",
    "decoded = ' '.join(\n",
    "    [reverse_word_index.get(i-3,'?') for i in training_data[5248]]\n",
    ")\n",
    "decoded"
   ]
  },
  {
   "cell_type": "markdown",
   "metadata": {
    "id": "Hl1Ke92bQiI2"
   },
   "source": [
    "#### **- Acondicionando el conjunto de datos**"
   ]
  },
  {
   "cell_type": "code",
   "execution_count": 16,
   "metadata": {
    "executionInfo": {
     "elapsed": 774,
     "status": "ok",
     "timestamp": 1613417075290,
     "user": {
      "displayName": "Adrian Colomer Granero",
      "photoUrl": "",
      "userId": "01358379493934063214"
     },
     "user_tz": -60
    },
    "id": "I5ojr41ZAE6G"
   },
   "outputs": [],
   "source": [
    "# Función auxiliar para representar las palabras (que no entiende nuestra red neuronal) en números \n",
    "import numpy as np\n",
    "# one hot encoding del input, vector con cada indice indicando si una palabra esta presente\n",
    "def one_hot_encode(data):\n",
    "    encoded = np.zeros((len(data),WORD_LIMIT))\n",
    "    for i, v in enumerate(data):\n",
    "        encoded[i,v] = 1 # localiza las columnas del genero correspondiente, marca con 1\n",
    "    return encoded"
   ]
  },
  {
   "cell_type": "code",
   "execution_count": 17,
   "metadata": {
    "colab": {
     "base_uri": "https://localhost:8080/"
    },
    "executionInfo": {
     "elapsed": 1011,
     "status": "ok",
     "timestamp": 1613417089202,
     "user": {
      "displayName": "Adrian Colomer Granero",
      "photoUrl": "",
      "userId": "01358379493934063214"
     },
     "user_tz": -60
    },
    "id": "4wubOmYpBgAY",
    "outputId": "c855054a-63c8-45fd-bd49-61863d49f205"
   },
   "outputs": [
    {
     "name": "stdout",
     "output_type": "stream",
     "text": [
      "(8982, 10000)\n",
      "(2246, 10000)\n"
     ]
    }
   ],
   "source": [
    "# Convertimos nuestras palabras a números\n",
    "x_train = one_hot_encode(training_data)\n",
    "x_test = one_hot_encode(testing_data)\n",
    "print(x_train.shape)\n",
    "print(x_test.shape)"
   ]
  },
  {
   "cell_type": "code",
   "execution_count": 18,
   "metadata": {
    "colab": {
     "base_uri": "https://localhost:8080/"
    },
    "executionInfo": {
     "elapsed": 612,
     "status": "ok",
     "timestamp": 1613417154827,
     "user": {
      "displayName": "Adrian Colomer Granero",
      "photoUrl": "",
      "userId": "01358379493934063214"
     },
     "user_tz": -60
    },
    "id": "_fdTGJavvsv-",
    "outputId": "5bf5a590-ddd9-41a9-8348-8c52f7420ab9"
   },
   "outputs": [
    {
     "name": "stdout",
     "output_type": "stream",
     "text": [
      "[0. 1. 1. ... 0. 0. 0.]\n"
     ]
    }
   ],
   "source": [
    "print(x_test[3])"
   ]
  },
  {
   "cell_type": "code",
   "execution_count": 19,
   "metadata": {
    "colab": {
     "base_uri": "https://localhost:8080/"
    },
    "executionInfo": {
     "elapsed": 622,
     "status": "ok",
     "timestamp": 1613417213712,
     "user": {
      "displayName": "Adrian Colomer Granero",
      "photoUrl": "",
      "userId": "01358379493934063214"
     },
     "user_tz": -60
    },
    "id": "dliil59FByFv",
    "outputId": "3b0f0837-5ce6-4670-f713-374863f86a02"
   },
   "outputs": [
    {
     "name": "stdout",
     "output_type": "stream",
     "text": [
      "(8982, 46)\n",
      "(2246, 46)\n"
     ]
    }
   ],
   "source": [
    "# Convertimos nuestros labels (categoría reseña) a one-hot encoding\n",
    "from tensorflow.keras.utils import to_categorical\n",
    "y_train = to_categorical(training_labels)\n",
    "y_test = to_categorical(testing_labels)\n",
    "print(y_train.shape)\n",
    "print(y_test.shape)"
   ]
  },
  {
   "cell_type": "code",
   "execution_count": 20,
   "metadata": {
    "colab": {
     "base_uri": "https://localhost:8080/"
    },
    "executionInfo": {
     "elapsed": 988,
     "status": "ok",
     "timestamp": 1613417234799,
     "user": {
      "displayName": "Adrian Colomer Granero",
      "photoUrl": "",
      "userId": "01358379493934063214"
     },
     "user_tz": -60
    },
    "id": "G0SGmbI7uYlx",
    "outputId": "e7ada896-3bb0-4a74-91fc-5e761d1d45cd"
   },
   "outputs": [
    {
     "name": "stdout",
     "output_type": "stream",
     "text": [
      "[0. 0. 0. 0. 1. 0. 0. 0. 0. 0. 0. 0. 0. 0. 0. 0. 0. 0. 0. 0. 0. 0. 0. 0.\n",
      " 0. 0. 0. 0. 0. 0. 0. 0. 0. 0. 0. 0. 0. 0. 0. 0. 0. 0. 0. 0. 0. 0.]\n"
     ]
    }
   ],
   "source": [
    "print(y_test[3])"
   ]
  },
  {
   "cell_type": "markdown",
   "metadata": {
    "id": "qf2H-OHKQrGN"
   },
   "source": [
    "#### **- Creando la topología de Red Neuronal (MLP) y entrenándola**"
   ]
  },
  {
   "cell_type": "code",
   "execution_count": 21,
   "metadata": {
    "executionInfo": {
     "elapsed": 836,
     "status": "ok",
     "timestamp": 1613417354684,
     "user": {
      "displayName": "Adrian Colomer Granero",
      "photoUrl": "",
      "userId": "01358379493934063214"
     },
     "user_tz": -60
    },
    "id": "QSR1GEq0_Ebm"
   },
   "outputs": [],
   "source": [
    "from tensorflow.keras.models import Sequential\n",
    "from tensorflow.keras.layers import Dense\n",
    "# Vamos a codificar la topología de nuestro MLP\n",
    "model = Sequential()\n",
    "model.add(Dense(128,activation='relu',input_shape=(WORD_LIMIT,)))\n",
    "model.add(Dense(64,activation='relu'))\n",
    "model.add(Dense(46,activation='softmax')) # Reparto de la unidad de probabilidad entre num_classes"
   ]
  },
  {
   "cell_type": "code",
   "execution_count": 22,
   "metadata": {
    "executionInfo": {
     "elapsed": 816,
     "status": "ok",
     "timestamp": 1613417358287,
     "user": {
      "displayName": "Adrian Colomer Granero",
      "photoUrl": "",
      "userId": "01358379493934063214"
     },
     "user_tz": -60
    },
    "id": "POnCbSEzCI7o"
   },
   "outputs": [],
   "source": [
    "# Ahora que tengo definida la arquitectura, la compilo\n",
    "model.compile(optimizer='adam',\n",
    "               loss='categorical_crossentropy', # ideal para clasificacion multiclase\n",
    "               metrics=['accuracy'])"
   ]
  },
  {
   "cell_type": "code",
   "execution_count": 23,
   "metadata": {
    "colab": {
     "base_uri": "https://localhost:8080/"
    },
    "executionInfo": {
     "elapsed": 19619,
     "status": "ok",
     "timestamp": 1613417437326,
     "user": {
      "displayName": "Adrian Colomer Granero",
      "photoUrl": "",
      "userId": "01358379493934063214"
     },
     "user_tz": -60
    },
    "id": "VZBvK2HjDCaZ",
    "outputId": "c59607dd-ce57-412e-c5f1-f0f325ff37ee"
   },
   "outputs": [
    {
     "name": "stdout",
     "output_type": "stream",
     "text": [
      "Epoch 1/20\n",
      "225/225 [==============================] - 3s 5ms/step - loss: 2.0718 - accuracy: 0.5953 - val_loss: 1.0133 - val_accuracy: 0.7741\n",
      "Epoch 2/20\n",
      "225/225 [==============================] - 1s 4ms/step - loss: 0.6065 - accuracy: 0.8715 - val_loss: 0.8685 - val_accuracy: 0.8047\n",
      "Epoch 3/20\n",
      "225/225 [==============================] - 1s 4ms/step - loss: 0.2702 - accuracy: 0.9434 - val_loss: 0.8934 - val_accuracy: 0.8052\n",
      "Epoch 4/20\n",
      "225/225 [==============================] - 1s 4ms/step - loss: 0.1992 - accuracy: 0.9556 - val_loss: 0.8972 - val_accuracy: 0.8102\n",
      "Epoch 5/20\n",
      "225/225 [==============================] - 1s 4ms/step - loss: 0.1357 - accuracy: 0.9679 - val_loss: 0.9639 - val_accuracy: 0.8036\n",
      "Epoch 6/20\n",
      "225/225 [==============================] - 1s 4ms/step - loss: 0.1257 - accuracy: 0.9616 - val_loss: 0.9338 - val_accuracy: 0.7947\n",
      "Epoch 7/20\n",
      "225/225 [==============================] - 1s 4ms/step - loss: 0.1032 - accuracy: 0.9685 - val_loss: 0.9853 - val_accuracy: 0.7919\n",
      "Epoch 8/20\n",
      "225/225 [==============================] - 1s 4ms/step - loss: 0.1095 - accuracy: 0.9625 - val_loss: 1.0405 - val_accuracy: 0.7952\n",
      "Epoch 9/20\n",
      "225/225 [==============================] - 1s 4ms/step - loss: 0.1026 - accuracy: 0.9636 - val_loss: 1.0606 - val_accuracy: 0.7935\n",
      "Epoch 10/20\n",
      "225/225 [==============================] - 1s 4ms/step - loss: 0.0928 - accuracy: 0.9660 - val_loss: 0.9974 - val_accuracy: 0.7941\n",
      "Epoch 11/20\n",
      "225/225 [==============================] - 1s 4ms/step - loss: 0.0864 - accuracy: 0.9675 - val_loss: 1.0126 - val_accuracy: 0.8019\n",
      "Epoch 12/20\n",
      "225/225 [==============================] - 1s 4ms/step - loss: 0.0890 - accuracy: 0.9662 - val_loss: 1.0383 - val_accuracy: 0.8052\n",
      "Epoch 13/20\n",
      "225/225 [==============================] - 1s 4ms/step - loss: 0.0772 - accuracy: 0.9699 - val_loss: 1.0576 - val_accuracy: 0.8002\n",
      "Epoch 14/20\n",
      "225/225 [==============================] - 1s 4ms/step - loss: 0.0821 - accuracy: 0.9655 - val_loss: 1.0965 - val_accuracy: 0.7947\n",
      "Epoch 15/20\n",
      "225/225 [==============================] - 1s 4ms/step - loss: 0.0805 - accuracy: 0.9640 - val_loss: 1.0195 - val_accuracy: 0.8008\n",
      "Epoch 16/20\n",
      "225/225 [==============================] - 1s 4ms/step - loss: 0.0688 - accuracy: 0.9684 - val_loss: 1.0980 - val_accuracy: 0.7991\n",
      "Epoch 17/20\n",
      "225/225 [==============================] - 1s 4ms/step - loss: 0.0681 - accuracy: 0.9670 - val_loss: 1.1499 - val_accuracy: 0.7919\n",
      "Epoch 18/20\n",
      "225/225 [==============================] - 1s 4ms/step - loss: 0.0714 - accuracy: 0.9646 - val_loss: 1.1130 - val_accuracy: 0.7980\n",
      "Epoch 19/20\n",
      "225/225 [==============================] - 1s 4ms/step - loss: 0.0667 - accuracy: 0.9696 - val_loss: 1.2039 - val_accuracy: 0.7841\n",
      "Epoch 20/20\n",
      "225/225 [==============================] - 1s 4ms/step - loss: 0.0619 - accuracy: 0.9692 - val_loss: 1.1929 - val_accuracy: 0.8019\n"
     ]
    }
   ],
   "source": [
    "# A entrenar nuestra red neuronal sea dicho!\n",
    "H = model.fit(x_train,y_train,epochs=20,batch_size=32, validation_split=0.2)"
   ]
  },
  {
   "cell_type": "markdown",
   "metadata": {
    "id": "0WZi4xSxQwGR"
   },
   "source": [
    "#### **- Observando el proceso de entrenamiento para tomar decisiones**"
   ]
  },
  {
   "cell_type": "code",
   "execution_count": 24,
   "metadata": {
    "colab": {
     "base_uri": "https://localhost:8080/",
     "height": 316
    },
    "executionInfo": {
     "elapsed": 933,
     "status": "ok",
     "timestamp": 1613417605079,
     "user": {
      "displayName": "Adrian Colomer Granero",
      "photoUrl": "",
      "userId": "01358379493934063214"
     },
     "user_tz": -60
    },
    "id": "0dlv_bkZDVJ7",
    "outputId": "91c767b2-57b4-4423-a720-8c855463e601"
   },
   "outputs": [
    {
     "data": {
      "text/plain": [
       "<matplotlib.legend.Legend at 0x7f4ba72c7b70>"
      ]
     },
     "execution_count": 24,
     "metadata": {
      "tags": []
     },
     "output_type": "execute_result"
    },
    {
     "data": {
      "image/png": "[encoded data removed]",
      "text/plain": [
       "<Figure size 432x288 with 1 Axes>"
      ]
     },
     "metadata": {
      "tags": []
     },
     "output_type": "display_data"
    }
   ],
   "source": [
    "import matplotlib.pyplot as plt\n",
    "# Muestro gráfica de accuracy y losses\n",
    "plt.style.use(\"ggplot\")\n",
    "plt.figure()\n",
    "plt.plot(np.arange(0, 20), H.history[\"loss\"], label=\"train_loss\")\n",
    "plt.plot(np.arange(0, 20), H.history[\"val_loss\"], label=\"val_loss\")\n",
    "plt.plot(np.arange(0, 20), H.history[\"accuracy\"], label=\"train_acc\")\n",
    "plt.plot(np.arange(0, 20), H.history[\"val_accuracy\"], label=\"val_acc\")\n",
    "plt.title(\"Training Loss and Accuracy\")\n",
    "plt.xlabel(\"Epoch #\")\n",
    "plt.ylabel(\"Loss/Accuracy\")\n",
    "plt.legend()"
   ]
  },
  {
   "cell_type": "markdown",
   "metadata": {
    "id": "c51cfGAQQ2cR"
   },
   "source": [
    "#### **- Probando el conjunto de datos en el subset de test y evaluando el performance del modelo**"
   ]
  },
  {
   "cell_type": "code",
   "execution_count": 25,
   "metadata": {
    "colab": {
     "base_uri": "https://localhost:8080/"
    },
    "executionInfo": {
     "elapsed": 1039,
     "status": "ok",
     "timestamp": 1613417657700,
     "user": {
      "displayName": "Adrian Colomer Granero",
      "photoUrl": "",
      "userId": "01358379493934063214"
     },
     "user_tz": -60
    },
    "id": "xVS5SAU5DlHP",
    "outputId": "aece5c06-9abf-4f0b-d800-9ee219fa7d27"
   },
   "outputs": [
    {
     "name": "stdout",
     "output_type": "stream",
     "text": [
      "[INFO]: Evaluando red neuronal...\n",
      "71/71 [==============================] - 0s 3ms/step - loss: 1.2684 - accuracy: 0.7970\n",
      "Loss 1.268412470817566, accuracy 0.796972393989563\n"
     ]
    }
   ],
   "source": [
    "# Evaluando el modelo de predicción con las imágenes de test\n",
    "print(\"[INFO]: Evaluando red neuronal...\")\n",
    "model.predict(x_test)\n",
    "loss, accuracy = model.evaluate(x_test, y_test)\n",
    "print('Loss {}, accuracy {}'.format(loss,accuracy))"
   ]
  },
  {
   "cell_type": "markdown",
   "metadata": {
    "id": "s8kmri-kUYgx"
   },
   "source": [
    "## **REGULARIZACIÓN EN APRENDIZAJE PROFUNDO**"
   ]
  },
  {
   "cell_type": "markdown",
   "metadata": {
    "id": "aqDYEumsUuNU"
   },
   "source": [
    "#### **- Weight regularization L1/L2**"
   ]
  },
  {
   "cell_type": "code",
   "execution_count": 26,
   "metadata": {
    "executionInfo": {
     "elapsed": 588,
     "status": "ok",
     "timestamp": 1613418961963,
     "user": {
      "displayName": "Adrian Colomer Granero",
      "photoUrl": "",
      "userId": "01358379493934063214"
     },
     "user_tz": -60
    },
    "id": "BF2YYooRUNph"
   },
   "outputs": [],
   "source": [
    "from tensorflow.keras.models import Sequential\n",
    "from tensorflow.keras.layers import Dense\n",
    "from tensorflow.keras import regularizers\n",
    "# Vamos a codificar la topología de nuestro MLP\n",
    "model_reg = Sequential()\n",
    "model_reg.add(Dense(128,activation='relu', kernel_regularizer=regularizers.l2(0.01), input_shape=(WORD_LIMIT,)))\n",
    "model_reg.add(Dense(64,activation='relu', kernel_regularizer=regularizers.l2(0.01)))\n",
    "model_reg.add(Dense(46,activation='softmax')) # Reparto de la unidad de probabilidad entre num_classes"
   ]
  },
  {
   "cell_type": "code",
   "execution_count": 27,
   "metadata": {
    "executionInfo": {
     "elapsed": 787,
     "status": "ok",
     "timestamp": 1613418970341,
     "user": {
      "displayName": "Adrian Colomer Granero",
      "photoUrl": "",
      "userId": "01358379493934063214"
     },
     "user_tz": -60
    },
    "id": "KYeK7jwxVSF3"
   },
   "outputs": [],
   "source": [
    "# Ahora que tengo definida la arquitectura, la compilo\n",
    "model_reg.compile(optimizer='adam',\n",
    "               loss='categorical_crossentropy', # ideal para clasificacion multiclase\n",
    "               metrics=['accuracy'])"
   ]
  },
  {
   "cell_type": "code",
   "execution_count": 28,
   "metadata": {
    "colab": {
     "base_uri": "https://localhost:8080/"
    },
    "executionInfo": {
     "elapsed": 17876,
     "status": "ok",
     "timestamp": 1613418991499,
     "user": {
      "displayName": "Adrian Colomer Granero",
      "photoUrl": "",
      "userId": "01358379493934063214"
     },
     "user_tz": -60
    },
    "id": "gWE7GTTmVdP0",
    "outputId": "53b3682c-015c-4602-fdcd-5bb6f432e726"
   },
   "outputs": [
    {
     "name": "stdout",
     "output_type": "stream",
     "text": [
      "Epoch 1/20\n",
      "225/225 [==============================] - 1s 4ms/step - loss: 3.3540 - accuracy: 0.5438 - val_loss: 1.8155 - val_accuracy: 0.7240\n",
      "Epoch 2/20\n",
      "225/225 [==============================] - 1s 4ms/step - loss: 1.7060 - accuracy: 0.7427 - val_loss: 1.6853 - val_accuracy: 0.7451\n",
      "Epoch 3/20\n",
      "225/225 [==============================] - 1s 4ms/step - loss: 1.5660 - accuracy: 0.7544 - val_loss: 1.6073 - val_accuracy: 0.7418\n",
      "Epoch 4/20\n",
      "225/225 [==============================] - 1s 4ms/step - loss: 1.4845 - accuracy: 0.7758 - val_loss: 1.6485 - val_accuracy: 0.7462\n",
      "Epoch 5/20\n",
      "225/225 [==============================] - 1s 4ms/step - loss: 1.4640 - accuracy: 0.7817 - val_loss: 1.5903 - val_accuracy: 0.7590\n",
      "Epoch 6/20\n",
      "225/225 [==============================] - 1s 4ms/step - loss: 1.4391 - accuracy: 0.7926 - val_loss: 1.5789 - val_accuracy: 0.7529\n",
      "Epoch 7/20\n",
      "225/225 [==============================] - 1s 4ms/step - loss: 1.3912 - accuracy: 0.7991 - val_loss: 1.5778 - val_accuracy: 0.7574\n",
      "Epoch 8/20\n",
      "225/225 [==============================] - 1s 4ms/step - loss: 1.3352 - accuracy: 0.8117 - val_loss: 1.5505 - val_accuracy: 0.7663\n",
      "Epoch 9/20\n",
      "225/225 [==============================] - 1s 4ms/step - loss: 1.3272 - accuracy: 0.8101 - val_loss: 1.5253 - val_accuracy: 0.7713\n",
      "Epoch 10/20\n",
      "225/225 [==============================] - 1s 4ms/step - loss: 1.2914 - accuracy: 0.8176 - val_loss: 1.5300 - val_accuracy: 0.7657\n",
      "Epoch 11/20\n",
      "225/225 [==============================] - 1s 4ms/step - loss: 1.2482 - accuracy: 0.8243 - val_loss: 1.4903 - val_accuracy: 0.7724\n",
      "Epoch 12/20\n",
      "225/225 [==============================] - 1s 4ms/step - loss: 1.2170 - accuracy: 0.8299 - val_loss: 1.5055 - val_accuracy: 0.7613\n",
      "Epoch 13/20\n",
      "225/225 [==============================] - 1s 4ms/step - loss: 1.2190 - accuracy: 0.8271 - val_loss: 1.4748 - val_accuracy: 0.7802\n",
      "Epoch 14/20\n",
      "225/225 [==============================] - 1s 4ms/step - loss: 1.1752 - accuracy: 0.8381 - val_loss: 1.4554 - val_accuracy: 0.7763\n",
      "Epoch 15/20\n",
      "225/225 [==============================] - 1s 4ms/step - loss: 1.1755 - accuracy: 0.8396 - val_loss: 1.4527 - val_accuracy: 0.7813\n",
      "Epoch 16/20\n",
      "225/225 [==============================] - 1s 4ms/step - loss: 1.1149 - accuracy: 0.8519 - val_loss: 1.4608 - val_accuracy: 0.7757\n",
      "Epoch 17/20\n",
      "225/225 [==============================] - 1s 4ms/step - loss: 1.1249 - accuracy: 0.8432 - val_loss: 1.4326 - val_accuracy: 0.7835\n",
      "Epoch 18/20\n",
      "225/225 [==============================] - 1s 4ms/step - loss: 1.0987 - accuracy: 0.8554 - val_loss: 1.4283 - val_accuracy: 0.7735\n",
      "Epoch 19/20\n",
      "225/225 [==============================] - 1s 4ms/step - loss: 1.0738 - accuracy: 0.8575 - val_loss: 1.4155 - val_accuracy: 0.7657\n",
      "Epoch 20/20\n",
      "225/225 [==============================] - 1s 4ms/step - loss: 1.0247 - accuracy: 0.8628 - val_loss: 1.4017 - val_accuracy: 0.7930\n"
     ]
    }
   ],
   "source": [
    "# A entrenar nuestra red neuronal sea dicho!\n",
    "H = model_reg.fit(x_train,y_train,epochs=20,batch_size=32, validation_split=0.2)"
   ]
  },
  {
   "cell_type": "code",
   "execution_count": 29,
   "metadata": {
    "colab": {
     "base_uri": "https://localhost:8080/",
     "height": 316
    },
    "executionInfo": {
     "elapsed": 910,
     "status": "ok",
     "timestamp": 1613419013305,
     "user": {
      "displayName": "Adrian Colomer Granero",
      "photoUrl": "",
      "userId": "01358379493934063214"
     },
     "user_tz": -60
    },
    "id": "iJvo8YVvVowt",
    "outputId": "28590356-d7a5-4381-9883-e56973d8d88f"
   },
   "outputs": [
    {
     "data": {
      "text/plain": [
       "<matplotlib.legend.Legend at 0x7f4c180fa4a8>"
      ]
     },
     "execution_count": 29,
     "metadata": {
      "tags": []
     },
     "output_type": "execute_result"
    },
    {
     "data": {
      "image/png": "[encoded data removed]",
      "text/plain": [
       "<Figure size 432x288 with 1 Axes>"
      ]
     },
     "metadata": {
      "tags": []
     },
     "output_type": "display_data"
    }
   ],
   "source": [
    "import matplotlib.pyplot as plt\n",
    "# Muestro gráfica de accuracy y losses\n",
    "plt.style.use(\"ggplot\")\n",
    "plt.figure()\n",
    "plt.plot(np.arange(0, 20), H.history[\"loss\"], label=\"train_loss\")\n",
    "plt.plot(np.arange(0, 20), H.history[\"val_loss\"], label=\"val_loss\")\n",
    "plt.plot(np.arange(0, 20), H.history[\"accuracy\"], label=\"train_acc\")\n",
    "plt.plot(np.arange(0, 20), H.history[\"val_accuracy\"], label=\"val_acc\")\n",
    "plt.title(\"Training Loss and Accuracy\")\n",
    "plt.xlabel(\"Epoch #\")\n",
    "plt.ylabel(\"Loss/Accuracy\")\n",
    "plt.legend()"
   ]
  },
  {
   "cell_type": "code",
   "execution_count": 30,
   "metadata": {
    "colab": {
     "base_uri": "https://localhost:8080/"
    },
    "executionInfo": {
     "elapsed": 1168,
     "status": "ok",
     "timestamp": 1613419118402,
     "user": {
      "displayName": "Adrian Colomer Granero",
      "photoUrl": "",
      "userId": "01358379493934063214"
     },
     "user_tz": -60
    },
    "id": "h_68GciZWEml",
    "outputId": "3dbd2ca3-6f7d-42be-b25f-96d3dc3f29cc"
   },
   "outputs": [
    {
     "name": "stdout",
     "output_type": "stream",
     "text": [
      "[INFO]: Evaluando red neuronal...\n",
      "71/71 [==============================] - 0s 3ms/step - loss: 1.4410 - accuracy: 0.7671\n",
      "Loss 1.4409772157669067, accuracy 0.767141580581665\n"
     ]
    }
   ],
   "source": [
    "# Evaluando el modelo de predicción con las imágenes de test\n",
    "print(\"[INFO]: Evaluando red neuronal...\")\n",
    "model_reg.predict(x_test)\n",
    "loss, accuracy = model_reg.evaluate(x_test, y_test)\n",
    "print('Loss {}, accuracy {}'.format(loss,accuracy))"
   ]
  },
  {
   "cell_type": "markdown",
   "metadata": {
    "id": "FKflRMxEWQ3Z"
   },
   "source": [
    "#### **- Dropout**"
   ]
  },
  {
   "cell_type": "code",
   "execution_count": 31,
   "metadata": {
    "executionInfo": {
     "elapsed": 712,
     "status": "ok",
     "timestamp": 1613419201991,
     "user": {
      "displayName": "Adrian Colomer Granero",
      "photoUrl": "",
      "userId": "01358379493934063214"
     },
     "user_tz": -60
    },
    "id": "iRcnwjCCWVcW"
   },
   "outputs": [],
   "source": [
    "from tensorflow.keras.models import Sequential\n",
    "from tensorflow.keras.layers import Dense, Dropout\n",
    "# Vamos a codificar la topología de nuestro MLP\n",
    "model_drop = Sequential()\n",
    "model_drop.add(Dense(128,activation='relu', input_shape=(WORD_LIMIT,)))\n",
    "#model_drop.add(Dropout(0.5))\n",
    "model_drop.add(Dropout(0.75))\n",
    "model_drop.add(Dense(64,activation='relu'))\n",
    "#model_drop.add(Dropout(0.5))\n",
    "model_drop.add(Dropout(0.75))\n",
    "model_drop.add(Dense(46,activation='softmax')) # Reparto de la unidad de probabilidad entre num_classes"
   ]
  },
  {
   "cell_type": "code",
   "execution_count": 32,
   "metadata": {
    "executionInfo": {
     "elapsed": 992,
     "status": "ok",
     "timestamp": 1613419205165,
     "user": {
      "displayName": "Adrian Colomer Granero",
      "photoUrl": "",
      "userId": "01358379493934063214"
     },
     "user_tz": -60
    },
    "id": "6K_X-SnoWnqL"
   },
   "outputs": [],
   "source": [
    "# Ahora que tengo definida la arquitectura, la compilo\n",
    "model_drop.compile(optimizer='adam',\n",
    "               loss='categorical_crossentropy', # ideal para clasificacion multiclase\n",
    "               metrics=['accuracy'])"
   ]
  },
  {
   "cell_type": "code",
   "execution_count": 33,
   "metadata": {
    "colab": {
     "base_uri": "https://localhost:8080/"
    },
    "executionInfo": {
     "elapsed": 17820,
     "status": "ok",
     "timestamp": 1613419223712,
     "user": {
      "displayName": "Adrian Colomer Granero",
      "photoUrl": "",
      "userId": "01358379493934063214"
     },
     "user_tz": -60
    },
    "id": "5GSMILsYWsT8",
    "outputId": "4e2c3266-6937-4410-b332-5c73bfc7b770"
   },
   "outputs": [
    {
     "name": "stdout",
     "output_type": "stream",
     "text": [
      "Epoch 1/20\n",
      "225/225 [==============================] - 1s 4ms/step - loss: 3.0009 - accuracy: 0.2597 - val_loss: 1.6684 - val_accuracy: 0.5882\n",
      "Epoch 2/20\n",
      "225/225 [==============================] - 1s 4ms/step - loss: 1.8615 - accuracy: 0.5323 - val_loss: 1.4900 - val_accuracy: 0.6784\n",
      "Epoch 3/20\n",
      "225/225 [==============================] - 1s 4ms/step - loss: 1.6863 - accuracy: 0.5937 - val_loss: 1.4201 - val_accuracy: 0.7001\n",
      "Epoch 4/20\n",
      "225/225 [==============================] - 1s 4ms/step - loss: 1.5886 - accuracy: 0.6134 - val_loss: 1.3744 - val_accuracy: 0.7062\n",
      "Epoch 5/20\n",
      "225/225 [==============================] - 1s 4ms/step - loss: 1.5032 - accuracy: 0.6253 - val_loss: 1.3301 - val_accuracy: 0.7056\n",
      "Epoch 6/20\n",
      "225/225 [==============================] - 1s 4ms/step - loss: 1.4579 - accuracy: 0.6489 - val_loss: 1.2958 - val_accuracy: 0.7062\n",
      "Epoch 7/20\n",
      "225/225 [==============================] - 1s 4ms/step - loss: 1.4510 - accuracy: 0.6474 - val_loss: 1.2813 - val_accuracy: 0.7073\n",
      "Epoch 8/20\n",
      "225/225 [==============================] - 1s 4ms/step - loss: 1.3301 - accuracy: 0.6655 - val_loss: 1.2642 - val_accuracy: 0.7123\n",
      "Epoch 9/20\n",
      "225/225 [==============================] - 1s 4ms/step - loss: 1.2835 - accuracy: 0.6860 - val_loss: 1.2688 - val_accuracy: 0.7179\n",
      "Epoch 10/20\n",
      "225/225 [==============================] - 1s 4ms/step - loss: 1.3016 - accuracy: 0.6712 - val_loss: 1.2530 - val_accuracy: 0.7234\n",
      "Epoch 11/20\n",
      "225/225 [==============================] - 1s 4ms/step - loss: 1.2886 - accuracy: 0.6804 - val_loss: 1.2639 - val_accuracy: 0.7195\n",
      "Epoch 12/20\n",
      "225/225 [==============================] - 1s 4ms/step - loss: 1.1676 - accuracy: 0.6966 - val_loss: 1.2463 - val_accuracy: 0.7334\n",
      "Epoch 13/20\n",
      "225/225 [==============================] - 1s 4ms/step - loss: 1.2061 - accuracy: 0.7000 - val_loss: 1.2672 - val_accuracy: 0.7368\n",
      "Epoch 14/20\n",
      "225/225 [==============================] - 1s 4ms/step - loss: 1.1399 - accuracy: 0.7031 - val_loss: 1.2413 - val_accuracy: 0.7490\n",
      "Epoch 15/20\n",
      "225/225 [==============================] - 1s 4ms/step - loss: 1.1708 - accuracy: 0.6989 - val_loss: 1.2613 - val_accuracy: 0.7496\n",
      "Epoch 16/20\n",
      "225/225 [==============================] - 1s 4ms/step - loss: 1.1224 - accuracy: 0.7039 - val_loss: 1.2607 - val_accuracy: 0.7485\n",
      "Epoch 17/20\n",
      "225/225 [==============================] - 1s 4ms/step - loss: 1.0783 - accuracy: 0.7178 - val_loss: 1.2563 - val_accuracy: 0.7524\n",
      "Epoch 18/20\n",
      "225/225 [==============================] - 1s 4ms/step - loss: 1.0465 - accuracy: 0.7228 - val_loss: 1.2860 - val_accuracy: 0.7546\n",
      "Epoch 19/20\n",
      "225/225 [==============================] - 1s 4ms/step - loss: 1.0763 - accuracy: 0.7241 - val_loss: 1.2967 - val_accuracy: 0.7585\n",
      "Epoch 20/20\n",
      "225/225 [==============================] - 1s 4ms/step - loss: 1.0755 - accuracy: 0.7209 - val_loss: 1.2964 - val_accuracy: 0.7535\n"
     ]
    }
   ],
   "source": [
    "# A entrenar nuestra red neuronal sea dicho!\n",
    "H = model_drop.fit(x_train,y_train,epochs=20,batch_size=32, validation_split=0.2)"
   ]
  },
  {
   "cell_type": "code",
   "execution_count": 34,
   "metadata": {
    "colab": {
     "base_uri": "https://localhost:8080/",
     "height": 316
    },
    "executionInfo": {
     "elapsed": 1076,
     "status": "ok",
     "timestamp": 1613419246785,
     "user": {
      "displayName": "Adrian Colomer Granero",
      "photoUrl": "",
      "userId": "01358379493934063214"
     },
     "user_tz": -60
    },
    "id": "ACSQkFMtW2Eg",
    "outputId": "41a7a792-5ae9-40b7-84fd-b13131c522e5"
   },
   "outputs": [
    {
     "data": {
      "text/plain": [
       "<matplotlib.legend.Legend at 0x7f4c1802bcc0>"
      ]
     },
     "execution_count": 34,
     "metadata": {
      "tags": []
     },
     "output_type": "execute_result"
    },
    {
     "data": {
      "image/png": "[encoded data removed]",
      "text/plain": [
       "<Figure size 432x288 with 1 Axes>"
      ]
     },
     "metadata": {
      "tags": []
     },
     "output_type": "display_data"
    }
   ],
   "source": [
    "import matplotlib.pyplot as plt\n",
    "# Muestro gráfica de accuracy y losses\n",
    "plt.style.use(\"ggplot\")\n",
    "plt.figure()\n",
    "plt.plot(np.arange(0, 20), H.history[\"loss\"], label=\"train_loss\")\n",
    "plt.plot(np.arange(0, 20), H.history[\"val_loss\"], label=\"val_loss\")\n",
    "plt.plot(np.arange(0, 20), H.history[\"accuracy\"], label=\"train_acc\")\n",
    "plt.plot(np.arange(0, 20), H.history[\"val_accuracy\"], label=\"val_acc\")\n",
    "plt.title(\"Training Loss and Accuracy\")\n",
    "plt.xlabel(\"Epoch #\")\n",
    "plt.ylabel(\"Loss/Accuracy\")\n",
    "plt.legend()\n",
    "\n",
    "# ¿Y si desconectamos mayor porcentaje de neuronas?"
   ]
  },
  {
   "cell_type": "code",
   "execution_count": 35,
   "metadata": {
    "colab": {
     "base_uri": "https://localhost:8080/"
    },
    "executionInfo": {
     "elapsed": 1040,
     "status": "ok",
     "timestamp": 1613419258550,
     "user": {
      "displayName": "Adrian Colomer Granero",
      "photoUrl": "",
      "userId": "01358379493934063214"
     },
     "user_tz": -60
    },
    "id": "KzK4LsLmW2es",
    "outputId": "53162e60-e57b-44a5-e793-ad0eab30cc3e"
   },
   "outputs": [
    {
     "name": "stdout",
     "output_type": "stream",
     "text": [
      "[INFO]: Evaluando red neuronal...\n",
      "71/71 [==============================] - 0s 2ms/step - loss: 1.4296 - accuracy: 0.7329\n",
      "Loss 1.429582953453064, accuracy 0.732858419418335\n"
     ]
    }
   ],
   "source": [
    "# Evaluando el modelo de predicción con las imágenes de test\n",
    "print(\"[INFO]: Evaluando red neuronal...\")\n",
    "model_drop.predict(x_test)\n",
    "loss, accuracy = model_drop.evaluate(x_test, y_test)\n",
    "print('Loss {}, accuracy {}'.format(loss,accuracy))"
   ]
  },
  {
   "cell_type": "markdown",
   "metadata": {
    "id": "6iixwidpaJSH"
   },
   "source": [
    "#### **- Batch Normalization**"
   ]
  },
  {
   "cell_type": "code",
   "execution_count": 36,
   "metadata": {
    "executionInfo": {
     "elapsed": 661,
     "status": "ok",
     "timestamp": 1613419400353,
     "user": {
      "displayName": "Adrian Colomer Granero",
      "photoUrl": "",
      "userId": "01358379493934063214"
     },
     "user_tz": -60
    },
    "id": "kX7JV1leaJrj"
   },
   "outputs": [],
   "source": [
    "from tensorflow.keras.models import Sequential\n",
    "from tensorflow.keras.layers import Dense, BatchNormalization\n",
    "# Vamos a codificar la topología de nuestro MLP\n",
    "model_bn = Sequential()\n",
    "model_bn.add(Dense(128,activation='relu', input_shape=(WORD_LIMIT,)))\n",
    "model_bn.add(BatchNormalization())\n",
    "model_bn.add(Dropout(0.75))\n",
    "model_bn.add(Dense(64,activation='relu'))\n",
    "model_bn.add(BatchNormalization())\n",
    "model_bn.add(Dropout(0.75))\n",
    "model_bn.add(Dense(46,activation='softmax')) # Reparto de la unidad de probabilidad entre num_classes"
   ]
  },
  {
   "cell_type": "code",
   "execution_count": 37,
   "metadata": {
    "executionInfo": {
     "elapsed": 1006,
     "status": "ok",
     "timestamp": 1613419402818,
     "user": {
      "displayName": "Adrian Colomer Granero",
      "photoUrl": "",
      "userId": "01358379493934063214"
     },
     "user_tz": -60
    },
    "id": "iEW9qiRzbtpk"
   },
   "outputs": [],
   "source": [
    "# Ahora que tengo definida la arquitectura, la compilo\n",
    "model_bn.compile(optimizer='adam',\n",
    "               loss='categorical_crossentropy', # ideal para clasificacion multiclase\n",
    "               metrics=['accuracy'])"
   ]
  },
  {
   "cell_type": "code",
   "execution_count": 38,
   "metadata": {
    "colab": {
     "base_uri": "https://localhost:8080/"
    },
    "executionInfo": {
     "elapsed": 21333,
     "status": "ok",
     "timestamp": 1613419424857,
     "user": {
      "displayName": "Adrian Colomer Granero",
      "photoUrl": "",
      "userId": "01358379493934063214"
     },
     "user_tz": -60
    },
    "id": "Ey72ZUlJbwPK",
    "outputId": "0556f9da-f8c1-4e82-9fd0-3cb6e396112c"
   },
   "outputs": [
    {
     "name": "stdout",
     "output_type": "stream",
     "text": [
      "Epoch 1/20\n",
      "225/225 [==============================] - 2s 5ms/step - loss: 4.1825 - accuracy: 0.1847 - val_loss: 1.9843 - val_accuracy: 0.6411\n",
      "Epoch 2/20\n",
      "225/225 [==============================] - 1s 4ms/step - loss: 2.2351 - accuracy: 0.5277 - val_loss: 1.4946 - val_accuracy: 0.6795\n",
      "Epoch 3/20\n",
      "225/225 [==============================] - 1s 4ms/step - loss: 1.8509 - accuracy: 0.5912 - val_loss: 1.3766 - val_accuracy: 0.7006\n",
      "Epoch 4/20\n",
      "225/225 [==============================] - 1s 4ms/step - loss: 1.6653 - accuracy: 0.6287 - val_loss: 1.3170 - val_accuracy: 0.7023\n",
      "Epoch 5/20\n",
      "225/225 [==============================] - 1s 4ms/step - loss: 1.5476 - accuracy: 0.6545 - val_loss: 1.2676 - val_accuracy: 0.7101\n",
      "Epoch 6/20\n",
      "225/225 [==============================] - 1s 4ms/step - loss: 1.4463 - accuracy: 0.6697 - val_loss: 1.2017 - val_accuracy: 0.7240\n",
      "Epoch 7/20\n",
      "225/225 [==============================] - 1s 4ms/step - loss: 1.4207 - accuracy: 0.6655 - val_loss: 1.1687 - val_accuracy: 0.7273\n",
      "Epoch 8/20\n",
      "225/225 [==============================] - 1s 4ms/step - loss: 1.3509 - accuracy: 0.6913 - val_loss: 1.1516 - val_accuracy: 0.7318\n",
      "Epoch 9/20\n",
      "225/225 [==============================] - 1s 4ms/step - loss: 1.2197 - accuracy: 0.7023 - val_loss: 1.1262 - val_accuracy: 0.7323\n",
      "Epoch 10/20\n",
      "225/225 [==============================] - 1s 4ms/step - loss: 1.2180 - accuracy: 0.7101 - val_loss: 1.1092 - val_accuracy: 0.7373\n",
      "Epoch 11/20\n",
      "225/225 [==============================] - 1s 4ms/step - loss: 1.1377 - accuracy: 0.7255 - val_loss: 1.0866 - val_accuracy: 0.7501\n",
      "Epoch 12/20\n",
      "225/225 [==============================] - 1s 4ms/step - loss: 1.1261 - accuracy: 0.7319 - val_loss: 1.0929 - val_accuracy: 0.7479\n",
      "Epoch 13/20\n",
      "225/225 [==============================] - 1s 4ms/step - loss: 1.1157 - accuracy: 0.7260 - val_loss: 1.0710 - val_accuracy: 0.7507\n",
      "Epoch 14/20\n",
      "225/225 [==============================] - 1s 4ms/step - loss: 1.0776 - accuracy: 0.7346 - val_loss: 1.0550 - val_accuracy: 0.7574\n",
      "Epoch 15/20\n",
      "225/225 [==============================] - 1s 4ms/step - loss: 1.0129 - accuracy: 0.7475 - val_loss: 1.0458 - val_accuracy: 0.7652\n",
      "Epoch 16/20\n",
      "225/225 [==============================] - 1s 4ms/step - loss: 1.0044 - accuracy: 0.7514 - val_loss: 1.0382 - val_accuracy: 0.7691\n",
      "Epoch 17/20\n",
      "225/225 [==============================] - 1s 4ms/step - loss: 0.9974 - accuracy: 0.7480 - val_loss: 1.0323 - val_accuracy: 0.7696\n",
      "Epoch 18/20\n",
      "225/225 [==============================] - 1s 4ms/step - loss: 0.9632 - accuracy: 0.7618 - val_loss: 1.0300 - val_accuracy: 0.7718\n",
      "Epoch 19/20\n",
      "225/225 [==============================] - 1s 4ms/step - loss: 0.9838 - accuracy: 0.7496 - val_loss: 1.0246 - val_accuracy: 0.7763\n",
      "Epoch 20/20\n",
      "225/225 [==============================] - 1s 4ms/step - loss: 0.9150 - accuracy: 0.7730 - val_loss: 1.0142 - val_accuracy: 0.7741\n"
     ]
    }
   ],
   "source": [
    "# A entrenar nuestra red neuronal sea dicho!\n",
    "H = model_bn.fit(x_train,y_train,epochs=20,batch_size=32, validation_split=0.2)"
   ]
  },
  {
   "cell_type": "code",
   "execution_count": 39,
   "metadata": {
    "colab": {
     "base_uri": "https://localhost:8080/",
     "height": 316
    },
    "executionInfo": {
     "elapsed": 961,
     "status": "ok",
     "timestamp": 1613419429217,
     "user": {
      "displayName": "Adrian Colomer Granero",
      "photoUrl": "",
      "userId": "01358379493934063214"
     },
     "user_tz": -60
    },
    "id": "WE6c1PHIbybn",
    "outputId": "e687d3ca-86ad-4ef8-8cc5-6724c3656eed"
   },
   "outputs": [
    {
     "data": {
      "text/plain": [
       "<matplotlib.legend.Legend at 0x7f4ba77097b8>"
      ]
     },
     "execution_count": 39,
     "metadata": {
      "tags": []
     },
     "output_type": "execute_result"
    },
    {
     "data": {
      "image/png": "[encoded data removed]",
      "text/plain": [
       "<Figure size 432x288 with 1 Axes>"
      ]
     },
     "metadata": {
      "tags": []
     },
     "output_type": "display_data"
    }
   ],
   "source": [
    "import matplotlib.pyplot as plt\n",
    "# Muestro gráfica de accuracy y losses\n",
    "plt.style.use(\"ggplot\")\n",
    "plt.figure()\n",
    "plt.plot(np.arange(0, 20), H.history[\"loss\"], label=\"train_loss\")\n",
    "plt.plot(np.arange(0, 20), H.history[\"val_loss\"], label=\"val_loss\")\n",
    "plt.plot(np.arange(0, 20), H.history[\"accuracy\"], label=\"train_acc\")\n",
    "plt.plot(np.arange(0, 20), H.history[\"val_accuracy\"], label=\"val_acc\")\n",
    "plt.title(\"Training Loss and Accuracy\")\n",
    "plt.xlabel(\"Epoch #\")\n",
    "plt.ylabel(\"Loss/Accuracy\")\n",
    "plt.legend()"
   ]
  },
  {
   "cell_type": "code",
   "execution_count": 40,
   "metadata": {
    "colab": {
     "base_uri": "https://localhost:8080/"
    },
    "executionInfo": {
     "elapsed": 1140,
     "status": "ok",
     "timestamp": 1613419485256,
     "user": {
      "displayName": "Adrian Colomer Granero",
      "photoUrl": "",
      "userId": "01358379493934063214"
     },
     "user_tz": -60
    },
    "id": "7AY7mJ3mb1C1",
    "outputId": "332d9c0d-35ec-441b-bc46-b130591b2fe7"
   },
   "outputs": [
    {
     "name": "stdout",
     "output_type": "stream",
     "text": [
      "[INFO]: Evaluando red neuronal...\n",
      "71/71 [==============================] - 0s 3ms/step - loss: 1.0676 - accuracy: 0.7636\n",
      "Loss 1.067622423171997, accuracy 0.7635797262191772\n"
     ]
    }
   ],
   "source": [
    "# Evaluando el modelo de predicción con las imágenes de test\n",
    "print(\"[INFO]: Evaluando red neuronal...\")\n",
    "model_bn.predict(x_test)\n",
    "loss, accuracy = model_bn.evaluate(x_test, y_test)\n",
    "print('Loss {}, accuracy {}'.format(loss,accuracy))"
   ]
  }
 ],
 "metadata": {
  "accelerator": "GPU",
  "colab": {
   "collapsed_sections": [],
   "name": "07MAIR_VC02_VC03_Introducción a Deep Learning_Colab.ipynb.ipynb",
   "provenance": [
    {
     "file_id": "1OJ1Q8bMZ_hi7H7D6K1r1E2Dj2uh9l7tN",
     "timestamp": 1599591567382
    }
   ]
  },
  "kernelspec": {
   "display_name": "Python 3",
   "language": "python",
   "name": "python3"
  },
  "language_info": {
   "codemirror_mode": {
    "name": "ipython",
    "version": 3
   },
   "file_extension": ".py",
   "mimetype": "text/x-python",
   "name": "python",
   "nbconvert_exporter": "python",
   "pygments_lexer": "ipython3",
   "version": "3.8.8"
  }
 },
 "nbformat": 4,
 "nbformat_minor": 1
}
