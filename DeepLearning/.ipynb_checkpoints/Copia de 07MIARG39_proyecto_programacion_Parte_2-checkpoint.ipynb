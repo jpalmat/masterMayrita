{
 "cells": [
  {
   "cell_type": "markdown",
   "metadata": {
    "id": "Uq5CR6VIIKbn"
   },
   "source": [
    "# <center><b>07MIAR39 - Redes Neuronales y Deep Learning</b></center>\n",
    "<center>Proyecto de programación \"Deep Vision in classification tasks\"</center>\n",
    "\n",
    "\n",
    "\n",
    "\n",
    "\n"
   ]
  },
  {
   "cell_type": "markdown",
   "metadata": {
    "id": "iZxRjM_YgsYx"
   },
   "source": [
    "#1.1.2 Estrategia 2: Red pre-entrenada\n",
    "\n",
    "La segunda estrategia a comparar debe incluir la utilización de una red preentrenada con\n",
    "el dataset ImageNet, llevando a cabo tareas de transfer learning y fine-tuning para resolver\n",
    "la tarea de clasificación asignada. Deben compararse al menos dos tipos de arquitecturas\n",
    "(VGGs, ResNet50, Xception, InceptionV3, InceptionResNetV2, MobileNetV2, DenseNet, ResNet)\n",
    "y se debe seleccionar la que mayor precisión proporcione (información sobre las arquitecturas\n",
    "disponibles en https://keras.io/applications/). Se espera que el/la alumnx utilice todas las técnicas de regularización mostradas en clase de forma justificada para la mejora del rendimiento\n",
    "de la red neuronal (weight regularization, dropout, batch normalization, data augmentation, etc.)."
   ]
  },
  {
   "cell_type": "code",
   "execution_count": null,
   "metadata": {
    "colab": {
     "base_uri": "https://localhost:8080/"
    },
    "executionInfo": {
     "elapsed": 2754,
     "status": "ok",
     "timestamp": 1653220193296,
     "user": {
      "displayName": "Frank García",
      "userId": "02170445745960031671"
     },
     "user_tz": 300
    },
    "id": "C2pGEdEBIU4E",
    "outputId": "6c371364-e5ff-4e85-aae5-01932cfbc77d"
   },
   "outputs": [
    {
     "name": "stdout",
     "output_type": "stream",
     "text": [
      "Collecting kaggle\n",
      "  Downloading kaggle-1.5.12.tar.gz (58 kB)\n",
      "\u001b[?25l\r",
      "\u001b[K     |█████▋                          | 10 kB 20.7 MB/s eta 0:00:01\r",
      "\u001b[K     |███████████▏                    | 20 kB 25.3 MB/s eta 0:00:01\r",
      "\u001b[K     |████████████████▊               | 30 kB 16.9 MB/s eta 0:00:01\r",
      "\u001b[K     |██████████████████████▎         | 40 kB 15.5 MB/s eta 0:00:01\r",
      "\u001b[K     |███████████████████████████▉    | 51 kB 8.5 MB/s eta 0:00:01\r",
      "\u001b[K     |████████████████████████████████| 58 kB 4.2 MB/s \n",
      "\u001b[?25hBuilding wheels for collected packages: kaggle\n",
      "  Building wheel for kaggle (setup.py) ... \u001b[?25l\u001b[?25hdone\n",
      "  Created wheel for kaggle: filename=kaggle-1.5.12-py3-none-any.whl size=73051 sha256=5f712b3cb9d0bbce8fefdf75ad85469306544aa00fe455f5eb16e6a13dfdecf1\n",
      "  Stored in directory: /root/.cache/pip/wheels/62/d6/58/5853130f941e75b2177d281eb7e44b4a98ed46dd155f556dc5\n",
      "Successfully built kaggle\n",
      "Installing collected packages: kaggle\n",
      "  Attempting uninstall: kaggle\n",
      "    Found existing installation: kaggle 1.5.12\n",
      "    Uninstalling kaggle-1.5.12:\n",
      "      Successfully uninstalled kaggle-1.5.12\n",
      "Successfully installed kaggle-1.5.12\n"
     ]
    }
   ],
   "source": [
    "# Aseguramos que tenemos instalada la última versión de la API de Kaggle \n",
    "\n",
    "!pip install --upgrade --force-reinstall --no-deps kaggle"
   ]
  },
  {
   "cell_type": "code",
   "execution_count": null,
   "metadata": {
    "id": "P57xucrf6pVC"
   },
   "outputs": [],
   "source": [
    "# Aseguramos que tenemos instalada la última versión de Tensorflow\n",
    "\n",
    "!pip install --upgrade --force-reinstall --no-deps tensorflow"
   ]
  },
  {
   "cell_type": "code",
   "execution_count": null,
   "metadata": {
    "id": "b5kOELJc8Cw2"
   },
   "outputs": [],
   "source": [
    "!pip install --upgrade --force-reinstall --no-deps keras"
   ]
  },
  {
   "cell_type": "code",
   "execution_count": null,
   "metadata": {
    "colab": {
     "base_uri": "https://localhost:8080/"
    },
    "executionInfo": {
     "elapsed": 1390,
     "status": "ok",
     "timestamp": 1653226415484,
     "user": {
      "displayName": "Frank García",
      "userId": "02170445745960031671"
     },
     "user_tz": 300
    },
    "id": "XIqxeff0-QCS",
    "outputId": "67beab1a-827a-4dad-95d9-2cd951640241"
   },
   "outputs": [
    {
     "name": "stdout",
     "output_type": "stream",
     "text": [
      "Collecting keras_tuner\n",
      "  Downloading keras_tuner-1.1.2-py3-none-any.whl (133 kB)\n",
      "\u001b[?25l\r",
      "\u001b[K     |██▌                             | 10 kB 16.1 MB/s eta 0:00:01\r",
      "\u001b[K     |█████                           | 20 kB 6.5 MB/s eta 0:00:01\r",
      "\u001b[K     |███████▍                        | 30 kB 8.6 MB/s eta 0:00:01\r",
      "\u001b[K     |█████████▉                      | 40 kB 7.9 MB/s eta 0:00:01\r",
      "\u001b[K     |████████████▎                   | 51 kB 7.0 MB/s eta 0:00:01\r",
      "\u001b[K     |██████████████▊                 | 61 kB 8.1 MB/s eta 0:00:01\r",
      "\u001b[K     |█████████████████▏              | 71 kB 7.8 MB/s eta 0:00:01\r",
      "\u001b[K     |███████████████████▋            | 81 kB 7.4 MB/s eta 0:00:01\r",
      "\u001b[K     |██████████████████████          | 92 kB 8.2 MB/s eta 0:00:01\r",
      "\u001b[K     |████████████████████████▌       | 102 kB 8.2 MB/s eta 0:00:01\r",
      "\u001b[K     |███████████████████████████     | 112 kB 8.2 MB/s eta 0:00:01\r",
      "\u001b[K     |█████████████████████████████▍  | 122 kB 8.2 MB/s eta 0:00:01\r",
      "\u001b[K     |███████████████████████████████▉| 133 kB 8.2 MB/s eta 0:00:01\r",
      "\u001b[K     |████████████████████████████████| 133 kB 8.2 MB/s \n",
      "\u001b[?25hInstalling collected packages: keras-tuner\n",
      "Successfully installed keras-tuner-1.1.2\n"
     ]
    }
   ],
   "source": [
    "!pip install --upgrade --force-reinstall --no-deps keras_tuner"
   ]
  },
  {
   "cell_type": "code",
   "execution_count": null,
   "metadata": {
    "colab": {
     "base_uri": "https://localhost:8080/"
    },
    "executionInfo": {
     "elapsed": 592,
     "status": "ok",
     "timestamp": 1653220207607,
     "user": {
      "displayName": "Frank García",
      "userId": "02170445745960031671"
     },
     "user_tz": 300
    },
    "id": "jpPoyY17K3Sm",
    "outputId": "4e1ac1cb-88bc-48f4-8aac-09107febd5c3"
   },
   "outputs": [
    {
     "name": "stdout",
     "output_type": "stream",
     "text": [
      "mkdir: cannot create directory ‘/root/.kaggle’: File exists\n"
     ]
    }
   ],
   "source": [
    "# Creemos un directorio para descomprimir los datos\n",
    "!mkdir my_dataset"
   ]
  },
  {
   "cell_type": "code",
   "execution_count": null,
   "metadata": {
    "colab": {
     "base_uri": "https://localhost:8080/"
    },
    "executionInfo": {
     "elapsed": 960,
     "status": "ok",
     "timestamp": 1653220211166,
     "user": {
      "displayName": "Frank García",
      "userId": "02170445745960031671"
     },
     "user_tz": 300
    },
    "id": "UmFBenR-mBiK",
    "outputId": "c5083137-1b0a-4f2f-d0c8-e3cf998c0391"
   },
   "outputs": [
    {
     "name": "stdout",
     "output_type": "stream",
     "text": [
      "ref                                                                   title                                             size  lastUpdated          downloadCount  voteCount  usabilityRating  \n",
      "--------------------------------------------------------------------  -----------------------------------------------  -----  -------------------  -------------  ---------  ---------------  \n",
      "muratkokludataset/date-fruit-datasets                                 Date Fruit Datasets                              408KB  2022-04-03 09:25:39           8995       1220  0.9375           \n",
      "victorsoeiro/netflix-tv-shows-and-movies                              Netflix TV Shows and Movies                        2MB  2022-05-15 00:01:23           1333         54  1.0              \n",
      "mdmahmudulhasansuzan/students-adaptability-level-in-online-education  Students Adaptability Level in Online Education    6KB  2022-04-16 04:46:28           6010        154  1.0              \n",
      "muratkokludataset/acoustic-extinguisher-fire-dataset                  Acoustic Extinguisher Fire Dataset               621KB  2022-04-02 22:59:36           1440       1059  0.9375           \n",
      "muratkokludataset/rice-image-dataset                                  Rice Image Dataset                               219MB  2022-04-03 02:12:00           1769       1013  0.875            \n",
      "muratkokludataset/raisin-dataset                                      Raisin Dataset                                   112KB  2022-04-03 00:23:16            723        899  0.9375           \n",
      "muratkokludataset/dry-bean-dataset                                    Dry Bean Dataset                                   5MB  2022-04-02 23:19:30            600        896  0.9375           \n",
      "paradisejoy/top-hits-spotify-from-20002019                            Top Hits Spotify from 2000-2019                   94KB  2022-04-26 17:30:03           1938         48  1.0              \n",
      "muratkokludataset/pistachio-dataset                                   Pistachio Dataset                                  2MB  2022-04-03 08:38:21            648        918  0.9375           \n",
      "muratkokludataset/rice-msc-dataset                                    Rice MSC Dataset                                 102MB  2022-04-03 01:33:52            278        886  0.9375           \n",
      "muratkokludataset/grapevine-leaves-image-dataset                      Grapevine Leaves Image Dataset                   109MB  2022-04-03 09:00:54            234        925  0.875            \n",
      "muratkokludataset/rice-dataset-commeo-and-osmancik                    Rice Dataset Commeo and Osmancik                 524KB  2022-04-03 00:40:03            137        874  0.875            \n",
      "muratkokludataset/durum-wheat-dataset                                 Durum Wheat Dataset                              983MB  2022-04-03 00:02:29            116        897  0.875            \n",
      "mysarahmadbhat/airline-passenger-satisfaction                         Airline Passenger Satisfaction                     2MB  2022-05-19 11:46:02            453         17  1.0              \n",
      "muratkokludataset/pistachio-image-dataset                             Pistachio Image Dataset                           27MB  2022-03-28 18:01:27            609        965  0.9375           \n",
      "muratkokludataset/pumpkin-seeds-dataset                               Pumpkin Seeds Dataset                            393KB  2022-03-28 18:28:16            714        894  0.9375           \n",
      "ujjwalchowdhury/energy-efficiency-data-set                            Energy Efficiency Data Set                         6KB  2022-05-12 13:51:03            598         32  0.9705882        \n",
      "surajjha101/stores-area-and-sales-data                                Supermarket store branches sales analysis         10KB  2022-04-29 11:10:16           1766         71  1.0              \n",
      "rinichristy/covid19-coronavirus-pandemic                              COVID-19 Coronavirus Pandemic                      9KB  2022-04-05 08:43:16           4669        106  1.0              \n",
      "jjdaguirre/forbes-billionaires-2022                                   Forbes billionaires 2022                          56KB  2022-04-30 18:48:22            881         27  1.0              \n"
     ]
    }
   ],
   "source": [
    "# Ya podemos listar los datasets disponibles en kaggle para su descarga\n",
    "!kaggle datasets list"
   ]
  },
  {
   "cell_type": "markdown",
   "metadata": {
    "id": "_G-1kxY6mOIz"
   },
   "source": [
    "#**1**.Conjunto de datos\n",
    "\n",
    "Dogs vs. Cats Redux\n",
    "\n",
    "https://www.kaggle.com/competitions/dogs-vs-cats-redux-kernels-edition/data"
   ]
  },
  {
   "cell_type": "code",
   "execution_count": null,
   "metadata": {
    "colab": {
     "base_uri": "https://localhost:8080/"
    },
    "executionInfo": {
     "elapsed": 1541,
     "status": "ok",
     "timestamp": 1653221842962,
     "user": {
      "displayName": "Frank García",
      "userId": "02170445745960031671"
     },
     "user_tz": 300
    },
    "id": "HQ6Y8WJ0oe7e",
    "outputId": "775d09a6-6177-400f-fa2e-4ad07d13b7e9"
   },
   "outputs": [
    {
     "name": "stdout",
     "output_type": "stream",
     "text": [
      "dogs-vs-cats-redux-kernels-edition.zip: Skipping, found more recently modified local copy (use --force to force download)\n"
     ]
    }
   ],
   "source": [
    "# IMPORTANTE ANTES DE DESCARGAR UN DATASET !!!\n",
    "# Antes de descargar el dataset debemos ir a https://www.kaggle.com/c/$nameCompetition/data y aceptar las \"Competition Rules\"\n",
    "# En caso de no realizar el paso anterior al descargar el dataset obtenedremos el siguiente mensaje \"403 - Forbidden\"\n",
    "# AHORA SI: Descarguemos un dataset de cierta competición\n",
    "\n",
    "!kaggle competitions download -c dogs-vs-cats-redux-kernels-edition\n",
    "\n",
    "#NOTA: El nombre del dataset de competición a descargar se informará en el documento en el que se presenten las parejas formadas"
   ]
  },
  {
   "cell_type": "code",
   "execution_count": null,
   "metadata": {
    "colab": {
     "base_uri": "https://localhost:8080/"
    },
    "executionInfo": {
     "elapsed": 4,
     "status": "ok",
     "timestamp": 1653223512122,
     "user": {
      "displayName": "Frank García",
      "userId": "02170445745960031671"
     },
     "user_tz": 300
    },
    "id": "Ad__XUEuosYz",
    "outputId": "8c3d6981-0abf-42c5-aa89-f336855f2663"
   },
   "outputs": [
    {
     "name": "stdout",
     "output_type": "stream",
     "text": [
      "mkdir: cannot create directory ‘my_dataset’: File exists\n"
     ]
    }
   ],
   "source": [
    "# Creemos un directorio para descomprimir los datos\n",
    "!mkdir my_dataset"
   ]
  },
  {
   "cell_type": "code",
   "execution_count": null,
   "metadata": {
    "colab": {
     "base_uri": "https://localhost:8080/"
    },
    "executionInfo": {
     "elapsed": 15816,
     "status": "ok",
     "timestamp": 1653224600500,
     "user": {
      "displayName": "Frank García",
      "userId": "02170445745960031671"
     },
     "user_tz": 300
    },
    "id": "hhxIe7tZpB36",
    "outputId": "43f51227-b2a1-4dd7-d3c1-5b7208e1b956"
   },
   "outputs": [
    {
     "name": "stdout",
     "output_type": "stream",
     "text": [
      "Archive:  dogs-vs-cats-redux-kernels-edition.zip\n",
      "replace my_dataset/sample_submission.csv? [y]es, [n]o, [A]ll, [N]one, [r]ename: A\n",
      "  inflating: my_dataset/sample_submission.csv  \n",
      "  inflating: my_dataset/test.zip     \n",
      "  inflating: my_dataset/train.zip    \n"
     ]
    }
   ],
   "source": [
    "# Descomprimimos los datos y los dejamos listos para trabajar\n",
    "!unzip dogs-vs-cats-redux-kernels-edition.zip -d my_dataset"
   ]
  },
  {
   "cell_type": "code",
   "execution_count": null,
   "metadata": {
    "id": "7FX7n87L3gQU"
   },
   "outputs": [],
   "source": [
    "import zipfile\n",
    "def extract_zip_file(file_path):\n",
    "    with zipfile.ZipFile(file_path, 'r') as zip_ref:\n",
    "        zip_ref.extractall(\".\")"
   ]
  },
  {
   "cell_type": "code",
   "execution_count": null,
   "metadata": {
    "id": "DeoODR8m3gTp"
   },
   "outputs": [],
   "source": [
    "extract_zip_file(\"./my_dataset/test.zip\")\n",
    "extract_zip_file(\"./my_dataset/train.zip\")"
   ]
  },
  {
   "cell_type": "markdown",
   "metadata": {
    "id": "e28xFnfiqQHE"
   },
   "source": [
    "# 2. Inspección del conjunto de datos"
   ]
  },
  {
   "cell_type": "code",
   "execution_count": null,
   "metadata": {
    "id": "K4RqyOXisks9"
   },
   "outputs": [],
   "source": [
    "import numpy as np\n",
    "import pandas as pd\n",
    "import os\n",
    "import tensorflow as tf"
   ]
  },
  {
   "cell_type": "markdown",
   "metadata": {
    "id": "Vdf0tpcmeobk"
   },
   "source": [
    "#Construcción del Dataframe de Entrenamiento"
   ]
  },
  {
   "cell_type": "code",
   "execution_count": null,
   "metadata": {
    "id": "iookC5bmwGk_"
   },
   "outputs": [],
   "source": [
    "def construct_train_df():\n",
    "    image_list = []\n",
    "    for root, dirs, filenames in os.walk(\"./train/\"):\n",
    "        for filename in filenames:\n",
    "            is_dog = 1 if \"dog\" in filename else 0\n",
    "            image_list.append({\"file_path\": f'./train/{filename}', 'is_dog': is_dog})\n",
    "    return pd.DataFrame(image_list)"
   ]
  },
  {
   "cell_type": "code",
   "execution_count": null,
   "metadata": {
    "colab": {
     "base_uri": "https://localhost:8080/"
    },
    "executionInfo": {
     "elapsed": 244,
     "status": "ok",
     "timestamp": 1653226763263,
     "user": {
      "displayName": "Frank García",
      "userId": "02170445745960031671"
     },
     "user_tz": 300
    },
    "id": "5HBDknLBwPFB",
    "outputId": "bd5ed3f4-a6ed-48da-d176-00df7cc800ed"
   },
   "outputs": [
    {
     "name": "stdout",
     "output_type": "stream",
     "text": [
      "(25000, 2)\n"
     ]
    }
   ],
   "source": [
    "train_df = construct_train_df()\n",
    "print(train_df.shape)"
   ]
  },
  {
   "cell_type": "markdown",
   "metadata": {
    "id": "ffGYGPvFe05F"
   },
   "source": [
    "# Construcción de datos de prueba y entrenamiento"
   ]
  },
  {
   "cell_type": "code",
   "execution_count": null,
   "metadata": {
    "id": "EM8ZJa-c5EPH"
   },
   "outputs": [],
   "source": [
    "import cv2\n",
    "x, y = [], []\n",
    "for index, row in train_df.iterrows():\n",
    "    image = cv2.imread(row['file_path'])\n",
    "    image = cv2.resize(image,(64,64))\n",
    "    image = image / 255\n",
    "    x.append(image)\n",
    "    y.append(row['is_dog'])"
   ]
  },
  {
   "cell_type": "markdown",
   "metadata": {
    "id": "6yA9g_8UfLR3"
   },
   "source": [
    "# Transformando a una matriz numpy para que tensorflow pueda trabajar"
   ]
  },
  {
   "cell_type": "code",
   "execution_count": null,
   "metadata": {
    "id": "VB2rcMKS6PaN"
   },
   "outputs": [],
   "source": [
    "x, y  = np.array(x),np.array(y)"
   ]
  },
  {
   "cell_type": "code",
   "execution_count": null,
   "metadata": {
    "id": "3_Wq9z1Q6S34"
   },
   "outputs": [],
   "source": [
    "from sklearn.model_selection import train_test_split\n",
    "x_train, x_test, y_train, y_test = train_test_split(x, y, test_size=0.2, random_state=1)"
   ]
  },
  {
   "cell_type": "markdown",
   "metadata": {
    "id": "eZ_ZZxcifaF2"
   },
   "source": [
    "#Construcción del modelo de Deep Learning"
   ]
  },
  {
   "cell_type": "code",
   "execution_count": null,
   "metadata": {
    "id": "a2jFkYt28rSG"
   },
   "outputs": [],
   "source": [
    "import warnings\n",
    "warnings.filterwarnings('ignore')\n",
    "pd.set_option(\"display.max_columns\", None)\n",
    "import keras_tuner as kt"
   ]
  },
  {
   "cell_type": "code",
   "execution_count": null,
   "metadata": {
    "colab": {
     "base_uri": "https://localhost:8080/"
    },
    "executionInfo": {
     "elapsed": 611,
     "status": "ok",
     "timestamp": 1653226876062,
     "user": {
      "displayName": "Frank García",
      "userId": "02170445745960031671"
     },
     "user_tz": 300
    },
    "id": "F6clPITV6gQy",
    "outputId": "f61408f2-a1f6-4647-a971-8bec1bf09a85"
   },
   "outputs": [
    {
     "name": "stdout",
     "output_type": "stream",
     "text": [
      "Model: \"sequential\"\n",
      "_________________________________________________________________\n",
      " Layer (type)                Output Shape              Param #   \n",
      "=================================================================\n",
      " conv2d (Conv2D)             (None, 59, 59, 12)        1308      \n",
      "                                                                 \n",
      " max_pooling2d (MaxPooling2D  (None, 14, 14, 12)       0         \n",
      " )                                                               \n",
      "                                                                 \n",
      " conv2d_1 (Conv2D)           (None, 12, 12, 10)        1090      \n",
      "                                                                 \n",
      " max_pooling2d_1 (MaxPooling  (None, 6, 6, 10)         0         \n",
      " 2D)                                                             \n",
      "                                                                 \n",
      " flatten (Flatten)           (None, 360)               0         \n",
      "                                                                 \n",
      " dense (Dense)               (None, 12)                4332      \n",
      "                                                                 \n",
      " dense_1 (Dense)             (None, 1)                 13        \n",
      "                                                                 \n",
      "=================================================================\n",
      "Total params: 6,743\n",
      "Trainable params: 6,743\n",
      "Non-trainable params: 0\n",
      "_________________________________________________________________\n"
     ]
    }
   ],
   "source": [
    "from tensorflow.keras.models import Sequential\n",
    "from tensorflow.keras.models import Model\n",
    "from tensorflow.keras.layers import Dense\n",
    "from tensorflow.keras.layers import Conv2D\n",
    "from tensorflow.keras.layers import Dropout\n",
    "from tensorflow.keras.layers import Flatten\n",
    "from tensorflow.keras.layers import MaxPooling2D\n",
    "\n",
    "model = Sequential()\n",
    "# CNN\n",
    "model.add(Conv2D(input_shape=(64, 64, 3), activation='relu', kernel_initializer='he_uniform', kernel_size=(6, 6), filters=12))\n",
    "model.add(MaxPooling2D(4, 4))\n",
    "model.add(Conv2D(filters=10, kernel_size=(3,3), activation='relu', kernel_initializer='he_uniform'))\n",
    "model.add(MaxPooling2D(2,2))\n",
    "# ANN\n",
    "model.add(Flatten())\n",
    "model.add(Dense(12, activation='relu', kernel_initializer='he_uniform'))\n",
    "model.add(Dense(1, activation='sigmoid', kernel_initializer='glorot_uniform'))\n",
    "\n",
    "model.compile(loss='binary_crossentropy', optimizer='adam', metrics=['accuracy'])\n",
    "model.summary()"
   ]
  },
  {
   "cell_type": "markdown",
   "metadata": {
    "id": "hrwMIUuDAMzf"
   },
   "source": [
    "User settings:\n",
    "\n",
    "   KMP_AFFINITY=granularity=fine,noverbose,compact,1,0\n",
    "\n",
    "   KMP_BLOCKTIME=0\n",
    "\n",
    "   KMP_DUPLICATE_LIB_OK=True\n",
    "\n",
    "   KMP_INIT_AT_FORK=FALSE\n",
    "\n",
    "   KMP_SETTINGS=1\n",
    "\n",
    "   KMP_WARNINGS=0\n",
    "\n",
    "\n",
    "Effective settings:\n",
    "\n",
    "   KMP_ABORT_DELAY=0\n",
    "\n",
    "   KMP_ADAPTIVE_LOCK_PROPS='1,1024'\n",
    "\n",
    "   KMP_ALIGN_ALLOC=64\n",
    "\n",
    "   KMP_ALL_THREADPRIVATE=128\n",
    "\n",
    "   KMP_ATOMIC_MODE=2\n",
    "\n",
    "   KMP_BLOCKTIME=0\n",
    "\n",
    "   KMP_CPUINFO_FILE: value is not defined\n",
    "\n",
    "   KMP_DETERMINISTIC_REDUCTION=false\n",
    "\n",
    "   KMP_DEVICE_THREAD_LIMIT=2147483647\n",
    "\n",
    "   KMP_DISP_NUM_BUFFERS=7\n",
    "\n",
    "   KMP_DUPLICATE_LIB_OK=true\n",
    "\n",
    "   KMP_ENABLE_TASK_THROTTLING=true\n",
    "\n",
    "   KMP_FORCE_REDUCTION: value is not defined\n",
    "\n",
    "   KMP_FOREIGN_THREADS_THREADPRIVATE=true\n",
    "\n",
    "   KMP_FORKJOIN_BARRIER='2,2'\n",
    "\n",
    "   KMP_FORKJOIN_BARRIER_PATTERN='hyper,hyper'\n",
    "\n",
    "   KMP_GTID_MODE=3\n",
    "\n",
    "   KMP_HANDLE_SIGNALS=false\n",
    "\n",
    "   KMP_HOT_TEAMS_MAX_LEVEL=1\n",
    "\n",
    "   KMP_HOT_TEAMS_MODE=0\n",
    "\n",
    "   KMP_INIT_AT_FORK=true\n",
    "\n",
    "   KMP_LIBRARY=throughput\n",
    "\n",
    "   KMP_LOCK_KIND=queuing\n",
    "\n",
    "   KMP_MALLOC_POOL_INCR=1M\n",
    "\n",
    "   KMP_NUM_LOCKS_IN_BLOCK=1\n",
    "\n",
    "   KMP_PLAIN_BARRIER='2,2'\n",
    "\n",
    "   KMP_PLAIN_BARRIER_PATTERN='hyper,hyper'\n",
    "\n",
    "   KMP_REDUCTION_BARRIER='1,1'\n",
    "\n",
    "   KMP_REDUCTION_BARRIER_PATTERN='hyper,hyper'\n",
    "\n",
    "   KMP_SCHEDULE='static,balanced;guided,iterative'\n",
    "\n",
    "   KMP_SETTINGS=true\n",
    "\n",
    "   KMP_SPIN_BACKOFF_PARAMS='4096,100'\n",
    "\n",
    "   KMP_STACKOFFSET=64\n",
    "\n",
    "   KMP_STACKPAD=0\n",
    "\n",
    "   KMP_STACKSIZE=8M\n",
    "\n",
    "   KMP_STORAGE_MAP=false\n",
    "\n",
    "   KMP_TASKING=2\n",
    "\n",
    "   KMP_TASKLOOP_MIN_TASKS=0\n",
    "\n",
    "   KMP_TASK_STEALING_CONSTRAINT=1\n",
    "\n",
    "   KMP_TEAMS_THREAD_LIMIT=4\n",
    "\n",
    "   KMP_TOPOLOGY_METHOD=all\n",
    "\n",
    "   KMP_USE_YIELD=1\n",
    "\n",
    "   KMP_VERSION=false\n",
    "\n",
    "   KMP_WARNINGS=false\n",
    "\n",
    "   OMP_AFFINITY_FORMAT='OMP: pid %P tid %i thread %n bound to OS proc set {%A}'\n",
    "\n",
    "   OMP_ALLOCATOR=omp_default_mem_alloc\n",
    "\n",
    "   OMP_CANCELLATION=false\n",
    "\n",
    "   OMP_DEFAULT_DEVICE=0\n",
    "\n",
    "   OMP_DISPLAY_AFFINITY=false\n",
    "\n",
    "   OMP_DISPLAY_ENV=false\n",
    "\n",
    "   OMP_DYNAMIC=false\n",
    "\n",
    "   OMP_MAX_ACTIVE_LEVELS=1\n",
    "\n",
    "   OMP_MAX_TASK_PRIORITY=0\n",
    "\n",
    "   OMP_NESTED: deprecated; max-active-levels-var=1\n",
    "\n",
    "   OMP_NUM_THREADS: value is not defined\n",
    "\n",
    "   OMP_PLACES: value is not defined\n",
    "\n",
    "   OMP_PROC_BIND='intel'\n",
    "\n",
    "   OMP_SCHEDULE='static'\n",
    "\n",
    "   OMP_STACKSIZE=8M\n",
    "\n",
    "   OMP_TARGET_OFFLOAD=DEFAULT\n",
    "\n",
    "   OMP_THREAD_LIMIT=2147483647\n",
    "\n",
    "   OMP_WAIT_POLICY=PASSIVE\n",
    "\n",
    "   KMP_AFFINITY='noverbose,warnings,respect,granularity=fine,compact,1,0'\n",
    "\n"
   ]
  },
  {
   "cell_type": "markdown",
   "metadata": {
    "id": "RRpebWzJflKc"
   },
   "source": [
    "#Ajuste de hiperparámetros"
   ]
  },
  {
   "cell_type": "code",
   "execution_count": null,
   "metadata": {
    "id": "EgvayYFEAOBW"
   },
   "outputs": [],
   "source": [
    "def build_model(hp):\n",
    "    inputs = tf.keras.Input(shape=(64, 64, 3))\n",
    "    x = inputs\n",
    "    for i in range(hp.Int(\"cnn_layers\", 1, 3)):\n",
    "        x = Conv2D(hp.Int(f\"filters_{i}\", 32, 128, step=32), kernel_size=(3,3), activation='relu')(x)\n",
    "        x = MaxPooling2D(pool_size=(2,2))(x)\n",
    "    x = Flatten()(x)\n",
    "    for i in range(hp.Int(\"mlp_layers\", 1, 5, 1)):\n",
    "        x = Dense(units=hp.Int(f'units_{i}', 32, 128, step=3), activation='relu')(x)\n",
    "    if hp.Boolean(\"dropout\"):\n",
    "        x = Dropout(0.5)(x)\n",
    "    outputs = Dense(units=1, activation='sigmoid')(x)\n",
    "    model = Model(inputs=inputs, outputs=outputs)\n",
    "    model.compile(loss='binary_crossentropy', metrics=['accuracy'], optimizer='adam')\n",
    "    return model"
   ]
  },
  {
   "cell_type": "code",
   "execution_count": null,
   "metadata": {
    "id": "e0LBVodoA2Jr"
   },
   "outputs": [],
   "source": [
    "tuner = kt.RandomSearch(build_model, max_trials=3, overwrite=True, objective='val_accuracy', directory=\"./tuning\")"
   ]
  },
  {
   "cell_type": "code",
   "execution_count": null,
   "metadata": {
    "colab": {
     "base_uri": "https://localhost:8080/"
    },
    "executionInfo": {
     "elapsed": 330590,
     "status": "ok",
     "timestamp": 1653240035235,
     "user": {
      "displayName": "Frank García",
      "userId": "02170445745960031671"
     },
     "user_tz": 300
    },
    "id": "CWHn7yWIA4ll",
    "outputId": "50e8b922-bddb-4b3d-9c9e-6f17c6cbbf30"
   },
   "outputs": [
    {
     "name": "stdout",
     "output_type": "stream",
     "text": [
      "Trial 3 Complete [00h 12m 23s]\n",
      "val_accuracy: 0.7772499918937683\n",
      "\n",
      "Best val_accuracy So Far: 0.7795000076293945\n",
      "Total elapsed time: 00h 38m 54s\n",
      "INFO:tensorflow:Oracle triggered exit\n"
     ]
    }
   ],
   "source": [
    "tuner.search(x_train, y_train, validation_split=0.2, epochs=5, callbacks=[tf.keras.callbacks.TensorBoard(\"./tensorboard\")])"
   ]
  },
  {
   "cell_type": "code",
   "execution_count": null,
   "metadata": {
    "colab": {
     "base_uri": "https://localhost:8080/"
    },
    "executionInfo": {
     "elapsed": 253,
     "status": "ok",
     "timestamp": 1653240051132,
     "user": {
      "displayName": "Frank García",
      "userId": "02170445745960031671"
     },
     "user_tz": 300
    },
    "id": "8Wjk5gkVK3Kc",
    "outputId": "d08bbda2-33dd-4153-8215-d3b103b6ef44"
   },
   "outputs": [
    {
     "name": "stdout",
     "output_type": "stream",
     "text": [
      "Model: \"sequential\"\n",
      "_________________________________________________________________\n",
      " Layer (type)                Output Shape              Param #   \n",
      "=================================================================\n",
      " conv2d (Conv2D)             (None, 59, 59, 12)        1308      \n",
      "                                                                 \n",
      " max_pooling2d (MaxPooling2D  (None, 14, 14, 12)       0         \n",
      " )                                                               \n",
      "                                                                 \n",
      " conv2d_1 (Conv2D)           (None, 12, 12, 10)        1090      \n",
      "                                                                 \n",
      " max_pooling2d_1 (MaxPooling  (None, 6, 6, 10)         0         \n",
      " 2D)                                                             \n",
      "                                                                 \n",
      " flatten (Flatten)           (None, 360)               0         \n",
      "                                                                 \n",
      " dense (Dense)               (None, 12)                4332      \n",
      "                                                                 \n",
      " dense_1 (Dense)             (None, 1)                 13        \n",
      "                                                                 \n",
      "=================================================================\n",
      "Total params: 6,743\n",
      "Trainable params: 6,743\n",
      "Non-trainable params: 0\n",
      "_________________________________________________________________\n"
     ]
    }
   ],
   "source": [
    "model.summary()"
   ]
  },
  {
   "cell_type": "markdown",
   "metadata": {
    "id": "dYR1DOtbfs9q"
   },
   "source": [
    "#Ajuste del modelo"
   ]
  },
  {
   "cell_type": "code",
   "execution_count": null,
   "metadata": {
    "colab": {
     "base_uri": "https://localhost:8080/"
    },
    "executionInfo": {
     "elapsed": 86098,
     "status": "ok",
     "timestamp": 1653240143813,
     "user": {
      "displayName": "Frank García",
      "userId": "02170445745960031671"
     },
     "user_tz": 300
    },
    "id": "Rb0aoODOK6II",
    "outputId": "f440b670-f689-4c6e-d0cd-8e718968f3e4"
   },
   "outputs": [
    {
     "name": "stdout",
     "output_type": "stream",
     "text": [
      "625/625 [==============================] - 65s 103ms/step - loss: 0.5533 - accuracy: 0.7151 - val_loss: 0.5262 - val_accuracy: 0.7376\n"
     ]
    }
   ],
   "source": [
    "history = model.fit(x_train, y_train, validation_data=(x_test, y_test), epochs=1)"
   ]
  },
  {
   "cell_type": "markdown",
   "metadata": {
    "id": "bo1FtDHUfyb_"
   },
   "source": [
    "#Construcción de marco de datos de prueba"
   ]
  },
  {
   "cell_type": "code",
   "execution_count": null,
   "metadata": {
    "id": "8VH4IIBQLEn8"
   },
   "outputs": [],
   "source": [
    "def construct_test_df():\n",
    "    x = []\n",
    "    for dirname, _, filenames in os.walk(\"./test\"):\n",
    "        for filename in filenames:\n",
    "            x.append(f'./test/{filename}')\n",
    "    return pd.DataFrame({'file_path': x})"
   ]
  },
  {
   "cell_type": "code",
   "execution_count": null,
   "metadata": {
    "id": "wXiN43_DLM_5"
   },
   "outputs": [],
   "source": [
    "test_df = construct_test_df()"
   ]
  },
  {
   "cell_type": "code",
   "execution_count": null,
   "metadata": {
    "id": "G2pWxqeJLPnb"
   },
   "outputs": [],
   "source": [
    "test_images = []\n",
    "for index, row in test_df.iterrows():\n",
    "    image = cv2.imread(row['file_path'])\n",
    "    image = cv2.resize(image, (64, 64))\n",
    "    image = image / 255\n",
    "    test_images.append(image)"
   ]
  },
  {
   "cell_type": "code",
   "execution_count": null,
   "metadata": {
    "id": "Ht_WOKuVLRNi"
   },
   "outputs": [],
   "source": [
    "test_images = np.array(test_images)"
   ]
  },
  {
   "cell_type": "markdown",
   "metadata": {
    "id": "A4PsJtwuf4LA"
   },
   "source": [
    "#Predicción de los datos de prueba"
   ]
  },
  {
   "cell_type": "code",
   "execution_count": null,
   "metadata": {
    "id": "r40trqWQLTht"
   },
   "outputs": [],
   "source": [
    "y_pred = model.predict(test_images)"
   ]
  },
  {
   "cell_type": "code",
   "execution_count": null,
   "metadata": {
    "colab": {
     "base_uri": "https://localhost:8080/"
    },
    "executionInfo": {
     "elapsed": 47,
     "status": "ok",
     "timestamp": 1653240215692,
     "user": {
      "displayName": "Frank García",
      "userId": "02170445745960031671"
     },
     "user_tz": 300
    },
    "id": "pg3Moq4LLUFx",
    "outputId": "34a9b0cd-e043-46d4-803a-1086852d57bf"
   },
   "outputs": [
    {
     "data": {
      "text/plain": [
       "(12500, 1)"
      ]
     },
     "execution_count": 38,
     "metadata": {},
     "output_type": "execute_result"
    }
   ],
   "source": [
    "y_pred.shape"
   ]
  },
  {
   "cell_type": "code",
   "execution_count": null,
   "metadata": {
    "id": "mNORyBz8LVkX"
   },
   "outputs": [],
   "source": [
    "dog = y_pred.reshape(-1)"
   ]
  },
  {
   "cell_type": "markdown",
   "metadata": {
    "id": "cNf3ROT6gBJR"
   },
   "source": [
    "#Crear archivo de envío"
   ]
  },
  {
   "cell_type": "code",
   "execution_count": null,
   "metadata": {
    "id": "XKrgl7fMLXJO"
   },
   "outputs": [],
   "source": [
    "submission_df = pd.DataFrame({'id':np.arange(1, len(dog)+1), 'label': (dog > 0.5).astype('int')})"
   ]
  },
  {
   "cell_type": "code",
   "execution_count": null,
   "metadata": {
    "id": "O3SW2kSXLaql"
   },
   "outputs": [],
   "source": [
    "submission_df.to_csv(\"./submission.csv\", index=False) #Archivo ejecutado con los resultados"
   ]
  },
  {
   "cell_type": "code",
   "execution_count": 2,
   "metadata": {
    "colab": {
     "base_uri": "https://localhost:8080/"
    },
    "executionInfo": {
     "elapsed": 68315,
     "status": "ok",
     "timestamp": 1653240412257,
     "user": {
      "displayName": "Mayra Pullupaxi",
      "userId": "06879005721354128592"
     },
     "user_tz": 300
    },
    "id": "kmRZo7AqzUX_",
    "outputId": "502c548b-50db-4186-fa3f-702fb589c21a"
   },
   "outputs": [
    {
     "name": "stdout",
     "output_type": "stream",
     "text": [
      "The operation couldn’t be completed. Unable to locate a Java Runtime that supports apt.\n",
      "Please visit http://www.java.com for information on installing Java.\n",
      "\n",
      "[NbConvertApp] WARNING | pattern '$BASE_FOLDER$name_IPYNB_file' matched no files\n",
      "This application is used to convert notebook files (*.ipynb) to various other\n",
      "formats.\n",
      "\n",
      "WARNING: THE COMMANDLINE INTERFACE MAY CHANGE IN FUTURE RELEASES.\n",
      "\n",
      "Options\n",
      "=======\n",
      "The options below are convenience aliases to configurable class-options,\n",
      "as listed in the \"Equivalent to\" description-line of the aliases.\n",
      "To see all configurable class-options for some <cmd>, use:\n",
      "    <cmd> --help-all\n",
      "\n",
      "--debug\n",
      "    set log level to logging.DEBUG (maximize logging output)\n",
      "    Equivalent to: [--Application.log_level=10]\n",
      "--generate-config\n",
      "    generate default config file\n",
      "    Equivalent to: [--JupyterApp.generate_config=True]\n",
      "-y\n",
      "    Answer yes to any questions instead of prompting.\n",
      "    Equivalent to: [--JupyterApp.answer_yes=True]\n",
      "--execute\n",
      "    Execute the notebook prior to export.\n",
      "    Equivalent to: [--ExecutePreprocessor.enabled=True]\n",
      "--allow-errors\n",
      "    Continue notebook execution even if one of the cells throws an error and include the error message in the cell output (the default behaviour is to abort conversion). This flag is only relevant if '--execute' was specified, too.\n",
      "    Equivalent to: [--ExecutePreprocessor.allow_errors=True]\n",
      "--stdin\n",
      "    read a single notebook file from stdin. Write the resulting notebook with default basename 'notebook.*'\n",
      "    Equivalent to: [--NbConvertApp.from_stdin=True]\n",
      "--stdout\n",
      "    Write notebook output to stdout instead of files.\n",
      "    Equivalent to: [--NbConvertApp.writer_class=StdoutWriter]\n",
      "--inplace\n",
      "    Run nbconvert in place, overwriting the existing notebook (only \n",
      "    relevant when converting to notebook format)\n",
      "    Equivalent to: [--NbConvertApp.use_output_suffix=False --NbConvertApp.export_format=notebook --FilesWriter.build_directory=]\n",
      "--clear-output\n",
      "    Clear output of current file and save in place, \n",
      "    overwriting the existing notebook.\n",
      "    Equivalent to: [--NbConvertApp.use_output_suffix=False --NbConvertApp.export_format=notebook --FilesWriter.build_directory= --ClearOutputPreprocessor.enabled=True]\n",
      "--no-prompt\n",
      "    Exclude input and output prompts from converted document.\n",
      "    Equivalent to: [--TemplateExporter.exclude_input_prompt=True --TemplateExporter.exclude_output_prompt=True]\n",
      "--no-input\n",
      "    Exclude input cells and output prompts from converted document. \n",
      "    This mode is ideal for generating code-free reports.\n",
      "    Equivalent to: [--TemplateExporter.exclude_output_prompt=True --TemplateExporter.exclude_input=True]\n",
      "--allow-chromium-download\n",
      "    Whether to allow downloading chromium if no suitable version is found on the system.\n",
      "    Equivalent to: [--WebPDFExporter.allow_chromium_download=True]\n",
      "--log-level=<Enum>\n",
      "    Set the log level by value or name.\n",
      "    Choices: any of [0, 10, 20, 30, 40, 50, 'DEBUG', 'INFO', 'WARN', 'ERROR', 'CRITICAL']\n",
      "    Default: 30\n",
      "    Equivalent to: [--Application.log_level]\n",
      "--config=<Unicode>\n",
      "    Full path of a config file.\n",
      "    Default: ''\n",
      "    Equivalent to: [--JupyterApp.config_file]\n",
      "--to=<Unicode>\n",
      "    The export format to be used, either one of the built-in formats\n",
      "    ['asciidoc', 'custom', 'html', 'latex', 'markdown', 'notebook', 'pdf',\n",
      "    'python', 'rst', 'script', 'slides', 'webpdf'] or a dotted object name that\n",
      "    represents the import path for an `Exporter` class\n",
      "    Default: ''\n",
      "    Equivalent to: [--NbConvertApp.export_format]\n",
      "--template=<Unicode>\n",
      "    Name of the template to use\n",
      "    Default: ''\n",
      "    Equivalent to: [--TemplateExporter.template_name]\n",
      "--template-file=<Unicode>\n",
      "    Name of the template file to use\n",
      "    Default: None\n",
      "    Equivalent to: [--TemplateExporter.template_file]\n",
      "--writer=<DottedObjectName>\n",
      "    Writer class used to write the  results of the conversion\n",
      "    Default: 'FilesWriter'\n",
      "    Equivalent to: [--NbConvertApp.writer_class]\n",
      "--post=<DottedOrNone>\n",
      "    PostProcessor class used to write the results of the conversion\n",
      "    Default: ''\n",
      "    Equivalent to: [--NbConvertApp.postprocessor_class]\n",
      "--output=<Unicode>\n",
      "    overwrite base name use for output files. can only be used when converting\n",
      "    one notebook at a time.\n",
      "    Default: ''\n",
      "    Equivalent to: [--NbConvertApp.output_base]\n",
      "--output-dir=<Unicode>\n",
      "    Directory to write output(s) to. Defaults to output to the directory of each\n",
      "    notebook. To recover previous default behaviour (outputting to the current\n",
      "    working directory) use . as the flag value.\n",
      "    Default: ''\n",
      "    Equivalent to: [--FilesWriter.build_directory]\n",
      "--reveal-prefix=<Unicode>\n",
      "    The URL prefix for reveal.js (version 3.x). This defaults to the reveal CDN,\n",
      "    but can be any url pointing to a copy  of reveal.js.\n",
      "    For speaker notes to work, this must be a relative path to a local  copy of\n",
      "    reveal.js: e.g., \"reveal.js\".\n",
      "    If a relative path is given, it must be a subdirectory of the current\n",
      "    directory (from which the server is run).\n",
      "    See the usage documentation\n",
      "    (https://nbconvert.readthedocs.io/en/latest/usage.html#reveal-js-html-\n",
      "    slideshow) for more details.\n",
      "    Default: ''\n",
      "    Equivalent to: [--SlidesExporter.reveal_url_prefix]\n",
      "--nbformat=<Enum>\n",
      "    The nbformat version to write. Use this to downgrade notebooks.\n",
      "    Choices: any of [1, 2, 3, 4]\n",
      "    Default: 4\n",
      "    Equivalent to: [--NotebookExporter.nbformat_version]\n",
      "\n",
      "Examples\n",
      "--------\n",
      "\n",
      "    The simplest way to use nbconvert is\n",
      "    \n",
      "    > jupyter nbconvert mynotebook.ipynb --to html\n",
      "    \n",
      "    Options include ['asciidoc', 'custom', 'html', 'latex', 'markdown', 'notebook', 'pdf', 'python', 'rst', 'script', 'slides', 'webpdf'].\n",
      "    \n",
      "    > jupyter nbconvert --to latex mynotebook.ipynb\n",
      "    \n",
      "    Both HTML and LaTeX support multiple output templates. LaTeX includes\n",
      "    'base', 'article' and 'report'.  HTML includes 'basic' and 'full'. You\n",
      "    can specify the flavor of the format used.\n",
      "    \n",
      "    > jupyter nbconvert --to html --template lab mynotebook.ipynb\n",
      "    \n",
      "    You can also pipe the output to stdout, rather than a file\n",
      "    \n",
      "    > jupyter nbconvert mynotebook.ipynb --stdout\n",
      "    \n",
      "    PDF is generated via latex\n",
      "    \n",
      "    > jupyter nbconvert mynotebook.ipynb --to pdf\n",
      "    \n",
      "    You can get (and serve) a Reveal.js-powered slideshow\n",
      "    \n",
      "    > jupyter nbconvert myslides.ipynb --to slides --post serve\n",
      "    \n",
      "    Multiple notebooks can be given at the command line in a couple of \n",
      "    different ways:\n",
      "    \n",
      "    > jupyter nbconvert notebook*.ipynb\n",
      "    > jupyter nbconvert notebook1.ipynb notebook2.ipynb\n",
      "    \n",
      "    or you can specify the notebooks list in a config file, containing::\n",
      "    \n",
      "        c.NbConvertApp.notebooks = [\"my_notebook.ipynb\"]\n",
      "    \n",
      "    > jupyter nbconvert --config mycfg.py\n",
      "\n",
      "To see all available configurables, use `--help-all`.\n",
      "\n"
     ]
    }
   ],
   "source": [
    "BASE_FOLDER = \"./Documents/Maestría/DeepLearning\"\n",
    "name_IPYNB_file = 'Copia de 07MIARG39_proyecto_programacion_Parte_2.ipynb'\n",
    "get_ipython().system(\n",
    "        \"apt update >> /dev/null && apt install texlive-xetex texlive-fonts-recommended texlive-generic-recommended >> /dev/null\"\n",
    "    )\n",
    "get_ipython().system(\n",
    "            \"jupyter nbconvert --output-dir='$BASE_FOLDER' '$BASE_FOLDER''$name_IPYNB_file' --to pdf\"\n",
    "        )\n",
    "\n"
   ]
  },
  {
   "cell_type": "code",
   "execution_count": null,
   "metadata": {},
   "outputs": [],
   "source": []
  }
 ],
 "metadata": {
  "colab": {
   "name": "Copia de 07MIARG39_proyecto_programacion_Parte_2.ipynb",
   "provenance": [
    {
     "file_id": "1DNvKeJ0KZkiGAiTfrz93mJfsMGOj4CoC",
     "timestamp": 1653240306060
    }
   ]
  },
  "kernelspec": {
   "display_name": "Python 3",
   "language": "python",
   "name": "python3"
  },
  "language_info": {
   "codemirror_mode": {
    "name": "ipython",
    "version": 3
   },
   "file_extension": ".py",
   "mimetype": "text/x-python",
   "name": "python",
   "nbconvert_exporter": "python",
   "pygments_lexer": "ipython3",
   "version": "3.8.8"
  }
 },
 "nbformat": 4,
 "nbformat_minor": 1
}
