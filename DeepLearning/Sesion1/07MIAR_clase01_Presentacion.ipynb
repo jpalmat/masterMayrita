{
 "cells": [
  {
   "cell_type": "markdown",
   "metadata": {
    "colab_type": "text",
    "id": "iCFnUanFwIBz",
    "slideshow": {
     "slide_type": "slide"
    }
   },
   "source": [
    "<img src=\"img/viu_logo.png\" width=\"200\">\n",
    "\n",
    "# 07MAIR - Redes Neuronales y Deep Learning\n",
    "## Clase 01a: Presentación de la asignatura\n",
    "<img src=\"img/keras_logo.jpg\" width=\"200\">\n",
    "\n",
    "### Profesor: Adrián Colomer Granero"
   ]
  },
  {
   "cell_type": "markdown",
   "metadata": {
    "colab_type": "text",
    "id": "xojCTM4gwIB0",
    "slideshow": {
     "slide_type": "slide"
    }
   },
   "source": [
    "## Sumario\n",
    "- Estructura de la asignatura\n",
    "- Contenidos y objetivos\n",
    "- Evaluación\n"
   ]
  },
  {
   "cell_type": "markdown",
   "metadata": {
    "colab_type": "text",
    "id": "R_a61ucnwIB2",
    "slideshow": {
     "slide_type": "slide"
    }
   },
   "source": [
    "## Contenidos\n",
    "- Fundamentos de Redes neuronales: Perceptrón simple y perceptrón multicapa, Descenso por gradiente en redes neuronales, Algoritmo de backpropagation.\n",
    "\n",
    "- Deep learning: Descripción de tipos de capas y su aplicabilidad, Ejemplos de arquitecturas, Regularización, Optimización de hiperparámetros.\n",
    "\n",
    "- Aplicación de las Redes Neuronales y Deep Learning a la resolución de tareas de IA: Clasificación de imágenes, detección de objetos y segmentación (Redes Neuronales Convolucionales), Texto y secuencias (Redes Neuronales Recurrentes con unidades LSTM y GRU), Introducción a Keras y TensorFlow.\n",
    "\n",
    "- Aprendizaje generativo: Autoencoders, Autoencoders variacionales y Generative Adversarial Networks (GANs).\n",
    "\n",
    "- Deep Learning en producción: Implantación y gestión del ciclo de vida de modelos basados en aprendizaje profundo. Introducción al paquete MLflow.\n"
   ]
  },
  {
   "cell_type": "markdown",
   "metadata": {
    "colab_type": "text",
    "id": "CskYInImwIB4",
    "slideshow": {
     "slide_type": "slide"
    }
   },
   "source": [
    "## Uso de Jupyter/Colab notebooks\n",
    "- Presentaciones, ejercicios, actividades prácticas __la mayoría__ en Notebooks (Jupyter/Colab)\n",
    "- Facilita la colaboración y la presentación interactiva de código\n",
    "- En la terminal: __jupyter notebook__\n",
    "- Archivos _.ipynb_\n",
    "- Documentación https://jupyter.readthedocs.io/en/latest/\n",
    "- Guía inicio Colab: https://colab.research.google.com/notebooks/intro.ipynb#"
   ]
  },
  {
   "cell_type": "markdown",
   "metadata": {
    "colab_type": "text",
    "id": "UNimgG-6wIB4",
    "slideshow": {
     "slide_type": "subslide"
    }
   },
   "source": [
    "# Recursos de la asignatura\n",
    "- En el aula virtual\n",
    " - Manual de la asignatura, e-learning y vídeos \n",
    " - Jupyter/Colab notebooks de las clases\n",
    " - Papers, código adicional, etc.\n",
    " - Actividades (descripción y entregas)"
   ]
  },
  {
   "cell_type": "markdown",
   "metadata": {
    "colab_type": "text",
    "id": "mn0t4iykwIB5",
    "slideshow": {
     "slide_type": "fragment"
    }
   },
   "source": [
    "- Documentación oficial \n",
    " - TensorFlow 1.x/2.x: https://www.tensorflow.org/api_docs\n",
    " - Keras: https://keras.io/\n"
   ]
  },
  {
   "cell_type": "markdown",
   "metadata": {
    "colab_type": "text",
    "id": "tJ1Nx7LVwIB6",
    "slideshow": {
     "slide_type": "slide"
    }
   },
   "source": [
    "- Bibliografía recomendada\n",
    "<img src=\"img/goodfellow_book.jfif\" width=\"300\">\n",
    "<img src=\"img/chollet_book.jpg\" width=\"300\">"
   ]
  }
 ],
 "metadata": {
  "celltoolbar": "Slideshow",
  "colab": {
   "name": "07MAIR_clase01_Presentacion.ipynb",
   "provenance": []
  },
  "kernelspec": {
   "display_name": "Python 3",
   "language": "python",
   "name": "python3"
  },
  "language_info": {
   "codemirror_mode": {
    "name": "ipython",
    "version": 3
   },
   "file_extension": ".py",
   "mimetype": "text/x-python",
   "name": "python",
   "nbconvert_exporter": "python",
   "pygments_lexer": "ipython3",
   "version": "3.7.3"
  }
 },
 "nbformat": 4,
 "nbformat_minor": 1
}
