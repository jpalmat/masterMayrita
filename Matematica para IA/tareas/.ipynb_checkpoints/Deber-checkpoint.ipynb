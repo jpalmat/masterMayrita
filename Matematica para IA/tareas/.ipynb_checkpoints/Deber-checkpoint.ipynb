{
 "cells": [
  {
   "cell_type": "markdown",
   "id": "a8c36c98-e613-4004-a8e8-dd6aa7279b97",
   "metadata": {},
   "source": [
    "## 1. "
   ]
  },
  {
   "cell_type": "code",
   "execution_count": 1,
   "id": "41d9f585-943e-4c10-b126-806f983f97df",
   "metadata": {},
   "outputs": [],
   "source": [
    "#Validar si es conjunto si repetidos\n",
    "def checkset(A):\n",
    "    if len([x for x in A if A.count(x) >= 2]):\n",
    "        return False\n",
    "    else:\n",
    "        return True"
   ]
  },
  {
   "cell_type": "markdown",
   "id": "fcea485a-9d32-4732-9135-cab0403b05c5",
   "metadata": {},
   "source": [
    "b) intersect(A,B), que devuelva como salida el conjunto A ∩ B."
   ]
  },
  {
   "cell_type": "code",
   "execution_count": 2,
   "id": "11f18542-ed6a-4ac5-aedb-b98f9f3b07eb",
   "metadata": {},
   "outputs": [
    {
     "name": "stdout",
     "output_type": "stream",
     "text": [
      "[0, 1, 7]\n"
     ]
    }
   ],
   "source": [
    "#Interseccion\n",
    "def intersect(A,B):\n",
    "    if checkset(A) and checkset(B):\n",
    "        return [i for i in A if i in B ] \n",
    "\n",
    "A = [0,1,10,5,8,60,23,7]\n",
    "B = [7,1,3,11,0]\n",
    " \n",
    "print(intersect(A,B))\n"
   ]
  },
  {
   "cell_type": "markdown",
   "id": "6e769d50-8bae-4866-91a9-d50af6cd2a80",
   "metadata": {},
   "source": [
    "c) union(A,B), que devuelva como salida el conjunto A ∪ B."
   ]
  },
  {
   "cell_type": "code",
   "execution_count": 3,
   "id": "743e533b-dc7b-4d39-a8e8-6b0572713969",
   "metadata": {},
   "outputs": [
    {
     "name": "stdout",
     "output_type": "stream",
     "text": [
      "Union: [0, 2, 6, 8, 9, 22, 25, 33, 48, 80, 120]\n"
     ]
    }
   ],
   "source": [
    "def union(A,B):\n",
    "\n",
    "    result = A + [i for i in B if i not in A]\n",
    "    result.sort()\n",
    "    return result\n",
    "\n",
    "A = [0,8,6,33,9,120,80,25]\n",
    "B = [2, 48,6,0,22]\n",
    "\n",
    "print(\"Union:\", union(A,B))"
   ]
  },
  {
   "cell_type": "markdown",
   "id": "395a916d-e843-47b1-834d-96b1f8bf95b1",
   "metadata": {},
   "source": [
    "d) complement(A,B), que devuelva como salida el conjunto B \\ A."
   ]
  },
  {
   "cell_type": "code",
   "execution_count": 4,
   "id": "4a623b68-c1f6-45b1-a0b8-7e4c0b986aa5",
   "metadata": {},
   "outputs": [
    {
     "name": "stdout",
     "output_type": "stream",
     "text": [
      "Complemento: [9, 100, 102]\n"
     ]
    }
   ],
   "source": [
    "#complemento\n",
    "def complement (A,B):\n",
    "    if checkset(A) and checkset(B):\n",
    "        return [i for i in B if i not in A ] \n",
    "            \n",
    "A = [1,2,3,0,33,21]\n",
    "B = [3,2,9,100,102]\n",
    "\n",
    "print(\"Complemento:\",complement(A,B))"
   ]
  },
  {
   "cell_type": "markdown",
   "id": "83847cf4-5ee9-4642-9062-ff9ab03364c2",
   "metadata": {},
   "source": [
    "e) subset(A,B), que verifique si A ⊆ B, devolviendo un booleano"
   ]
  },
  {
   "cell_type": "code",
   "execution_count": 5,
   "id": "24b66e0d-2327-4645-a549-7d376016fed7",
   "metadata": {},
   "outputs": [
    {
     "name": "stdout",
     "output_type": "stream",
     "text": [
      "Subconjunto: True\n"
     ]
    }
   ],
   "source": [
    "#verificar subconjunto\n",
    "def subset(A,B):\n",
    "    return all([True if i in B else False for i in A])\n",
    "    \n",
    "lista_a = [2,4,6,8,10] #conjunto de pares\n",
    "lista_b = [1,2,3,4,5,6,7,8,10] #conjunto de numeros naturales\n",
    "\n",
    "print(\"Subconjunto:\",subset(lista_a, lista_b))"
   ]
  },
  {
   "cell_type": "markdown",
   "id": "4bfbf20a-425a-4568-9661-50f7f4424827",
   "metadata": {},
   "source": [
    "f ) condition1(A), que verifique si ∀a ∈ A, ∃a′ ∈ A tal que a′ = −a, devolviendo un booleano\n"
   ]
  },
  {
   "cell_type": "code",
   "execution_count": 7,
   "id": "b90e069e-859a-4016-ba20-c79f1873eed8",
   "metadata": {},
   "outputs": [
    {
     "name": "stdout",
     "output_type": "stream",
     "text": [
      "Condicion 1: True\n"
     ]
    }
   ],
   "source": [
    "#ejercicio 1 apartado f \"∀a ∈ A, ∃a′ ∈ A tal que a′ = −a\"\n",
    "def condition1 (A):\n",
    "     if checkset(A):\n",
    "        return all([True if -i in A else False for i in A])\n",
    "     else:\n",
    "        return 'No es un conjunto'\n",
    "    \n",
    "A=[1,-2,2,-1,3,-3,5,6,-6,-5]\n",
    "print(\"Condicion 1:\",condition1(A))"
   ]
  },
  {
   "cell_type": "markdown",
   "id": "f3ccee63-ad47-4097-981b-4f574b55abd3",
   "metadata": {},
   "source": [
    "g) condition2(A,B), que devuelva como salida un booleano que indique si se cumple la condicion ∀a ∈ A, ∃b ∈ B tal que a = b2"
   ]
  },
  {
   "cell_type": "code",
   "execution_count": 15,
   "id": "3374e94b-521d-44d3-b024-b6035c1fb2d8",
   "metadata": {},
   "outputs": [
    {
     "name": "stdout",
     "output_type": "stream",
     "text": [
      "Condicion 2: False\n"
     ]
    }
   ],
   "source": [
    "#ejercicio 1 apartado g \"∀a ∈ A, ∃b ∈ B tal que a = b2\"\n",
    "def condition2(A,B):\n",
    "    if checkset(A) and checkset(B):\n",
    "        return all([True if i*i in B else False for i in A])\n",
    "    else:\n",
    "        return 'No es un conjunto'\n",
    "    \n",
    "A= [4,2,8]\n",
    "B=[16,4,64,90,6,79]\n",
    "print(\"Condicion 2:\",condition2(A,B))"
   ]
  },
  {
   "cell_type": "markdown",
   "id": "85be78dd-8dc5-477e-82b6-314521d4fe3e",
   "metadata": {},
   "source": [
    "h) condition3(A,B), que devuelva como salida un booleano que indique si se cumple la condicion ∃b ∈ B tal que ∀a ∈ A, a = b2"
   ]
  },
  {
   "cell_type": "code",
   "execution_count": 19,
   "id": "9ebeddb5-fad9-4a86-9b4f-ff56579154d0",
   "metadata": {},
   "outputs": [
    {
     "name": "stdout",
     "output_type": "stream",
     "text": [
      "Condicion 3: True\n"
     ]
    }
   ],
   "source": [
    "#ejercicio 1 apartado h \"∃b ∈ B tal que ∀a ∈ A, a = b2\"\n",
    "def condition3(A,B):\n",
    "    if checkset(A) and checkset(B):\n",
    "        return any([True if i*i in A else False for i in B])\n",
    "    else:\n",
    "        return 'No es un conjunto'\n",
    "\n",
    "A=[16,4,64]\n",
    "B=[2,12,40,6,7,10,0]\n",
    "\n",
    "print(\"Condicion 3:\",condition3(A,B))"
   ]
  },
  {
   "cell_type": "markdown",
   "id": "96a61326-7f2a-49a2-bf99-1794a90def84",
   "metadata": {},
   "source": [
    "## 2"
   ]
  },
  {
   "cell_type": "code",
   "execution_count": 24,
   "id": "1b1c51b3-f2ad-4df7-b431-c3a405bf7430",
   "metadata": {},
   "outputs": [
    {
     "name": "stdout",
     "output_type": "stream",
     "text": [
      "[[2.82842712 0.         0.        ]\n",
      " [0.         0.         0.        ]\n",
      " [0.         0.         1.41421356]]\n",
      "[[3.46410162 0.         0.        ]\n",
      " [0.         0.         0.        ]\n",
      " [0.         0.         1.73205081]]\n",
      "[[4. 0. 0.]\n",
      " [0. 0. 0.]\n",
      " [0. 0. 2.]]\n",
      "[[4.47213595 0.         0.        ]\n",
      " [0.         0.         0.        ]\n",
      " [0.         0.         2.23606798]]\n",
      "[[4.89897949 0.         0.        ]\n",
      " [0.         0.         0.        ]\n",
      " [0.         0.         2.44948974]]\n",
      "[[5.29150262 0.         0.        ]\n",
      " [0.         0.         0.        ]\n",
      " [0.         0.         2.64575131]]\n",
      "[[5.65685425 0.         0.        ]\n",
      " [0.         0.         0.        ]\n",
      " [0.         0.         2.82842712]]\n",
      "[[6. 0. 0.]\n",
      " [0. 0. 0.]\n",
      " [0. 0. 3.]]\n"
     ]
    }
   ],
   "source": [
    "import numpy as np\n",
    "\n",
    "def diagonalizable(matrip):\n",
    "    evalue, evect = np.linalg.eig(matrip)\n",
    "    A = np.round(evalue, decimals=1)\n",
    "    return A\n",
    "\n",
    "def obtenermatricesb(n, A):\n",
    "    return [np.sqrt(x * A) for x in range(2,(2**n)+2)]\n",
    "\n",
    "matrim = np.array([[3,-3,2],[-4,4,-4],[-3,3,-2]])\n",
    "result = diagonalizable(matrim)\n",
    "ident = np.eye(3)  \n",
    "resultmxide = result*ident\n",
    "\n",
    "for matriz  in obtenermatricesb(3,resultmxide):\n",
    "    print (matriz)"
   ]
  },
  {
   "cell_type": "markdown",
   "id": "2adebbd1-7d24-47c9-b59d-8eba04698747",
   "metadata": {},
   "source": [
    "## 3"
   ]
  },
  {
   "cell_type": "code",
   "execution_count": 25,
   "id": "16a1c2b0-c285-4801-9254-7dab958e3913",
   "metadata": {},
   "outputs": [],
   "source": [
    "import numpy as np\n",
    "import matplotlib.pyplot as plt\n",
    "\n",
    "def f2(x, y):\n",
    "    return x**2 + y**2 - x*y + 2*y + 1\n",
    "\n",
    "## Función parcial (Derivada)\n",
    "def hx(x, y):\n",
    "    return 2*x - y\n",
    "def hy(x, y):\n",
    "    return 2*y - x + 2\n",
    " \n",
    "x = 3\n",
    "y = 4\n",
    "ratio = 0.01\n",
    "\n",
    "#Guarda los puntos pasados por el descenso del gradiente\n",
    "GD_X = [x]\n",
    "GD_Y = [y]\n",
    "GD_XY = [f2(x,y)]\n",
    "\n",
    "# Definir el cambio de y y el número de iteraciones\n",
    "y_change = f2(x,y)\n",
    "iteraciones = 1\n",
    "tolerancia = 1e-12\n",
    "maxit = 1e5"
   ]
  },
  {
   "cell_type": "code",
   "execution_count": 26,
   "id": "00597185-6c24-4945-8446-81bcd5b92aa1",
   "metadata": {},
   "outputs": [
    {
     "name": "stdout",
     "output_type": "stream",
     "text": [
      "Punto extremo:  (-0.6666666666666594, -1.3333333333333242)\n",
      "Extremo:  -0.33333333333333326\n"
     ]
    },
    {
     "data": {
      "image/png": "[encoded data removed]",
      "text/plain": [
       "<Figure size 432x288 with 1 Axes>"
      ]
     },
     "metadata": {
      "needs_background": "light"
     },
     "output_type": "display_data"
    }
   ],
   "source": [
    "# def descenso_gradiente(tolerancia, maxit, x, y, ratio):\n",
    "while(y_change > tolerancia and iteraciones < maxit) :\n",
    "    tmp_x = x - ratio * hx(x, y)\n",
    "    tmp_y = y - ratio * hy(x, y)\n",
    "    tmp_xy = f2(tmp_x,tmp_y)\n",
    "\n",
    "    f_change = np.absolute(tmp_xy - f2(x,y))\n",
    "    x = tmp_x\n",
    "    y = tmp_y\n",
    "    GD_X.append(x)\n",
    "    GD_Y.append(y)\n",
    "    GD_XY.append(tmp_xy)\n",
    "    iteraciones += 1\n",
    "    \n",
    "print(\"Punto extremo: \" ,(x, y))\n",
    "print(\"Extremo: \" ,f2(x,y))\n",
    "\n",
    "plt.plot(GD_X, GD_Y)\n",
    "plt.show()"
   ]
  },
  {
   "cell_type": "markdown",
   "id": "5de6f948-ebd6-49cb-8e1a-bffcb702f3b4",
   "metadata": {},
   "source": [
    "### 4"
   ]
  },
  {
   "cell_type": "code",
   "execution_count": 1,
   "id": "a51afb1c-15e6-448d-b985-da9f68c04843",
   "metadata": {},
   "outputs": [
    {
     "name": "stdout",
     "output_type": "stream",
     "text": [
      "3.1413\n"
     ]
    }
   ],
   "source": [
    "import numpy as np\n",
    "n_puntos = 1000000\n",
    "value = 0\n",
    "\n",
    "x = np.random.uniform(0,1,n_puntos).tolist()\n",
    "y = np.random.uniform(0,1,n_puntos).tolist()\n",
    "\n",
    "for j in range(n_puntos):\n",
    "    z = np.sqrt(x[j] * x[j] + y[j] * y[j])\n",
    "    if z <= 1:\n",
    "        value += 1\n",
    "\n",
    "pi_value = float(value) * 4 / n_puntos\n",
    "\n",
    "print(np.round(pi_value,decimals=4))"
   ]
  },
  {
   "cell_type": "code",
   "execution_count": 5,
   "id": "d21bfe2d-518a-4f2a-a3a0-e21c6ec1ddd2",
   "metadata": {},
   "outputs": [
    {
     "name": "stdout",
     "output_type": "stream",
     "text": [
      "El numero de veces que el punto quedo afuera del circulo fueron  0\n",
      "El numero de veces que el punto quedo dentro del circulo fueron  4\n"
     ]
    },
    {
     "data": {
      "image/png": "[encoded data removed]",
      "text/plain": [
       "<Figure size 432x288 with 1 Axes>"
      ]
     },
     "metadata": {
      "needs_background": "light"
     },
     "output_type": "display_data"
    }
   ],
   "source": [
    "import random\n",
    "import numpy as np\n",
    "import matplotlib.pyplot as plt\n",
    "\n",
    "def simulations(n):\n",
    "\n",
    "    count_inside, count_outside = 0, 0\n",
    "    circle = plt.Circle((0,0),radius=6, color=\"purple\")\n",
    "    ax = plt.gca()\n",
    "    ax.add_patch(circle)\n",
    "    plt.axis(\"auto\")\n",
    "    plt.show\n",
    "\n",
    "\n",
    "    for i in range(0,n):\n",
    "        x, y = random.randint(-4,6), random.randint(-4,6)\n",
    "        point = plt.Circle((x,y),radius=0.1, color=\"black\")\n",
    "        ax.add_patch(point)\n",
    "        if ((x == -6 and y == 1) or \n",
    "            (x == 6 and y == 6) or \n",
    "            (x == 6 and x == -3) or \n",
    "            (x == 3 and y == 6) or \n",
    "            (x == 4 and y == 6) or \n",
    "            (x == 6 and y == 2) or \n",
    "            (x == 5 and y == -4) or \n",
    "            (x == 6 and y == 4) or \n",
    "            (x == 6 and y == -3) or \n",
    "            (x == 5 and y == 6) or \n",
    "            (x == 4 and y == 5) or \n",
    "            (x == 6 and y == 3) or \n",
    "            (x == 6 and y == 5) or \n",
    "            (x == -4 and y == 6) or \n",
    "            (x == 5 and y == 4) or \n",
    "            (x == -3 and y == 6) or \n",
    "            (x == -1 and y == 6)):\n",
    "            \n",
    "            count_outside+=1\n",
    "        else:\n",
    "            count_inside+=1\n",
    "    print(\"El numero de veces que el punto quedo afuera del circulo fueron \", count_outside)\n",
    "    print(\"El numero de veces que el punto quedo dentro del circulo fueron \", count_inside)\n",
    "\n",
    "\n",
    "simulations(4) \n"
   ]
  },
  {
   "cell_type": "markdown",
   "id": "fe1e507f-4a9c-471c-bb05-3bea4cb74dbd",
   "metadata": {},
   "source": [
    "## 5"
   ]
  },
  {
   "cell_type": "code",
   "execution_count": null,
   "id": "9c5381a8-4069-41ef-b359-6b9232f303b3",
   "metadata": {},
   "outputs": [],
   "source": [
    "#Importaciones\n",
    "from random import random\n",
    "from math import cos,sin,pi"
   ]
  },
  {
   "cell_type": "code",
   "execution_count": null,
   "id": "8882a8dd-38a5-4724-b64c-0a7f5a2c2a9b",
   "metadata": {},
   "outputs": [],
   "source": [
    "# a) Simplifıquese el problema a uno equivalente sobre un espacio acotado.\n",
    "N= 29\n",
    "A= 12\n",
    "valor_pi = 2*N / A\n",
    "\n",
    "print (valor_pi)"
   ]
  },
  {
   "cell_type": "code",
   "execution_count": null,
   "id": "588f6952-1523-4132-962a-a615434ce0e5",
   "metadata": {},
   "outputs": [],
   "source": [
    "# b) Pruebese que la probabilidad de interseccion es p =2l/πt\n",
    "from scipy import integrate\n",
    "import math\n",
    "\n",
    "l = random()\n",
    "w = random()\n",
    "a = w\n",
    "c= 0\n",
    "b = pi/2\n",
    "e = math.sin(w)\n",
    "d = (l/2)*e\n",
    "t = random()\n",
    "\n",
    "def f(x, w):\n",
    "    return 4/(t*pi)\n",
    "\n",
    "def bounds_w():\n",
    "    return [a, b]\n",
    "\n",
    "def bounds_x(w):\n",
    "    return [c, d]\n",
    "\n",
    "integrate.nquad(f, [bounds_x, bounds_w])"
   ]
  },
  {
   "cell_type": "code",
   "execution_count": null,
   "id": "85a64713-bb2a-4618-b1c8-94429255c198",
   "metadata": {},
   "outputs": [],
   "source": [
    "# c) Implementese una funcion en Python que simule el experimento, con parametros de entrada t, l y n (este ultimo representando el numero de simulaciones), y devolviendo la proporcion de veces en las que hay interseccion entre el segmento y una recta.\n",
    "\n",
    "def corta(l=1,d=1):\n",
    "    #válido únicamente si l <= d\n",
    "    x = d*random()\n",
    "    #Un poco anticlimático tener que usar pi\n",
    "    y = l*cos(pi/2*random())\n",
    "    if y>x:\n",
    "        return True\n",
    "    else:\n",
    "        return False\n",
    "\n",
    "intentos = 29\n",
    "intersecciones = 12\n",
    "N = 0\n",
    "C = 0\n",
    "L=random()\n",
    "D=random()\n",
    "\n",
    "\n",
    "# print (f\"10000 lanzamientos), L = {L}, D = {D}\")\n",
    "\n",
    "while N < intentos:\n",
    "    N+=1\n",
    "    if corta(L,D):\n",
    "        C+=1\n",
    "        \n",
    "print (f\"La proporcion de interseccion es {C/N}\")"
   ]
  },
  {
   "cell_type": "code",
   "execution_count": null,
   "id": "1cc660ad-f9b1-4301-940f-31ba70e77074",
   "metadata": {},
   "outputs": [],
   "source": [
    "# c) Implementese una funcion en Python que simule el experimento, con parametros de entrada t, l y n (este ultimo representando el numero de simulaciones), y devolviendo la proporcion de veces en las que hay interseccion entre el segmento y una recta.\n",
    "\n",
    "import random\n",
    "\n",
    "def interseccion():\n",
    "\n",
    "    N = 29\n",
    "    A = 12\n",
    "    L = random()\n",
    "    D = random()\n",
    "\n",
    "        \n",
    "print (f\"La proporcion de interseccion es del: {((2*L)/(pi*D))*100} %\")\n",
    "\n",
    "print (f\"pi calculado: {(2*intentos*L)/(intersecciones*D)} vs valor real de pi= 3.14\")\n"
   ]
  },
  {
   "cell_type": "code",
   "execution_count": null,
   "id": "188b2613-8b7a-4002-8483-f706a0cd2d97",
   "metadata": {},
   "outputs": [],
   "source": [
    "# d) Comparense los resultados obtenidos con la probabilidad teorica para diferentes valores de n y utilıcense para obtener estimaciones de π\n",
    "\n",
    "from random import random\n",
    "from math import cos,pi\n",
    "\n",
    "def corta(l=1,d=1):\n",
    "    #válido únicamente si l <= d\n",
    "    x = d*random()\n",
    "    #Un poco anticlimático tener que usar pi\n",
    "    y = l*cos(pi/2*random())\n",
    "    if y>x:\n",
    "        return True\n",
    "    else:\n",
    "        return False\n",
    "\n",
    "intentos = 10000\n",
    "N = 0\n",
    "C = 0\n",
    "L=0.25\n",
    "D=0.75\n",
    "\n",
    "while N < intentos:\n",
    "    N+=1\n",
    "    if corta(L,D):\n",
    "        C+=1\n",
    "        \n",
    "print (f\"pi calculado = {(2.0*L*N)/(D*C)} vs (pi = 3.14159...)\") "
   ]
  },
  {
   "cell_type": "code",
   "execution_count": null,
   "id": "869dcae0-162f-4c18-8a9b-e26338015de8",
   "metadata": {},
   "outputs": [],
   "source": [
    "longitud= random()\n",
    "espacio= random()\n",
    "cortan= 12\n",
    "agujas_total= 29\n",
    "\n",
    "def probabilidad():\n",
    "    \n",
    "    return (2*longitud*(2-longitud))/pi\n",
    "    \n",
    "print((2*longitud*(2-longitud))/pi)\n",
    "print((2*longitud)/(pi*espacio))\n",
    "print(cortan/agujas_total)\n",
    "print((agujas_total*2*longitud*(2-longitud))/cortan)"
   ]
  },
  {
   "cell_type": "code",
   "execution_count": null,
   "id": "0b697a19-a421-4776-904b-e26bbb215933",
   "metadata": {},
   "outputs": [],
   "source": []
  }
 ],
 "metadata": {
  "kernelspec": {
   "display_name": "Python 3",
   "language": "python",
   "name": "python3"
  },
  "language_info": {
   "codemirror_mode": {
    "name": "ipython",
    "version": 3
   },
   "file_extension": ".py",
   "mimetype": "text/x-python",
   "name": "python",
   "nbconvert_exporter": "python",
   "pygments_lexer": "ipython3",
   "version": "3.8.8"
  }
 },
 "nbformat": 4,
 "nbformat_minor": 5
}
