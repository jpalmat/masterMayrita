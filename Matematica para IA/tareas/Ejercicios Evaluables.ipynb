{
 "cells": [
  {
   "cell_type": "markdown",
   "id": "bc5ae29f-61b7-4486-ab72-b0ffb9969125",
   "metadata": {},
   "source": [
    "<img src=\"res/viu_logo.png\" width=\"200\">\n",
    "\n",
    "## 01MIAR - Ejercicios Evaluables\n",
    "### Nombre: Mayra Pullupaxi"
   ]
  },
  {
   "cell_type": "markdown",
   "id": "a8c36c98-e613-4004-a8e8-dd6aa7279b97",
   "metadata": {},
   "source": [
    "### 1. Elabórese las funciones siguientes en Python:"
   ]
  },
  {
   "cell_type": "markdown",
   "id": "32ad9c34-2184-4f27-bfbc-ad6e9fd486c6",
   "metadata": {},
   "source": [
    "a) checkset(A), que determine si un vector representa realmente un conjunto numérico finito (es decir, que no tenga elementos repetidos), devolviendo FALSE en caso de que no sea un conjunto y TRUE en caso de que lo sea. Todos los demás programas de los apartados siguientes con conjuntos como inputs deberían hacer la comprobación utilizando esta función."
   ]
  },
  {
   "cell_type": "code",
   "execution_count": 1,
   "id": "41d9f585-943e-4c10-b126-806f983f97df",
   "metadata": {},
   "outputs": [
    {
     "name": "stdout",
     "output_type": "stream",
     "text": [
      "False\n"
     ]
    }
   ],
   "source": [
    "def checkset(A):\n",
    "    if len([i for i in A if A.count(i) >= 2]):\n",
    "        return False\n",
    "    else:\n",
    "        return True\n",
    "    \n",
    "conjA = [0,1,2,2,3,4,5]\n",
    "print(checkset(conjA))"
   ]
  },
  {
   "cell_type": "markdown",
   "id": "fcea485a-9d32-4732-9135-cab0403b05c5",
   "metadata": {},
   "source": [
    "b) intersect(A,B), que devuelva como salida el conjunto A ∩ B."
   ]
  },
  {
   "cell_type": "code",
   "execution_count": 2,
   "id": "11f18542-ed6a-4ac5-aedb-b98f9f3b07eb",
   "metadata": {},
   "outputs": [
    {
     "name": "stdout",
     "output_type": "stream",
     "text": [
      "[0, 1, 3, 5, 7]\n"
     ]
    }
   ],
   "source": [
    "def intersect(A,B):\n",
    "    if checkset(A) and checkset(B):\n",
    "        return [i for i in A if i in B ] \n",
    "\n",
    "conjA = [0,1,2,3,4,5,6,7,8]\n",
    "conjB = [0,1,3,5,7]\n",
    " \n",
    "print(intersect(conjA, conjB))"
   ]
  },
  {
   "cell_type": "markdown",
   "id": "6e769d50-8bae-4866-91a9-d50af6cd2a80",
   "metadata": {},
   "source": [
    "c) union(A,B), que devuelva como salida el conjunto A ∪ B."
   ]
  },
  {
   "cell_type": "code",
   "execution_count": 3,
   "id": "743e533b-dc7b-4d39-a8e8-6b0572713969",
   "metadata": {},
   "outputs": [
    {
     "name": "stdout",
     "output_type": "stream",
     "text": [
      "[0, 1, 2, 3, 4, 5, 6, 7, 8]\n"
     ]
    }
   ],
   "source": [
    "def union(A,B):\n",
    "    if checkset(A) and checkset(B):\n",
    "        result = A + [i for i in B if i not in A]\n",
    "        result.sort()\n",
    "        return result\n",
    "\n",
    "conjA = [0,1,2,3,4,5,6,7,8]\n",
    "conjB = [0,1,3,5,7]\n",
    "\n",
    "print(union(conjA, conjB))"
   ]
  },
  {
   "cell_type": "markdown",
   "id": "395a916d-e843-47b1-834d-96b1f8bf95b1",
   "metadata": {},
   "source": [
    "d) complement(A,B), que devuelva como salida el conjunto B \\ A."
   ]
  },
  {
   "cell_type": "code",
   "execution_count": 4,
   "id": "4a623b68-c1f6-45b1-a0b8-7e4c0b986aa5",
   "metadata": {},
   "outputs": [
    {
     "name": "stdout",
     "output_type": "stream",
     "text": [
      "[2, 9]\n"
     ]
    }
   ],
   "source": [
    "def complement (A,B):\n",
    "    if checkset(A) and checkset(B):\n",
    "        return [i for i in B if i not in A] \n",
    "            \n",
    "conjA = [0,1,3,4,5,6,7,8]\n",
    "conjB = [0,1,2,3,5,7,9]\n",
    "\n",
    "print(complement(conjA, conjB))"
   ]
  },
  {
   "cell_type": "markdown",
   "id": "83847cf4-5ee9-4642-9062-ff9ab03364c2",
   "metadata": {},
   "source": [
    "e) subset(A,B), que verifique si A ⊆ B, devolviendo un booleano"
   ]
  },
  {
   "cell_type": "code",
   "execution_count": 5,
   "id": "24b66e0d-2327-4645-a549-7d376016fed7",
   "metadata": {},
   "outputs": [
    {
     "name": "stdout",
     "output_type": "stream",
     "text": [
      "True\n"
     ]
    }
   ],
   "source": [
    "def subset(A,B):\n",
    "    return all([True if i in B else False for i in A])\n",
    "    \n",
    "conjA = [0,1,3,5]\n",
    "conjB = [0,1,2,3,5,7,9]\n",
    "\n",
    "print(subset(conjA, conjB))"
   ]
  },
  {
   "cell_type": "markdown",
   "id": "4bfbf20a-425a-4568-9661-50f7f4424827",
   "metadata": {},
   "source": [
    "f ) condition1(A), que verifique si ∀a ∈ A, ∃a′ ∈ A tal que a′ = −a, devolviendo un booleano\n"
   ]
  },
  {
   "cell_type": "code",
   "execution_count": 6,
   "id": "b90e069e-859a-4016-ba20-c79f1873eed8",
   "metadata": {},
   "outputs": [
    {
     "name": "stdout",
     "output_type": "stream",
     "text": [
      "True\n"
     ]
    }
   ],
   "source": [
    "def condition1 (A):\n",
    "     if checkset(A):\n",
    "        return all([True if -i in A else False for i in A])\n",
    "     else:\n",
    "        return 'No es un conjunto'\n",
    "    \n",
    "conjA = [1,-2,2,-1,3,-3,5,6,-6,-5]\n",
    "print(condition1(conjA))"
   ]
  },
  {
   "cell_type": "markdown",
   "id": "f3ccee63-ad47-4097-981b-4f574b55abd3",
   "metadata": {},
   "source": [
    "g) condition2(A,B), que devuelva como salida un booleano que indique si se cumple la condicion ∀a ∈ A, ∃b ∈ B tal que a = b2"
   ]
  },
  {
   "cell_type": "code",
   "execution_count": 7,
   "id": "3374e94b-521d-44d3-b024-b6035c1fb2d8",
   "metadata": {},
   "outputs": [
    {
     "name": "stdout",
     "output_type": "stream",
     "text": [
      "True\n"
     ]
    }
   ],
   "source": [
    "def condition2(A,B):\n",
    "    if checkset(A) and checkset(B):\n",
    "        return all([True if i*i in B else False for i in A])\n",
    "    else:\n",
    "        return 'No es un conjunto'\n",
    "    \n",
    "conjA = [2,4,6]\n",
    "conjB = [4,5,6,16,20,25,36]\n",
    "\n",
    "print(condition2(conjA, conjB))"
   ]
  },
  {
   "cell_type": "markdown",
   "id": "85be78dd-8dc5-477e-82b6-314521d4fe3e",
   "metadata": {},
   "source": [
    "h) condition3(A,B), que devuelva como salida un booleano que indique si se cumple la condicion ∃b ∈ B tal que ∀a ∈ A, a = b2"
   ]
  },
  {
   "cell_type": "code",
   "execution_count": 8,
   "id": "9ebeddb5-fad9-4a86-9b4f-ff56579154d0",
   "metadata": {},
   "outputs": [
    {
     "name": "stdout",
     "output_type": "stream",
     "text": [
      "True\n"
     ]
    }
   ],
   "source": [
    "def condition3(A,B):\n",
    "    if checkset(A) and checkset(B):\n",
    "        return any([True if i*i in A else False for i in B])\n",
    "    else:\n",
    "        return 'No es un conjunto'\n",
    "\n",
    "conjA = [4,15,1]\n",
    "conjB = [2,4,6,8,10,12]\n",
    "\n",
    "print(condition3(conjA, conjB))"
   ]
  },
  {
   "cell_type": "markdown",
   "id": "1c364dfc-5e32-41ed-94d9-74f6535352a3",
   "metadata": {},
   "source": [
    "Compruébese el correcto funcionamiento de las funciones con diferentes ejemplos de validación (de libre elección) y encuéntrese al menos un par de conjuntos que cumplen la condición 2, pero no la condición 3. Recíprocamente ¿hay algún par de conjuntos que cumpla la condición 3, pero no la condición 2?"
   ]
  },
  {
   "cell_type": "code",
   "execution_count": 9,
   "id": "cbbe7493-ae63-4d9a-9a23-81ff0138a171",
   "metadata": {},
   "outputs": [
    {
     "name": "stdout",
     "output_type": "stream",
     "text": [
      "True\n",
      "False\n"
     ]
    }
   ],
   "source": [
    "#Cumple la condición 2 pero no la condición 3\n",
    "conjA = [2,5,10]\n",
    "conjB = [4,16,25,100,12]\n",
    "\n",
    "print(condition2(conjA, conjB))\n",
    "print(condition3(conjA, conjB))"
   ]
  },
  {
   "cell_type": "code",
   "execution_count": 10,
   "id": "5c8d7ff9-89b4-43ae-b49f-95013c3a4da5",
   "metadata": {},
   "outputs": [
    {
     "name": "stdout",
     "output_type": "stream",
     "text": [
      "False\n",
      "True\n"
     ]
    }
   ],
   "source": [
    "#Cumple la condición 2 pero no la condición 3\n",
    "conjA = [2,5,100]\n",
    "conjB = [10,16,25,99,12]\n",
    "\n",
    "print(condition2(conjA, conjB))\n",
    "print(condition3(conjA, conjB))"
   ]
  },
  {
   "cell_type": "markdown",
   "id": "96a61326-7f2a-49a2-bf99-1794a90def84",
   "metadata": {},
   "source": [
    "### 2. Demuéstrese que si una matriz cuadrada A ∈ Rn×n es diagonalizable en R, con todos sus autovalores no negativos, entonces ∃B ∈ Rn×n tal que B2 = A (es decir, A tiene al menos una raiz cuadrada), encontrando el proceso para construir la matriz B. Haciendo uso de numpy.linalg.eig, implementese una funcion en Python que determine si una matriz cuadrada A es diagonalizable en R y, en caso afirmativo, y en el caso particular de que todos sus autovalores sean positivos, que devuelva una lista de hasta 2n matrices B tales que B2 = A\n",
    "\n",
    "Compruébese que la matriz cuadrada A ∈ R3×3 dada por()admite hasta un total de 4 raíces cuadradas con este método."
   ]
  },
  {
   "cell_type": "code",
   "execution_count": 11,
   "id": "1b1c51b3-f2ad-4df7-b431-c3a405bf7430",
   "metadata": {},
   "outputs": [
    {
     "name": "stdout",
     "output_type": "stream",
     "text": [
      "[[2.82842712 0.         0.        ]\n",
      " [0.         0.         0.        ]\n",
      " [0.         0.         1.41421356]]\n",
      "[[3.46410162 0.         0.        ]\n",
      " [0.         0.         0.        ]\n",
      " [0.         0.         1.73205081]]\n",
      "[[4. 0. 0.]\n",
      " [0. 0. 0.]\n",
      " [0. 0. 2.]]\n",
      "[[4.47213595 0.         0.        ]\n",
      " [0.         0.         0.        ]\n",
      " [0.         0.         2.23606798]]\n",
      "[[4.89897949 0.         0.        ]\n",
      " [0.         0.         0.        ]\n",
      " [0.         0.         2.44948974]]\n",
      "[[5.29150262 0.         0.        ]\n",
      " [0.         0.         0.        ]\n",
      " [0.         0.         2.64575131]]\n",
      "[[5.65685425 0.         0.        ]\n",
      " [0.         0.         0.        ]\n",
      " [0.         0.         2.82842712]]\n",
      "[[6. 0. 0.]\n",
      " [0. 0. 0.]\n",
      " [0. 0. 3.]]\n"
     ]
    }
   ],
   "source": [
    "import numpy as np\n",
    "\n",
    "def diagonalizable(matriz_cuadrada):\n",
    "    evalue, evect = np.linalg.eig(matriz_cuadrada)\n",
    "    A = np.round(evalue, decimals=1)\n",
    "    return A\n",
    "\n",
    "def obtenermatricesb(n, A):\n",
    "    return [np.sqrt(x * A) for x in range(2,(2**n)+2)]\n",
    "\n",
    "matriz_cuadrada = np.array([[3,-3,2],[-4,4,-4],[-3,3,-2]])\n",
    "result = diagonalizable(matriz_cuadrada)\n",
    "identidad = np.eye(3)  \n",
    "resultmxide = result*identidad\n",
    "\n",
    "for matriz  in obtenermatricesb(3, resultmxide):\n",
    "    print (matriz)"
   ]
  },
  {
   "cell_type": "markdown",
   "id": "0eb1e014-df3c-4a4b-b4cb-94f37bca5119",
   "metadata": {},
   "source": [
    "### 3. Prográmese en Python el método de gradient descent para funciones de n variables. La función debería tener como parámetros de entradas:\n",
    "- El gradiente de la función que se desea minimizar ∇f.\n",
    "- Un valor inicial x0 ∈ Rn.\n",
    "- El ratio de aprendizaje γ (que se asume constante para cada iteración).\n",
    "- Un parámetro de tolerancia tol (con el que finalizar el proceso cuando |f’(x)|<tol). \n",
    "- Un número máximo de iteraciones maxit.\n",
    "\n",
    "La salida de la función debería ser la aproximación del x que cumple f′(x) ≈ 0, correspondiente a la última iteración realizada en el método.\n",
    "A continuacién, aplica el método a los casos siguientes:"
   ]
  },
  {
   "cell_type": "code",
   "execution_count": 12,
   "id": "1634381e-97f6-41d9-a5f3-2f28c8e84e6b",
   "metadata": {},
   "outputs": [],
   "source": [
    "import numpy as np\n",
    "import matplotlib.pyplot as plt"
   ]
  },
  {
   "cell_type": "code",
   "execution_count": 13,
   "id": "4943b942-8e18-4973-a884-002c2776c2f8",
   "metadata": {},
   "outputs": [],
   "source": [
    "def descenso_gradiente(x, y, ratio, tolerancia, maxit, y_change, GD_X, GD_Y):\n",
    "    iteraciones = 1\n",
    "    while(y_change > tolerancia and iteraciones < maxit) :       \n",
    "        tmp_x = x - ratio * dx(x, y)\n",
    "        if y != 0:\n",
    "            tmp_y = y - ratio * dy(x, y)\n",
    "            y = tmp_y\n",
    "            GD_Y.append(y)\n",
    "        x = tmp_x      \n",
    "        GD_X.append(x)       \n",
    "        iteraciones += 1\n",
    "    return(x, y, GD_X, GD_Y)"
   ]
  },
  {
   "cell_type": "markdown",
   "id": "ed8a522a-5fd9-48cc-8891-0361abd1cb77",
   "metadata": {},
   "source": [
    "a) g(x,y)=x2+y2−xy+2y+1,con x0 =(3,4),γ=0.01,tol=1e-12,maxit=1e5. Contrasta el resultado obtenido numéricamente con el estudio analítico de la función."
   ]
  },
  {
   "cell_type": "code",
   "execution_count": 14,
   "id": "eeff02dc-e1b3-414c-a922-a7b3e070fefa",
   "metadata": {},
   "outputs": [
    {
     "name": "stdout",
     "output_type": "stream",
     "text": [
      "Punto mínimo:  (-0.6666666666666594, -1.3333333333333242)\n",
      "Extremo:  -0.33333333333333326\n"
     ]
    },
    {
     "data": {
      "image/png": "[encoded data removed]",
      "text/plain": [
       "<Figure size 432x288 with 1 Axes>"
      ]
     },
     "metadata": {
      "needs_background": "light"
     },
     "output_type": "display_data"
    }
   ],
   "source": [
    "#Funcion g(x,y)\n",
    "def funcion(x, y):\n",
    "    return x**2 + y**2 - x*y + 2*y + 1 \n",
    "\n",
    "#Derivadas parciales\n",
    "def dx(x, y):\n",
    "    return 2*x - y\n",
    "def dy(x, y):\n",
    "    return 2*y - x + 2\n",
    " \n",
    "# Definir el cambio de y y el número de iteraciones\n",
    "x = 3\n",
    "y = 4\n",
    "ratio = 0.01\n",
    "tolerancia = 1e-12\n",
    "maxit = 1e5\n",
    "\n",
    "#Lista que guarda los puntos del descenso del gradiente\n",
    "GD_X = [x]\n",
    "GD_Y = [y]\n",
    "GD_XY = [funcion(x,y)]\n",
    "cambio_y = funcion(x,y)\n",
    "\n",
    "x, y, GD_X, GD_Y = descenso_gradiente(x, y, ratio, tolerancia, maxit, cambio_y, GD_X, GD_Y)\n",
    "\n",
    "print(\"Punto mínimo: \" ,(x, y))\n",
    "print(\"Extremo: \" ,funcion(x,y))\n",
    "\n",
    "plt.plot(GD_X, GD_Y)\n",
    "plt.show()"
   ]
  },
  {
   "cell_type": "markdown",
   "id": "231c367b-90a3-49c5-8ee0-ae4bfdd6100b",
   "metadata": {},
   "source": [
    "b) f(x)=3x**4 + 4x**3 −12x**2 +7."
   ]
  },
  {
   "cell_type": "markdown",
   "id": "f7852af3-3c83-4f81-8f69-06eeb9c22a41",
   "metadata": {},
   "source": [
    "- Aplica el método sobre f(x) con x0 = 3 γ = 0.001, tol=1e-12, maxit=1e5."
   ]
  },
  {
   "cell_type": "code",
   "execution_count": 15,
   "id": "21ae261d-485b-4ae3-8fbf-0e52bdc20211",
   "metadata": {},
   "outputs": [],
   "source": [
    "#Funcion f(x)\n",
    "def funcion_x(x, y):\n",
    "    return 3*x**4 + 4*x**3 - 12*x**2 + 7\n",
    "\n",
    "#Derivada de la función\n",
    "def dx(x, y):\n",
    "    return 12*x**3 + 12*x**2 - 24*x"
   ]
  },
  {
   "cell_type": "code",
   "execution_count": 16,
   "id": "f5209fba-9a1a-4588-a0cc-1e4b7dca23a9",
   "metadata": {},
   "outputs": [
    {
     "name": "stdout",
     "output_type": "stream",
     "text": [
      "Punto mínimo:  (1.000000000000003, 0)\n",
      "Extremo:  2.0\n"
     ]
    },
    {
     "data": {
      "image/png": "[encoded data removed]",
      "text/plain": [
       "<Figure size 432x288 with 1 Axes>"
      ]
     },
     "metadata": {
      "needs_background": "light"
     },
     "output_type": "display_data"
    }
   ],
   "source": [
    "x = 3\n",
    "y = 0\n",
    "ratio = 0.001\n",
    "iteraciones = 1\n",
    "tolerancia = 1e-12\n",
    "maxit = 1e5\n",
    "\n",
    "#Lista de puntos del descenso del gradiente\n",
    "GD_X = [x]\n",
    "GD_XY = [funcion_x(x, y)]\n",
    "y_change = funcion_x(x, y)\n",
    "\n",
    "x, y, GD_X, GD_Y = descenso_gradiente(x, 0, ratio, tolerancia, maxit, y_change, GD_X, GD_Y)\n",
    "\n",
    "print(\"Punto mínimo: \" ,(x, y))\n",
    "print(\"Extremo: \" ,funcion_x(x, y))\n",
    "\n",
    "plt.plot(GD_X, GD_Y)\n",
    "plt.show()"
   ]
  },
  {
   "cell_type": "markdown",
   "id": "70792ba9-7d0e-4837-a381-bed2d95a2b2b",
   "metadata": {},
   "source": [
    "- Aplica de nuevo el método sobre f(x) con x0 = 3, γ = 0.01, tol=1e-12, maxit=1e5."
   ]
  },
  {
   "cell_type": "code",
   "execution_count": 17,
   "id": "c43206bf-3067-4334-a5a8-a98d087a634e",
   "metadata": {},
   "outputs": [
    {
     "name": "stdout",
     "output_type": "stream",
     "text": [
      "Punto mínimo:  (-1.9999999999999998, 0)\n",
      "Extremo:  -24.999999999999996\n"
     ]
    },
    {
     "data": {
      "image/png": "[encoded data removed]",
      "text/plain": [
       "<Figure size 432x288 with 1 Axes>"
      ]
     },
     "metadata": {
      "needs_background": "light"
     },
     "output_type": "display_data"
    }
   ],
   "source": [
    "x = 3\n",
    "y = 0\n",
    "ratio = 0.01\n",
    "iteraciones = 1\n",
    "tolerancia = 1e-12\n",
    "maxit = 1e5\n",
    "\n",
    "GD_X = [x]\n",
    "GD_XY = [funcion_x(x, y)]\n",
    "y_change = funcion_x(x, y)\n",
    "\n",
    "x, y, GD_X, GD_Y = descenso_gradiente(x, 0, ratio, tolerancia, maxit, y_change, GD_X, GD_Y)\n",
    "\n",
    "print(\"Punto mínimo: \" ,(x, y))\n",
    "print(\"Extremo: \" ,funcion_x(x, y))\n",
    "\n",
    "plt.plot(GD_X, GD_Y)\n",
    "plt.show()"
   ]
  },
  {
   "cell_type": "markdown",
   "id": "5454f3bf-9705-4acf-b144-1478a2762e61",
   "metadata": {},
   "source": [
    "- Contrasta e interpreta los dos resultados obtenidos en los apartados anteriores y compáralos con los mínimos locales obtenidos analíticamente. ¿Qué influencia puede llegar a tener la elección del ratio de aprendizaje γ?"
   ]
  },
  {
   "cell_type": "markdown",
   "id": "76b64934-b1de-4d37-b153-9b9f26e7e6a7",
   "metadata": {},
   "source": [
    "Se llega a los puntos mínimos obtenidos analíticamente, en el primer caso con el ratio más pequeño y el segundo con el ratio más grande obtuvo el mínimo negativo. Entonces según la elección del ratio el proceso de optimización puede ir saltando de una región a otra sin que el modelo sea capaz de aprender. Si por el contrario, el ratio es muy pequeño, el proceso de entrenamiento puede tardar demasiado y no llegar a completarse."
   ]
  },
  {
   "cell_type": "markdown",
   "id": "01963f20-fe0b-4263-abf4-34d17878d0a8",
   "metadata": {},
   "source": [
    "- Aplica nuevamente el método sobre f(x) con x0 = 3, γ = 0.1, tol=1e-12, maxit=1e5. Interpreta el resultado."
   ]
  },
  {
   "cell_type": "code",
   "execution_count": null,
   "id": "c8f04968-a2bf-436d-825b-c609b3d4b792",
   "metadata": {},
   "outputs": [],
   "source": [
    "x = 3\n",
    "y = 0\n",
    "ratio = 0.1\n",
    "iteraciones = 1\n",
    "tolerancia = 1e-12\n",
    "maxit = 1e5\n",
    "\n",
    "GD_X = [x]\n",
    "GD_XY = [funcion_x(x, y)]\n",
    "y_change = funcion_x(x, y)\n",
    "\n",
    "x, y, GD_X, GD_Y = descenso_gradiente(x, 0, ratio, tolerancia, maxit, y_change, GD_X, GD_Y)\n",
    "\n",
    "print(\"Punto mínimo: \" ,(x, y))\n",
    "print(\"Extremo: \" ,f2(x, y))\n",
    "\n",
    "plt.plot(GD_X, GD_Y)\n",
    "plt.show()"
   ]
  },
  {
   "cell_type": "markdown",
   "id": "a2114a2f-4fdf-4e36-959e-ed244f27e8f2",
   "metadata": {},
   "source": [
    "- Finalmente, aplica el método sobre f(x) con x0 = 0, γ = 0.001, tol=1e-12, maxit=1e5. Interpreta el resultado y compáralo con el estudio analítico de f. ¿Es correcto el resultado? ¿Por qué? ¿A qué se debe el fenómeno?"
   ]
  },
  {
   "cell_type": "code",
   "execution_count": 18,
   "id": "0fc7d8b2-ca7f-4f59-b6f2-89c415a4213c",
   "metadata": {},
   "outputs": [
    {
     "name": "stdout",
     "output_type": "stream",
     "text": [
      "Punto mínimo:  (0.0, 0)\n",
      "Extremo:  7.0\n"
     ]
    },
    {
     "data": {
      "image/png": "[encoded data removed]",
      "text/plain": [
       "<Figure size 432x288 with 1 Axes>"
      ]
     },
     "metadata": {
      "needs_background": "light"
     },
     "output_type": "display_data"
    }
   ],
   "source": [
    "x = 0\n",
    "y = 0\n",
    "ratio = 0.001\n",
    "iteraciones = 1\n",
    "tolerancia = 1e-12\n",
    "maxit = 1e5\n",
    "\n",
    "GD_X = [x]\n",
    "GD_XY = [funcion_x(x, y)]\n",
    "\n",
    "y_change = funcion_x(x, y)\n",
    "\n",
    "x, y, GD_X, GD_Y = descenso_gradiente(x, 0, ratio, tolerancia, maxit, y_change, GD_X, GD_Y)\n",
    "\n",
    "print(\"Punto mínimo: \" ,(x, y))\n",
    "print(\"Extremo: \" ,funcion_x(x, y))\n",
    "\n",
    "plt.plot(GD_X, GD_Y)\n",
    "plt.show()"
   ]
  },
  {
   "cell_type": "markdown",
   "id": "b4dc70ff-a703-46d8-abc9-0931a77204cb",
   "metadata": {},
   "source": [
    "Se debe a que el valor en x inicia en 0 y el ratio es pequeño, el resultado es incorrecto y se debe a los valores que toma x a lo largo de la función de descenso de gradiente"
   ]
  },
  {
   "cell_type": "markdown",
   "id": "f67d436b-66e7-4749-bf4d-171ca22924e7",
   "metadata": {},
   "source": [
    "### 4. Desarróllese una función en Python que, dado un nuúmero natural n, realice n simulaciones consistentes en generar un punto aleatorio distribuido uniformemente dentro de un cuadrado de lado 2. Para cada una de ellas, el programa debería determinar si el punto queda dentro o fuera del círculo en dicho cuadrado, y devolver la proporción de veces que dicho punto ha quedado dentro del círculo.\n",
    "\n",
    "Utilícese dicha proporción para obtener una estimación del valor de π y compárese la precisión de dicha estimación en función de la magnitud del número de simulaciones n, realizando experimentos con diferentes valores. Interpr ́etense los resultados con lo aprendido en teoría."
   ]
  },
  {
   "cell_type": "code",
   "execution_count": 19,
   "id": "75f812ae-ebcf-4bc8-b97a-32c9b5c831dd",
   "metadata": {},
   "outputs": [
    {
     "name": "stdout",
     "output_type": "stream",
     "text": [
      "El numero de veces que el punto quedo afuera del circulo fueron  0\n",
      "El numero de veces que el punto quedo dentro del circulo fueron  1\n",
      "El numero de veces que el punto quedo afuera del circulo fueron  0\n",
      "El numero de veces que el punto quedo dentro del circulo fueron  2\n",
      "El numero de veces que el punto quedo afuera del circulo fueron  0\n",
      "El numero de veces que el punto quedo dentro del circulo fueron  3\n",
      "El numero de veces que el punto quedo afuera del circulo fueron  0\n",
      "El numero de veces que el punto quedo dentro del circulo fueron  4\n"
     ]
    },
    {
     "data": {
      "image/png": "[encoded data removed]",
      "text/plain": [
       "<Figure size 432x288 with 1 Axes>"
      ]
     },
     "metadata": {
      "needs_background": "light"
     },
     "output_type": "display_data"
    }
   ],
   "source": [
    "import random\n",
    "import numpy as np\n",
    "import matplotlib.pyplot as plt\n",
    "\n",
    "def simulations(n):\n",
    "    count_inside = 0\n",
    "    count_outside = 0\n",
    "    circle = plt.Circle((0,0),radius=6, color=\"red\")\n",
    "    ax = plt.gca()\n",
    "    ax.add_patch(circle)\n",
    "    plt.axis(\"auto\")\n",
    "    \n",
    "    plt.show\n",
    "\n",
    "\n",
    "    for i in range(0,n):\n",
    "        x, y = random.randint(-4,6), random.randint(-4,6)\n",
    "        point = plt.Circle((x,y),radius=0.1, color=\"black\")\n",
    "        ax.add_patch(point)\n",
    "        if ((x == -6 and y == 1) or (x == 6 and y == 6) \n",
    "            or (x == 6 and x == -3) or (x == 3 and y == 6) \n",
    "            or (x == 4 and y == 6) or (x == 6 and y == 2) \n",
    "            or (x == 5 and y == -4) or (x == 6 and y == 4)\n",
    "            or (x == 6 and y == -3) or (x == 5 and y == 6) \n",
    "            or (x == 4 and y == 5) or (x == 6 and y == 3) \n",
    "            or (x == 6 and y == 5) or (x == -4 and y == 6) \n",
    "            or (x == 5 and y == 4) or (x == -3 and y == 6) \n",
    "            or (x == -1 and y == 6)):        \n",
    "            count_outside+=1\n",
    "        else:\n",
    "            count_inside+=1\n",
    "        print(\"El numero de veces que el punto quedo afuera del circulo fueron \", count_outside)\n",
    "        print(\"El numero de veces que el punto quedo dentro del circulo fueron \", count_inside)\n",
    "\n",
    "    \n",
    "\n",
    "simulations(4) "
   ]
  },
  {
   "cell_type": "markdown",
   "id": "ca52f770-6d63-45da-b9f3-37d498ad092f",
   "metadata": {},
   "source": [
    "### 5 [Opcional] Sea el plano R2 y una sucesión de rectas paralelas al eje Y (verticales) separadas entre sí uniformemente con una distancia de t unidades: xk = λ + kt, con k ∈ Z y λ ∈ R un valor fijo.\n",
    "Se considera el experimento aleatorio basado en n simulaciones consistentes en generar un segmento aleatorio, de longitud fija l ≤ t en una posición y ángulo de inclinación aleatorios en el plano, y comprobar si dicho segmento generado se interseca con alguna de las rectas verticales."
   ]
  },
  {
   "cell_type": "markdown",
   "id": "cc0d0518-3ac1-4970-bda7-e1dd78378256",
   "metadata": {},
   "source": [
    "a) Simplifíquese el problema a uno equivalente sobre un espacio acotado."
   ]
  },
  {
   "cell_type": "code",
   "execution_count": 20,
   "id": "f627ef86-240e-4cec-ab4d-b9ea25dbccb4",
   "metadata": {},
   "outputs": [
    {
     "name": "stdout",
     "output_type": "stream",
     "text": [
      "4.833333333333333\n"
     ]
    }
   ],
   "source": [
    "from random import random\n",
    "from math import cos,sin,pi\n",
    "\n",
    "N= 29\n",
    "A= 12\n",
    "valor_pi = 2*N / A\n",
    "\n",
    "print (valor_pi)"
   ]
  },
  {
   "cell_type": "markdown",
   "id": "9a495f6f-5e1d-482d-98c6-94c60df2b1db",
   "metadata": {},
   "source": [
    "b) Pruébese que la probabilidad de intersección es p = 2l/πt"
   ]
  },
  {
   "cell_type": "code",
   "execution_count": 21,
   "id": "7e89ebbb-e6aa-41ef-a9a4-8adf1a594582",
   "metadata": {},
   "outputs": [
    {
     "data": {
      "text/plain": [
       "(0.18640519865331054, 2.1303394642503553e-15)"
      ]
     },
     "execution_count": 21,
     "metadata": {},
     "output_type": "execute_result"
    }
   ],
   "source": [
    "from scipy import integrate\n",
    "import math\n",
    "\n",
    "l = random()\n",
    "w = random()\n",
    "a = w\n",
    "c= 0\n",
    "b = pi/2\n",
    "e = math.sin(w)\n",
    "d = (l/2)*e\n",
    "t = random()\n",
    "\n",
    "def f(x, w):\n",
    "    return 4/(t*pi)\n",
    "\n",
    "def bounds_w():\n",
    "    return [a, b]\n",
    "\n",
    "def bounds_x(w):\n",
    "    return [c, d]\n",
    "\n",
    "integrate.nquad(f, [bounds_x, bounds_w])"
   ]
  },
  {
   "cell_type": "markdown",
   "id": "5059e0cd-b6c8-411a-affe-2de5b68f075f",
   "metadata": {},
   "source": [
    "c) Impleméntese una función en Python que simule el experimento, con parámetros de entrada t, l y n (este último representando el número de simulaciones), y devolviendo la proporción de veces en las que hay intersección entre el segmento y una recta."
   ]
  },
  {
   "cell_type": "code",
   "execution_count": 22,
   "id": "4c1593cc-518f-452c-8803-2a843a6ec8e7",
   "metadata": {},
   "outputs": [
    {
     "name": "stdout",
     "output_type": "stream",
     "text": [
      "Proporción 0.7241379310344828\n"
     ]
    }
   ],
   "source": [
    "def corta(l=1,d=1):\n",
    "    #válido únicamente si l <= d\n",
    "    x = d*random()\n",
    "    #Un poco anticlimático tener que usar pi\n",
    "    y = l*cos(pi/2*random())\n",
    "    if y>x:\n",
    "        return True\n",
    "    else:\n",
    "        return False\n",
    "\n",
    "intentos = 29\n",
    "intersecciones = 12\n",
    "N = 0\n",
    "C = 0\n",
    "L=random()\n",
    "D=random()\n",
    "\n",
    "\n",
    "# print (f\"10000 lanzamientos), L = {L}, D = {D}\")\n",
    "\n",
    "while N < intentos:\n",
    "    N+=1\n",
    "    if corta(L,D):\n",
    "        C+=1\n",
    "        \n",
    "print (f\"Proporción {C/N}\")"
   ]
  },
  {
   "cell_type": "markdown",
   "id": "e0ddab9e-f13d-4c2b-ada0-9b3c94f22809",
   "metadata": {},
   "source": [
    "d) Compárense los resultados obtenidos con la probabilidad teórica para diferentes valores de n y utilícense para obtener estimaciones de π."
   ]
  },
  {
   "cell_type": "code",
   "execution_count": 23,
   "id": "c0dfb4ae-0a08-4cbb-854d-ef15361b0b7d",
   "metadata": {},
   "outputs": [
    {
     "name": "stdout",
     "output_type": "stream",
     "text": [
      "0.18989651068875443\n",
      "0.10992338423391201\n",
      "0.41379310344827586\n",
      "1.4417289170618057\n"
     ]
    }
   ],
   "source": [
    "longitud= random()\n",
    "espacio= random()\n",
    "cortan= 12\n",
    "agujas_total= 29\n",
    "\n",
    "def probabilidad():\n",
    "    \n",
    "    return (2*longitud*(2-longitud))/pi\n",
    "    \n",
    "print((2*longitud*(2-longitud))/pi)\n",
    "print((2*longitud)/(pi*espacio))\n",
    "print(cortan/agujas_total)\n",
    "print((agujas_total*2*longitud*(2-longitud))/cortan)"
   ]
  }
 ],
 "metadata": {
  "kernelspec": {
   "display_name": "Python 3",
   "language": "python",
   "name": "python3"
  },
  "language_info": {
   "codemirror_mode": {
    "name": "ipython",
    "version": 3
   },
   "file_extension": ".py",
   "mimetype": "text/x-python",
   "name": "python",
   "nbconvert_exporter": "python",
   "pygments_lexer": "ipython3",
   "version": "3.8.8"
  }
 },
 "nbformat": 4,
 "nbformat_minor": 5
}
