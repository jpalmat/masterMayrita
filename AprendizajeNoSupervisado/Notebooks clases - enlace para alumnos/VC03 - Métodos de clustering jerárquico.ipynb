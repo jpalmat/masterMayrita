{
 "cells": [
  {
   "cell_type": "markdown",
   "metadata": {
    "id": "t1iE9XTGLU2V"
   },
   "source": [
    "# VC03 - Métodos de clustering jerárquico\n"
   ]
  },
  {
   "cell_type": "markdown",
   "metadata": {
    "id": "bpRUPzfm-ZM8"
   },
   "source": [
    "En esta práctica vamos a ver cómo funcionan los algoritmos jerárquicos vistos en clase: el aglomerativo y el divisivo."
   ]
  },
  {
   "cell_type": "markdown",
   "metadata": {
    "id": "e-2-Apoz-4s_"
   },
   "source": [
    "### Clustering jerárquico aglomerativo\n",
    "\n",
    "En esta práctica estudiaremos el funcionamiento y la utilización del clústering jerárquico aglomerativo.\n",
    "\n",
    "Para empezar, cargamos las librerías que vamos a necesitar:"
   ]
  },
  {
   "cell_type": "code",
   "execution_count": 1,
   "metadata": {
    "executionInfo": {
     "elapsed": 791,
     "status": "ok",
     "timestamp": 1631906950534,
     "user": {
      "displayName": "Félix José Fuentes Hurtado",
      "photoUrl": "https://lh3.googleusercontent.com/a/default-user=s64",
      "userId": "08557990006797564533"
     },
     "user_tz": -120
    },
    "id": "Fz4xOnkeECZV"
   },
   "outputs": [],
   "source": [
    "from matplotlib import pyplot as plt\n",
    "from scipy.cluster.hierarchy import dendrogram, linkage\n",
    "import numpy as np\n",
    "plt.rcParams['figure.figsize'] = [8, 8]\n",
    "np.set_printoptions(precision=5, suppress=True)  # suppress scientific float notation"
   ]
  },
  {
   "cell_type": "markdown",
   "metadata": {
    "id": "fV79MxIuERmE"
   },
   "source": [
    "### Ejemplo 1\n",
    "\n",
    "Generamos nuestro dataset de juguete:"
   ]
  },
  {
   "cell_type": "code",
   "execution_count": 2,
   "metadata": {
    "colab": {
     "base_uri": "https://localhost:8080/",
     "height": 283
    },
    "executionInfo": {
     "elapsed": 229,
     "status": "ok",
     "timestamp": 1631906961100,
     "user": {
      "displayName": "Félix José Fuentes Hurtado",
      "photoUrl": "https://lh3.googleusercontent.com/a/default-user=s64",
      "userId": "08557990006797564533"
     },
     "user_tz": -120
    },
    "id": "rvKvIIhsET-t",
    "outputId": "7949cdd0-c724-4bfb-bd25-2321b8cf4bd4"
   },
   "outputs": [
    {
     "name": "stdout",
     "output_type": "stream",
     "text": [
      "(150, 2)\n"
     ]
    },
    {
     "data": {
      "image/png": "[encoded data removed]",
      "text/plain": [
       "<Figure size 432x288 with 1 Axes>"
      ]
     },
     "metadata": {
      "needs_background": "light"
     },
     "output_type": "display_data"
    }
   ],
   "source": [
    "# generate two clusters: a with 100 points, b with 50:\n",
    "np.random.seed(4711)  # for repeatability of this tutorial\n",
    "a = np.random.multivariate_normal([10, 0], [[3, 1], [1, 4]], size=[100,])\n",
    "b = np.random.multivariate_normal([0, 20], [[3, 1], [1, 4]], size=[50,])\n",
    "X = np.concatenate((a, b),)\n",
    "print(X.shape)  # 150 samples with 2 dimensions\n",
    "plt.scatter(X[:,0], X[:,1])\n",
    "plt.show()"
   ]
  },
  {
   "cell_type": "markdown",
   "metadata": {
    "id": "wrT7c9MzEb_f"
   },
   "source": [
    "Ya tenemos nuestro dataset, que como podéis comprobar es bien sencillo, para poder comprender bien el funcionamiento del clustering jerárquico.\n",
    "\n",
    "Vamos a realizar el clustering:"
   ]
  },
  {
   "cell_type": "code",
   "execution_count": 3,
   "metadata": {
    "executionInfo": {
     "elapsed": 225,
     "status": "ok",
     "timestamp": 1631907035635,
     "user": {
      "displayName": "Félix José Fuentes Hurtado",
      "photoUrl": "https://lh3.googleusercontent.com/a/default-user=s64",
      "userId": "08557990006797564533"
     },
     "user_tz": -120
    },
    "id": "SszDl0OhEUit"
   },
   "outputs": [],
   "source": [
    "Z = linkage(X, method='average', metric='euclidean')"
   ]
  },
  {
   "cell_type": "markdown",
   "metadata": {
    "id": "F-7_xtjuE1C9"
   },
   "source": [
    "Ya está. Fácil, ¿no os parece?\n",
    "\n",
    "Fijaos que `scipy` nos permite elegir qué método queremos elegir entre:\n",
    "\n",
    "-   `single`: disimilitud mínima\n",
    "-   `complete`: disimilitud máxima\n",
    "-   `average`: disimilitud media\n",
    "-   ... y más\n",
    "\n",
    "Y también nos permite elegir la medida de disimilitud que queremos utilizar para calcular las distancias entre clusters: `euclidean` (por defecto), `cityblock` (Manhattan), `hamming`, `cosine`, etc.\n",
    "\n",
    "Recordad que se debe escoger la medida de disimilitud teniendo en cuenta el tipo de datos que tenemos. Por ejemplo, si tuviesemos vectores de características binarios, usaríamos la distancia `hamming`.\n",
    "\n",
    "Vamos a medir la bondad de este clustering. Para ello, vamos a hacer uso del `Cophenetic Correlation Coefficient` (https://en.wikipedia.org/wiki/Cophenetic_correlation), disponible en la función `cophenet()` de `scipy.cluster.hierarchy`.\n",
    "\n",
    "Esta función compara (correla) las distancias reales entre todas las muestras de nuestro dataset con aquellas que implica el clustering obtenido. Cuanto más cerca este el valor de 1, mejor preserva el clustering las distancias originales, por lo que mejor es el clusering."
   ]
  },
  {
   "cell_type": "code",
   "execution_count": 4,
   "metadata": {
    "colab": {
     "base_uri": "https://localhost:8080/"
    },
    "executionInfo": {
     "elapsed": 221,
     "status": "ok",
     "timestamp": 1631907096303,
     "user": {
      "displayName": "Félix José Fuentes Hurtado",
      "photoUrl": "https://lh3.googleusercontent.com/a/default-user=s64",
      "userId": "08557990006797564533"
     },
     "user_tz": -120
    },
    "id": "m2kMMf4bEz5R",
    "outputId": "364dab45-b381-47b4-dcc0-3060030c0eec"
   },
   "outputs": [
    {
     "name": "stdout",
     "output_type": "stream",
     "text": [
      "0.982091285698869\n"
     ]
    }
   ],
   "source": [
    "from scipy.cluster.hierarchy import cophenet\n",
    "from scipy.spatial.distance import pdist\n",
    "\n",
    "# pdist calcula las distancias entre elementos de nuestro dataset usando la \n",
    "# métrica indicada (euclideana por defecto)\n",
    "c, coph_dists = cophenet(Z, pdist(X))\n",
    "print(c)"
   ]
  },
  {
   "cell_type": "markdown",
   "metadata": {
    "id": "5XQG1NjoG1b4"
   },
   "source": [
    "No importa qué método o métrica elijamos, la función `linkage` utilizará ese método y métrica para calcular las distancias entre los clusters (empezando por `k=n_instancias` clusters que tendrá al principio, es decir, cada muestra del dataset es un cluster) y en cada iteración mezclará los dos clusters con la distancia más pequeña de acuerdo al método y distancia elegidos.\n",
    "\n",
    "La salida de esta función (`Z`) es un vector de longitud `k-1` que nos dará información de las operaciones realizadas en cada paso. Es decir, las `k-1` uniones que han tenido lugar durante el clustering.\n",
    "\n",
    "`Z[i]` nos dirá qué clusters fueron unidos en la iteración `i`:"
   ]
  },
  {
   "cell_type": "code",
   "execution_count": 5,
   "metadata": {
    "colab": {
     "base_uri": "https://localhost:8080/"
    },
    "executionInfo": {
     "elapsed": 214,
     "status": "ok",
     "timestamp": 1631907110049,
     "user": {
      "displayName": "Félix José Fuentes Hurtado",
      "photoUrl": "https://lh3.googleusercontent.com/a/default-user=s64",
      "userId": "08557990006797564533"
     },
     "user_tz": -120
    },
    "id": "xq-oR6D3EupX",
    "outputId": "6a1cf35c-0457-4464-bc67-54a2b696eaba"
   },
   "outputs": [
    {
     "data": {
      "text/plain": [
       "array([52.     , 53.     ,  0.04151,  2.     ])"
      ]
     },
     "execution_count": 5,
     "metadata": {},
     "output_type": "execute_result"
    }
   ],
   "source": [
    "Z[0]"
   ]
  },
  {
   "cell_type": "markdown",
   "metadata": {
    "id": "Z9kOm-uvHzXg"
   },
   "source": [
    "La salida es la siguiente:\n",
    "\n",
    "`[idx1, idx2, distancia, número de muestras]`\n",
    "\n",
    "En este caso podéis ver cómo el algoritmo ha decidido unir los clusters 52 y 53, que tenían una distancia de 0.04151, y esta operación dió como resultado un cluster con 2 instancias. `idx1` e `idx2` se corresponden con los índices de nuestras muestras. Recordad que nuestro dataset tiene 150 muestras.\n",
    "\n",
    "Vamos a ver las 20 primeras operaciones:"
   ]
  },
  {
   "cell_type": "code",
   "execution_count": 6,
   "metadata": {
    "colab": {
     "base_uri": "https://localhost:8080/"
    },
    "executionInfo": {
     "elapsed": 217,
     "status": "ok",
     "timestamp": 1631907150488,
     "user": {
      "displayName": "Félix José Fuentes Hurtado",
      "photoUrl": "https://lh3.googleusercontent.com/a/default-user=s64",
      "userId": "08557990006797564533"
     },
     "user_tz": -120
    },
    "id": "GZ7-9QxdHxRF",
    "outputId": "91197a45-401b-4664-824f-df5657e5b12d"
   },
   "outputs": [
    {
     "data": {
      "text/plain": [
       "array([[ 52.     ,  53.     ,   0.04151,   2.     ],\n",
       "       [ 14.     ,  79.     ,   0.05914,   2.     ],\n",
       "       [ 33.     ,  68.     ,   0.07107,   2.     ],\n",
       "       [ 17.     ,  73.     ,   0.07137,   2.     ],\n",
       "       [  1.     ,   8.     ,   0.07543,   2.     ],\n",
       "       [ 85.     ,  95.     ,   0.10928,   2.     ],\n",
       "       [108.     , 131.     ,   0.11007,   2.     ],\n",
       "       [  9.     ,  66.     ,   0.11302,   2.     ],\n",
       "       [ 15.     ,  69.     ,   0.11429,   2.     ],\n",
       "       [ 63.     ,  98.     ,   0.1212 ,   2.     ],\n",
       "       [107.     , 115.     ,   0.12167,   2.     ],\n",
       "       [ 65.     ,  74.     ,   0.1249 ,   2.     ],\n",
       "       [ 58.     ,  61.     ,   0.14028,   2.     ],\n",
       "       [ 62.     , 152.     ,   0.15356,   3.     ],\n",
       "       [ 41.     , 158.     ,   0.1618 ,   3.     ],\n",
       "       [ 10.     ,  83.     ,   0.18635,   2.     ],\n",
       "       [114.     , 139.     ,   0.20419,   2.     ],\n",
       "       [ 22.     , 150.     ,   0.2045 ,   3.     ],\n",
       "       [ 39.     ,  88.     ,   0.20628,   2.     ],\n",
       "       [ 70.     ,  96.     ,   0.21931,   2.     ]])"
      ]
     },
     "execution_count": 6,
     "metadata": {},
     "output_type": "execute_result"
    }
   ],
   "source": [
    "Z[:20]"
   ]
  },
  {
   "cell_type": "markdown",
   "metadata": {
    "id": "zeVyAfd0Irv_"
   },
   "source": [
    "Fijaos en lós índices, ¿véis algo raro? Fijaos también en la columna de número de muestras. ¿Qué esta pasando?\n",
    "\n",
    "Lo que esta pasando es que cada vez que ocurre una unión, se crea un nuevo cluster con un nuevo índice (por eso hay más de 150, que es el número de muestras de nuestro dataset == el número de clusters iniciales).\n",
    "\n",
    "De hecho, todos los clusters cuyo índice es mayor que 149 (`idx >= len(X)`), realmente se refieren al cluster formado en la unión `Z[idx - len(X)`.\n",
    "\n",
    "Así, el `idx` 149 se corresponde con `X[149]`, pero el `idx=150` se corresponde con el cluster formado en el paso `Z[0]`, y así sucesivamente.\n",
    "\n",
    "Si os fijáis en la iteración 13, se mezclan el cluster 62 con el 152. ¿Y qué es lo que hay en el cluster 152? Pues `Z[152-150]=Z[2]`, por lo tanto, lo que se unió en la iteración 3 (`Z` está indexado en 0). Es decir, el cluster 33 y 68.\n",
    "\n",
    "Vamos a ver las coordenadas para ver si tiene sentido:"
   ]
  },
  {
   "cell_type": "code",
   "execution_count": 7,
   "metadata": {
    "colab": {
     "base_uri": "https://localhost:8080/",
     "height": 535
    },
    "executionInfo": {
     "elapsed": 700,
     "status": "ok",
     "timestamp": 1631907312273,
     "user": {
      "displayName": "Félix José Fuentes Hurtado",
      "photoUrl": "https://lh3.googleusercontent.com/a/default-user=s64",
      "userId": "08557990006797564533"
     },
     "user_tz": -120
    },
    "id": "CiVJyE0mIO0t",
    "outputId": "bfbcd7a0-0908-4bdd-c785-fbf6e9aea816"
   },
   "outputs": [
    {
     "data": {
      "image/png": "[encoded data removed]",
      "text/plain": [
       "<Figure size 720x576 with 1 Axes>"
      ]
     },
     "metadata": {
      "needs_background": "light"
     },
     "output_type": "display_data"
    },
    {
     "name": "stdout",
     "output_type": "stream",
     "text": [
      "[[ 9.83913 -0.4873 ]\n",
      " [ 9.89349 -0.44152]\n",
      " [ 9.97793 -0.56383]]\n"
     ]
    }
   ],
   "source": [
    "idxs = [33, 68, 62]\n",
    "plt.figure(figsize=(10, 8))\n",
    "plt.scatter(X[:,0], X[:,1])  # plot all points\n",
    "plt.scatter(X[idxs,0], X[idxs,1], c='r')  # plot interesting points in red again\n",
    "plt.show()\n",
    "\n",
    "print(X[idxs])"
   ]
  },
  {
   "cell_type": "markdown",
   "metadata": {
    "id": "JzjW4g3DMcAg"
   },
   "source": [
    "Fijaos que los puntos realmente están bastante cerca los unos de los otros, así que tiene sentido.\n",
    "\n",
    "Vamos ahora a ver el dendograma:"
   ]
  },
  {
   "cell_type": "code",
   "execution_count": 8,
   "metadata": {
    "colab": {
     "base_uri": "https://localhost:8080/",
     "height": 474
    },
    "executionInfo": {
     "elapsed": 3643,
     "status": "ok",
     "timestamp": 1631907360322,
     "user": {
      "displayName": "Félix José Fuentes Hurtado",
      "photoUrl": "https://lh3.googleusercontent.com/a/default-user=s64",
      "userId": "08557990006797564533"
     },
     "user_tz": -120
    },
    "id": "kjg13qmxL0fm",
    "outputId": "c5090016-736c-4017-e0cd-f7de0f4f6934"
   },
   "outputs": [
    {
     "data": {
      "image/png": "[encoded data removed]",
      "text/plain": [
       "<Figure size 1800x720 with 1 Axes>"
      ]
     },
     "metadata": {
      "needs_background": "light"
     },
     "output_type": "display_data"
    }
   ],
   "source": [
    "# calculate full dendrogram\n",
    "plt.figure(figsize=(25, 10))\n",
    "plt.title('Dendrograma')\n",
    "plt.xlabel('índice de la muestra')\n",
    "plt.ylabel('distancia')\n",
    "dendrogram(\n",
    "    Z,\n",
    "    leaf_rotation=90.,  # rotates the x axis labels\n",
    "    leaf_font_size=8.,  # font size for the x axis labels\n",
    ")\n",
    "plt.show()"
   ]
  },
  {
   "cell_type": "markdown",
   "metadata": {
    "id": "d6gRgW1jM-hZ"
   },
   "source": [
    "Resumiendo el dendograma:\n",
    "\n",
    " -   Las lineas horizontales son uniones de clusters\n",
    " -   Las líneas verticales nos indican que clústers son parte de cada unión\n",
    " -   Las alturas de las líneas verticales nos indican la distancia que se \"cubrió\" al hacer la unión\n",
    "\n",
    " Además, el dendograma nos permite hacer cosas bastante útiles:"
   ]
  },
  {
   "cell_type": "code",
   "execution_count": 9,
   "metadata": {
    "colab": {
     "base_uri": "https://localhost:8080/",
     "height": 310
    },
    "executionInfo": {
     "elapsed": 768,
     "status": "ok",
     "timestamp": 1631907449393,
     "user": {
      "displayName": "Félix José Fuentes Hurtado",
      "photoUrl": "https://lh3.googleusercontent.com/a/default-user=s64",
      "userId": "08557990006797564533"
     },
     "user_tz": -120
    },
    "id": "v-TwgafXMr3C",
    "outputId": "2aef388f-ecf8-402e-f747-785617751d5e"
   },
   "outputs": [
    {
     "data": {
      "image/png": "[encoded data removed]",
      "text/plain": [
       "<Figure size 432x288 with 1 Axes>"
      ]
     },
     "metadata": {
      "needs_background": "light"
     },
     "output_type": "display_data"
    }
   ],
   "source": [
    "# quedarnos con las últimas p uniones\n",
    "plt.title('Hierarchical Clustering Dendrograma (truncado)')\n",
    "plt.xlabel('índice de la muestra')\n",
    "plt.ylabel('distancia')\n",
    "dendrogram(\n",
    "    Z,\n",
    "    truncate_mode='lastp',  # mostrar solo las últimas p uniones\n",
    "    p=12,  # definimos p\n",
    "    leaf_rotation=90.,\n",
    "    leaf_font_size=12.,\n",
    "    show_contracted=True,  # to get a distribution impression in truncated branches\n",
    ")\n",
    "plt.show()"
   ]
  },
  {
   "cell_type": "code",
   "execution_count": 10,
   "metadata": {
    "executionInfo": {
     "elapsed": 209,
     "status": "ok",
     "timestamp": 1631907519480,
     "user": {
      "displayName": "Félix José Fuentes Hurtado",
      "photoUrl": "https://lh3.googleusercontent.com/a/default-user=s64",
      "userId": "08557990006797564533"
     },
     "user_tz": -120
    },
    "id": "2dVpNa7iO7EC"
   },
   "outputs": [],
   "source": [
    "def fancy_dendrogram(*args, **kwargs):\n",
    "    max_d = kwargs.pop('max_d', None)\n",
    "    if max_d and 'color_threshold' not in kwargs:\n",
    "        kwargs['color_threshold'] = max_d\n",
    "    annotate_above = kwargs.pop('annotate_above', 0)\n",
    "\n",
    "    ddata = dendrogram(*args, **kwargs)\n",
    "\n",
    "    if not kwargs.get('no_plot', False):\n",
    "        plt.title('Hierarchical Clustering Dendrogram (truncated)')\n",
    "        plt.xlabel('sample index or (cluster size)')\n",
    "        plt.ylabel('distance')\n",
    "        for i, d, c in zip(ddata['icoord'], ddata['dcoord'], ddata['color_list']):\n",
    "            x = 0.5 * sum(i[1:3])\n",
    "            y = d[1]\n",
    "            if y > annotate_above:\n",
    "                plt.plot(x, y, 'o', c=c)\n",
    "                plt.annotate(\"%.3g\" % y, (x, y), xytext=(0, -5),\n",
    "                             textcoords='offset points',\n",
    "                             va='top', ha='center')\n",
    "        if max_d:\n",
    "            plt.axhline(y=max_d, c='k')\n",
    "    return ddata"
   ]
  },
  {
   "cell_type": "code",
   "execution_count": 11,
   "metadata": {
    "colab": {
     "base_uri": "https://localhost:8080/",
     "height": 310
    },
    "executionInfo": {
     "elapsed": 723,
     "status": "ok",
     "timestamp": 1631907525828,
     "user": {
      "displayName": "Félix José Fuentes Hurtado",
      "photoUrl": "https://lh3.googleusercontent.com/a/default-user=s64",
      "userId": "08557990006797564533"
     },
     "user_tz": -120
    },
    "id": "NfgmZoE2O9Pl",
    "outputId": "6b8deb26-7c16-4d7a-ad32-9bb3350cde20"
   },
   "outputs": [
    {
     "data": {
      "image/png": "[encoded data removed]",
      "text/plain": [
       "<Figure size 432x288 with 1 Axes>"
      ]
     },
     "metadata": {
      "needs_background": "light"
     },
     "output_type": "display_data"
    }
   ],
   "source": [
    "fancy_dendrogram(\n",
    "    Z,\n",
    "    truncate_mode='lastp',\n",
    "    p=12,\n",
    "    leaf_rotation=90.,\n",
    "    leaf_font_size=12.,\n",
    "    show_contracted=True,\n",
    "    annotate_above=1,  # useful in small plots so annotations don't overlap\n",
    ")\n",
    "plt.show()"
   ]
  },
  {
   "cell_type": "markdown",
   "metadata": {
    "id": "dW01TT_FOiIS"
   },
   "source": [
    "Vamos ahora a seleccionar en qué punto del proceso nos quedamos:"
   ]
  },
  {
   "cell_type": "code",
   "execution_count": 14,
   "metadata": {
    "colab": {
     "base_uri": "https://localhost:8080/",
     "height": 310
    },
    "executionInfo": {
     "elapsed": 590,
     "status": "ok",
     "timestamp": 1631907639852,
     "user": {
      "displayName": "Félix José Fuentes Hurtado",
      "photoUrl": "https://lh3.googleusercontent.com/a/default-user=s64",
      "userId": "08557990006797564533"
     },
     "user_tz": -120
    },
    "id": "Z_Vxg9S3OlW-",
    "outputId": "a4319015-8635-45d6-e371-9e33dcf06815"
   },
   "outputs": [
    {
     "data": {
      "image/png": "[encoded data removed]",
      "text/plain": [
       "<Figure size 432x288 with 1 Axes>"
      ]
     },
     "metadata": {
      "needs_background": "light"
     },
     "output_type": "display_data"
    }
   ],
   "source": [
    "d_max = 4\n",
    "\n",
    "\n",
    "fancy_dendrogram(\n",
    "    Z,\n",
    "    truncate_mode='lastp',\n",
    "    p=12,\n",
    "    leaf_rotation=90.,\n",
    "    leaf_font_size=12.,\n",
    "    show_contracted=True,\n",
    "    annotate_above=1,\n",
    "    max_d=d_max,  # plot a horizontal cut-off line\n",
    ")\n",
    "plt.show()"
   ]
  },
  {
   "cell_type": "markdown",
   "metadata": {
    "id": "nWmUkeAjPTy2"
   },
   "source": [
    "Fuente: https://joernhees.de/blog/2015/08/26/scipy-hierarchical-clustering-and-dendrogram-tutorial/"
   ]
  },
  {
   "cell_type": "code",
   "execution_count": null,
   "metadata": {
    "id": "L9-eeuAePUk5"
   },
   "outputs": [],
   "source": []
  },
  {
   "cell_type": "markdown",
   "metadata": {
    "id": "eqHw7eXePfnq"
   },
   "source": [
    "### Ejemplo 2\n",
    "\n",
    "Vamos a ver un segundo ejemplo, esta vez real.\n",
    "\n",
    "Imaginaos que pertenecéis a la junta directiva de un centro comercial y queréis hacer un estudio de qué perfil de cliente es el más rentable para vosotros.\n",
    "\n",
    "Para ello, vamos a hacer uso de este dataset: https://stackabuse.s3.amazonaws.com/files/hierarchical-clustering-with-python-and-scikit-learn-shopping-data.csv."
   ]
  },
  {
   "cell_type": "code",
   "execution_count": 15,
   "metadata": {
    "colab": {
     "base_uri": "https://localhost:8080/"
    },
    "executionInfo": {
     "elapsed": 232,
     "status": "ok",
     "timestamp": 1631907819990,
     "user": {
      "displayName": "Félix José Fuentes Hurtado",
      "photoUrl": "https://lh3.googleusercontent.com/a/default-user=s64",
      "userId": "08557990006797564533"
     },
     "user_tz": -120
    },
    "id": "Lr8k6SWrQDOh",
    "outputId": "de9240e3-b570-4857-c3cc-1cbd7d896c14"
   },
   "outputs": [
    {
     "name": "stdout",
     "output_type": "stream",
     "text": [
      "rm: cannot remove 'hier*': No such file or directory\n"
     ]
    }
   ],
   "source": [
    "!rm hier*"
   ]
  },
  {
   "cell_type": "code",
   "execution_count": 16,
   "metadata": {
    "colab": {
     "base_uri": "https://localhost:8080/"
    },
    "executionInfo": {
     "elapsed": 565,
     "status": "ok",
     "timestamp": 1631907822515,
     "user": {
      "displayName": "Félix José Fuentes Hurtado",
      "photoUrl": "https://lh3.googleusercontent.com/a/default-user=s64",
      "userId": "08557990006797564533"
     },
     "user_tz": -120
    },
    "id": "uARsYCM7Ppc7",
    "outputId": "063a0137-1efa-47cb-9e1c-38efdb55cec7"
   },
   "outputs": [
    {
     "name": "stdout",
     "output_type": "stream",
     "text": [
      "--2021-09-17 19:43:41--  https://stackabuse.s3.amazonaws.com/files/hierarchical-clustering-with-python-and-scikit-learn-shopping-data.csv\n",
      "Resolving stackabuse.s3.amazonaws.com (stackabuse.s3.amazonaws.com)... 52.217.142.137\n",
      "Connecting to stackabuse.s3.amazonaws.com (stackabuse.s3.amazonaws.com)|52.217.142.137|:443... connected.\n",
      "HTTP request sent, awaiting response... 200 OK\n",
      "Length: 4286 (4.2K) [text/csv]\n",
      "Saving to: ‘hierarchical-clustering-with-python-and-scikit-learn-shopping-data.csv’\n",
      "\n",
      "\r",
      "          hierarchi   0%[                    ]       0  --.-KB/s               \r",
      "hierarchical-cluste 100%[===================>]   4.19K  --.-KB/s    in 0s      \n",
      "\n",
      "2021-09-17 19:43:42 (119 MB/s) - ‘hierarchical-clustering-with-python-and-scikit-learn-shopping-data.csv’ saved [4286/4286]\n",
      "\n",
      "total 24\n",
      "drwxr-xr-x 1 root root 4096 Sep 17 19:43 .\n",
      "drwxr-xr-x 1 root root 4096 Sep 17 19:27 ..\n",
      "drwxr-xr-x 4 root root 4096 Sep 16 13:39 .config\n",
      "-rw-r--r-- 1 root root 4286 Jul 27 16:47 hierarchical-clustering-with-python-and-scikit-learn-shopping-data.csv\n",
      "drwxr-xr-x 1 root root 4096 Sep 16 13:40 sample_data\n"
     ]
    }
   ],
   "source": [
    "!wget https://stackabuse.s3.amazonaws.com/files/hierarchical-clustering-with-python-and-scikit-learn-shopping-data.csv\n",
    "!ls -la"
   ]
  },
  {
   "cell_type": "code",
   "execution_count": 17,
   "metadata": {
    "colab": {
     "base_uri": "https://localhost:8080/",
     "height": 206
    },
    "executionInfo": {
     "elapsed": 219,
     "status": "ok",
     "timestamp": 1631907824266,
     "user": {
      "displayName": "Félix José Fuentes Hurtado",
      "photoUrl": "https://lh3.googleusercontent.com/a/default-user=s64",
      "userId": "08557990006797564533"
     },
     "user_tz": -120
    },
    "id": "K_Zyu_MKQFjO",
    "outputId": "da35c81b-4a8c-4ba5-a594-ffd0d6f28205"
   },
   "outputs": [
    {
     "data": {
      "text/html": [
       "<div>\n",
       "<style scoped>\n",
       "    .dataframe tbody tr th:only-of-type {\n",
       "        vertical-align: middle;\n",
       "    }\n",
       "\n",
       "    .dataframe tbody tr th {\n",
       "        vertical-align: top;\n",
       "    }\n",
       "\n",
       "    .dataframe thead th {\n",
       "        text-align: right;\n",
       "    }\n",
       "</style>\n",
       "<table border=\"1\" class=\"dataframe\">\n",
       "  <thead>\n",
       "    <tr style=\"text-align: right;\">\n",
       "      <th></th>\n",
       "      <th>CustomerID</th>\n",
       "      <th>Genre</th>\n",
       "      <th>Age</th>\n",
       "      <th>Annual Income (k$)</th>\n",
       "      <th>Spending Score (1-100)</th>\n",
       "    </tr>\n",
       "  </thead>\n",
       "  <tbody>\n",
       "    <tr>\n",
       "      <th>0</th>\n",
       "      <td>1</td>\n",
       "      <td>Male</td>\n",
       "      <td>19</td>\n",
       "      <td>15</td>\n",
       "      <td>39</td>\n",
       "    </tr>\n",
       "    <tr>\n",
       "      <th>1</th>\n",
       "      <td>2</td>\n",
       "      <td>Male</td>\n",
       "      <td>21</td>\n",
       "      <td>15</td>\n",
       "      <td>81</td>\n",
       "    </tr>\n",
       "    <tr>\n",
       "      <th>2</th>\n",
       "      <td>3</td>\n",
       "      <td>Female</td>\n",
       "      <td>20</td>\n",
       "      <td>16</td>\n",
       "      <td>6</td>\n",
       "    </tr>\n",
       "    <tr>\n",
       "      <th>3</th>\n",
       "      <td>4</td>\n",
       "      <td>Female</td>\n",
       "      <td>23</td>\n",
       "      <td>16</td>\n",
       "      <td>77</td>\n",
       "    </tr>\n",
       "    <tr>\n",
       "      <th>4</th>\n",
       "      <td>5</td>\n",
       "      <td>Female</td>\n",
       "      <td>31</td>\n",
       "      <td>17</td>\n",
       "      <td>40</td>\n",
       "    </tr>\n",
       "  </tbody>\n",
       "</table>\n",
       "</div>"
      ],
      "text/plain": [
       "   CustomerID   Genre  Age  Annual Income (k$)  Spending Score (1-100)\n",
       "0           1    Male   19                  15                      39\n",
       "1           2    Male   21                  15                      81\n",
       "2           3  Female   20                  16                       6\n",
       "3           4  Female   23                  16                      77\n",
       "4           5  Female   31                  17                      40"
      ]
     },
     "execution_count": 17,
     "metadata": {},
     "output_type": "execute_result"
    }
   ],
   "source": [
    "import pandas as pd\n",
    "customer_data = pd.read_csv('hierarchical-clustering-with-python-and-scikit-learn-shopping-data.csv')\n",
    "customer_data.head()"
   ]
  },
  {
   "cell_type": "markdown",
   "metadata": {
    "id": "NQNNm4L6QbDC"
   },
   "source": [
    "Para poder visualizarlo, vamos a quedarnos con las 2 columnas, y vamos a realizar un clustering con ellas para ver qué tipos diferentes de clientes tenemos:"
   ]
  },
  {
   "cell_type": "code",
   "execution_count": 18,
   "metadata": {
    "colab": {
     "base_uri": "https://localhost:8080/"
    },
    "executionInfo": {
     "elapsed": 207,
     "status": "ok",
     "timestamp": 1631907862119,
     "user": {
      "displayName": "Félix José Fuentes Hurtado",
      "photoUrl": "https://lh3.googleusercontent.com/a/default-user=s64",
      "userId": "08557990006797564533"
     },
     "user_tz": -120
    },
    "id": "ldYHiOt5QS63",
    "outputId": "2d7572fd-f4f4-4258-f3a3-055da3106b77"
   },
   "outputs": [
    {
     "name": "stdout",
     "output_type": "stream",
     "text": [
      "[[15 39]\n",
      " [15 81]\n",
      " [16  6]\n",
      " [16 77]\n",
      " [17 40]\n",
      " [17 76]\n",
      " [18  6]\n",
      " [18 94]\n",
      " [19  3]\n",
      " [19 72]]\n"
     ]
    }
   ],
   "source": [
    "data = customer_data.iloc[:, 3:].values\n",
    "print(data[:10])"
   ]
  },
  {
   "cell_type": "code",
   "execution_count": 19,
   "metadata": {
    "colab": {
     "base_uri": "https://localhost:8080/",
     "height": 498
    },
    "executionInfo": {
     "elapsed": 5644,
     "status": "ok",
     "timestamp": 1631907921339,
     "user": {
      "displayName": "Félix José Fuentes Hurtado",
      "photoUrl": "https://lh3.googleusercontent.com/a/default-user=s64",
      "userId": "08557990006797564533"
     },
     "user_tz": -120
    },
    "id": "TqWi84QXQ4WA",
    "outputId": "30fdc71c-8dfc-4588-96f9-8c7245a19c67"
   },
   "outputs": [
    {
     "data": {
      "image/png": "[encoded data removed]",
      "text/plain": [
       "<Figure size 720x576 with 1 Axes>"
      ]
     },
     "metadata": {
      "needs_background": "light"
     },
     "output_type": "display_data"
    }
   ],
   "source": [
    "# realizamos el clustering\n",
    "\n",
    "plt.figure(figsize=(10, 8))\n",
    "plt.title(\"Dendograma de nuestros clientes\")\n",
    "Z = linkage(data, method='ward')\n",
    "dendrograma = dendrogram(Z)"
   ]
  },
  {
   "cell_type": "markdown",
   "metadata": {
    "id": "ZKPqEQ0hRV9H"
   },
   "source": [
    "Fijaos que parece que encuentra 5 tipos de clientes más o menos diferenciados (cortando en 150, donde existe la mayor distancia vertical para el cluster de más a la derecha). Pero lo único que tenemos en Z es la clasificación de los clientes existentes. ¿Y si quisieramos predecir un nuevo cliente?\n",
    "\n",
    "Necesitamos hacer uso de `AgglomerativeClustering`:"
   ]
  },
  {
   "cell_type": "code",
   "execution_count": 21,
   "metadata": {
    "colab": {
     "base_uri": "https://localhost:8080/"
    },
    "executionInfo": {
     "elapsed": 216,
     "status": "ok",
     "timestamp": 1631908023275,
     "user": {
      "displayName": "Félix José Fuentes Hurtado",
      "photoUrl": "https://lh3.googleusercontent.com/a/default-user=s64",
      "userId": "08557990006797564533"
     },
     "user_tz": -120
    },
    "id": "-h89ZXdZRgS1",
    "outputId": "37368c08-d50a-41cb-83f6-4293d509e2ce"
   },
   "outputs": [
    {
     "name": "stdout",
     "output_type": "stream",
     "text": [
      "[4 3 4 3 4 3 4 3 4 3 4 3 4 3 4 3 4 3 4 3 4 3 4 3 4 3 4 3 4 3 4 3 4 3 4 3 4\n",
      " 3 4 3 4 3 4 1 4 1 1 1 1 1 1 1 1 1 1 1 1 1 1 1 1 1 1 1 1 1 1 1 1 1 1 1 1 1\n",
      " 1 1 1 1 1 1 1 1 1 1 1 1 1 1 1 1 1 1 1 1 1 1 1 1 1 1 1 1 1 1 1 1 1 1 1 1 1\n",
      " 1 1 1 1 1 1 1 1 1 1 1 1 2 1 2 1 2 0 2 0 2 1 2 0 2 0 2 0 2 0 2 1 2 0 2 1 2\n",
      " 0 2 0 2 0 2 0 2 0 2 0 2 1 2 0 2 0 2 0 2 0 2 0 2 0 2 0 2 0 2 0 2 0 2 0 2 0\n",
      " 2 0 2 0 2 0 2 0 2 0 2 0 2 0 2]\n"
     ]
    }
   ],
   "source": [
    "from sklearn.cluster import AgglomerativeClustering\n",
    "\n",
    "cluster = AgglomerativeClustering(n_clusters=5, affinity='euclidean', linkage='ward')\n",
    "clusters = cluster.fit_predict(data)\n",
    "print(clusters)"
   ]
  },
  {
   "cell_type": "code",
   "execution_count": 22,
   "metadata": {
    "colab": {
     "base_uri": "https://localhost:8080/",
     "height": 445
    },
    "executionInfo": {
     "elapsed": 775,
     "status": "ok",
     "timestamp": 1631908037702,
     "user": {
      "displayName": "Félix José Fuentes Hurtado",
      "photoUrl": "https://lh3.googleusercontent.com/a/default-user=s64",
      "userId": "08557990006797564533"
     },
     "user_tz": -120
    },
    "id": "w22QCV-kRxlv",
    "outputId": "04107bba-fa2b-4946-fd9b-88a12eb3519b"
   },
   "outputs": [
    {
     "data": {
      "text/plain": [
       "<matplotlib.collections.PathCollection at 0x7f4eecd800d0>"
      ]
     },
     "execution_count": 22,
     "metadata": {},
     "output_type": "execute_result"
    },
    {
     "data": {
      "image/png": "[encoded data removed]",
      "text/plain": [
       "<Figure size 720x504 with 1 Axes>"
      ]
     },
     "metadata": {
      "needs_background": "light"
     },
     "output_type": "display_data"
    }
   ],
   "source": [
    "plt.figure(figsize=(10, 7))\n",
    "plt.scatter(data[:,0], data[:,1], c=cluster.labels_, cmap='rainbow')"
   ]
  },
  {
   "cell_type": "code",
   "execution_count": null,
   "metadata": {
    "id": "QPsbbl_TR6cw"
   },
   "outputs": [],
   "source": []
  }
 ],
 "metadata": {
  "colab": {
   "collapsed_sections": [],
   "name": "VC03 - Métodos de clustering jerárquico.ipynb",
   "provenance": []
  },
  "kernelspec": {
   "display_name": "Python 3",
   "language": "python",
   "name": "python3"
  },
  "language_info": {
   "codemirror_mode": {
    "name": "ipython",
    "version": 3
   },
   "file_extension": ".py",
   "mimetype": "text/x-python",
   "name": "python",
   "nbconvert_exporter": "python",
   "pygments_lexer": "ipython3",
   "version": "3.8.8"
  }
 },
 "nbformat": 4,
 "nbformat_minor": 1
}
