{
 "cells": [
  {
   "cell_type": "markdown",
   "metadata": {
    "id": "NnyNgqjZ2J6z"
   },
   "source": [
    "<center><h1>N1: Métodos de clustering</h1></center>\n",
    "\n",
    "# Introducción\n",
    "\n",
    "¡Hola a tod@s y bienvenid@s al Notebook práctico 1 de la asignatura!\n",
    "\n",
    "En este práctica vamos a trabajar con las diferentes técnicas de clustering para afianzar los contenidos vistos durante las clases prácticas. \n",
    "\n",
    "La práctica se divide en 5 sub-notebooks:\n",
    "\n",
    "* N1.1: Métodos de clustering basados en **particiones** *(VC02)*\n",
    "* N1.2: Métodos de clustering **jerárquico** *(VC03)*\n",
    "* N1.3: Métodos de clustering **espectral** *(VC04)*\n",
    "* N1.4: Métodos de clustering basados en **densidad** *(VC05)*\n",
    "* N1.5: Métodos de clustering basados en **modelos probabilísticos** *(VC06)*\n",
    "\n",
    "No os asustéis, esta práctica no pretende ser nada complicado ni rebuscado, simplemente una aplicación práctica de lo que ya habéis visto en clase. \n",
    "\n",
    "Los notebooks de los distintos bloques irán apareciendo en el Aula virtual, dentro de `Recursos y materiales/04. Notebooks de prácticas`.\n",
    "\n",
    "Mi recomendación personal es que hagáis cada notebook en los días siguientes a la clase correspondiente y que no los dejéis para el final. Entre parentesis tenéis la fecha en la que veréis la clase correspondiente al notebook de la práctica que podéis hacer."
   ]
  },
  {
   "cell_type": "markdown",
   "metadata": {
    "id": "DwD1DpgrHyQR"
   },
   "source": [
    "# N1.1: Métodos de clustering basados en particiones\n",
    "*Este notebook esta disponible en `Recursos y materiales/04. Notebooks de prácticas`. Se recomienda hacerlo tras haber visto la correspondiente VC*."
   ]
  },
  {
   "cell_type": "markdown",
   "metadata": {
    "id": "JXaSISNJIQg7"
   },
   "source": [
    "# N1.2: Métodos de clustering jerárquico\n",
    "*Este notebook esta disponible en `Recursos y materiales/04. Notebooks de prácticas`. Se recomienda hacerlo tras haber visto la correspondiente VC*.\n"
   ]
  },
  {
   "cell_type": "markdown",
   "metadata": {
    "id": "j9VgaSeuIX1r"
   },
   "source": [
    "# N1.3: Métodos de clustering espectral\n",
    "*Este notebook esta disponible en `Recursos y materiales/04. Notebooks de prácticas`. Se recomienda hacerlo tras haber visto la correspondiente VC*."
   ]
  },
  {
   "cell_type": "markdown",
   "metadata": {
    "id": "kfBfZ5WYIeZJ"
   },
   "source": [
    "# N1.4: Métodos de clustering basados en densidad\n",
    "*Este notebook esta disponible en `Recursos y materiales/04. Notebooks de prácticas`. Se recomienda hacerlo tras haber visto la correspondiente VC*.\n"
   ]
  },
  {
   "cell_type": "markdown",
   "metadata": {
    "id": "9sqrc1cjIjNh"
   },
   "source": [
    "# N1.5: Métodos de clustering basados en modelos probabilísticos\n",
    "*Este notebook esta disponible en `Recursos y materiales/04. Notebooks de prácticas`. Se recomienda hacerlo tras haber visto la correspondiente VC*.\n"
   ]
  },
  {
   "cell_type": "code",
   "execution_count": null,
   "metadata": {},
   "outputs": [],
   "source": []
  }
 ],
 "metadata": {
  "colab": {
   "collapsed_sections": [],
   "name": "N1 - Métodos de clustering - Introducción.ipynb",
   "provenance": []
  },
  "kernelspec": {
   "display_name": "Python 3",
   "language": "python",
   "name": "python3"
  },
  "language_info": {
   "codemirror_mode": {
    "name": "ipython",
    "version": 3
   },
   "file_extension": ".py",
   "mimetype": "text/x-python",
   "name": "python",
   "nbconvert_exporter": "python",
   "pygments_lexer": "ipython3",
   "version": "3.8.10"
  }
 },
 "nbformat": 4,
 "nbformat_minor": 1
}
