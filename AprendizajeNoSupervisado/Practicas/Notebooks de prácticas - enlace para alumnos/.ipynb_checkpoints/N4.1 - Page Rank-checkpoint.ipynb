{
 "cells": [
  {
   "cell_type": "markdown",
   "metadata": {
    "id": "iCzg5yUYhRaJ"
   },
   "source": [
    "<center><h1>VC10: Page Rank</h1></center>"
   ]
  },
  {
   "cell_type": "markdown",
   "metadata": {
    "id": "MAsz003KMbmS"
   },
   "source": [
    "# RECUERDA RELLENAR TUS DATOS A CONTINUACIÓN ANTES DE HACER NADA"
   ]
  },
  {
   "cell_type": "code",
   "execution_count": null,
   "metadata": {
    "id": "2xBNEFw1HJxS"
   },
   "outputs": [],
   "source": [
    "# ===============================================================#\n",
    "# Rellena AQUÍ tu nombre y apellidos antes de hacer nada\n",
    "# ===============================================================#\n",
    "\n",
    "NOMBRE = 'Mayra'\n",
    "APELLIDOS = 'Pullupaxi'\n",
    "\n",
    "# ===============================================================#"
   ]
  },
  {
   "cell_type": "markdown",
   "metadata": {
    "id": "7_hn9r69vo6u"
   },
   "source": [
    "En este tutorial vamos a ver las diferentes maneras de calcular \n",
    "el PageRank de un grafo. Para ello, vamos a usar el siguiente \n",
    "grafo de ejemplo:\n",
    "\n",
    "\n",
    "<img src=\"images/grafo.png\" style=\"width:300px\"/>\n",
    "\n",
    "Una manera habitual de representar un grafo en computación es \n",
    "a través de su matriz de adyacencia. Una matriz de adyacencias \n",
    "es una matriz cuadrada de tantas filas/columnas como nodos hay \n",
    "en el grafo que codifica las posibles transiciones: un uno en \n",
    "la celda $(i,j)$ señala que hay un arco (dirigido) desde el nodo \n",
    "$i$ al nodo $j$. En este caso, dicha matriz sería:\n",
    "\n",
    "<pre>\n",
    "+---------------+\n",
    "| 0  0  0  1  1 |\n",
    "| 1  0  1  0  0 |\n",
    "| 0  0  0  0  1 |\n",
    "| 0  1  1  0  0 |\n",
    "| 0  0  1  1  0 |\n",
    "+---------------+\n",
    "</pre>\n",
    "\n",
    "El producto matricial de la matriz de adyacencias consigo misma \n",
    "devuelve una nueva matriz que indica los nodos comunicados por \n",
    "caminos de tamaño dos. En este sentido, la potencia de la matriz \n",
    "elevada a $l$ devuelve una matriz que indica si existen caminos \n",
    "de longitud $l$ entre cada par de nodos:\n"
   ]
  },
  {
   "cell_type": "code",
   "execution_count": 1,
   "metadata": {
    "id": "X3jdD1dJvo6v"
   },
   "outputs": [
    {
     "name": "stdout",
     "output_type": "stream",
     "text": [
      "Matriz original:\n",
      "[[0 0 0 1 1]\n",
      " [1 0 1 0 0]\n",
      " [0 0 0 0 1]\n",
      " [0 1 1 0 0]\n",
      " [0 0 1 1 0]]\n",
      "Matriz elevada a la potencia 3 (al cubo):\n",
      "[[1 1 2 0 2]\n",
      " [0 1 3 2 0]\n",
      " [0 1 1 0 1]\n",
      " [0 0 1 2 2]\n",
      " [1 0 2 1 1]]\n"
     ]
    }
   ],
   "source": [
    "import numpy as np\n",
    "\n",
    "D = np.array([[0,1,0,0,0],[0,0,0,1,0],[0,1,0,1,1],[1,0,0,0,1],[1,0,1,0,0]]).T\n",
    "\n",
    "print(\"Matriz original:\")\n",
    "print(D)\n",
    "print(\"Matriz elevada a la potencia 3 (al cubo):\")\n",
    "print(np.linalg.matrix_power(D,3))\n"
   ]
  },
  {
   "cell_type": "markdown",
   "metadata": {
    "id": "eojT4w_kvo6x"
   },
   "source": [
    "\n",
    "Esta última matriz indica que hay, p.ej., 3 posibles caminos que \n",
    "van desde el segundo nodo al tercero. \n",
    "\n",
    "\n",
    "El cálculo del algoritmo PageRank se basa en el uso de un grafo bien \n",
    "conectado. Podemos saberlo haciendo el siguiente cálculo. \n",
    "Si después de la suma de las primeras X potencias de la \n",
    "matriz todavía hay algún cero en la matriz resultante, \n",
    "el grafo <b>no</b> es fuertemente conexo. "
   ]
  },
  {
   "cell_type": "code",
   "execution_count": 6,
   "metadata": {
    "id": "ylxwBEXrvo6y"
   },
   "outputs": [
    {
     "name": "stdout",
     "output_type": "stream",
     "text": [
      "Número de caminos posibles en un máximo de 4 pasos entre cualquier par de nodos:\n",
      "[[3. 2. 7. 5. 6.]\n",
      " [2. 4. 7. 3. 5.]\n",
      " [1. 1. 5. 2. 3.]\n",
      " [1. 3. 7. 5. 4.]\n",
      " [1. 2. 6. 4. 6.]]\n"
     ]
    }
   ],
   "source": [
    "B = np.diag(np.ones(D.shape[0]))\n",
    "prod = D\n",
    "for i in np.arange(1,5):\n",
    "    \n",
    "    ## P1\n",
    "    B += np.linalg.matrix_power(D,i)## P1. Tu código aquí ##\n",
    "\n",
    "print(\"Número de caminos posibles en un máximo de 4 pasos entre cualquier par de nodos:\")\n",
    "print(B)"
   ]
  },
  {
   "cell_type": "markdown",
   "metadata": {
    "id": "5jyi46AGvo60"
   },
   "source": [
    "\n",
    "El PageRank no se calcula sobre la matriz de adyacencias, sino \n",
    "que se calcula con la matriz de transiciones. La <b>matriz de \n",
    "transiciones</b> indica la probabilidad de moverse de un nodo a \n",
    "otro. Así, el valor en la celda \n",
    "$(i,j)$ indica la probabilidad de que saliendo del nodo $j$ \n",
    "lleguemos al $i$. Si asumimos igual probabilidad en todas las \n",
    "transiciones, la probabilidad de moverse de $j$ a $i$ es igual \n",
    "a 1 entre el <i>outdegree</i> de $j$ (número de arcos que salen \n",
    "del nodo $j$). Intuitivamente, la suma de las columnas es igual \n",
    "a 1. Sólo será 0 si el nodo correspondiente no tiene arcos \n",
    "de salida (<i>outdegree</i> $=0$). De acuerdo con esta definición, \n",
    "la matriz de transiciones del grafo anterior sería:\n"
   ]
  },
  {
   "cell_type": "code",
   "execution_count": 7,
   "metadata": {
    "id": "mcuerQuTvo60"
   },
   "outputs": [
    {
     "name": "stdout",
     "output_type": "stream",
     "text": [
      "La matriz de transiciones de D es:\n",
      "[[0.  0.5 0.  0.  0. ]\n",
      " [0.  0.  0.  0.5 0. ]\n",
      " [0.  0.5 0.  0.5 0.5]\n",
      " [0.5 0.  0.  0.  0.5]\n",
      " [0.5 0.  1.  0.  0. ]]\n"
     ]
    }
   ],
   "source": [
    "outdegree = np.sum(D,axis=1)\n",
    "A = (D / outdegree[:,np.newaxis]).T\n",
    "\n",
    "print(\"La matriz de transiciones de D es:\")\n",
    "print(A)"
   ]
  },
  {
   "cell_type": "markdown",
   "metadata": {
    "id": "wuG_XVlPvo62"
   },
   "source": [
    "Disponiendo de esta matriz, el PageRank se calcula como la \n",
    "potencia $n$-ésima de la matriz de transiciones por un vector \n",
    "de inicio uniformemente aleatorio (todos los valores son iguales a 1 entre \n",
    "el número de nodos) indicando que todas los nodos tienen \n",
    "inicialmente la misma probabilidad de ser el primer nodo en ser visitado."
   ]
  },
  {
   "cell_type": "code",
   "execution_count": 12,
   "metadata": {
    "id": "lpQdmpK4vo62"
   },
   "outputs": [
    {
     "name": "stdout",
     "output_type": "stream",
     "text": [
      "PageRank para A** 1 es: [0.1 0.1 0.3 0.2 0.3]\n",
      "PageRank para A** 2 es: [0.05 0.1  0.3  0.2  0.35]\n",
      "PageRank para A** 3 es: [0.05  0.1   0.325 0.2   0.325]\n",
      "PageRank para A** 4 es: [0.05   0.1    0.3125 0.1875 0.35  ]\n",
      "PageRank para A** 5 es: [0.05    0.09375 0.31875 0.2     0.3375 ]\n",
      "PageRank para A** 6 es: [0.046875 0.1      0.315625 0.19375  0.34375 ]\n",
      "PageRank para A** 7 es: [0.05      0.096875  0.31875   0.1953125 0.3390625]\n",
      "PageRank para A** 8 es: [0.0484375  0.09765625 0.315625   0.19453125 0.34375   ]\n",
      "PageRank para A** 9 es: [0.04882812 0.09726563 0.31796875 0.19609375 0.33984375]\n",
      "PageRank para A**10 es: [0.04863281 0.09804688 0.31660156 0.19433594 0.34238281]\n",
      "PageRank para A**11 es: [0.04902344 0.09716797 0.31738281 0.19550781 0.34091797]\n",
      "PageRank para A**12 es: [0.04858398 0.09775391 0.31679688 0.1949707  0.34189453]\n",
      "PageRank para A**13 es: [0.04887695 0.09748535 0.31730957 0.19523926 0.34108887]\n",
      "PageRank para A**14 es: [0.04874268 0.09761963 0.31690674 0.19498291 0.34174805]\n",
      "PageRank para A**15 es: [0.04880981 0.09749146 0.31717529 0.19524536 0.34127808]\n",
      "PageRank para A**16 es: [0.04874573 0.09762268 0.31700745 0.19504395 0.3415802 ]\n",
      "PageRank para A**17 es: [0.04881134 0.09752197 0.31712341 0.19516296 0.34138031]\n",
      "PageRank para A**18 es: [0.04876099 0.09758148 0.31703262 0.19509583 0.34152908]\n",
      "PageRank para A**19 es: [0.04879074 0.09754791 0.3171032  0.19514503 0.34141312]\n",
      "PageRank para A**20 es: [0.04877396 0.09757252 0.31705303 0.19510193 0.34149857]\n",
      "PageRank para A**21 es: [0.04878626 0.09755096 0.31708651 0.19513626 0.34144001]\n",
      "PageRank para A**22 es: [0.04877548 0.09756813 0.31706362 0.19511313 0.34147964]\n",
      "PageRank para A**23 es: [0.04878407 0.09755657 0.31708045 0.19512756 0.34145136]\n",
      "PageRank para A**24 es: [0.04877828 0.09756378 0.31706774 0.19511771 0.34147248]\n",
      "PageRank para A**25 es: [0.04878189 0.09755886 0.31707699 0.19512538 0.34145688]\n",
      "PageRank para A**26 es: [0.04877943 0.09756269 0.31707056 0.19511939 0.34146793]\n",
      "PageRank para A**27 es: [0.04878135 0.09755969 0.31707501 0.19512368 0.34146028]\n",
      "PageRank para A**28 es: [0.04877985 0.09756184 0.31707182 0.19512081 0.34146568]\n",
      "PageRank para A**29 es: [0.04878092 0.09756041 0.31707416 0.19512276 0.34146175]\n",
      "PageRank para A**30 es: [0.0487802  0.09756138 0.31707246 0.19512133 0.34146462]\n"
     ]
    }
   ],
   "source": [
    "# F: Vector de inicio aleatorio\n",
    "F = np.ones(D.shape[0])\n",
    "F /= np.sum(F)\n",
    "\n",
    "# Cálculo del page rank para diferentes potencias\n",
    "for i in np.arange(1,31):\n",
    "    \n",
    "    ## P2\n",
    "    rank = np.dot(np.linalg.matrix_power(A,i),F)## P2. Tu código aquí #\n",
    "    \n",
    "    print(\"PageRank para A**{:2d} es: {}\".format(i,rank))"
   ]
  },
  {
   "cell_type": "markdown",
   "metadata": {
    "id": "d1NjoB6Kvo64"
   },
   "source": [
    "\n",
    "Se observa claramente que a medida que se aumenta el valor del exponente (potencia), el resultado del PageRank que se calcula es más estable.\n",
    "\n",
    "El PageRank también se puede calcular como el primer vector propio de la matriz de transiciones normalizado:"
   ]
  },
  {
   "cell_type": "code",
   "execution_count": 13,
   "metadata": {
    "id": "CkNdL0OKvo64"
   },
   "outputs": [
    {
     "name": "stdout",
     "output_type": "stream",
     "text": [
      "PageRank calculado mediante técnicas algebraicas: [0.04878049 0.09756098 0.31707317 0.19512195 0.34146341]\n"
     ]
    }
   ],
   "source": [
    "_, vects = np.linalg.eig(A)\n",
    "aux = vects[:,0]\n",
    "aux /= np.sum(aux)\n",
    "print('PageRank calculado mediante técnicas algebraicas:',aux.real)"
   ]
  },
  {
   "cell_type": "markdown",
   "metadata": {
    "id": "SNqe1znIvo66"
   },
   "source": [
    "Se puede ver que devuelven el mismo valor, aunque el cálculo \n",
    "con potencias es aproximado. Si aumentamos o reducimos el \n",
    "número del exponente en la potencia, la aproximación será más o menos fiable.\n",
    "\n",
    "Y hasta aquí, el cálculo del PageRank. Vamos a hacer ahora \n",
    "una prueba usando otro grafo diferente:\n",
    "\n",
    "<img src=\"images/grafo_sinDtoB.png\" style=\"width:300px\" />\n",
    "\n",
    "que se representa por medio de la siguiente matriz de adyacencias:"
   ]
  },
  {
   "cell_type": "code",
   "execution_count": 15,
   "metadata": {
    "id": "ONNJTmUNvo66"
   },
   "outputs": [
    {
     "name": "stdout",
     "output_type": "stream",
     "text": [
      "Matriz de adyacencias del segundo grafo:\n",
      "[[0 0 0 1 1]\n",
      " [1 0 1 0 0]\n",
      " [0 0 0 0 1]\n",
      " [0 0 1 0 0]\n",
      " [0 0 1 1 0]]\n",
      "Matriz de transiciones del segundo grafo:\n",
      "[[0.  0.5 0.  0.  0. ]\n",
      " [0.  0.  0.  0.  0. ]\n",
      " [0.  0.5 0.  1.  0.5]\n",
      " [0.5 0.  0.  0.  0.5]\n",
      " [0.5 0.  1.  0.  0. ]]\n",
      "PageRank para A**30 es: [0.         0.         0.40000305 0.2        0.39999695]\n"
     ]
    }
   ],
   "source": [
    "D = np.array([[0,1,0,0,0],[0,0,0,0,0],[0,1,0,1,1],[1,0,0,0,1],[1,0,1,0,0]]).T\n",
    "\n",
    "print(\"Matriz de adyacencias del segundo grafo:\")\n",
    "print(D)\n",
    "\n",
    "outdegree = np.sum(D,axis=1)\n",
    "A = (D / outdegree[:,np.newaxis]).T\n",
    "\n",
    "print(\"Matriz de transiciones del segundo grafo:\")\n",
    "print(A)\n",
    "\n",
    "rank = np.dot(np.linalg.matrix_power(A,30),F)\n",
    "print(\"PageRank para A**{:2d} es: {}\".format(30,rank))"
   ]
  },
  {
   "cell_type": "markdown",
   "metadata": {
    "id": "4BEPsMdXvo68"
   },
   "source": [
    "\n",
    "Observen que este grafo no tiene arcos que apunten al nodo $B$. \n",
    "Esto genera problemas en los cálculos del PageRank: si no hay \n",
    "ningún nodo apuntando a $B$, éste obtiene un <i>score</i> (valor \n",
    "de PageRank) igual a $0$. También recibe valor $0$ cualquier otro \n",
    "nodo que sólo está apuntado por nodos del estilo de $B$. \n",
    "Esto no es realista, pues todas los \n",
    "nodos son alcanzables (¡al menos por quien lo creó!). Los problemas \n",
    "que este hecho acarrea son abordados mediante una modificación \n",
    "del algoritmo original. Ahora, además del inicio aleatorio, se \n",
    "asumirá que, con cierta probabilidad ($p$), el camino puede \n",
    "realizar un salto aleatorio y seguir en cualquier otro nodo \n",
    "del grafo (aleatoriamente) aunque no estén directamente conectados. \n",
    "\n",
    "En la práctica, se construye una matriz de transiciones alternativa $M$ \n",
    "que toma los valores de la matriz de transiciones original $A$ con \n",
    "probabilidad $(1-p)$ y, con probabilidad $p$, los de otra matriz \n",
    "de transiciones aleatorias $R$ (se puede saltar de cualquier nodo \n",
    "a cualquier otro con la misma probabilidad, $1/|V|$, \n",
    "donde $|V|$ es el número de nodos; $|V|=5$ en este caso).\n"
   ]
  },
  {
   "cell_type": "code",
   "execution_count": 16,
   "metadata": {
    "id": "Qot10SAnvo68"
   },
   "outputs": [
    {
     "name": "stdout",
     "output_type": "stream",
     "text": [
      "La matriz de transiciones original, A, es:\n",
      "[[0.  0.5 0.  0.  0. ]\n",
      " [0.  0.  0.  0.  0. ]\n",
      " [0.  0.5 0.  1.  0.5]\n",
      " [0.5 0.  0.  0.  0.5]\n",
      " [0.5 0.  1.  0.  0. ]]\n",
      "La matriz de transiciones alternativa, M, es:\n",
      "[[0.03  0.455 0.03  0.03  0.03 ]\n",
      " [0.03  0.03  0.03  0.03  0.03 ]\n",
      " [0.03  0.455 0.03  0.88  0.455]\n",
      " [0.455 0.03  0.03  0.03  0.455]\n",
      " [0.455 0.03  0.88  0.03  0.03 ]]\n"
     ]
    }
   ],
   "source": [
    "p = 0.15\n",
    "R = np.ones(D.shape)\n",
    "R /= D.shape[0]\n",
    "\n",
    "M = (1-p)*A + p*R\n",
    "print(\"La matriz de transiciones original, A, es:\")\n",
    "print(A)\n",
    "print(\"La matriz de transiciones alternativa, M, es:\")\n",
    "print(M)"
   ]
  },
  {
   "cell_type": "markdown",
   "metadata": {
    "id": "o04ivwIrvo6-"
   },
   "source": [
    "\n",
    "Como puede observarse, ahora existe la posibilidad de desplazarse \n",
    "de cualquier nodo a cualquier otro en un único paso.\n",
    "\n",
    "Una vez obtenida la nueva matriz de transiciones, $M$, podemos \n",
    "usarla para calcular el PageRank, como se vio anteriormente, \n",
    "cambiando únicamente la matriz $A$ por $M$:\n"
   ]
  },
  {
   "cell_type": "code",
   "execution_count": 17,
   "metadata": {
    "id": "sJLOUWrAvo6-"
   },
   "outputs": [
    {
     "name": "stdout",
     "output_type": "stream",
     "text": [
      "PageRank aproximado para M**30 es: [0.04275    0.03       0.36650801 0.20104148 0.35970052]\n",
      "PageRank (algebra) para M es: [0.04275    0.03       0.36650798 0.20104148 0.35970054]\n"
     ]
    }
   ],
   "source": [
    "F = np.ones(D.shape[0])\n",
    "F /= np.sum(F)\n",
    "\n",
    "rank = np.dot(np.linalg.matrix_power(M,30),F)\n",
    "print(\"PageRank aproximado para M**{:2d} es: {}\".format(30,rank))\n",
    "\n",
    "_, vects = np.linalg.eig(M)\n",
    "rank = vects[:,0]\n",
    "rank /=np.sum(rank)\n",
    "print(\"PageRank (algebra) para M es: {}\".format(rank.real))"
   ]
  },
  {
   "cell_type": "markdown",
   "metadata": {
    "id": "RjGiEE0Mvo7A"
   },
   "source": [
    "\n",
    "<hr />\n",
    "\n",
    "<center><h1>Algoritmo HITS</h1></center>\n",
    "\n",
    "El algoritmo HITS, como hemos visto, es similar en concepción \n",
    "a PageRank. En ese sentido, los cálculos también tienen semejanzas.\n",
    "Podemos usar dos estrategias igualmente: multiplicación de matrices \n",
    "o vectores propios. La diferencia principal es que éste no usa \n",
    "la matriz de transiciones sino la de adyacencias. Así, el cálculo \n",
    "de HITS con multiplicación de matrices para el grafo usado en \n",
    "la sección anterior es:\n"
   ]
  },
  {
   "cell_type": "code",
   "execution_count": 23,
   "metadata": {
    "id": "53Iwqu1Rvo7A"
   },
   "outputs": [
    {
     "name": "stdout",
     "output_type": "stream",
     "text": [
      "El valor de autoridad (A) es  : [0.12711028 0.12711028 0.40658667 0.23315152 0.10604124]\n",
      "El valor de centralidad (H) es: [0.15759064 0.24795826 0.04926729 0.24795826 0.29722555]\n"
     ]
    }
   ],
   "source": [
    "D = np.array([[0,1,0,0,0],[0,0,0,1,0],[0,1,0,1,1],[1,0,0,0,1],[1,0,1,0,0]]).T\n",
    "\n",
    "h = np.ones(D.shape[0])\n",
    "a = np.array([])\n",
    "\n",
    "for i in np.arange(30):\n",
    "    a = np.dot(D.T, h)\n",
    "    \n",
    "    ## P3\n",
    "    h = np.dot(D, a)## P3. TU CODIGO AQUI ##\n",
    "\n",
    "print(\"El valor de autoridad (A) es  : {}\".format(a/np.sum(a)))\n",
    "print(\"El valor de centralidad (H) es: {}\".format(h/np.sum(h)))"
   ]
  },
  {
   "cell_type": "markdown",
   "metadata": {
    "id": "AzSHz_8Xvo7C"
   },
   "source": [
    "\n",
    "Los vectores de <b>authorities</b> (autoridad) y <b>hubs</b> \n",
    "(centralidad) se obtienen \n",
    "de manera iterativa e intercambiándose mútuamente para calcular \n",
    "el otro. La segunda estrategia implica el uso del cálculo de los \n",
    "vectores propios de dos matrices diferentes: la matriz obtenida \n",
    "de multiplicar \n",
    "la transformada de $D$ por $D$; y la matriz obtenida de \n",
    "multiplicar $D$ por la transformada de $D$. Es necesario \n",
    "recordar que la multiplicación matricial <b>no</b> es conmutativa. \n"
   ]
  },
  {
   "cell_type": "code",
   "execution_count": 19,
   "metadata": {
    "id": "GhQ-4D4Rvo7C"
   },
   "outputs": [
    {
     "name": "stdout",
     "output_type": "stream",
     "text": [
      "El valor de autoridad (A) es  : [0.12711039 0.12711039 0.40658689 0.23315136 0.10604097]\n",
      "El valor de centralidad (H) es: [0.15759045 0.24795841 0.04926716 0.24795841 0.29722557]\n"
     ]
    }
   ],
   "source": [
    "vals, vects = np.linalg.eig(np.dot(D.T,D))\n",
    "a = vects[:,np.argmax(vals)]\n",
    "print(\"El valor de autoridad (A) es  : {}\".format(a/np.sum(a)))\n",
    "\n",
    "vals, vects = np.linalg.eig(np.dot(D,D.T))\n",
    "h = vects[:,np.argmax(vals)]\n",
    "print(\"El valor de centralidad (H) es: {}\".format(h/np.sum(h)))"
   ]
  },
  {
   "cell_type": "markdown",
   "metadata": {
    "id": "ufw3S67zvo7E"
   },
   "source": [
    "Como también vimos con PageRank, el cálculo con la multiplicación \n",
    "de matrices es aproximado. Según aumentemos el número de iteraciones \n",
    "del bucle obtendremos una aproximación más precisa.\n",
    "\n",
    "\n",
    "<hr />\n",
    "\n",
    "<center><h1>Personalized PageRank</h1></center>\n",
    "\n",
    "Para el estudio del algoritmo <i>Personalized \n",
    "PageRank</i>, usaremos un nuevo grafo:\n",
    "\n",
    "<img src=\"images/grafo_ppr.png\" style=\"width:300px\" />\n",
    "\n",
    "que se codifica mediante la siguiente matriz de adyacencias:\n"
   ]
  },
  {
   "cell_type": "code",
   "execution_count": 24,
   "metadata": {
    "id": "SEJCQ1hsvo7F"
   },
   "outputs": [
    {
     "name": "stdout",
     "output_type": "stream",
     "text": [
      "La matriz de adyacencias D es:\n",
      "[[0 1 0 0 0 0 0 0 0 0 0 0 0 0 0 0]\n",
      " [1 0 1 1 0 0 0 0 0 0 0 0 0 0 0 0]\n",
      " [0 1 0 0 1 1 1 1 0 0 0 0 0 0 0 0]\n",
      " [0 1 0 0 0 0 0 1 0 0 0 0 0 0 0 0]\n",
      " [0 0 1 0 0 0 0 0 1 1 1 0 0 0 0 0]\n",
      " [0 0 1 0 0 0 1 0 0 0 1 1 0 0 0 0]\n",
      " [0 0 1 0 0 1 0 1 0 0 0 0 0 0 0 0]\n",
      " [0 0 1 1 0 0 1 0 0 0 0 0 1 1 0 0]\n",
      " [0 0 0 0 1 0 0 0 0 0 0 0 0 0 0 0]\n",
      " [0 0 0 0 1 0 0 0 0 0 1 0 0 0 0 0]\n",
      " [0 0 0 0 1 1 0 0 0 1 0 1 0 0 0 0]\n",
      " [0 0 0 0 0 1 0 0 0 0 1 0 0 0 1 0]\n",
      " [0 0 0 0 0 0 0 1 0 0 0 0 0 0 1 0]\n",
      " [0 0 0 0 0 0 0 1 0 0 0 0 0 0 0 0]\n",
      " [0 0 0 0 0 0 0 0 0 0 0 1 1 0 0 1]\n",
      " [0 0 0 0 0 0 0 0 0 0 0 0 0 0 1 0]]\n",
      "La matriz de transiciones A es:\n",
      "[[0.   0.33 0.   0.   0.   0.   0.   0.   0.   0.   0.   0.   0.   0.\n",
      "  0.   0.  ]\n",
      " [1.   0.   0.2  0.5  0.   0.   0.   0.   0.   0.   0.   0.   0.   0.\n",
      "  0.   0.  ]\n",
      " [0.   0.33 0.   0.   0.25 0.25 0.33 0.2  0.   0.   0.   0.   0.   0.\n",
      "  0.   0.  ]\n",
      " [0.   0.33 0.   0.   0.   0.   0.   0.2  0.   0.   0.   0.   0.   0.\n",
      "  0.   0.  ]\n",
      " [0.   0.   0.2  0.   0.   0.   0.   0.   1.   0.5  0.25 0.   0.   0.\n",
      "  0.   0.  ]\n",
      " [0.   0.   0.2  0.   0.   0.   0.33 0.   0.   0.   0.25 0.33 0.   0.\n",
      "  0.   0.  ]\n",
      " [0.   0.   0.2  0.   0.   0.25 0.   0.2  0.   0.   0.   0.   0.   0.\n",
      "  0.   0.  ]\n",
      " [0.   0.   0.2  0.5  0.   0.   0.33 0.   0.   0.   0.   0.   0.5  1.\n",
      "  0.   0.  ]\n",
      " [0.   0.   0.   0.   0.25 0.   0.   0.   0.   0.   0.   0.   0.   0.\n",
      "  0.   0.  ]\n",
      " [0.   0.   0.   0.   0.25 0.   0.   0.   0.   0.   0.25 0.   0.   0.\n",
      "  0.   0.  ]\n",
      " [0.   0.   0.   0.   0.25 0.25 0.   0.   0.   0.5  0.   0.33 0.   0.\n",
      "  0.   0.  ]\n",
      " [0.   0.   0.   0.   0.   0.25 0.   0.   0.   0.   0.25 0.   0.   0.\n",
      "  0.33 0.  ]\n",
      " [0.   0.   0.   0.   0.   0.   0.   0.2  0.   0.   0.   0.   0.   0.\n",
      "  0.33 0.  ]\n",
      " [0.   0.   0.   0.   0.   0.   0.   0.2  0.   0.   0.   0.   0.   0.\n",
      "  0.   0.  ]\n",
      " [0.   0.   0.   0.   0.   0.   0.   0.   0.   0.   0.   0.33 0.5  0.\n",
      "  0.   1.  ]\n",
      " [0.   0.   0.   0.   0.   0.   0.   0.   0.   0.   0.   0.   0.   0.\n",
      "  0.33 0.  ]]\n"
     ]
    }
   ],
   "source": [
    "D = np.zeros((16,16))\n",
    "D[0,1] = D[1,0] = 1; D[1,2] = D[2,1] = 1\n",
    "D[1,3] = D[3,1] = 1; D[1,3] = D[3,1] = 1\n",
    "D[2,4] = D[4,2] = 1; D[2,5] = D[5,2] = 1\n",
    "D[2,6] = D[6,2] = 1; D[2,7] = D[7,2] = 1\n",
    "D[5,6] = D[6,5] = 1; D[6,7] = D[7,6] = 1\n",
    "D[3,7] = D[7,3] = 1; D[4,8] = D[8,4] = 1\n",
    "D[4,9] = D[9,4] = 1; D[4,10] = D[10,4] = 1\n",
    "D[9,10] = D[10,9] = 1; D[5,10] = D[10,5] = 1\n",
    "D[5,11] = D[11,5] = 1; D[10,11] = D[11,10] = 1\n",
    "D[7,12] = D[12,7] = 1; D[7,13] = D[13,7] = 1\n",
    "D[14,11] = D[11,14] = 1; D[14,12] = D[12,14] = 1\n",
    "D[14,15] = D[15,14] = 1;\n",
    "\n",
    "print(\"La matriz de adyacencias D es:\")\n",
    "print(D.astype(int))\n",
    "\n",
    "A = D.T/np.sum(D,axis=1)\n",
    "\n",
    "print(\"La matriz de transiciones A es:\")\n",
    "print(np.round(A,2))\n"
   ]
  },
  {
   "cell_type": "markdown",
   "metadata": {
    "id": "sY19sL8Uvo7G"
   },
   "source": [
    "\n",
    "Similar al PageRank normal, existen tres maneras de calcular el PPR: \n",
    "con potencias \n",
    "de matrices, vectores propios o muestreo. En el primer \n",
    "caso, la potencia de la matriz de transiciones adaptada ($M$) \n",
    "se obtiene:\n"
   ]
  },
  {
   "cell_type": "code",
   "execution_count": 25,
   "metadata": {
    "id": "Gs89uDeRvo7G"
   },
   "outputs": [
    {
     "name": "stdout",
     "output_type": "stream",
     "text": [
      "Personalized PageRank aproximado para M**30 es: \n",
      "[0.21788325 0.23950534 0.11263876 0.08286386 0.03853373 0.04367079\n",
      " 0.04340574 0.08800673 0.00819452 0.01448182 0.02958747 0.02105317\n",
      " 0.02045852 0.0149806  0.01925777 0.00547792]\n"
     ]
    }
   ],
   "source": [
    "p = 0.15\n",
    "\n",
    "R = np.zeros(D.shape)\n",
    "R[0,:] = 1\n",
    "F = R[:,0]\n",
    "\n",
    "M = (1-p)*A + p*R\n",
    "\n",
    "rank = np.dot(np.linalg.matrix_power(M,30),F)\n",
    "print(\"Personalized PageRank aproximado para M**{:2d} es: \\n{}\".format(30,rank))"
   ]
  },
  {
   "cell_type": "markdown",
   "metadata": {
    "id": "e482-OACvo7I"
   },
   "source": [
    "\n",
    "En este caso, el nodo inicial es sólo el nodo 1. Le \n",
    "asignamos probabilidad 1 (y 0 al resto) para indicar \n",
    "que todos los caminos empiezan (y se reinician) siembre \n",
    "desde ese nodo en el grafo. \n",
    "Podríamos repartir la probabilidad de inicio entre \n",
    "varios nodos. Nótese que si repartimos la probabilidad \n",
    "de manera uniforme entre todos los nodos nos encontraremos \n",
    "en el PageRank tradicional.\n",
    "\n",
    "La segunda manera de calcular el Personalized PageRank es usando la técnica basada en álgebra:\n"
   ]
  },
  {
   "cell_type": "code",
   "execution_count": 26,
   "metadata": {
    "id": "lMGJN7Jxvo7I"
   },
   "outputs": [
    {
     "name": "stdout",
     "output_type": "stream",
     "text": [
      "Personalized PageRank (algebra) para M es: \n",
      "[0.21786936 0.23953892 0.11260915 0.08283861 0.03854741 0.04368739\n",
      " 0.04339638 0.08805442 0.00819132 0.01447899 0.02958899 0.02103716\n",
      " 0.02043518 0.01496925 0.01929152 0.00546593]\n"
     ]
    }
   ],
   "source": [
    "_, vects = np.linalg.eig(M)\n",
    "rank = vects[:,0]\n",
    "rank /=np.sum(rank)\n",
    "print(\"Personalized PageRank (algebra) para M es: \\n{}\".format(rank.real))"
   ]
  },
  {
   "cell_type": "markdown",
   "metadata": {
    "id": "T7Ne0X17vo7K"
   },
   "source": [
    "\n",
    "Finalmente, podemos usar el muestreo. Básicamente se trata \n",
    "de lanzar $n$ <i>random walks</i> de longitud $l$. Dejamos \n",
    "que cada camino complete los $l$ pasos y guardamos el \n",
    "nodo en el que acaba cada uno de los caminos. Es necesario \n",
    "recordar que, con cierta probabilidad ($p$), el camino puede \n",
    "volver al nodo inicial para reiniciar un camino que realizará \n",
    "sólo los $\\hat{l}$ pasos restantes. Al final, la frecuencia con \n",
    "la que se llega a esos nodos finales sigue la distribución \n",
    "de probabilidad que representa el PageRank:\n"
   ]
  },
  {
   "cell_type": "code",
   "execution_count": 32,
   "metadata": {
    "id": "3aFynWVqvo7K"
   },
   "outputs": [
    {
     "name": "stdout",
     "output_type": "stream",
     "text": [
      "Personalized PageRank aproximado (muestreo) para D es: \n",
      "[0.223      0.23433333 0.12433333 0.08333333 0.046      0.03766667\n",
      " 0.043      0.07933333 0.00566667 0.01266667 0.03166667 0.01966667\n",
      " 0.02066667 0.01333333 0.02       0.00533333]\n",
      "El valor aproximado de Personalized PageRank del primer nodo es: 0.223\n"
     ]
    }
   ],
   "source": [
    "np.random.seed(17)\n",
    "\n",
    "p = 0.15\n",
    "first_node = 0\n",
    "nwalks = 3000\n",
    "walk_len = 20\n",
    "rank = np.zeros(D.shape[0])\n",
    "for w in np.arange(nwalks):\n",
    "    act = first_node\n",
    "    \n",
    "    for s in np.arange(walk_len):\n",
    "        if p > np.random.random_sample():\n",
    "            act = first_node\n",
    "        else:\n",
    "            cand = np.where(D[act,:].flatten() != 0)[0]\n",
    "            \n",
    "            # P4\n",
    "            act = np.random.choice(cand) ## P4. TU CODIGO AQUI ##\n",
    "    rank[act] += 1\n",
    "\n",
    "rank /= np.sum(rank)\n",
    "print(\"Personalized PageRank aproximado (muestreo) para D es: \\n{}\".format(rank))\n",
    "print(\"El valor aproximado de Personalized PageRank del primer nodo es:\",rank[0])"
   ]
  },
  {
   "cell_type": "markdown",
   "metadata": {
    "id": "Q6ac7QLwvo7M"
   },
   "source": [
    "\n",
    "El cálculo con la potencia de matrices y el de muestreo \n",
    "son ambos aproximados. Según aumentemos el número de iteraciones \n",
    "del bucle obtendremos una aproximación más precisa. En el caso \n",
    "del muestreo, esto se hace aumentando el número de caminos \n",
    "aleatorios (<i>nwalks</i>). El tamaño (<i>walk_len</i>) de \n",
    "los caminos debería ser, como mínimo, el suficiente para \n",
    "que un camino aleatorio llegue al punto más alejado, aunque \n",
    "se puede restringir según la necesidad o el uso.\n"
   ]
  },
  {
   "cell_type": "code",
   "execution_count": null,
   "metadata": {
    "id": "0FLzrh8Vvo7M"
   },
   "outputs": [],
   "source": []
  }
 ],
 "metadata": {
  "colab": {
   "collapsed_sections": [],
   "name": "N4.1 - Page Rank.ipynb",
   "provenance": []
  },
  "kernelspec": {
   "display_name": "Python 3",
   "language": "python",
   "name": "python3"
  },
  "language_info": {
   "codemirror_mode": {
    "name": "ipython",
    "version": 3
   },
   "file_extension": ".py",
   "mimetype": "text/x-python",
   "name": "python",
   "nbconvert_exporter": "python",
   "pygments_lexer": "ipython3",
   "version": "3.8.8"
  }
 },
 "nbformat": 4,
 "nbformat_minor": 1
}
