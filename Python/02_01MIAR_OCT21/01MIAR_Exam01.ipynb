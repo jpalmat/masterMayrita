{
 "cells": [
  {
   "cell_type": "markdown",
   "id": "43115e44-f75d-465a-ad62-9b2be737a6e6",
   "metadata": {},
   "source": [
    "# Examen Primera Convocatoria"
   ]
  },
  {
   "cell_type": "code",
   "execution_count": 2,
   "id": "eb8ba270-b03c-49f8-b092-8de37baa3bfe",
   "metadata": {},
   "outputs": [],
   "source": [
    "# Your imports HERE !!!!\n",
    "import numpy as np\n",
    "import pandas as pd\n",
    "import matplotlib.pyplot as plt\n",
    "import seaborn as sns"
   ]
  },
  {
   "cell_type": "markdown",
   "id": "2206adbd-c8e0-4665-a20b-bb6a1503d388",
   "metadata": {
    "tags": []
   },
   "source": [
    "## 01 - 1 pt\n",
    "- Dado un array de elementos, escribir una función, que reciba dicho array como parámetro de entrada y devuelva el elemento repetido. Usando plain Python, sin ninguna librería."
   ]
  },
  {
   "cell_type": "code",
   "execution_count": 16,
   "id": "748595ea-d6b6-4f35-a824-ea3631d7e15a",
   "metadata": {},
   "outputs": [],
   "source": [
    "array_src = [4, 8, 0, 3, 6, 2, 1, 5, 3, 9, 7]\n",
    "expected_rep_element = 3\n",
    "rep_element = repeated_element(array_src) # This calls your function repeated_element\n",
    "assert(expected_rep_element == rep_element)  # This will fail if the element is not found correctly"
   ]
  },
  {
   "cell_type": "code",
   "execution_count": 15,
   "id": "3b6d4855-e751-4f45-8382-1291885aef0c",
   "metadata": {},
   "outputs": [],
   "source": [
    "# Your solution HERE !!!!\n",
    "def repeated_element(array):\n",
    "    repetido = []\n",
    "    for i in array:    \n",
    "        if i not in repetido:\n",
    "            repetido.append(i)\n",
    "        else:\n",
    "            return i"
   ]
  },
  {
   "cell_type": "markdown",
   "id": "5161decf-e061-44a9-a413-8d3921a10058",
   "metadata": {
    "tags": []
   },
   "source": [
    "## 02 - 1pt\n",
    "- Genera una matriz con valores aleatorios de 0 a 100 de dimensiones 16x16\n",
    "- Calcula los siguentes estadísticos en la matriz anterior, por fila (el resultado de cada uno debe ser un array de dimensiones 1x16)\n",
    "  - Suma de los elementos de cada fila\n",
    "  - Media de los elementos de cada fila\n",
    "  - Valores mínimos de cada fila\n",
    "  - Valores máximos de cada fila"
   ]
  },
  {
   "cell_type": "code",
   "execution_count": 120,
   "id": "2e7bfe3c-253f-4287-8d85-fb7e5163e6c0",
   "metadata": {},
   "outputs": [
    {
     "name": "stdout",
     "output_type": "stream",
     "text": [
      "[[41 67 59 84 54 90 99 65 29 20 64 43 16 44 83 80]\n",
      " [19  8 43  2 12 28 24  2 57  6  5 11 87 97 99  8]\n",
      " [95 44 90 63 98 27 67 87 66  6 74 22 35 47 36 30]\n",
      " [76 82 65  7 72 93 67 52  1 78 86 84 70 53 92 13]\n",
      " [91 73 24  2 31  6 24 25  6 93 47 48  5 96 33 78]\n",
      " [95 72 98 10  6 94 36 48  8  0 59  6 81 99 25 75]\n",
      " [86 59 21 38 73 94 58 80 33 47 19 80 74 13 37  5]\n",
      " [64  8 90 79 93  6 69 88 48  3 92 70 60 22 55 47]\n",
      " [96 77  1 87 68 59 26  1 59 21 38 12 40 44 17 55]\n",
      " [70  5 51 18 87 69 16 40 21 33 67 54 49 53 79  5]\n",
      " [11 82 90 80 81 12 34 88 11 98 86 45 68 15 86 44]\n",
      " [26 63 57 34 14 79 30  5 41 73 37 45 22  2 35 82]\n",
      " [31 81  9 88 79 98 46 30 17 38 22 75 98 18 75 64]\n",
      " [89 26 76 56 62 44  8 84 11 35 62 24 33 87 60 90]\n",
      " [55 18 27 25 13 49 44  4 73 95 23 76 26 85 70 31]\n",
      " [86 87 65 66 69 91 64 19  5 91 61 14 66 93 95 33]]\n",
      "[ 938  508  887  991  682  812  817  894  701  717  931  645  869  847\n",
      "  714 1005]\n",
      "[16  2  6  1  2  0  5  3  1  5 11  2  9  8  4  5]\n",
      "[99 99 98 93 96 99 94 93 96 87 98 82 98 90 95 95]\n",
      "[58.625  31.75   55.4375 61.9375 42.625  50.75   51.0625 55.875  43.8125\n",
      " 44.8125 58.1875 40.3125 54.3125 52.9375 44.625  62.8125]\n"
     ]
    }
   ],
   "source": [
    "# Your solution HERE !!!!\n",
    "matriz = np.random.randint(100,size=(16,16))\n",
    "suma = np.sum(a=matriz, axis=1)\n",
    "minimo = np.min(a=matriz, axis=1)\n",
    "maximo = np.max(a=matriz, axis=1)\n",
    "media = np.mean(a=matriz, axis=1)\n",
    "\n",
    "print(matriz)\n",
    "print(suma)\n",
    "print(minimo)\n",
    "print(maximo)\n",
    "print(media)"
   ]
  },
  {
   "cell_type": "markdown",
   "id": "9986c32f-299d-4ce7-809e-db01ee851764",
   "metadata": {
    "tags": []
   },
   "source": [
    "## 03 - 1pt\n",
    "\n",
    "- Generar un dataframe de 3x4 dimensiones con valores númericos aleatorios [0,10]\n",
    "- Darle un índice semántico alfanumérico\n",
    "- Aplicarle una función lambda que obtenga la diferencia entre el máximo y mínimo de cada fila"
   ]
  },
  {
   "cell_type": "code",
   "execution_count": 49,
   "id": "18ff9dbf-9ba4-4513-8a73-d0328b689dc9",
   "metadata": {},
   "outputs": [
    {
     "data": {
      "text/html": [
       "<div>\n",
       "<style scoped>\n",
       "    .dataframe tbody tr th:only-of-type {\n",
       "        vertical-align: middle;\n",
       "    }\n",
       "\n",
       "    .dataframe tbody tr th {\n",
       "        vertical-align: top;\n",
       "    }\n",
       "\n",
       "    .dataframe thead th {\n",
       "        text-align: right;\n",
       "    }\n",
       "</style>\n",
       "<table border=\"1\" class=\"dataframe\">\n",
       "  <thead>\n",
       "    <tr style=\"text-align: right;\">\n",
       "      <th></th>\n",
       "      <th>0</th>\n",
       "      <th>1</th>\n",
       "      <th>2</th>\n",
       "      <th>3</th>\n",
       "    </tr>\n",
       "  </thead>\n",
       "  <tbody>\n",
       "    <tr>\n",
       "      <th>A</th>\n",
       "      <td>7</td>\n",
       "      <td>0</td>\n",
       "      <td>6</td>\n",
       "      <td>3</td>\n",
       "    </tr>\n",
       "    <tr>\n",
       "      <th>B</th>\n",
       "      <td>0</td>\n",
       "      <td>3</td>\n",
       "      <td>3</td>\n",
       "      <td>8</td>\n",
       "    </tr>\n",
       "    <tr>\n",
       "      <th>C</th>\n",
       "      <td>7</td>\n",
       "      <td>5</td>\n",
       "      <td>10</td>\n",
       "      <td>6</td>\n",
       "    </tr>\n",
       "  </tbody>\n",
       "</table>\n",
       "</div>"
      ],
      "text/plain": [
       "   0  1   2  3\n",
       "A  7  0   6  3\n",
       "B  0  3   3  8\n",
       "C  7  5  10  6"
      ]
     },
     "metadata": {},
     "output_type": "display_data"
    },
    {
     "name": "stdout",
     "output_type": "stream",
     "text": [
      "A    7\n",
      "B    8\n",
      "C    5\n",
      "dtype: int64\n"
     ]
    }
   ],
   "source": [
    "# Your solution HERE !!!!\n",
    "matriz = np.random.randint(0,11, size=(3,4))\n",
    "df = pd.DataFrame(matriz , index=list('ABC'))\n",
    "display(df)\n",
    "print(df.apply(lambda x : x.max() - x.min(), axis = 1)) "
   ]
  },
  {
   "cell_type": "markdown",
   "id": "1dc73e21-7283-4cd5-92e8-3a7e1e70fd02",
   "metadata": {
    "tags": []
   },
   "source": [
    "## 04 - 1pt\n",
    "- Crear un array de NumPy de dimensiones 8x5, con números enteros aleatorios en el rango [-100, 100]\n",
    "- Ejecutar en este orden\n",
    "  - Reemplazar valores  \n",
    "    - Reemplazar los valores de todos aquellos números múltiplos de 5 por 100\n",
    "    - Reemplazar los valores de todos aquellos números múltiplos de 3 por Nan\n",
    "   \n",
    "  - Averiguar cuantos elementos tienen Nan por fila\n",
    "  - Reemplazar los valores de Nan por 0"
   ]
  },
  {
   "cell_type": "code",
   "execution_count": 75,
   "id": "2fd83be4-8626-4eaa-9ead-6f951d5ebbfb",
   "metadata": {},
   "outputs": [
    {
     "name": "stdout",
     "output_type": "stream",
     "text": [
      "[[  80   82   12   88  -82]\n",
      " [  31   56  -44   52   93]\n",
      " [ -69   89  -99  -38 -100]\n",
      " [ -60  -59  -63  -54    0]\n",
      " [ -41   19  -60  -58   75]\n",
      " [  -6   -8  -44   -8   50]\n",
      " [  21  -38  -47  -64   97]\n",
      " [  27   44  -40 -100   86]]\n",
      "[[100  82  12  88 -82]\n",
      " [ 31  56 -44  52  93]\n",
      " [-69  89 -99 -38 100]\n",
      " [100 -59 -63 -54 100]\n",
      " [-41  19 100 -58 100]\n",
      " [ -6  -8 -44  -8 100]\n",
      " [ 21 -38 -47 -64  97]\n",
      " [ 27  44 100 100  86]]\n",
      "[[100.  82.  nan  88. -82.]\n",
      " [ 31.  56. -44.  52.  nan]\n",
      " [ nan  89.  nan -38. 100.]\n",
      " [100. -59.  nan  nan 100.]\n",
      " [-41.  19. 100. -58. 100.]\n",
      " [ nan  -8. -44.  -8. 100.]\n",
      " [ nan -38. -47. -64.  97.]\n",
      " [ nan  44. 100. 100.  86.]]\n",
      "[1 1 2 2 0 1 1 1]\n",
      "[[100.  82.   0.  88. -82.]\n",
      " [ 31.  56. -44.  52.   0.]\n",
      " [  0.  89.   0. -38. 100.]\n",
      " [100. -59.   0.   0. 100.]\n",
      " [-41.  19. 100. -58. 100.]\n",
      " [  0.  -8. -44.  -8. 100.]\n",
      " [  0. -38. -47. -64.  97.]\n",
      " [  0.  44. 100. 100.  86.]]\n"
     ]
    }
   ],
   "source": [
    "# Your solution HERE !!!!\n",
    "matrix = np.random.randint(-100,100, size=(8,5))\n",
    "print(matrix)\n",
    "\n",
    "matrix_1 = np.where(matrix % 5 == 0, 100, matrix)\n",
    "print(matrix_1)\n",
    "\n",
    "matrix_2 = np.where(matrix_1 % 3 == 0, np.nan, matrix_1)\n",
    "print(matrix_2)\n",
    "\n",
    "print(np.isnan(matrix_2).sum(axis = 1))\n",
    "\n",
    "matrix_3 = np.where(np.isnan(matrix_2), 0, matrix_2)\n",
    "print(matrix_3)"
   ]
  },
  {
   "cell_type": "markdown",
   "id": "45fe9b96-168d-4bdc-a472-fb41c9031c0d",
   "metadata": {
    "tags": []
   },
   "source": [
    "## 05 - 1pt\n",
    "- Crear una función que reciba una lista de strings y devuelva una serie de pandas, y convierta el primer y último carácter de la palabra de cada elemento de la serie a mayúsculas"
   ]
  },
  {
   "cell_type": "code",
   "execution_count": null,
   "id": "19fab47f-5fbe-4baa-93af-fc6776d748d1",
   "metadata": {},
   "outputs": [],
   "source": [
    "languages = ['python', 'php', 'java', 'javascript', 'c++', 'sql']\n",
    "expected_output = pd.Series(['PythoN', 'PhP', 'JavA', 'JavascripT', 'C++', 'SqL'])\n",
    "output = first_last_uppercase(languages)  # This calls your function first_last_uppercase\n",
    "assert(expected_output.equals(output))  # This will fail if the two lists are different"
   ]
  },
  {
   "cell_type": "code",
   "execution_count": 86,
   "id": "b6b5696b-71fd-4dc4-8536-18eb2d69a8fa",
   "metadata": {},
   "outputs": [
    {
     "data": {
      "text/plain": [
       "0        python\n",
       "1           php\n",
       "2          java\n",
       "3    javascript\n",
       "4           c++\n",
       "5           sql\n",
       "dtype: object"
      ]
     },
     "metadata": {},
     "output_type": "display_data"
    }
   ],
   "source": [
    "# Your solution HERE !!!!\n",
    "# def first_last_uppercase(languages):\n",
    "languages = ['python', 'php', 'java', 'javascript', 'c++', 'sql']\n",
    "\n",
    "languagesS = pd.Series(languages)\n",
    "df[0] = df[0].apply(lambda x: str(x)[-1].capitalize()) \n",
    "display(languagesS)\n",
    "\n",
    "for i in languages:\n",
    "    i.capitalize\n",
    "    i.apply(lambda x: x.capitalize()) \n",
    "\n",
    "languagesS = pd.Series(languages)"
   ]
  },
  {
   "cell_type": "markdown",
   "id": "2b191602-365c-42d3-81af-f877089f0f20",
   "metadata": {
    "tags": []
   },
   "source": [
    "## 06 - 3 pt\n",
    "- Se tienen cuatro datasets, se adjuntan sus datos como diccionarios\n",
    "  - Orders, representa un conjunto de pedidos, con sus fechas, su cantidad, y el cliente y vendedor asociados al mismo\n",
    "  - Customers, conjunto de clientes, con su nombre y su ciudad\n",
    "  - Salesman, conjunto de vendedores, con su nombre, ciudad y porcentaje de comisión por venta\n",
    "  - Cities, conjunto de ciudades con sus nombres\n",
    "- Obtener la siguiente información usando Pandas\n",
    "  - El nombre del vendedor con la mejor venta, y a que cliente ha sido\n",
    "  - Dinero de la comisión otorgada para cada pedido, ordenado por fechas\n",
    "  - Media del dinero de los pedidos de los clientes de Tokyo\n",
    "  - Total del dinero de las comisiones del vendedor Ikuzu Midoriya en el mes de Agosto\n",
    "- Representar graficamente\n",
    "  - Media del total de cada pedido para cada cliente agrupado por ciudad\n",
    "  - Línea temporal del total de los pedidos"
   ]
  },
  {
   "cell_type": "code",
   "execution_count": 87,
   "id": "e14a9877-d29f-49e9-ab82-a8c89dc59081",
   "metadata": {},
   "outputs": [],
   "source": [
    "orders = {'OrderId': [1,2,3,4,5,6], 'OrderDate': ['2021-07-23', '2021-08-06', '2021-07-28', '2021-08-04', '2021-08-03', '2021-07-30'], 'Amount': [1500.5,2000.65,1550.2,1900.75,2205.4, 1208.22], 'CustomerId': [3,4,2,2,1,4], 'SalesmanId': [3,3,2,1,3,2]}\n",
    "customers = {'CustomerId': [1,2,3,4], 'Name': ['Brad Davis', 'Julian Green', 'Geoff Cameron', 'Fabian Johnson'], 'CityId': [2,1,2,3]}\n",
    "salesmans = {'SalesmanId': [1,2,3], 'Name': ['James Knite', 'Reinhardt Wilhelm', 'Ikuzu Midoriya'], 'CityId': [1,3,2], 'Comission': [0.15,0.11,0.09]}\n",
    "cities = {'CityId': [1,2,3], 'Name': ['New York', 'Tokyo', 'Berlin']}"
   ]
  },
  {
   "cell_type": "code",
   "execution_count": 111,
   "id": "95b15246-4019-4073-ae6c-6c32321cb5dd",
   "metadata": {},
   "outputs": [
    {
     "data": {
      "text/plain": [
       "2205.4"
      ]
     },
     "metadata": {},
     "output_type": "display_data"
    },
    {
     "data": {
      "text/html": [
       "<div>\n",
       "<style scoped>\n",
       "    .dataframe tbody tr th:only-of-type {\n",
       "        vertical-align: middle;\n",
       "    }\n",
       "\n",
       "    .dataframe tbody tr th {\n",
       "        vertical-align: top;\n",
       "    }\n",
       "\n",
       "    .dataframe thead th {\n",
       "        text-align: right;\n",
       "    }\n",
       "</style>\n",
       "<table border=\"1\" class=\"dataframe\">\n",
       "  <thead>\n",
       "    <tr style=\"text-align: right;\">\n",
       "      <th></th>\n",
       "      <th>OrderId</th>\n",
       "      <th>OrderDate</th>\n",
       "      <th>Amount</th>\n",
       "      <th>CustomerId</th>\n",
       "      <th>SalesmanId</th>\n",
       "      <th>Name_x</th>\n",
       "      <th>CityId_x</th>\n",
       "      <th>Comission</th>\n",
       "      <th>Name_y</th>\n",
       "      <th>CityId_y</th>\n",
       "    </tr>\n",
       "  </thead>\n",
       "  <tbody>\n",
       "    <tr>\n",
       "      <th>0</th>\n",
       "      <td>1</td>\n",
       "      <td>2021-07-23</td>\n",
       "      <td>1500.50</td>\n",
       "      <td>3</td>\n",
       "      <td>3</td>\n",
       "      <td>Ikuzu Midoriya</td>\n",
       "      <td>2</td>\n",
       "      <td>0.09</td>\n",
       "      <td>Geoff Cameron</td>\n",
       "      <td>2</td>\n",
       "    </tr>\n",
       "    <tr>\n",
       "      <th>1</th>\n",
       "      <td>2</td>\n",
       "      <td>2021-08-06</td>\n",
       "      <td>2000.65</td>\n",
       "      <td>4</td>\n",
       "      <td>3</td>\n",
       "      <td>Ikuzu Midoriya</td>\n",
       "      <td>2</td>\n",
       "      <td>0.09</td>\n",
       "      <td>Fabian Johnson</td>\n",
       "      <td>3</td>\n",
       "    </tr>\n",
       "    <tr>\n",
       "      <th>2</th>\n",
       "      <td>6</td>\n",
       "      <td>2021-07-30</td>\n",
       "      <td>1208.22</td>\n",
       "      <td>4</td>\n",
       "      <td>2</td>\n",
       "      <td>Reinhardt Wilhelm</td>\n",
       "      <td>3</td>\n",
       "      <td>0.11</td>\n",
       "      <td>Fabian Johnson</td>\n",
       "      <td>3</td>\n",
       "    </tr>\n",
       "    <tr>\n",
       "      <th>3</th>\n",
       "      <td>5</td>\n",
       "      <td>2021-08-03</td>\n",
       "      <td>2205.40</td>\n",
       "      <td>1</td>\n",
       "      <td>3</td>\n",
       "      <td>Ikuzu Midoriya</td>\n",
       "      <td>2</td>\n",
       "      <td>0.09</td>\n",
       "      <td>Brad Davis</td>\n",
       "      <td>2</td>\n",
       "    </tr>\n",
       "    <tr>\n",
       "      <th>4</th>\n",
       "      <td>3</td>\n",
       "      <td>2021-07-28</td>\n",
       "      <td>1550.20</td>\n",
       "      <td>2</td>\n",
       "      <td>2</td>\n",
       "      <td>Reinhardt Wilhelm</td>\n",
       "      <td>3</td>\n",
       "      <td>0.11</td>\n",
       "      <td>Julian Green</td>\n",
       "      <td>1</td>\n",
       "    </tr>\n",
       "    <tr>\n",
       "      <th>5</th>\n",
       "      <td>4</td>\n",
       "      <td>2021-08-04</td>\n",
       "      <td>1900.75</td>\n",
       "      <td>2</td>\n",
       "      <td>1</td>\n",
       "      <td>James Knite</td>\n",
       "      <td>1</td>\n",
       "      <td>0.15</td>\n",
       "      <td>Julian Green</td>\n",
       "      <td>1</td>\n",
       "    </tr>\n",
       "  </tbody>\n",
       "</table>\n",
       "</div>"
      ],
      "text/plain": [
       "   OrderId   OrderDate   Amount  CustomerId  SalesmanId             Name_x  \\\n",
       "0        1  2021-07-23  1500.50           3           3     Ikuzu Midoriya   \n",
       "1        2  2021-08-06  2000.65           4           3     Ikuzu Midoriya   \n",
       "2        6  2021-07-30  1208.22           4           2  Reinhardt Wilhelm   \n",
       "3        5  2021-08-03  2205.40           1           3     Ikuzu Midoriya   \n",
       "4        3  2021-07-28  1550.20           2           2  Reinhardt Wilhelm   \n",
       "5        4  2021-08-04  1900.75           2           1        James Knite   \n",
       "\n",
       "   CityId_x  Comission          Name_y  CityId_y  \n",
       "0         2       0.09   Geoff Cameron         2  \n",
       "1         2       0.09  Fabian Johnson         3  \n",
       "2         3       0.11  Fabian Johnson         3  \n",
       "3         2       0.09      Brad Davis         2  \n",
       "4         3       0.11    Julian Green         1  \n",
       "5         1       0.15    Julian Green         1  "
      ]
     },
     "metadata": {},
     "output_type": "display_data"
    },
    {
     "data": {
      "text/html": [
       "<div>\n",
       "<style scoped>\n",
       "    .dataframe tbody tr th:only-of-type {\n",
       "        vertical-align: middle;\n",
       "    }\n",
       "\n",
       "    .dataframe tbody tr th {\n",
       "        vertical-align: top;\n",
       "    }\n",
       "\n",
       "    .dataframe thead th {\n",
       "        text-align: right;\n",
       "    }\n",
       "</style>\n",
       "<table border=\"1\" class=\"dataframe\">\n",
       "  <thead>\n",
       "    <tr style=\"text-align: right;\">\n",
       "      <th></th>\n",
       "      <th>OrderId</th>\n",
       "      <th>OrderDate</th>\n",
       "      <th>Amount</th>\n",
       "      <th>CustomerId</th>\n",
       "      <th>SalesmanId</th>\n",
       "    </tr>\n",
       "  </thead>\n",
       "  <tbody>\n",
       "    <tr>\n",
       "      <th>0</th>\n",
       "      <td>1</td>\n",
       "      <td>2021-07-23</td>\n",
       "      <td>1500.50</td>\n",
       "      <td>3</td>\n",
       "      <td>3</td>\n",
       "    </tr>\n",
       "    <tr>\n",
       "      <th>1</th>\n",
       "      <td>2</td>\n",
       "      <td>2021-08-06</td>\n",
       "      <td>2000.65</td>\n",
       "      <td>4</td>\n",
       "      <td>3</td>\n",
       "    </tr>\n",
       "    <tr>\n",
       "      <th>2</th>\n",
       "      <td>3</td>\n",
       "      <td>2021-07-28</td>\n",
       "      <td>1550.20</td>\n",
       "      <td>2</td>\n",
       "      <td>2</td>\n",
       "    </tr>\n",
       "    <tr>\n",
       "      <th>3</th>\n",
       "      <td>4</td>\n",
       "      <td>2021-08-04</td>\n",
       "      <td>1900.75</td>\n",
       "      <td>2</td>\n",
       "      <td>1</td>\n",
       "    </tr>\n",
       "    <tr>\n",
       "      <th>4</th>\n",
       "      <td>5</td>\n",
       "      <td>2021-08-03</td>\n",
       "      <td>2205.40</td>\n",
       "      <td>1</td>\n",
       "      <td>3</td>\n",
       "    </tr>\n",
       "    <tr>\n",
       "      <th>5</th>\n",
       "      <td>6</td>\n",
       "      <td>2021-07-30</td>\n",
       "      <td>1208.22</td>\n",
       "      <td>4</td>\n",
       "      <td>2</td>\n",
       "    </tr>\n",
       "  </tbody>\n",
       "</table>\n",
       "</div>"
      ],
      "text/plain": [
       "   OrderId   OrderDate   Amount  CustomerId  SalesmanId\n",
       "0        1  2021-07-23  1500.50           3           3\n",
       "1        2  2021-08-06  2000.65           4           3\n",
       "2        3  2021-07-28  1550.20           2           2\n",
       "3        4  2021-08-04  1900.75           2           1\n",
       "4        5  2021-08-03  2205.40           1           3\n",
       "5        6  2021-07-30  1208.22           4           2"
      ]
     },
     "metadata": {},
     "output_type": "display_data"
    },
    {
     "data": {
      "text/html": [
       "<div>\n",
       "<style scoped>\n",
       "    .dataframe tbody tr th:only-of-type {\n",
       "        vertical-align: middle;\n",
       "    }\n",
       "\n",
       "    .dataframe tbody tr th {\n",
       "        vertical-align: top;\n",
       "    }\n",
       "\n",
       "    .dataframe thead th {\n",
       "        text-align: right;\n",
       "    }\n",
       "</style>\n",
       "<table border=\"1\" class=\"dataframe\">\n",
       "  <thead>\n",
       "    <tr style=\"text-align: right;\">\n",
       "      <th></th>\n",
       "      <th>CustomerId</th>\n",
       "      <th>Name</th>\n",
       "      <th>CityId</th>\n",
       "    </tr>\n",
       "  </thead>\n",
       "  <tbody>\n",
       "    <tr>\n",
       "      <th>0</th>\n",
       "      <td>1</td>\n",
       "      <td>Brad Davis</td>\n",
       "      <td>2</td>\n",
       "    </tr>\n",
       "    <tr>\n",
       "      <th>1</th>\n",
       "      <td>2</td>\n",
       "      <td>Julian Green</td>\n",
       "      <td>1</td>\n",
       "    </tr>\n",
       "    <tr>\n",
       "      <th>2</th>\n",
       "      <td>3</td>\n",
       "      <td>Geoff Cameron</td>\n",
       "      <td>2</td>\n",
       "    </tr>\n",
       "    <tr>\n",
       "      <th>3</th>\n",
       "      <td>4</td>\n",
       "      <td>Fabian Johnson</td>\n",
       "      <td>3</td>\n",
       "    </tr>\n",
       "  </tbody>\n",
       "</table>\n",
       "</div>"
      ],
      "text/plain": [
       "   CustomerId            Name  CityId\n",
       "0           1      Brad Davis       2\n",
       "1           2    Julian Green       1\n",
       "2           3   Geoff Cameron       2\n",
       "3           4  Fabian Johnson       3"
      ]
     },
     "metadata": {},
     "output_type": "display_data"
    },
    {
     "data": {
      "text/html": [
       "<div>\n",
       "<style scoped>\n",
       "    .dataframe tbody tr th:only-of-type {\n",
       "        vertical-align: middle;\n",
       "    }\n",
       "\n",
       "    .dataframe tbody tr th {\n",
       "        vertical-align: top;\n",
       "    }\n",
       "\n",
       "    .dataframe thead th {\n",
       "        text-align: right;\n",
       "    }\n",
       "</style>\n",
       "<table border=\"1\" class=\"dataframe\">\n",
       "  <thead>\n",
       "    <tr style=\"text-align: right;\">\n",
       "      <th></th>\n",
       "      <th>SalesmanId</th>\n",
       "      <th>Name</th>\n",
       "      <th>CityId</th>\n",
       "      <th>Comission</th>\n",
       "    </tr>\n",
       "  </thead>\n",
       "  <tbody>\n",
       "    <tr>\n",
       "      <th>0</th>\n",
       "      <td>1</td>\n",
       "      <td>James Knite</td>\n",
       "      <td>1</td>\n",
       "      <td>0.15</td>\n",
       "    </tr>\n",
       "    <tr>\n",
       "      <th>1</th>\n",
       "      <td>2</td>\n",
       "      <td>Reinhardt Wilhelm</td>\n",
       "      <td>3</td>\n",
       "      <td>0.11</td>\n",
       "    </tr>\n",
       "    <tr>\n",
       "      <th>2</th>\n",
       "      <td>3</td>\n",
       "      <td>Ikuzu Midoriya</td>\n",
       "      <td>2</td>\n",
       "      <td>0.09</td>\n",
       "    </tr>\n",
       "  </tbody>\n",
       "</table>\n",
       "</div>"
      ],
      "text/plain": [
       "   SalesmanId               Name  CityId  Comission\n",
       "0           1        James Knite       1       0.15\n",
       "1           2  Reinhardt Wilhelm       3       0.11\n",
       "2           3     Ikuzu Midoriya       2       0.09"
      ]
     },
     "metadata": {},
     "output_type": "display_data"
    },
    {
     "data": {
      "text/html": [
       "<div>\n",
       "<style scoped>\n",
       "    .dataframe tbody tr th:only-of-type {\n",
       "        vertical-align: middle;\n",
       "    }\n",
       "\n",
       "    .dataframe tbody tr th {\n",
       "        vertical-align: top;\n",
       "    }\n",
       "\n",
       "    .dataframe thead th {\n",
       "        text-align: right;\n",
       "    }\n",
       "</style>\n",
       "<table border=\"1\" class=\"dataframe\">\n",
       "  <thead>\n",
       "    <tr style=\"text-align: right;\">\n",
       "      <th></th>\n",
       "      <th>CityId</th>\n",
       "      <th>Name</th>\n",
       "    </tr>\n",
       "  </thead>\n",
       "  <tbody>\n",
       "    <tr>\n",
       "      <th>0</th>\n",
       "      <td>1</td>\n",
       "      <td>New York</td>\n",
       "    </tr>\n",
       "    <tr>\n",
       "      <th>1</th>\n",
       "      <td>2</td>\n",
       "      <td>Tokyo</td>\n",
       "    </tr>\n",
       "    <tr>\n",
       "      <th>2</th>\n",
       "      <td>3</td>\n",
       "      <td>Berlin</td>\n",
       "    </tr>\n",
       "  </tbody>\n",
       "</table>\n",
       "</div>"
      ],
      "text/plain": [
       "   CityId      Name\n",
       "0       1  New York\n",
       "1       2     Tokyo\n",
       "2       3    Berlin"
      ]
     },
     "metadata": {},
     "output_type": "display_data"
    }
   ],
   "source": [
    "# Your solution HERE !!!!\n",
    "ordenes = pd.DataFrame(orders)\n",
    "clientes = pd.DataFrame(customers)\n",
    "vendedores = pd.DataFrame(salesmans)\n",
    "ciudades = pd.DataFrame(cities)\n",
    "\n",
    "a = ordenes.merge(vendedores, on='SalesmanId', how='inner')\n",
    "b = a.merge(clientes, on='CustomerId', how='inner')\n",
    "\n",
    "# El nombre del vendedor con la mejor venta, y a que cliente ha sido\n",
    "maximo_ventas = b['Amount'].max()\n",
    "display(maximo_ventas)\n",
    "# print('El vendedor con más ventas: '+ b['Amount'].max())\n",
    "# Dinero de la comisión otorgada para cada pedido, ordenado por fechas\n",
    "# Media del dinero de los pedidos de los clientes de Tokyo\n",
    "# Total del dinero de las comisiones del vendedor Ikuzu Midoriya en el mes de Agosto\n",
    "display(b)\n",
    "\n",
    "display(ordenes)\n",
    "display(clientes)\n",
    "display(vendedores)\n",
    "display(ciudades)"
   ]
  },
  {
   "cell_type": "markdown",
   "id": "8193738a-9028-4ec5-ba4e-bd9de74c9f1f",
   "metadata": {},
   "source": [
    "## 07 - 1pt\n",
    "- Escribir un generador `frange` que simule el comportamiento de la función `arange` de NumPy\n",
    "- Esta función cada vez que se invoque debe devolver valores espaciados uniformemente a partir de un valor inicial. Se debe proveer a dicha función un valor inicial para la secuencia de números y un valor para el step\n",
    "- Debe soportar valores númericos en coma flotante\n",
    "- La función potencialmente se puede llamar un número infinito de veces\n",
    "- Usando plain Python, sin ninguna librería"
   ]
  },
  {
   "cell_type": "code",
   "execution_count": null,
   "id": "bbe212e9-d422-408d-8037-ce6d0e416d25",
   "metadata": {},
   "outputs": [],
   "source": [
    "import math\n",
    "\n",
    "init = 10.6\n",
    "step = 0.8\n",
    "g = frange(init, step)  # This calls your function frange\n",
    "\n",
    "iters = 10\n",
    "numbers = [next(g) for n in range(iters)]\n",
    "for i, n in enumerate(numbers):\n",
    "    assert(math.isclose(n, init + (step * i)))  # This will fail if the range is not properly created"
   ]
  },
  {
   "cell_type": "code",
   "execution_count": null,
   "id": "8092c7c1-c1c8-4492-b08c-489f8767ed73",
   "metadata": {},
   "outputs": [],
   "source": [
    "# Your solution HERE !!!!"
   ]
  },
  {
   "cell_type": "markdown",
   "id": "202c6c38-649d-4991-b118-12e6364d8ab0",
   "metadata": {},
   "source": [
    "## 08 - 1pt\n",
    "- Crear una lista de meses de Enero a Diciembre (eje X)\n",
    "- Generar datos aleatorios para el eje Y, hacerlo 3 veces distintas (Y0, Y1 e Y2)\n",
    "- Representar las 3 secuencias de datos aleatorios en una sola figura usando matplotlib\n",
    "- Añadir una leyenda para poder identificar cada secuencia\n",
    "- Nombrar las 3 secuencias de la siguiente manera (\"Facebook\", \"Twitter\", \"Instagram\")\n",
    "- Añadir un título y nombres a los dos ejes\n",
    "- Añadir una anotación (texto y flecha) a uno de los gráficos"
   ]
  },
  {
   "cell_type": "code",
   "execution_count": null,
   "id": "b0dfefef-66a5-4804-af34-810fcaf25b5e",
   "metadata": {},
   "outputs": [],
   "source": [
    "# Your solution HERE !!!!"
   ]
  }
 ],
 "metadata": {
  "kernelspec": {
   "display_name": "Python 3",
   "language": "python",
   "name": "python3"
  },
  "language_info": {
   "codemirror_mode": {
    "name": "ipython",
    "version": 3
   },
   "file_extension": ".py",
   "mimetype": "text/x-python",
   "name": "python",
   "nbconvert_exporter": "python",
   "pygments_lexer": "ipython3",
   "version": "3.8.8"
  }
 },
 "nbformat": 4,
 "nbformat_minor": 5
}
