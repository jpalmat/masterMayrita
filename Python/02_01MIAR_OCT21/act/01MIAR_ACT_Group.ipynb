{
 "cells": [
  {
   "cell_type": "markdown",
   "id": "a2eea98a-4a8d-47fd-9bbf-19fa4c134d1e",
   "metadata": {
    "tags": []
   },
   "source": [
    "## Actividad 01\n",
    "\n",
    "- Crear una lista con números que comiencen por 30 y que termine en 42 haciendo que el paso entre cada número consecutivo sea de 0.4. Sin usar Numpy."
   ]
  },
  {
   "cell_type": "code",
   "execution_count": 9,
   "id": "9626e85f-2a8a-4ee7-aba6-abf38f5a5085",
   "metadata": {},
   "outputs": [
    {
     "name": "stdout",
     "output_type": "stream",
     "text": [
      "[30.0, 30.5, 31.0, 31.5, 32.0, 32.5, 33.0, 33.5, 34.0, 34.5, 35.0, 35.5, 36.0, 36.5, 37.0, 37.5, 38.0, 38.5, 39.0, 39.5, 40.0, 40.5, 41.0, 41.5]\n"
     ]
    }
   ],
   "source": [
    "lista = [i/10 for i in range(300, 420, 5)]\n",
    "print(lista)"
   ]
  },
  {
   "cell_type": "code",
   "execution_count": 18,
   "id": "7171c9ee-9481-40f8-934c-c73f9f3533ba",
   "metadata": {},
   "outputs": [
    {
     "name": "stdout",
     "output_type": "stream",
     "text": [
      "['30.00', '30.40', '30.80', '31.20', '31.60', '32.00', '32.40', '32.80', '33.20', '33.60', '34.00', '34.40', '34.80', '35.20', '35.60', '36.00', '36.40', '36.80', '37.20', '37.60', '38.00', '38.40', '38.80', '39.20', '39.60', '40.00', '40.40', '40.80', '41.20', '41.60', '42.00']\n"
     ]
    }
   ],
   "source": [
    "def lista_numeros(a =0, b =0, c= 0.1):\n",
    "    lista = []\n",
    "    while a <= b:\n",
    "        lista.append(a)\n",
    "        a += c\n",
    "    return(lista)\n",
    "    \n",
    "\n",
    "print([f'{x:.2f}' for x in lista_numeros(30, 42, 0.4)])"
   ]
  },
  {
   "cell_type": "markdown",
   "id": "3ca8b783-fb88-4eb7-8379-3aae550d15b4",
   "metadata": {
    "tags": []
   },
   "source": [
    "## Actividad 02\n",
    "\n",
    "- Dataset -> https://raw.githubusercontent.com/grammakov/USA-cities-and-states/master/us_cities_states_counties.csv\n",
    "- Header -> City|State short|State full|County|City alias\n",
    "- Obtener el número de ciudades que tiene el estado de Florida, usando dicho Dataset\n",
    "- Sin usar Pandas"
   ]
  },
  {
   "cell_type": "code",
   "execution_count": 19,
   "id": "e9fcaff1-f4c8-44b6-bf84-826558901a2f",
   "metadata": {
    "tags": []
   },
   "outputs": [],
   "source": [
    "import urllib\n",
    "\n",
    "url = \"https://raw.githubusercontent.com/grammakov/USA-cities-and-states/master/us_cities_states_counties.csv\"\n",
    "\n",
    "# Devuelve un fichero desde una url como cadena de caracteres\n",
    "def read_url(url):\n",
    "    return urllib.request.urlopen(url).read().decode('utf-8')\n",
    "\n",
    "# Descargar un fichero desde una url a una ruta local\n",
    "def download_file(url, dest):\n",
    "    urllib.request.urlretrieve(url, dest)\n",
    "    return"
   ]
  },
  {
   "cell_type": "code",
   "execution_count": 35,
   "id": "87c06613-3232-494e-aca6-1a6ad494b42e",
   "metadata": {},
   "outputs": [],
   "source": [
    "import os\n",
    "ruta = os.path.join('res','ciudades.csv')\n",
    "download_file(url, ruta)"
   ]
  },
  {
   "cell_type": "code",
   "execution_count": 59,
   "id": "93554ece-f977-4e32-ab75-558351807443",
   "metadata": {},
   "outputs": [
    {
     "name": "stdout",
     "output_type": "stream",
     "text": [
      "537\n"
     ]
    }
   ],
   "source": [
    "import csv\n",
    "with open(ruta, 'rt') as f:\n",
    "    lista_reader = csv.DictReader(f, delimiter='|')\n",
    "    \n",
    "    lista_ciudad = set()\n",
    "    for i in lista_reader:\n",
    "        if i['State short'] == 'FL':\n",
    "            lista_ciudad.add(i['City'])\n",
    "            \n",
    "            \n",
    "    print(len(lista_ciudad))"
   ]
  },
  {
   "cell_type": "code",
   "execution_count": 60,
   "id": "0bd61c92-f0fb-4b56-8260-06223c51d2a4",
   "metadata": {},
   "outputs": [
    {
     "data": {
      "text/plain": [
       "537"
      ]
     },
     "execution_count": 60,
     "metadata": {},
     "output_type": "execute_result"
    }
   ],
   "source": [
    "import csv\n",
    "\n",
    "reader = csv.DictReader(open(ruta, 'rt'), delimiter='|')\n",
    "ciudades = [row['City'] for row in reader if row['State short'] == 'FL']\n",
    "len(set(ciudades))"
   ]
  }
 ],
 "metadata": {
  "kernelspec": {
   "display_name": "Python 3",
   "language": "python",
   "name": "python3"
  },
  "language_info": {
   "codemirror_mode": {
    "name": "ipython",
    "version": 3
   },
   "file_extension": ".py",
   "mimetype": "text/x-python",
   "name": "python",
   "nbconvert_exporter": "python",
   "pygments_lexer": "ipython3",
   "version": "3.8.8"
  }
 },
 "nbformat": 4,
 "nbformat_minor": 5
}
