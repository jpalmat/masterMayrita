{
 "cells": [
  {
   "cell_type": "markdown",
   "id": "cffbcd0e-dc00-4547-ac87-ef95eb5bbb51",
   "metadata": {},
   "source": [
    "# Examen Demo"
   ]
  },
  {
   "cell_type": "code",
   "execution_count": 1,
   "id": "8ef7d433-2f37-43b7-95ad-5c65b99f39b9",
   "metadata": {},
   "outputs": [],
   "source": [
    "# Your imports HERE !!!!\n",
    "import numpy as np\n",
    "import pandas as pd\n",
    "import matplotlib.pyplot as plt\n",
    "import seaborn as sns"
   ]
  },
  {
   "cell_type": "markdown",
   "id": "0ddfb619-f1e8-4d7f-9bb5-b08686efabf2",
   "metadata": {
    "tags": []
   },
   "source": [
    "## 01\n",
    "- La serie de Fibonacci es una sucesión de números, en la cual cada número es la suma de los dos anteriores. Los dos primeros son siempre 0 y 1.\n",
    "  - $F_0 = 0$\n",
    "  - $F_1 = 1$\n",
    "  - $F_n = F_{n-1} + F_{n-2}$\n",
    "- Crear una serie de Fibonacci hasta un número *n* usando una función lambda."
   ]
  },
  {
   "cell_type": "code",
   "execution_count": 13,
   "id": "9f6f8961-e7d9-413e-91f5-ff8e9a35279a",
   "metadata": {},
   "outputs": [],
   "source": [
    "expected_fibo_serie = [0,1,1,2,3,5,8,13,21,34,55,89,144,233,377,610,987,1597]\n",
    "fibo_serie = fibonacci_lambda(len(expected_fibo_serie))  # This calls your lambda function fibonacci_lambda\n",
    "assert(expected_fibo_serie == fibo_serie)  # This will fail if the serie is not correct"
   ]
  },
  {
   "cell_type": "code",
   "execution_count": 12,
   "id": "7f9d090c-d087-4694-8249-3e89f5e866cb",
   "metadata": {},
   "outputs": [],
   "source": [
    "# Your solution HERE !!!!\n",
    "from functools import reduce\n",
    "fibonacci_lambda = lambda n: reduce(lambda x,_: x + [x[-1] + x[-2]],range(n-2),[0,1])"
   ]
  },
  {
   "cell_type": "markdown",
   "id": "3168850c-f9bb-4060-b6e3-06813ec86e54",
   "metadata": {},
   "source": [
    "## 02\n",
    "- Crear una función que reciba un array de NumPy y devuelva otro en el cual estén marcados como True los elementos duplicados (a partir de la segunda ocurrencia), y como False los no repetidos o las primeras ocurrencias de los duplicados."
   ]
  },
  {
   "cell_type": "code",
   "execution_count": null,
   "id": "bcc96612-dff4-4779-b4df-2595aa235309",
   "metadata": {},
   "outputs": [],
   "source": [
    "numbers = np.array([4, 4, 4, 3, 8, 1, 9, 6, 1, 5, 9, 4, 0, 2])\n",
    "expected_output = np.array([False, True, True, False, False, False, False, False, True, False, True, True, False, False])\n",
    "output = find_duplicates(numbers)   # This calls your function find_duplicates\n",
    "assert(np.array_equal(expected_output, output))  # This will fail if the result is not as expected"
   ]
  },
  {
   "cell_type": "code",
   "execution_count": 3,
   "id": "76618e23-4928-4040-9f7f-f4b08ff4abb2",
   "metadata": {},
   "outputs": [],
   "source": [
    "# Your solution HERE !!!!\n",
    "def find_duplicates(array):\n",
    "    result = np.full(array.shape[0],True)\n",
    "    unique_positions = np.unique(array, return_index = True)[1]\n",
    "    result[unique_positions] = False\n",
    "    return result"
   ]
  },
  {
   "cell_type": "markdown",
   "id": "93e1a9cd-ee85-48b0-b5e5-3d37aeeddb6e",
   "metadata": {
    "tags": []
   },
   "source": [
    "## 03\n",
    "- Resolución de dos sistemas de ecuaciones\n",
    "    - $ A : \\begin{cases} -9x +  4y = 20 \\\\ -7y + 16x = 80                         \\end{cases}$\n",
    "    \n",
    "    - $ B : \\begin{cases} x - 2y + 3z = 7 \\\\ 2x + y + z = 4 \\\\ -3x + 2y -2z = -10 \\end{cases}$\n",
    "- Verifica por código los resultados"
   ]
  },
  {
   "cell_type": "code",
   "execution_count": 4,
   "id": "bbcc2811-859f-4023-bdbd-298750502ead",
   "metadata": {},
   "outputs": [
    {
     "name": "stdout",
     "output_type": "stream",
     "text": [
      "x=460.0 y=1040.0\n",
      "True\n",
      "True\n",
      "x=2.0 y=-1.0 z=1.0\n",
      "True\n",
      "True\n",
      "True\n"
     ]
    }
   ],
   "source": [
    "# Your solution HERE !!!!\n",
    "import math\n",
    "\n",
    "a = np.array([[-9,4],[16, -7]])\n",
    "b = np.array([20,80])\n",
    "x,y = np.linalg.solve(a,b)\n",
    "print(f\"x={x} y={y}\")\n",
    "print(math.isclose(-9*x + 4*y, 20))\n",
    "print(math.isclose(-7*y + 16*x, 80))\n",
    "\n",
    "a = np.array([[1,-2,3],[2,1,1],[-3,2,-2]])\n",
    "b = np.array([7,4,-10])\n",
    "x,y,z = np.linalg.solve(a,b)\n",
    "print(f\"x={x} y={y} z={z}\")\n",
    "print(math.isclose(x - 2*y + 3*z, 7))\n",
    "print(math.isclose(2*x + y + z, 4))\n",
    "print(math.isclose(-3*x + 2*y - 2*z, -10))"
   ]
  },
  {
   "cell_type": "markdown",
   "id": "655fe747-7f14-42dd-8a9a-6b532517bede",
   "metadata": {
    "tags": []
   },
   "source": [
    "## 04\n",
    "- Crear un objeto Series con 10 elementos, que contenga más de un tipo básico, con índices de tipo string\n",
    "- Demuestra que los los índices posicionales son los mismos que los obtenidos con índices semánticos, seleccionando a través de slicing, al menos 4 elementos de la serie anterior"
   ]
  },
  {
   "cell_type": "code",
   "execution_count": 5,
   "id": "ce7f3e5d-781e-49f5-9ab8-f8e6593ab327",
   "metadata": {},
   "outputs": [
    {
     "name": "stdout",
     "output_type": "stream",
     "text": [
      "Id\n",
      "a    Manolo\n",
      "b        10\n",
      "c      True\n",
      "d       NaN\n",
      "e    1023.0\n",
      "f        23\n",
      "Name: My Serie, dtype: object\n",
      "True\n"
     ]
    }
   ],
   "source": [
    "# Your solution HERE !!!!\n",
    "elements = [\"Manolo\", 10, True, np.nan, 1023.0, 23]\n",
    "indexes = [chr(x) for x in range(ord('a'), ord('a') + len(elements))]\n",
    "\n",
    "my_series = pd.Series(elements, index=indexes)\n",
    "my_series.name = \"My Serie\"\n",
    "my_series.index.name = 'Id'\n",
    "\n",
    "print(my_series)\n",
    "print(my_series[:'e'].equals(my_series[:5]))"
   ]
  },
  {
   "cell_type": "markdown",
   "id": "3f12a152-8257-491a-9b2f-270607831cc0",
   "metadata": {
    "tags": []
   },
   "source": [
    "## 05\n",
    "- Crear un DataFrame de dimensiones 10x10, con números aleatorios en el rango `[0,20]`\n",
    "- Reemplazar todos aquellos elementos menores de 5 por NaN\n",
    "- Averiguar cuantos elementos tienen Nan por fila"
   ]
  },
  {
   "cell_type": "code",
   "execution_count": 6,
   "id": "e6c62f70-14cb-446c-86eb-5428f36f627f",
   "metadata": {},
   "outputs": [
    {
     "data": {
      "text/html": [
       "<div>\n",
       "<style scoped>\n",
       "    .dataframe tbody tr th:only-of-type {\n",
       "        vertical-align: middle;\n",
       "    }\n",
       "\n",
       "    .dataframe tbody tr th {\n",
       "        vertical-align: top;\n",
       "    }\n",
       "\n",
       "    .dataframe thead th {\n",
       "        text-align: right;\n",
       "    }\n",
       "</style>\n",
       "<table border=\"1\" class=\"dataframe\">\n",
       "  <thead>\n",
       "    <tr style=\"text-align: right;\">\n",
       "      <th></th>\n",
       "      <th>0</th>\n",
       "      <th>1</th>\n",
       "      <th>2</th>\n",
       "      <th>3</th>\n",
       "      <th>4</th>\n",
       "      <th>5</th>\n",
       "      <th>6</th>\n",
       "      <th>7</th>\n",
       "      <th>8</th>\n",
       "      <th>9</th>\n",
       "    </tr>\n",
       "  </thead>\n",
       "  <tbody>\n",
       "    <tr>\n",
       "      <th>0</th>\n",
       "      <td>18.0</td>\n",
       "      <td>NaN</td>\n",
       "      <td>6.0</td>\n",
       "      <td>9.0</td>\n",
       "      <td>13.0</td>\n",
       "      <td>14</td>\n",
       "      <td>20.0</td>\n",
       "      <td>20.0</td>\n",
       "      <td>NaN</td>\n",
       "      <td>6.0</td>\n",
       "    </tr>\n",
       "    <tr>\n",
       "      <th>1</th>\n",
       "      <td>12.0</td>\n",
       "      <td>14.0</td>\n",
       "      <td>14.0</td>\n",
       "      <td>19.0</td>\n",
       "      <td>8.0</td>\n",
       "      <td>16</td>\n",
       "      <td>NaN</td>\n",
       "      <td>20.0</td>\n",
       "      <td>12.0</td>\n",
       "      <td>12.0</td>\n",
       "    </tr>\n",
       "    <tr>\n",
       "      <th>2</th>\n",
       "      <td>NaN</td>\n",
       "      <td>NaN</td>\n",
       "      <td>15.0</td>\n",
       "      <td>16.0</td>\n",
       "      <td>13.0</td>\n",
       "      <td>20</td>\n",
       "      <td>6.0</td>\n",
       "      <td>8.0</td>\n",
       "      <td>6.0</td>\n",
       "      <td>5.0</td>\n",
       "    </tr>\n",
       "    <tr>\n",
       "      <th>3</th>\n",
       "      <td>NaN</td>\n",
       "      <td>17.0</td>\n",
       "      <td>7.0</td>\n",
       "      <td>5.0</td>\n",
       "      <td>9.0</td>\n",
       "      <td>7</td>\n",
       "      <td>13.0</td>\n",
       "      <td>NaN</td>\n",
       "      <td>NaN</td>\n",
       "      <td>NaN</td>\n",
       "    </tr>\n",
       "    <tr>\n",
       "      <th>4</th>\n",
       "      <td>19.0</td>\n",
       "      <td>10.0</td>\n",
       "      <td>NaN</td>\n",
       "      <td>19.0</td>\n",
       "      <td>12.0</td>\n",
       "      <td>13</td>\n",
       "      <td>NaN</td>\n",
       "      <td>NaN</td>\n",
       "      <td>15.0</td>\n",
       "      <td>NaN</td>\n",
       "    </tr>\n",
       "    <tr>\n",
       "      <th>5</th>\n",
       "      <td>14.0</td>\n",
       "      <td>11.0</td>\n",
       "      <td>NaN</td>\n",
       "      <td>10.0</td>\n",
       "      <td>NaN</td>\n",
       "      <td>16</td>\n",
       "      <td>19.0</td>\n",
       "      <td>13.0</td>\n",
       "      <td>12.0</td>\n",
       "      <td>NaN</td>\n",
       "    </tr>\n",
       "    <tr>\n",
       "      <th>6</th>\n",
       "      <td>NaN</td>\n",
       "      <td>NaN</td>\n",
       "      <td>NaN</td>\n",
       "      <td>NaN</td>\n",
       "      <td>13.0</td>\n",
       "      <td>7</td>\n",
       "      <td>18.0</td>\n",
       "      <td>NaN</td>\n",
       "      <td>NaN</td>\n",
       "      <td>15.0</td>\n",
       "    </tr>\n",
       "    <tr>\n",
       "      <th>7</th>\n",
       "      <td>13.0</td>\n",
       "      <td>20.0</td>\n",
       "      <td>NaN</td>\n",
       "      <td>NaN</td>\n",
       "      <td>7.0</td>\n",
       "      <td>6</td>\n",
       "      <td>NaN</td>\n",
       "      <td>19.0</td>\n",
       "      <td>7.0</td>\n",
       "      <td>13.0</td>\n",
       "    </tr>\n",
       "    <tr>\n",
       "      <th>8</th>\n",
       "      <td>8.0</td>\n",
       "      <td>17.0</td>\n",
       "      <td>20.0</td>\n",
       "      <td>NaN</td>\n",
       "      <td>NaN</td>\n",
       "      <td>10</td>\n",
       "      <td>14.0</td>\n",
       "      <td>NaN</td>\n",
       "      <td>NaN</td>\n",
       "      <td>10.0</td>\n",
       "    </tr>\n",
       "    <tr>\n",
       "      <th>9</th>\n",
       "      <td>7.0</td>\n",
       "      <td>9.0</td>\n",
       "      <td>6.0</td>\n",
       "      <td>NaN</td>\n",
       "      <td>13.0</td>\n",
       "      <td>11</td>\n",
       "      <td>NaN</td>\n",
       "      <td>9.0</td>\n",
       "      <td>NaN</td>\n",
       "      <td>5.0</td>\n",
       "    </tr>\n",
       "  </tbody>\n",
       "</table>\n",
       "</div>"
      ],
      "text/plain": [
       "      0     1     2     3     4   5     6     7     8     9\n",
       "0  18.0   NaN   6.0   9.0  13.0  14  20.0  20.0   NaN   6.0\n",
       "1  12.0  14.0  14.0  19.0   8.0  16   NaN  20.0  12.0  12.0\n",
       "2   NaN   NaN  15.0  16.0  13.0  20   6.0   8.0   6.0   5.0\n",
       "3   NaN  17.0   7.0   5.0   9.0   7  13.0   NaN   NaN   NaN\n",
       "4  19.0  10.0   NaN  19.0  12.0  13   NaN   NaN  15.0   NaN\n",
       "5  14.0  11.0   NaN  10.0   NaN  16  19.0  13.0  12.0   NaN\n",
       "6   NaN   NaN   NaN   NaN  13.0   7  18.0   NaN   NaN  15.0\n",
       "7  13.0  20.0   NaN   NaN   7.0   6   NaN  19.0   7.0  13.0\n",
       "8   8.0  17.0  20.0   NaN   NaN  10  14.0   NaN   NaN  10.0\n",
       "9   7.0   9.0   6.0   NaN  13.0  11   NaN   9.0   NaN   5.0"
      ]
     },
     "metadata": {},
     "output_type": "display_data"
    },
    {
     "data": {
      "text/plain": [
       "0    2\n",
       "1    1\n",
       "2    2\n",
       "3    4\n",
       "4    4\n",
       "5    3\n",
       "6    6\n",
       "7    3\n",
       "8    4\n",
       "9    3\n",
       "dtype: int64"
      ]
     },
     "execution_count": 6,
     "metadata": {},
     "output_type": "execute_result"
    }
   ],
   "source": [
    "# Your solution HERE !!!!\n",
    "my_matrix = pd.DataFrame(np.random.randint(0,21,size=(10,10)))\n",
    "my_matrix[my_matrix < 5] = np.nan\n",
    "display(my_matrix)\n",
    "my_matrix.isna().sum(axis=1)"
   ]
  },
  {
   "cell_type": "markdown",
   "id": "8ba8d87a-190e-48ab-9235-04d875ef994e",
   "metadata": {
    "tags": []
   },
   "source": [
    "## 06\n",
    "- Dada una lista de elementos, crea una función que devuelva un dataframe sin los elementos duplicados"
   ]
  },
  {
   "cell_type": "code",
   "execution_count": 9,
   "id": "18d7bb34-b613-497e-b59b-aca2ec09863d",
   "metadata": {},
   "outputs": [],
   "source": [
    "serie = ['a','b','c','a','c','a','g']\n",
    "expected_output = pd.DataFrame(['a','b','c','g'])\n",
    "output = remove_duplicates(serie)   # This will call tour function remove_duplicates\n",
    "assert(expected_output.equals(output))  # This will fail if the result is not as expected"
   ]
  },
  {
   "cell_type": "code",
   "execution_count": 8,
   "id": "ee636cf0-9bff-497e-b4d9-ab42ac4b166a",
   "metadata": {},
   "outputs": [],
   "source": [
    "# Your solution HERE !!!!\n",
    "def remove_duplicates(serie):\n",
    "    df = pd.DataFrame(serie)\n",
    "    df.drop_duplicates(inplace=True)\n",
    "    return df.reset_index(drop=True)"
   ]
  },
  {
   "cell_type": "markdown",
   "id": "eb52b109-d2f2-4d8a-b81d-babd5d44f2a9",
   "metadata": {
    "tags": []
   },
   "source": [
    "## 07\n",
    "- La serie de Fibonacci es una sucesión de números, en la cual cada número es la suma de los dos anteriores. Los dos primeros son siempre 0 y 1.\n",
    "  - $F_0 = 0$\n",
    "  - $F_1 = 1$\n",
    "  - $F_n = F_{n-1} + F_{n-2}$\n",
    "- Crear un generador infinito de números de Fibonacci."
   ]
  },
  {
   "cell_type": "code",
   "execution_count": null,
   "id": "7d6520cc-3253-499d-909a-d3573c38fd41",
   "metadata": {},
   "outputs": [],
   "source": [
    "fibo = [0,1,1,2,3,5,8,13,21,34,55,89,144,233,377,610,987,1597]\n",
    "g = fibonacci_generator()  # This calls tour function fibonacci_generator\n",
    "expected_output = [next(g) for n in range(len(fibo))]\n",
    "assert(fibo == expected_output)  # This will fail if the output is not as expected"
   ]
  },
  {
   "cell_type": "code",
   "execution_count": null,
   "id": "9d395c62-a894-48ce-990b-cf60d34ec065",
   "metadata": {},
   "outputs": [],
   "source": [
    "# Your solution HERE !!!!\n",
    "def fibonacci_generator():\n",
    "    f1, f2 = 0,1\n",
    "    while True:\n",
    "        yield f1\n",
    "        f1,f2 = f2,f1 + f2"
   ]
  },
  {
   "cell_type": "markdown",
   "id": "ae093f1d-b4e5-4ac3-a0a8-c6aecb8a084d",
   "metadata": {
    "tags": []
   },
   "source": [
    "## 08\n",
    "- Crear una función que reciba una Serie de Pandas y devuelva esa misma serie, reemplazando los espacios en blanco por el carácter menos frecuente en dicha serie."
   ]
  },
  {
   "cell_type": "code",
   "execution_count": 11,
   "id": "02390a36-6e74-4e34-b46a-e1612771863e",
   "metadata": {},
   "outputs": [],
   "source": [
    "serie = pd.Series(list('bba cabc fdabba aacbbfe'))\n",
    "expected_output = pd.Series(list('bbaecabcefdabbaeaacbbfe'))\n",
    "output = clean_whitespace_replace(serie)  # This calls your function clean_whitespace_replace\n",
    "assert(expected_output.equals(output))  # This will fail if result is not as expected"
   ]
  },
  {
   "cell_type": "code",
   "execution_count": 10,
   "id": "0472c9a4-ce23-42e2-9090-ee4695d6057a",
   "metadata": {},
   "outputs": [],
   "source": [
    "# Your solution HERE !!!!\n",
    "def clean_whitespace_replace(serie):\n",
    "    el_freq = serie.value_counts()\n",
    "    curr_freq = el_freq.index[-1]\n",
    "    return pd.Series(list((serie.replace(' ', curr_freq))))"
   ]
  }
 ],
 "metadata": {
  "kernelspec": {
   "display_name": "Python 3",
   "language": "python",
   "name": "python3"
  },
  "language_info": {
   "codemirror_mode": {
    "name": "ipython",
    "version": 3
   },
   "file_extension": ".py",
   "mimetype": "text/x-python",
   "name": "python",
   "nbconvert_exporter": "python",
   "pygments_lexer": "ipython3",
   "version": "3.8.8"
  }
 },
 "nbformat": 4,
 "nbformat_minor": 5
}
