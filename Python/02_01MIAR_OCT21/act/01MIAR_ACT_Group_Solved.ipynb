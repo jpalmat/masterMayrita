{
 "cells": [
  {
   "cell_type": "markdown",
   "id": "a2eea98a-4a8d-47fd-9bbf-19fa4c134d1e",
   "metadata": {},
   "source": [
    "## Actividad 01\n",
    "\n",
    "- Crear una lista con números que comiencen por 30 y que termine en 42 haciendo que el paso entre cada número consecutivo sea de 0.4. Sin usar Numpy."
   ]
  },
  {
   "cell_type": "code",
   "execution_count": null,
   "id": "fb46480d-3b3b-41dc-b8e4-da1f60537d0e",
   "metadata": {},
   "outputs": [],
   "source": [
    "def frange(init = 0, end = 1, step = 0.1):\n",
    "    numbers = []\n",
    "    while init <= end:\n",
    "        numbers.append(init)\n",
    "        init += step\n",
    "    return numbers\n",
    "    \n",
    "print([f\"{x:.2f}\" for x in frange(30,42,0.3)])    "
   ]
  },
  {
   "cell_type": "code",
   "execution_count": null,
   "id": "8374b2d8-7f3f-4bf7-858d-197bd1bbb38a",
   "metadata": {},
   "outputs": [],
   "source": [
    "import numpy as np\n",
    "\n",
    "print(np.arange(30,42,0.4))"
   ]
  },
  {
   "cell_type": "markdown",
   "id": "3ca8b783-fb88-4eb7-8379-3aae550d15b4",
   "metadata": {},
   "source": [
    "## Actividad 02\n",
    "\n",
    "- Dataset -> https://raw.githubusercontent.com/grammakov/USA-cities-and-states/master/us_cities_states_counties.csv\n",
    "- Header -> City|State short|State full|County|City alias\n",
    "- Obtener el número de ciudades que tiene el estado de Florida, usando dicho Dataset\n",
    "- Sin usar Pandas"
   ]
  },
  {
   "cell_type": "code",
   "execution_count": 1,
   "id": "e9fcaff1-f4c8-44b6-bf84-826558901a2f",
   "metadata": {
    "tags": []
   },
   "outputs": [],
   "source": [
    "import urllib\n",
    "\n",
    "url = \"https://raw.githubusercontent.com/grammakov/USA-cities-and-states/master/us_cities_states_counties.csv\"\n",
    "\n",
    "# Devuelve un fichero desde una url como cadena de caracteres\n",
    "def read_url(url):\n",
    "    return urllib.request.urlopen(url).read().decode('utf-8')\n",
    "\n",
    "# Descargar un fichero desde una url a una ruta local\n",
    "def download_file(url, dest):\n",
    "    urllib.request.urlretrieve(url, dest)\n",
    "    return"
   ]
  },
  {
   "cell_type": "code",
   "execution_count": 2,
   "id": "ab5af561-9b01-473e-baa5-ac389c9ef308",
   "metadata": {},
   "outputs": [],
   "source": [
    "import os\n",
    "ruta = os.path.join('res', 'cities.csv')\n",
    "download_file(url, ruta)"
   ]
  },
  {
   "cell_type": "code",
   "execution_count": 3,
   "id": "ed4ba93b-73f3-4b9a-8d1c-3c4b394b9597",
   "metadata": {},
   "outputs": [
    {
     "name": "stderr",
     "output_type": "stream",
     "text": [
      "IOPub data rate exceeded.\n",
      "The Jupyter server will temporarily stop sending output\n",
      "to the client in order to avoid crashing it.\n",
      "To change this limit, set the config variable\n",
      "`--ServerApp.iopub_data_rate_limit`.\n",
      "\n",
      "Current values:\n",
      "ServerApp.iopub_data_rate_limit=1000000.0 (bytes/sec)\n",
      "ServerApp.rate_limit_window=3.0 (secs)\n",
      "\n"
     ]
    },
    {
     "data": {
      "text/plain": [
       "537"
      ]
     },
     "execution_count": 3,
     "metadata": {},
     "output_type": "execute_result"
    }
   ],
   "source": [
    "contents = read_url(url)\n",
    "lista = contents.strip().split('\\n')\n",
    "\n",
    "ciudades = list(map(lambda x : x.split('|'), lista))\n",
    "print(ciudades)\n",
    "lista_res = set()\n",
    "for idx, i in enumerate(ciudades):\n",
    "    try:\n",
    "        if i[1] == 'FL':\n",
    "            lista_res.add(i[0])\n",
    "    except Exception as e:\n",
    "        print(f\"{e} in line {idx}, value {i}\")\n",
    "        \n",
    "len(lista_res)"
   ]
  },
  {
   "cell_type": "code",
   "execution_count": 4,
   "id": "e072014d-3209-4fb8-b22f-0b1ee594fda6",
   "metadata": {},
   "outputs": [
    {
     "data": {
      "text/plain": [
       "537"
      ]
     },
     "execution_count": 4,
     "metadata": {},
     "output_type": "execute_result"
    }
   ],
   "source": [
    "import csv\n",
    "\n",
    "reader = csv.DictReader(open(ruta, 'rt'), delimiter='|')\n",
    "ciudades = [row['City'] for row in reader if row['State short'] == 'FL']\n",
    "len(set(ciudades))"
   ]
  },
  {
   "cell_type": "code",
   "execution_count": 5,
   "id": "1a64b066-8a5b-4266-a25d-738e063ef821",
   "metadata": {},
   "outputs": [
    {
     "data": {
      "text/plain": [
       "537"
      ]
     },
     "execution_count": 5,
     "metadata": {},
     "output_type": "execute_result"
    }
   ],
   "source": [
    "import pandas as pd\n",
    "\n",
    "df = pd.read_table(url, sep='|')\n",
    "len(df[df['State short'] == 'FL'].groupby('City'))"
   ]
  }
 ],
 "metadata": {
  "kernelspec": {
   "display_name": "Python 3",
   "language": "python",
   "name": "python3"
  },
  "language_info": {
   "codemirror_mode": {
    "name": "ipython",
    "version": 3
   },
   "file_extension": ".py",
   "mimetype": "text/x-python",
   "name": "python",
   "nbconvert_exporter": "python",
   "pygments_lexer": "ipython3",
   "version": "3.8.8"
  }
 },
 "nbformat": 4,
 "nbformat_minor": 5
}
