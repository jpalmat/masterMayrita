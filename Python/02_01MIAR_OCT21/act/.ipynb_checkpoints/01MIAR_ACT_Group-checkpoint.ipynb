{
 "cells": [
  {
   "cell_type": "markdown",
   "id": "a2eea98a-4a8d-47fd-9bbf-19fa4c134d1e",
   "metadata": {},
   "source": [
    "## Actividad 01\n",
    "\n",
    "- Crear una lista con números que comiencen por 30 y que termine en 42 haciendo que el paso entre cada número consecutivo sea de 0.4. Sin usar Numpy."
   ]
  },
  {
   "cell_type": "markdown",
   "id": "3ca8b783-fb88-4eb7-8379-3aae550d15b4",
   "metadata": {},
   "source": [
    "## Actividad 02\n",
    "\n",
    "- Dataset -> https://raw.githubusercontent.com/grammakov/USA-cities-and-states/master/us_cities_states_counties.csv\n",
    "- Header -> City|State short|State full|County|City alias\n",
    "- Obtener el número de ciudades que tiene el estado de Florida, usando dicho Dataset\n",
    "- Sin usar Pandas"
   ]
  },
  {
   "cell_type": "code",
   "execution_count": null,
   "id": "e9fcaff1-f4c8-44b6-bf84-826558901a2f",
   "metadata": {
    "tags": []
   },
   "outputs": [],
   "source": [
    "import urllib\n",
    "\n",
    "url = \"https://raw.githubusercontent.com/grammakov/USA-cities-and-states/master/us_cities_states_counties.csv\"\n",
    "\n",
    "# Devuelve un fichero desde una url como cadena de caracteres\n",
    "def read_url(url):\n",
    "    return urllib.request.urlopen(url).read().decode('utf-8')\n",
    "\n",
    "# Descargar un fichero desde una url a una ruta local\n",
    "def download_file(url, dest):\n",
    "    urllib.request.urlretrieve(url, dest)\n",
    "    return"
   ]
  }
 ],
 "metadata": {
  "kernelspec": {
   "display_name": "Python 3 (ipykernel)",
   "language": "python",
   "name": "python3"
  },
  "language_info": {
   "codemirror_mode": {
    "name": "ipython",
    "version": 3
   },
   "file_extension": ".py",
   "mimetype": "text/x-python",
   "name": "python",
   "nbconvert_exporter": "python",
   "pygments_lexer": "ipython3",
   "version": "3.9.1"
  }
 },
 "nbformat": 4,
 "nbformat_minor": 5
}
