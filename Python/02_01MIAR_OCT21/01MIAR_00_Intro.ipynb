{
 "cells": [
  {
   "cell_type": "markdown",
   "metadata": {
    "slideshow": {
     "slide_type": "slide"
    }
   },
   "source": [
    "<img src=\"img/viu_logo.png\" width=\"200\">\n",
    "\n",
    "## 01MIAR - Python para Inteligencia Artificial\n",
    "### Presentación de la asignatura\n",
    "\n",
    "![logo](img/python_logo.png)\n",
    "\n",
    "*Ivan Fuertes*"
   ]
  },
  {
   "cell_type": "markdown",
   "metadata": {},
   "source": [
    "## Presentación\n",
    "\n",
    "Iván Fuertes\n",
    "HND in VideoGames Programming\n",
    "\n",
    "- email - ivan.fuertes@campusviu.es\n",
    "- discord - https://discord.gg/HfvAgn4pSk"
   ]
  },
  {
   "cell_type": "markdown",
   "metadata": {
    "slideshow": {
     "slide_type": "subslide"
    }
   },
   "source": [
    "## Objetivos\n",
    "- Diseñar e implementar programas básicos en Python\n",
    "- Conocer cómo desarrollar scripts y Jupyter Notebook\n",
    "- Saber importar y configurar módulos externos comunes en un entorno propio\n",
    "- Familiarización con modulos para análisis de datos (NumPy, pandas, matplotlib)\n",
    "- Conocer las técnicas básicas de análisis de datos\n"
   ]
  },
  {
   "cell_type": "markdown",
   "metadata": {},
   "source": [
    "## Metodología\n",
    "\n",
    "- Clase Expositiva\n",
    "- Actividad en Grupo\n",
    "- Problemas\n",
    "- Foros\n",
    "- Trabajo Autónomo"
   ]
  },
  {
   "cell_type": "markdown",
   "metadata": {},
   "source": [
    "## Sesiones\n",
    "\n",
    "### Horario 20.00 a 22.00 CEST\n",
    "\n",
    "- 18-10-21 - Tutoria Colectiva Presentación\n",
    "- 20-10-21 - VideoConferencia 00\n",
    "- 25-10-21 - VideoConferencia 01\n",
    "- 27-10-21 - VideoConferencia 02\n",
    "- 03-11-21 - VideoConferencia 03\n",
    "- 08-11-21 - VideoConferencia 04\n",
    "- 10-11-21 - VideoConferencia 05\n",
    "- 15-11-21 - VideoConferencia 06\n",
    "- 17-11-21 - VideoConferencia 07\n",
    "- 22-11-21 - VideoConferencia 08\n",
    "- 24-11-21 - VideoConferencia 09\n",
    "- 29-11-21 - VideoConfernecia 10"
   ]
  },
  {
   "cell_type": "markdown",
   "metadata": {
    "slideshow": {
     "slide_type": "slide"
    }
   },
   "source": [
    "## Recursos de la asignatura\n",
    "- En el aula virtual\n",
    " - Manual de la asignatura en el aula virtual\n",
    " - Jupyter notebooks de las clases\n",
    " - Actividades (descripción y entregas)\n",
    " \n",
    "* Google Drive - https://drive.google.com/drive/folders/1AysEztSw_ICXguzCk2exYDxMc2ztwCHZ\n",
    "\n",
    "* GitHub (send user) - https://github.com/vany-viu/01MIAR_O_21"
   ]
  },
  {
   "cell_type": "markdown",
   "metadata": {
    "slideshow": {
     "slide_type": "fragment"
    }
   },
   "source": [
    "- Documentación oficial \n",
    " - Python: https://docs.python.org/3/\n",
    " - NumPy: https://docs.scipy.org/doc/\n",
    " - pandas: https://pandas.pydata.org/index.html\n",
    " - matplotlib: https://matplotlib.org/"
   ]
  },
  {
   "cell_type": "markdown",
   "metadata": {},
   "source": [
    "## Actividades y Entregas\n",
    "\n",
    "### Portfolio (Evaluación Continua) - 60%\n",
    "- Actividad - Análisis y Representación de Datos en un Dataset - 30%\n",
    "- Actividad - Sobre videos - 10%\n",
    "- Actividad - Sobre paper - 10%\n",
    "- Foros - Participación en Foros Evaluables - 10%\n",
    "\n",
    "### Examen - 40%\n",
    "\n",
    "### Primera convocatoria - 02/12/21\n",
    "\n",
    "### Segunda convocatoria - 07/03/22\n",
    "- No hay foros en segunda convocatoria\n",
    "\n",
    "### Entrega de notebooks a través de las actividades del campus virtual"
   ]
  },
  {
   "cell_type": "markdown",
   "metadata": {
    "slideshow": {
     "slide_type": "slide"
    }
   },
   "source": [
    "## Foros\n",
    "### Introducción\n",
    "- Generar Ideas Nuevas y Llegar a Nuevos Conocimientos\n",
    "- Sentido Crítico y Concluir con Medidas, Soluciones o Nuevos Enfoques\n",
    "- Aportación de o Desarrollo de Temas Relacionando Inteligencia Artificial y el Uso de Herramientas de Programación, en concreto Python\n",
    "- Aportaciones de Referencias\n",
    "\n",
    "## Tema 1\n",
    "- Python / Programación en IA\n",
    " - Librerías\n",
    " - Estudios o Análisis Realizados\n",
    " - Ventajas e Inconvenientes\n",
    " - Casos de Uso\n",
    "\n",
    "## Tema 2\n",
    "- Scripts / Snippets\n",
    " - Códigos Interesantes que Puedan Ayudar al Tratamiento de Datos\n",
    " - Funcionalidades / Operaciones Pythonics\n",
    " - Casos de Uso\n",
    " \n",
    "## Tema 3\n",
    "- Visualización de Datos\n",
    " - Hablar de Tipos de Visualización\n",
    " - La Importancia del Uso de Colores, Formas, ...\n",
    " - Herramientas Más Usadas o Códigos de Interés\n",
    " - Casos de Visualización Polémicos\n",
    " \n",
    "## Evaluación\n",
    "- 10% de la Nota Final\n",
    "- Sólo se Podrá Participar en Primera Convocatoria (02/12/21)\n",
    "- Mínimo para Obtener una Nota Será de Dos Participaciones"
   ]
  },
  {
   "cell_type": "markdown",
   "metadata": {
    "slideshow": {
     "slide_type": "subslide"
    }
   },
   "source": [
    "## Instalación local\n",
    "- Recomendado: instalacion via _Anaconda_\n",
    " - Incluye módulos para el curso (__NumPy__, __pandas__, __matplotlib__, __jupyter notebook__...)\n",
    "- http://docs.anaconda.com/anaconda/install/\n",
    "- https://docs.anaconda.com/anaconda/user-guide/getting-started\n",
    "- Jupyter Notebook / Jupyter Lab\n",
    "- Ejecución del interprete\n",
    " - MacOS / Linux / Windows, en la terminal: __python__, __ipython__\n",
    "- Google Colab\n",
    "- Otros IDE, VSCode, PyCharm,..."
   ]
  },
  {
   "cell_type": "markdown",
   "metadata": {
    "slideshow": {
     "slide_type": "slide"
    }
   },
   "source": [
    "## Uso de Jupyter notebook\n",
    "- Presentaciones, ejercicios, actividades... __todo__ notebooks\n",
    "- Markdown/HTML + codigo en vivo\n",
    "- Markdown = https://www.markdownguide.org/\n",
    "- Facilita la colaboración y la presentación interactiva de código\n",
    "- En la terminal: __jupyter notebook__\n",
    "- Archivos _.ipynb_\n",
    "- Documentación https://jupyter.readthedocs.io/en/latest/"
   ]
  },
  {
   "cell_type": "markdown",
   "metadata": {
    "slideshow": {
     "slide_type": "subslide"
    }
   },
   "source": [
    "## Contenidos\n",
    "\n",
    "#### Introducción a la sintaxis de Python 3"
   ]
  },
  {
   "cell_type": "code",
   "execution_count": 1,
   "metadata": {
    "tags": []
   },
   "outputs": [
    {
     "name": "stdout",
     "output_type": "stream",
     "text": [
      "el valor 5 para la variable\n"
     ]
    }
   ],
   "source": [
    "# Hello world!!\n",
    "a = 5\n",
    "print(f\"el valor {a} para la variable\")"
   ]
  },
  {
   "cell_type": "code",
   "execution_count": 5,
   "metadata": {
    "slideshow": {
     "slide_type": "fragment"
    }
   },
   "outputs": [
    {
     "name": "stdout",
     "output_type": "stream",
     "text": [
      "[11, 12, 13]\n"
     ]
    }
   ],
   "source": [
    "# funcion para sumar dos elementos\n",
    "def suma(a,b):\n",
    "    return a+b\n",
    "\n",
    "lista = [1,2,3]\n",
    "\n",
    "for i,value in enumerate(lista):\n",
    "    lista[i] = suma(value,10)\n",
    "    \n",
    "print(lista)"
   ]
  },
  {
   "cell_type": "markdown",
   "metadata": {
    "slideshow": {
     "slide_type": "fragment"
    }
   },
   "source": [
    "#### Colecciones\n",
    "\n",
    "#### Uso de librerías fundamentales\n",
    "- NumPy"
   ]
  },
  {
   "cell_type": "code",
   "execution_count": null,
   "metadata": {
    "slideshow": {
     "slide_type": "fragment"
    }
   },
   "outputs": [],
   "source": [
    "import numpy as np\n",
    "\n",
    "random_list = np.random.randint(200,size=(10,2))\n",
    "random_list"
   ]
  },
  {
   "cell_type": "markdown",
   "metadata": {
    "slideshow": {
     "slide_type": "subslide"
    }
   },
   "source": [
    "- pandas"
   ]
  },
  {
   "cell_type": "code",
   "execution_count": null,
   "metadata": {
    "slideshow": {
     "slide_type": "fragment"
    }
   },
   "outputs": [],
   "source": [
    "import pandas as pd\n",
    "\n",
    "frame = pd.DataFrame(random_list)\n",
    "frame"
   ]
  },
  {
   "cell_type": "markdown",
   "metadata": {
    "slideshow": {
     "slide_type": "fragment"
    }
   },
   "source": [
    "- matplotlib & seaborn"
   ]
  },
  {
   "cell_type": "code",
   "execution_count": null,
   "metadata": {
    "slideshow": {
     "slide_type": "fragment"
    }
   },
   "outputs": [],
   "source": [
    "%matplotlib inline\n",
    "import matplotlib.pyplot as plt\n",
    "frame.plot()\n",
    "plt.show()"
   ]
  },
  {
   "cell_type": "markdown",
   "metadata": {
    "slideshow": {
     "slide_type": "subslide"
    }
   },
   "source": [
    "#### Introducción a análisis de datos en Python\n",
    "- Trabajar con strings\n",
    "- Limpieza de datos\n",
    "- Escritura y lectura de datos"
   ]
  },
  {
   "cell_type": "markdown",
   "metadata": {
    "slideshow": {
     "slide_type": "subslide"
    }
   },
   "source": [
    "### Homework Jupyter notebook\n",
    "- Entorno Anaconda + Python + Jupyter Notebook instalado\n",
    "- Creación de notebooks\n",
    "- Creación de tipos de celdas\n",
    " - Markdown para texto e imágenes\n",
    " - Code para código"
   ]
  },
  {
   "cell_type": "markdown",
   "metadata": {
    "slideshow": {
     "slide_type": "slide"
    },
    "tags": []
   },
   "source": [
    "## Gracias"
   ]
  }
 ],
 "metadata": {
  "celltoolbar": "Slideshow",
  "kernelspec": {
   "display_name": "Python 3",
   "language": "python",
   "name": "python3"
  },
  "language_info": {
   "codemirror_mode": {
    "name": "ipython",
    "version": 3
   },
   "file_extension": ".py",
   "mimetype": "text/x-python",
   "name": "python",
   "nbconvert_exporter": "python",
   "pygments_lexer": "ipython3",
   "version": "3.8.8"
  },
  "metadata": {
   "interpreter": {
    "hash": "f35a06f707b9576dd6b3ef079e74b1f578cbc33a28427aac1052a70586e6d412"
   }
  }
 },
 "nbformat": 4,
 "nbformat_minor": 4
}
