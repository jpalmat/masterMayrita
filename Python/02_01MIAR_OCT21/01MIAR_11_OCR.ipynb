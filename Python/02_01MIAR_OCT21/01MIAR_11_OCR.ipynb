{
 "cells": [
  {
   "cell_type": "markdown",
   "id": "bdd9a3bd-6a04-4480-9734-de195ede3740",
   "metadata": {
    "slideshow": {
     "slide_type": "slide"
    }
   },
   "source": [
    "\n",
    "<img src=\"img/viu_logo.png\" width=\"200\">\n",
    "\n",
    "## 01MIAR - Reconocimiento de Dígitos Escritos a Mano con scikit-learn\n",
    "\n",
    "![logo](img/python_logo.png)\n",
    "\n",
    "*Ivan Fuertes*"
   ]
  },
  {
   "cell_type": "markdown",
   "id": "e9001757-e598-45ad-bb32-90893d3ea641",
   "metadata": {},
   "source": [
    "## Dataset de Dígitos\n",
    "- Librería scikit-learn\n",
    "- Digits, cada imagen es un dígito escrito a mano\n",
    "- 1797 imágenes, 8x8 pixels, escala de grises"
   ]
  },
  {
   "cell_type": "code",
   "execution_count": null,
   "id": "7a447466-3472-4ffd-9b81-1fa4c4af98f0",
   "metadata": {},
   "outputs": [],
   "source": [
    "# Cargar dataset\n",
    "from sklearn import datasets\n",
    "\n",
    "digits = datasets.load_digits()"
   ]
  },
  {
   "cell_type": "code",
   "execution_count": null,
   "id": "a849cbe3-ed8e-48f4-939f-d722105db32b",
   "metadata": {},
   "outputs": [],
   "source": [
    "# Imagenes como matriz de puntos\n",
    "print(digits.images[0])\n",
    "print(type(digits.images[0]))"
   ]
  },
  {
   "cell_type": "code",
   "execution_count": null,
   "id": "447e8b54-7965-4152-a8ff-b6f572fd5212",
   "metadata": {},
   "outputs": [],
   "source": [
    "# Visualizar un digito con matplotlib\n",
    "import matplotlib.pyplot as plt\n",
    "\n",
    "plt.imshow(digits.images[0], cmap=plt.cm.gray_r, interpolation='nearest')"
   ]
  },
  {
   "cell_type": "code",
   "execution_count": null,
   "id": "7bbc6f59-783f-49ff-a1f7-9114b287cb69",
   "metadata": {
    "tags": []
   },
   "outputs": [],
   "source": [
    "# Descripcion del dataset\n",
    "print(digits.DESCR)"
   ]
  },
  {
   "cell_type": "code",
   "execution_count": null,
   "id": "214ba122-c20e-47b5-abe8-d180559fba89",
   "metadata": {},
   "outputs": [],
   "source": [
    "# Valores numericos, targets\n",
    "print(digits.target)\n",
    "print(digits.target.size)"
   ]
  },
  {
   "cell_type": "markdown",
   "id": "17c236a4-9e21-4752-9edd-4467143de994",
   "metadata": {},
   "source": [
    "## Aprendiendo"
   ]
  },
  {
   "cell_type": "code",
   "execution_count": null,
   "id": "d72e1e06-67fb-4f1c-b554-745ca82eb3ea",
   "metadata": {},
   "outputs": [],
   "source": [
    "# Support Vector Machine\n",
    "from sklearn import svm\n",
    "svc = svm.SVC(gamma=0.001, C=100.)"
   ]
  },
  {
   "cell_type": "code",
   "execution_count": null,
   "id": "775bc0af-fa97-494d-8f9d-77692a0d9c6e",
   "metadata": {},
   "outputs": [],
   "source": [
    "# Aplanar imagenes a 1D\n",
    "n_samples = len(digits.images)\n",
    "data = digits.images.reshape((n_samples, -1))"
   ]
  },
  {
   "cell_type": "code",
   "execution_count": null,
   "id": "23f15ecd-577a-48f8-90e6-e6fb124bf89c",
   "metadata": {},
   "outputs": [],
   "source": [
    "# Dividir dataset en entrenamiento/test\n",
    "from sklearn.model_selection import train_test_split\n",
    "\n",
    "X_train, X_test, y_train, y_test = train_test_split(data, digits.target, test_size=0.05, shuffle=False)"
   ]
  },
  {
   "cell_type": "code",
   "execution_count": null,
   "id": "802539b2-ff0e-4b4b-8e04-c5027d06a488",
   "metadata": {},
   "outputs": [],
   "source": [
    "# Entremaniento\n",
    "svc.fit(X_train, y_train)"
   ]
  },
  {
   "cell_type": "markdown",
   "id": "4002a625-3b89-46b1-ac6b-d8042e738cab",
   "metadata": {},
   "source": [
    "## Predicción"
   ]
  },
  {
   "cell_type": "code",
   "execution_count": null,
   "id": "081dff32-d219-423e-a7e2-f2e618b40e83",
   "metadata": {},
   "outputs": [],
   "source": [
    "predicted = svc.predict(X_test)\n",
    "print(predicted)"
   ]
  },
  {
   "cell_type": "code",
   "execution_count": null,
   "id": "86249706-28cf-40cc-8615-f7403ed872e6",
   "metadata": {},
   "outputs": [],
   "source": [
    "# Visualizar predicciones\n",
    "fig, axes = plt.subplots(nrows=1, ncols=6, figsize=(10, 3))\n",
    "for ax, image, prediction in zip(axes, X_test, predicted):\n",
    "    ax.set_axis_off()\n",
    "    image = image.reshape(8, 8)\n",
    "    ax.imshow(image, cmap=plt.cm.gray_r, interpolation='nearest')\n",
    "    ax.set_title(f'Prediction: {prediction}')"
   ]
  },
  {
   "cell_type": "code",
   "execution_count": null,
   "id": "e040e5e1-3845-4994-87f0-0bc57a549392",
   "metadata": {},
   "outputs": [],
   "source": [
    "# Informe del resultado de entrenamiento\n",
    "from sklearn import metrics\n",
    "\n",
    "print(metrics.classification_report(y_test, predicted))"
   ]
  }
 ],
 "metadata": {
  "kernelspec": {
   "display_name": "Python 3 (ipykernel)",
   "language": "python",
   "name": "python3"
  },
  "language_info": {
   "codemirror_mode": {
    "name": "ipython",
    "version": 3
   },
   "file_extension": ".py",
   "mimetype": "text/x-python",
   "name": "python",
   "nbconvert_exporter": "python",
   "pygments_lexer": "ipython3",
   "version": "3.9.5"
  }
 },
 "nbformat": 4,
 "nbformat_minor": 5
}
