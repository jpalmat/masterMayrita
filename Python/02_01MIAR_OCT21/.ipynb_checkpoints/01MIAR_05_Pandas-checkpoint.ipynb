{
 "cells": [
  {
   "cell_type": "markdown",
   "metadata": {
    "slideshow": {
     "slide_type": "slide"
    }
   },
   "source": [
    "\n",
    "<img src=\"img/viu_logo.png\" width=\"200\">\n",
    "\n",
    "## 01MIAR - Estructuras de datos, Pandas\n",
    "\n",
    "![logo](img/python_logo.png)\n",
    "\n",
    "*Ivan Fuertes*"
   ]
  },
  {
   "cell_type": "markdown",
   "metadata": {
    "slideshow": {
     "slide_type": "fragment"
    }
   },
   "source": [
    "# Sumario\n",
    "- Series y DataFrame\n",
    "- Indexacion, slicing\n",
    "- Grabar y cargar a archivo\n",
    "- MovieLens dataset "
   ]
  },
  {
   "cell_type": "markdown",
   "metadata": {
    "slideshow": {
     "slide_type": "slide"
    }
   },
   "source": [
    "# Pandas\n",
    "- Librería (de facto estándar) para estructurar datos tabulares\n",
    "- Multivariable (string, int, float, bool...)\n",
    "- Dos clases:\n",
    "  - Series (1 dimensión)\n",
    "  - DataFrames (2+ dimensiones)"
   ]
  },
  {
   "cell_type": "code",
   "execution_count": null,
   "metadata": {
    "slideshow": {
     "slide_type": "fragment"
    }
   },
   "outputs": [],
   "source": [
    "# librería externa\n",
    "import pandas as pd\n",
    "from pandas import Series, DataFrame"
   ]
  },
  {
   "cell_type": "markdown",
   "metadata": {
    "slideshow": {
     "slide_type": "slide"
    }
   },
   "source": [
    "# Series\n",
    "- Datos unidimensionales (similar a NumPy)\n",
    "- Elementos + índices modificables"
   ]
  },
  {
   "cell_type": "code",
   "execution_count": null,
   "metadata": {
    "slideshow": {
     "slide_type": "fragment"
    }
   },
   "outputs": [],
   "source": [
    "countries = pd.Series(['Spain','Andorra','Gibraltar','Portugal','France'])\n",
    "print(countries)"
   ]
  },
  {
   "cell_type": "code",
   "execution_count": null,
   "metadata": {
    "slideshow": {
     "slide_type": "fragment"
    }
   },
   "outputs": [],
   "source": [
    "# especificando el índice\n",
    "countries = pd.Series (['Spain','Andorra','Gibraltar','Portugal','France'],\n",
    "                       index=range(10,60,10))\n",
    "print(countries)"
   ]
  },
  {
   "cell_type": "code",
   "execution_count": null,
   "metadata": {
    "slideshow": {
     "slide_type": "subslide"
    }
   },
   "outputs": [],
   "source": [
    "# los índices pueden ser de más tipos\n",
    "football_cities = pd.Series(['Barcelona','Madrid','Valencia','Sevilla'], \n",
    "                            index=['a','b','c','d'])\n",
    "print(football_cities)"
   ]
  },
  {
   "cell_type": "code",
   "execution_count": null,
   "metadata": {
    "slideshow": {
     "slide_type": "fragment"
    }
   },
   "outputs": [],
   "source": [
    "# Atributos\n",
    "football_cities.name = 'Ciudades con dos equipos en primera' # nombrar la Serie\n",
    "football_cities.index.name = 'Id' # Describir los índices\n",
    "print(football_cities)"
   ]
  },
  {
   "cell_type": "code",
   "execution_count": null,
   "metadata": {
    "slideshow": {
     "slide_type": "fragment"
    }
   },
   "outputs": [],
   "source": [
    "# acceso similar a NumPy o listas, según posición\n",
    "print(football_cities[2])\n",
    "\n",
    "# acceso a través del índice semántico\n",
    "print(football_cities['c'])\n",
    "\n",
    "print(football_cities['c'] == football_cities[2])"
   ]
  },
  {
   "cell_type": "markdown",
   "metadata": {
    "slideshow": {
     "slide_type": "subslide"
    }
   },
   "source": [
    "# Tratamiento similar a ndarray"
   ]
  },
  {
   "cell_type": "code",
   "execution_count": null,
   "metadata": {
    "slideshow": {
     "slide_type": "fragment"
    }
   },
   "outputs": [],
   "source": [
    "# múltiple recolección de elementos\n",
    "print(football_cities[ ['a','c'] ])\n",
    "print(football_cities[ [0, 3] ])"
   ]
  },
  {
   "cell_type": "code",
   "execution_count": null,
   "metadata": {
    "slideshow": {
     "slide_type": "fragment"
    }
   },
   "outputs": [],
   "source": [
    "# slicing\n",
    "print(football_cities[:'c']) # incluye ambos extremos con el indice semantico\n",
    "print(football_cities[:2])"
   ]
  },
  {
   "cell_type": "code",
   "execution_count": null,
   "metadata": {},
   "outputs": [],
   "source": [
    "#cast a list\n",
    "lista = list(football_cities[:'c'])\n",
    "print(lista)"
   ]
  },
  {
   "cell_type": "code",
   "execution_count": null,
   "metadata": {
    "slideshow": {
     "slide_type": "fragment"
    }
   },
   "outputs": [],
   "source": [
    "# uso de masks para seleccionar\n",
    "fibonacci = pd.Series([0, 1, 1, 2, 3, 5, 8, 13, 21])\n",
    "mask = fibonacci > 10\n",
    "print(mask)\n",
    "print(fibonacci[mask])"
   ]
  },
  {
   "cell_type": "code",
   "execution_count": null,
   "metadata": {
    "slideshow": {
     "slide_type": "subslide"
    }
   },
   "outputs": [],
   "source": [
    "# aplicar funciones de numpy a la serie\n",
    "import numpy as np\n",
    "\n",
    "np.sum(fibonacci)"
   ]
  },
  {
   "cell_type": "code",
   "execution_count": null,
   "metadata": {
    "slideshow": {
     "slide_type": "fragment"
    }
   },
   "outputs": [],
   "source": [
    "#filtrado con np.where\n",
    "distances = pd.Series([12.1,np.nan,12.8,76.9,6.1,7.2])\n",
    "valid_distances = np.where(pd.notnull(distances),distances,0)\n",
    "print(valid_distances)\n",
    "print(type(valid_distances))"
   ]
  },
  {
   "cell_type": "markdown",
   "metadata": {
    "slideshow": {
     "slide_type": "subslide"
    }
   },
   "source": [
    "### Iteración"
   ]
  },
  {
   "cell_type": "code",
   "execution_count": null,
   "metadata": {
    "slideshow": {
     "slide_type": "fragment"
    }
   },
   "outputs": [],
   "source": [
    "# iterar sobre elementos\n",
    "for value in fibonacci:\n",
    "    print('Value: ' + str(value))\n",
    "\n",
    "# iterar sobre indices\n",
    "for index in fibonacci.index:\n",
    "    print('Index: ' + str(index))"
   ]
  },
  {
   "cell_type": "code",
   "execution_count": null,
   "metadata": {
    "slideshow": {
     "slide_type": "fragment"
    }
   },
   "outputs": [],
   "source": [
    "# iterar sobre elementos e índices al mismo tiempo\n",
    "for index, value in fibonacci.items():  #.iteritems()\n",
    "    print('Index: ' + str(index) + '  Value: ' + str(value))"
   ]
  },
  {
   "cell_type": "code",
   "execution_count": null,
   "metadata": {},
   "outputs": [],
   "source": [
    "for index, value in zip(fibonacci.index, fibonacci):\n",
    "    print('Index: ' + str(index) + '  Value: ' + str(value))  "
   ]
  },
  {
   "cell_type": "markdown",
   "metadata": {
    "slideshow": {
     "slide_type": "subslide"
    }
   },
   "source": [
    "## Series como diccionarios\n",
    "- Interpretar el índice como clave\n",
    "- Acepta operaciones para diccionarios"
   ]
  },
  {
   "cell_type": "code",
   "execution_count": null,
   "metadata": {
    "slideshow": {
     "slide_type": "fragment"
    }
   },
   "outputs": [],
   "source": [
    "# crear una serie a partir de un diccionario\n",
    "serie = pd.Series( { 'Carlos' : 100, 'Marcos': 98} )\n",
    "print(serie.index)\n",
    "print(serie.values)\n",
    "print(serie)"
   ]
  },
  {
   "cell_type": "code",
   "execution_count": null,
   "metadata": {
    "slideshow": {
     "slide_type": "fragment"
    }
   },
   "outputs": [],
   "source": [
    "# añade y elimina elementos a través de índices\n",
    "serie['Pedro'] = 12\n",
    "del serie['Marcos']\n",
    "print(serie)"
   ]
  },
  {
   "cell_type": "code",
   "execution_count": null,
   "metadata": {
    "slideshow": {
     "slide_type": "fragment"
    }
   },
   "outputs": [],
   "source": [
    "# query una serie\n",
    "if 'Carlos' in serie:\n",
    "    serie['Carlos'] = 2\n",
    "    \n",
    "print(serie)"
   ]
  },
  {
   "cell_type": "markdown",
   "metadata": {
    "slideshow": {
     "slide_type": "subslide"
    }
   },
   "source": [
    "## Operaciones entre series"
   ]
  },
  {
   "cell_type": "code",
   "execution_count": null,
   "metadata": {
    "slideshow": {
     "slide_type": "fragment"
    }
   },
   "outputs": [],
   "source": [
    "# suma de dos series\n",
    "# suma de valores con el mismo índice (NaN si no aparece en ambas)\n",
    "serie1 = pd.Series([10,20,30,40],index=range(4) )\n",
    "serie2 = pd.Series([1,2,3],index=range(3) )\n",
    "print(serie1 + serie2)"
   ]
  },
  {
   "cell_type": "code",
   "execution_count": null,
   "metadata": {
    "slideshow": {
     "slide_type": "fragment"
    }
   },
   "outputs": [],
   "source": [
    "# resta de series (similar a la suma)\n",
    "print(serie1 - serie2)"
   ]
  },
  {
   "cell_type": "code",
   "execution_count": null,
   "metadata": {
    "slideshow": {
     "slide_type": "subslide"
    }
   },
   "outputs": [],
   "source": [
    "# operaciones de pre-filtrado\n",
    "result = serie1 + serie2\n",
    "result[pd.isnull(result)] = 0 # mask con isnull()\n",
    "print(result)"
   ]
  },
  {
   "cell_type": "markdown",
   "metadata": {
    "slideshow": {
     "slide_type": "subslide"
    }
   },
   "source": [
    "###  Diferencias entre Pandas Series y diccionario\n",
    "* Diccionario, es una estructura que relaciona las claves y los valores de forma arbitraria.\n",
    "* Series, estructura de forma estricta listas de valores con listas de índice asignado en la posición.\n",
    "* Series, es más eficiente para ciertas operaciones que los dicionarios.\n",
    "* En las Series los valores de entrada pueden ser listas o Numpy arrays.\n",
    "* En Series los índices semánticos pueden ser integers o caracteres, en los valores igual.\n",
    "* Series se podría entender entre una lista y un diccionario Python, pero es de una dimensión."
   ]
  },
  {
   "cell_type": "markdown",
   "metadata": {
    "slideshow": {
     "slide_type": "slide"
    }
   },
   "source": [
    "# DataFrame\n",
    "- Datos tabulares (filas x columnas)\n",
    "- Columnas: Series con índices compartidos"
   ]
  },
  {
   "cell_type": "code",
   "execution_count": null,
   "metadata": {
    "slideshow": {
     "slide_type": "subslide"
    }
   },
   "outputs": [],
   "source": [
    "# crear un DataFrame a partir de un diccionario de elementos de la misma longitud\n",
    "diccionario = { \"Nombre\" : [\"Marisa\",\"Laura\",\"Manuel\"], \n",
    "                \"Edad\" : [34,29,12] }\n",
    "# las claves identifican columnas\n",
    "frame = pd.DataFrame(diccionario)\n",
    "display(frame)"
   ]
  },
  {
   "cell_type": "code",
   "execution_count": null,
   "metadata": {},
   "outputs": [],
   "source": [
    "# crear un DataFrame a partir de un diccionario de elementos de la misma longitud\n",
    "diccionario = { \"Nombre\" : [\"Marisa\",\"Laura\",\"Manuel\"], \n",
    "                \"Edad\" : [34,29,12] }\n",
    "# las claves identifican columnas\n",
    "frame = pd.DataFrame(diccionario, index = ['a', 'b', 'c'])\n",
    "display(frame)"
   ]
  },
  {
   "cell_type": "code",
   "execution_count": null,
   "metadata": {
    "slideshow": {
     "slide_type": "fragment"
    }
   },
   "outputs": [],
   "source": [
    "# además de 'index', el parámetro 'columns' especifica el número y orden de las columnas\n",
    "frame = pd.DataFrame(diccionario, columns = ['Nacionalidad', 'Nombre', 'Edad', 'Profesion'])\n",
    "display(frame)"
   ]
  },
  {
   "cell_type": "code",
   "execution_count": null,
   "metadata": {
    "slideshow": {
     "slide_type": "subslide"
    }
   },
   "outputs": [],
   "source": [
    "# acceso a columnas\n",
    "nombres = frame['Nombre']\n",
    "display(nombres)\n",
    "type(nombres)"
   ]
  },
  {
   "cell_type": "code",
   "execution_count": null,
   "metadata": {},
   "outputs": [],
   "source": [
    "#siempre que el nombre de la columna lo permita (espacios, ...)\n",
    "nombres = frame.Nombre\n",
    "display(nombres)\n",
    "type(nombres)"
   ]
  },
  {
   "cell_type": "code",
   "execution_count": null,
   "metadata": {
    "slideshow": {
     "slide_type": "fragment"
    }
   },
   "outputs": [],
   "source": [
    "# acceso al primer nombre del DataFrame frame??\n",
    "print(frame['Nombre'][0])\n",
    "print(frame.Nombre[0])\n",
    "print(nombres[0])"
   ]
  },
  {
   "cell_type": "markdown",
   "metadata": {
    "slideshow": {
     "slide_type": "slide"
    }
   },
   "source": [
    "### Formas de crear un DataFrame\n",
    "* Con una Serie de pandas\n",
    "* Lista de diccionarios\n",
    "* Dicionario de Series de Pandas\n",
    "* Con un array de Numpy de dos dimensiones\n",
    "* Con array estructurado de Numpy "
   ]
  },
  {
   "cell_type": "markdown",
   "metadata": {
    "slideshow": {
     "slide_type": "subslide"
    }
   },
   "source": [
    "## Modificar DataFrames"
   ]
  },
  {
   "cell_type": "code",
   "execution_count": null,
   "metadata": {
    "slideshow": {
     "slide_type": "fragment"
    }
   },
   "outputs": [],
   "source": [
    "# añadir columnas\n",
    "frame = pd.DataFrame(diccionario,columns=['Nacionalidad', 'Nombre', 'Edad', 'Profesion'])\n",
    "frame['Direccion'] = 'Desconocida'\n",
    "display(frame)"
   ]
  },
  {
   "cell_type": "code",
   "execution_count": null,
   "metadata": {
    "slideshow": {
     "slide_type": "fragment"
    }
   },
   "outputs": [],
   "source": [
    "# añadir fila (requiere todos los valores)\n",
    "user_2 = ['Alemania','Klaus',20, 'none', 'Desconocida']\n",
    "frame.loc[100] = user_2\n",
    "display(frame)"
   ]
  },
  {
   "cell_type": "code",
   "execution_count": null,
   "metadata": {
    "scrolled": true,
    "slideshow": {
     "slide_type": "subslide"
    }
   },
   "outputs": [],
   "source": [
    "# eliminar fila (similar a Series)\n",
    "frame = pd.DataFrame(diccionario,columns=['Nacionalidad', 'Nombre', 'Edad', 'Profesion'])\n",
    "\n",
    "# frame = frame.drop(2) # por qué necesitamos reasignar el frame?\n",
    "# display(frame)\n",
    "\n",
    "frame.drop(2, inplace = True)\n",
    "display(frame)"
   ]
  },
  {
   "cell_type": "code",
   "execution_count": null,
   "metadata": {
    "slideshow": {
     "slide_type": "fragment"
    }
   },
   "outputs": [],
   "source": [
    "#eliminar columna\n",
    "del frame['Profesion']\n",
    "display(frame)"
   ]
  },
  {
   "cell_type": "code",
   "execution_count": null,
   "metadata": {
    "slideshow": {
     "slide_type": "subslide"
    }
   },
   "outputs": [],
   "source": [
    "# acceder a la traspuesta (como una matriz)\n",
    "display(frame.T)"
   ]
  },
  {
   "cell_type": "markdown",
   "metadata": {
    "slideshow": {
     "slide_type": "subslide"
    }
   },
   "source": [
    "## Iteración"
   ]
  },
  {
   "cell_type": "code",
   "execution_count": null,
   "metadata": {
    "slideshow": {
     "slide_type": "fragment"
    }
   },
   "outputs": [],
   "source": [
    "# iteración sobre el DataFrame?\n",
    "frame = pd.DataFrame(diccionario, columns=['Nacionalidad', 'Nombre', 'Edad', 'Profesion'])\n",
    "\n",
    "for a in frame:\n",
    "    print(a) # qué es 'a'?\n",
    "    print(type(a))"
   ]
  },
  {
   "cell_type": "code",
   "execution_count": null,
   "metadata": {
    "slideshow": {
     "slide_type": "fragment"
    }
   },
   "outputs": [],
   "source": [
    "# iteracion sobre filas\n",
    "for value in frame.values:\n",
    "    print(value)\n",
    "    print(type(value))"
   ]
  },
  {
   "cell_type": "code",
   "execution_count": null,
   "metadata": {
    "slideshow": {
     "slide_type": "fragment"
    }
   },
   "outputs": [],
   "source": [
    "# iterar sobre filas y luego sobre cada valor?\n",
    "for values in frame.values:\n",
    "    for value in values: \n",
    "        print(value)"
   ]
  },
  {
   "cell_type": "markdown",
   "metadata": {
    "slideshow": {
     "slide_type": "subslide"
    }
   },
   "source": [
    "## Indexación y slicing con DataFrames"
   ]
  },
  {
   "cell_type": "code",
   "execution_count": null,
   "metadata": {},
   "outputs": [],
   "source": [
    "d1 = {'ciudad':'Valencia', 'temperatura':10, 'o2':1}\n",
    "d2 = {'ciudad':'Barcelona', 'temperatura':8}\n",
    "d3 = {'ciudad':'Valencia', 'temperatura':9}\n",
    "d4 = {'ciudad':'Madrid', 'temperatura':10, 'humedad':80}\n",
    "d5 = {'ciudad':'Sevilla', 'temperatura':15, 'humedad':50, 'co2':6}\n",
    "d6 = {'ciudad':'Valencia', 'temperatura':10, 'humedad':90, 'co2':10}\n",
    "ls_data = [d1, d2, d3, d4, d5, d6]  # lista de diccionarios\n",
    "df_data = pd.DataFrame(ls_data, index = list('abcdef'))\n",
    "display(df_data)"
   ]
  },
  {
   "cell_type": "code",
   "execution_count": null,
   "metadata": {},
   "outputs": [],
   "source": [
    "# Acceso a un valor concreto por indice posicional [row, col]\n",
    "print(df_data.iloc[1,1])\n",
    "\n",
    "# Acceso a todos los valores hasta un índice por enteros\n",
    "display(df_data.iloc[:3,:4])\n",
    "\n",
    "# Acceso a datos de manera explícita, indice semantico (se incluyen)\n",
    "display(df_data.loc['d', 'temperatura'])\n",
    "display(df_data.loc[:'c', :'o2'])\n",
    "display(df_data.loc[:'c', 'temperatura':'o2'])\n",
    "\n",
    "display(df_data.loc[:, ['ciudad','o2']])"
   ]
  },
  {
   "cell_type": "code",
   "execution_count": null,
   "metadata": {
    "slideshow": {
     "slide_type": "subslide"
    }
   },
   "outputs": [],
   "source": [
    "# indexación con nombre de columna (por columnas)\n",
    "print(df_data['ciudad']) # --> Series\n",
    "\n",
    "display(df_data[['ciudad', 'o2']])"
   ]
  },
  {
   "cell_type": "code",
   "execution_count": null,
   "metadata": {
    "slideshow": {
     "slide_type": "fragment"
    },
    "tags": []
   },
   "outputs": [],
   "source": [
    "# indexación con índice posicional (no permitido!). Esto busca columna.\n",
    "# df_data[0]"
   ]
  },
  {
   "cell_type": "code",
   "execution_count": null,
   "metadata": {
    "slideshow": {
     "slide_type": "subslide"
    }
   },
   "outputs": [],
   "source": [
    "# indexar por posición con 'iloc'\n",
    "print(df_data.iloc[0]) # --> Series de la primera fila (qué marca los índices)"
   ]
  },
  {
   "cell_type": "code",
   "execution_count": null,
   "metadata": {
    "scrolled": true,
    "slideshow": {
     "slide_type": "fragment"
    }
   },
   "outputs": [],
   "source": [
    "# indexar semántico con 'loc'\n",
    "df_data.loc['a'] # --> Series de la fila con índice 'a'"
   ]
  },
  {
   "cell_type": "code",
   "execution_count": null,
   "metadata": {},
   "outputs": [],
   "source": [
    "# indexar semántico con 'loc'\n",
    "df_data.loc[:'b'] # --> DataFrame de la fila con índice 'a'"
   ]
  },
  {
   "cell_type": "code",
   "execution_count": null,
   "metadata": {},
   "outputs": [],
   "source": [
    "# si se modifica una porcion del dataframe se modifica el dataframe original (referencia)\n",
    "serie = df_data.loc['a']\n",
    "serie[2] = 3000\n",
    "\n",
    "display(df_data)\n",
    "\n",
    "# copiar data frame\n",
    "df_2 = df_data.copy()"
   ]
  },
  {
   "cell_type": "code",
   "execution_count": null,
   "metadata": {
    "slideshow": {
     "slide_type": "fragment"
    }
   },
   "outputs": [],
   "source": [
    "# ambos aceptan 'axis' como argumento\n",
    "# df_data.iloc(axis=1)[0] # --> todos los valores asignados a la primera columna 'ciudad'\n",
    "df_data.loc(axis=1)['ciudad'] # --> equivalente frame['ciudad']"
   ]
  },
  {
   "cell_type": "code",
   "execution_count": null,
   "metadata": {
    "slideshow": {
     "slide_type": "subslide"
    }
   },
   "outputs": [],
   "source": [
    "# qué problema puede tener este fragmento?\n",
    "frame = pd.DataFrame({\"Name\" : ['Carlos','Pedro'], \"Age\" : [34,22]}, index=[0,1])\n",
    "display(frame)"
   ]
  },
  {
   "cell_type": "code",
   "execution_count": null,
   "metadata": {
    "scrolled": true,
    "slideshow": {
     "slide_type": "fragment"
    }
   },
   "outputs": [],
   "source": [
    "# por defecto, pandas interpreta índice posicional --> error en frames\n",
    "# cuando hay posible ambigüedad, utilizar loc y iloc\n",
    "print('Primera fila\\n')\n",
    "print(frame.iloc[0])\n",
    "print('\\nElemento con index 0\\n')\n",
    "print(frame.loc[0])"
   ]
  },
  {
   "cell_type": "markdown",
   "metadata": {
    "slideshow": {
     "slide_type": "subslide"
    }
   },
   "source": [
    "## Objeto Index de Pandas"
   ]
  },
  {
   "cell_type": "code",
   "execution_count": null,
   "metadata": {
    "slideshow": {
     "slide_type": "fragment"
    }
   },
   "outputs": [],
   "source": [
    "# Contrucción de índices\n",
    "ind = pd.Index([2, 3, 5, 23, 26])\n",
    "# recuperar datos\n",
    "print(ind[3])\n",
    "print(ind[::2])"
   ]
  },
  {
   "cell_type": "code",
   "execution_count": null,
   "metadata": {},
   "outputs": [],
   "source": [
    "# usar un objeto index al crear dataframe\n",
    "frame = pd.DataFrame({\"Name\" : ['Carlos','Pedro', 'Manolo', 'Luis', 'Alberto'], \"Age\" : [34,22,15,55,23]}, index=ind)\n",
    "display(frame)"
   ]
  },
  {
   "cell_type": "code",
   "execution_count": null,
   "metadata": {
    "slideshow": {
     "slide_type": "fragment"
    },
    "tags": []
   },
   "outputs": [],
   "source": [
    "# Son inmutables! No se modifican los datos. \n",
    "# ind[3] = 8"
   ]
  },
  {
   "cell_type": "markdown",
   "metadata": {
    "slideshow": {
     "slide_type": "subslide"
    }
   },
   "source": [
    "## Slicing"
   ]
  },
  {
   "cell_type": "code",
   "execution_count": null,
   "metadata": {
    "slideshow": {
     "slide_type": "fragment"
    }
   },
   "outputs": [],
   "source": [
    "# slice por filas\n",
    "d_and_d_characters = {'Name' : ['bundenth','theorin','barlok'], 'Strength' : [10,12,19], 'Wisdom' : [20,13,6]}\n",
    "character_data = pd.DataFrame(d_and_d_characters, index=['a','b','c'])\n",
    "display(character_data)\n",
    "display(character_data[:-1])\n",
    "display(character_data[1:2])"
   ]
  },
  {
   "cell_type": "code",
   "execution_count": null,
   "metadata": {
    "slideshow": {
     "slide_type": "fragment"
    }
   },
   "outputs": [],
   "source": [
    "# slicing para columnas\n",
    "display(character_data[['Name','Wisdom']])"
   ]
  },
  {
   "cell_type": "code",
   "execution_count": null,
   "metadata": {
    "slideshow": {
     "slide_type": "fragment"
    }
   },
   "outputs": [],
   "source": [
    "#slicing con 'loc' e 'iloc'\n",
    "display(character_data.iloc[1:])\n",
    "display(character_data.loc[:'b'])"
   ]
  },
  {
   "cell_type": "markdown",
   "metadata": {
    "slideshow": {
     "slide_type": "subslide"
    }
   },
   "source": [
    "¿Cómo filtrar filas y columnas? Por ejemplo, para todos los personajes, obtener 'Name' y 'Strength'"
   ]
  },
  {
   "cell_type": "code",
   "execution_count": null,
   "metadata": {
    "slideshow": {
     "slide_type": "fragment"
    }
   },
   "outputs": [],
   "source": [
    "# usando 'loc' para hacer slicing\n",
    "display(character_data.loc[:,'Name':'Strength'])"
   ]
  },
  {
   "cell_type": "code",
   "execution_count": null,
   "metadata": {
    "slideshow": {
     "slide_type": "fragment"
    }
   },
   "outputs": [],
   "source": [
    "# usando 'loc' para buscar específicamente filas y columnas\n",
    "display(character_data.loc[ ['a','c'], ['Name','Wisdom'] ])"
   ]
  },
  {
   "cell_type": "code",
   "execution_count": null,
   "metadata": {
    "slideshow": {
     "slide_type": "fragment"
    }
   },
   "outputs": [],
   "source": [
    "# lo mismo con 'iloc'?\n",
    "display(character_data.iloc[[0,2],[0,2]])\n",
    "display(character_data.iloc[[0,-1],[0,-1]])"
   ]
  },
  {
   "cell_type": "code",
   "execution_count": null,
   "metadata": {},
   "outputs": [],
   "source": [
    "# lista de los personajes con el atributo Strength > 11\n",
    "display(character_data.loc[character_data['Strength'] > 11, ['Name', 'Strength']])"
   ]
  },
  {
   "cell_type": "code",
   "execution_count": null,
   "metadata": {
    "slideshow": {
     "slide_type": "subslide"
    }
   },
   "outputs": [],
   "source": [
    "# listar los personajes con Strength > 15 o Wisdom > 15\n",
    "display(character_data.loc[(character_data['Strength'] > 15) | (character_data['Wisdom'] > 15)])"
   ]
  },
  {
   "cell_type": "markdown",
   "metadata": {
    "slideshow": {
     "slide_type": "slide"
    }
   },
   "source": [
    "# Cargar y guardar datos en pandas"
   ]
  },
  {
   "cell_type": "code",
   "execution_count": null,
   "metadata": {
    "slideshow": {
     "slide_type": "fragment"
    }
   },
   "outputs": [],
   "source": [
    "# Guardar a csv\n",
    "import os\n",
    "ruta = os.path.join(\"res\" ,\"o_d_d_characters.csv\")\n",
    "character_data.to_csv(ruta, sep=';') # sep por defecto: ','"
   ]
  },
  {
   "cell_type": "code",
   "execution_count": null,
   "metadata": {
    "slideshow": {
     "slide_type": "fragment"
    }
   },
   "outputs": [],
   "source": [
    "loaded = pd.read_csv(ruta, sep=';')\n",
    "display(loaded)"
   ]
  },
  {
   "cell_type": "code",
   "execution_count": null,
   "metadata": {
    "slideshow": {
     "slide_type": "fragment"
    }
   },
   "outputs": [],
   "source": [
    "loaded = pd.read_csv(ruta, sep=';', index_col = 0)\n",
    "display(loaded)"
   ]
  },
  {
   "cell_type": "markdown",
   "metadata": {
    "slideshow": {
     "slide_type": "subslide"
    }
   },
   "source": [
    "#### otros argumentos to_csv()\n",
    "- na_rep='string' --> representar valores NaN en el archivo csv\n",
    "\n",
    "#### otros argumentos read_csv()\n",
    "- na_values='string'\n"
   ]
  },
  {
   "cell_type": "markdown",
   "metadata": {
    "slideshow": {
     "slide_type": "fragment"
    }
   },
   "source": [
    "Pandas también ofrece funciones para leer/guardar a otros formatos estándares: JSON, HDF5 o Excel en su [API](https://pandas.pydata.org/pandas-docs/stable/reference/io.html)"
   ]
  },
  {
   "cell_type": "markdown",
   "metadata": {
    "slideshow": {
     "slide_type": "slide"
    }
   },
   "source": [
    "# Ejemplo práctico en pandas\n",
    "- [MovieLens dataset](https://grouplens.org/datasets/movielens/)\n",
    " - Reviews de películas\n",
    " - 1 millón de entradas\n",
    " - Datos demográficos de usuarios"
   ]
  },
  {
   "cell_type": "code",
   "execution_count": null,
   "metadata": {
    "slideshow": {
     "slide_type": "subslide"
    }
   },
   "outputs": [],
   "source": [
    "import numpy as np\n",
    "import pandas as pd\n",
    "import zipfile # para descomprimir archivos zip\n",
    "import urllib.request # para descargar de URL\n",
    "import os\n",
    "\n",
    "# descargar MovieLens dataset\n",
    "url = 'http://files.grouplens.org/datasets/movielens/ml-1m.zip'  \n",
    "ruta = os.path.join(\"res\", \"ml-1m.zip\")\n",
    "urllib.request.urlretrieve(url, ruta)"
   ]
  },
  {
   "cell_type": "code",
   "execution_count": null,
   "metadata": {
    "slideshow": {
     "slide_type": "fragment"
    }
   },
   "outputs": [],
   "source": [
    "# descomprimiendo archivo zip\n",
    "ruta_ext = os.path.join(\"res\")\n",
    "with zipfile.ZipFile(ruta, 'r') as z: \n",
    "    print('Extracting all files...') \n",
    "    z.extractall(ruta_ext) # destinación\n",
    "    print('Done!') \n",
    "    \n",
    "# take a look at readme y revisar formatos"
   ]
  },
  {
   "cell_type": "code",
   "execution_count": null,
   "metadata": {
    "scrolled": true,
    "slideshow": {
     "slide_type": "subslide"
    }
   },
   "outputs": [],
   "source": [
    "ruta_users = os.path.join(\"res\", \"ml-1m\", \"users.dat\")\n",
    "\n",
    "users_dataset = pd.read_csv(ruta_users, sep='::', index_col=0, engine='python')\n",
    "display(users_dataset)"
   ]
  },
  {
   "cell_type": "code",
   "execution_count": null,
   "metadata": {
    "slideshow": {
     "slide_type": "subslide"
    },
    "tags": []
   },
   "outputs": [],
   "source": [
    "# Varios problemas\n",
    "# sin cabecera! primer valor se ha perdido\n",
    "# las columnas no tienen nombres\n",
    "pd.read_csv?"
   ]
  },
  {
   "cell_type": "code",
   "execution_count": null,
   "metadata": {
    "scrolled": true,
    "slideshow": {
     "slide_type": "fragment"
    }
   },
   "outputs": [],
   "source": [
    "# especificar nombres, cargar sin cabecera\n",
    "users_dataset = pd.read_csv(ruta_users, sep='::', index_col=0,\n",
    "    header=None, names=['UserID','Gender','Age','Occupation','Zip-code'], engine='python')\n",
    "display(users_dataset)"
   ]
  },
  {
   "cell_type": "code",
   "execution_count": null,
   "metadata": {
    "slideshow": {
     "slide_type": "subslide"
    }
   },
   "outputs": [],
   "source": [
    "# samplear la tabla \n",
    "display(users_dataset.sample(10))"
   ]
  },
  {
   "cell_type": "code",
   "execution_count": null,
   "metadata": {
    "scrolled": true,
    "slideshow": {
     "slide_type": "fragment"
    }
   },
   "outputs": [],
   "source": [
    "# samplear la cabeza\n",
    "display(users_dataset.head(4))"
   ]
  },
  {
   "cell_type": "code",
   "execution_count": null,
   "metadata": {
    "slideshow": {
     "slide_type": "fragment"
    }
   },
   "outputs": [],
   "source": [
    "# samplear la cola\n",
    "display(users_dataset.tail(4))"
   ]
  },
  {
   "cell_type": "code",
   "execution_count": null,
   "metadata": {},
   "outputs": [],
   "source": [
    "# tipos de datos sobre las columnas\n",
    "users_dataset.dtypes"
   ]
  },
  {
   "cell_type": "code",
   "execution_count": null,
   "metadata": {},
   "outputs": [],
   "source": [
    "display(users_dataset[users_dataset['Zip-code'].str.len() > 5])"
   ]
  },
  {
   "cell_type": "code",
   "execution_count": null,
   "metadata": {
    "slideshow": {
     "slide_type": "subslide"
    }
   },
   "outputs": [],
   "source": [
    "# información general sobre atributos numéricos\n",
    "display(users_dataset.describe())"
   ]
  },
  {
   "cell_type": "code",
   "execution_count": null,
   "metadata": {},
   "outputs": [],
   "source": [
    "users_dataset.info()"
   ]
  },
  {
   "cell_type": "code",
   "execution_count": null,
   "metadata": {
    "slideshow": {
     "slide_type": "subslide"
    }
   },
   "outputs": [],
   "source": [
    "# incluir otros atributos (no todo tiene sentido)\n",
    "display(users_dataset.describe(include='all'))"
   ]
  },
  {
   "cell_type": "code",
   "execution_count": null,
   "metadata": {
    "slideshow": {
     "slide_type": "subslide"
    }
   },
   "outputs": [],
   "source": [
    "# cuántos usuarios son mujeres (Gender='F')\n",
    "len(users_dataset[users_dataset['Gender'] == 'F'])\n",
    "\n",
    "# select count(*) from users_dataset where users_dataset.Gender = 'F'"
   ]
  },
  {
   "cell_type": "code",
   "execution_count": null,
   "metadata": {
    "slideshow": {
     "slide_type": "subslide"
    }
   },
   "outputs": [],
   "source": [
    "# mostrar solo los menores de edad\n",
    "under_age = users_dataset[users_dataset['Age'] == 1]\n",
    "print(len(under_age))\n",
    "display(under_age.sample(10))"
   ]
  },
  {
   "cell_type": "code",
   "execution_count": null,
   "metadata": {
    "slideshow": {
     "slide_type": "fragment"
    }
   },
   "outputs": [],
   "source": [
    "# filtrar edad incorrecta (míninimo 18) SettingWithCopyWarning!!!\n",
    "users_dataset = pd.read_csv(ruta_users, sep='::', index_col=0,\n",
    "    header=None, names=['UserID','Gender','Age','Occupation','Zip-code'], engine='python')\n",
    "under_age = users_dataset[users_dataset['Age'] == 1]\n",
    "\n",
    "under_age.loc['Age'] = np.nan\n",
    "display(under_age.head())\n",
    "\n",
    "users_dataset[users_dataset['Age'] < 18] = under_age\n",
    "display(users_dataset.head())"
   ]
  },
  {
   "cell_type": "code",
   "execution_count": null,
   "metadata": {},
   "outputs": [],
   "source": [
    "# filtrar edad incorrecta (míninimo 18) Fixing it by Copying the slice\n",
    "users_dataset = pd.read_csv(ruta_users, sep='::', index_col=0,\n",
    "    header=None, names=['UserID','Gender','Age','Occupation','Zip-code'], engine='python')\n",
    "under_age = users_dataset[users_dataset['Age'] == 1]\n",
    "\n",
    "under_age_copy = under_age.copy()\n",
    "under_age_copy['Age'] = np.nan\n",
    "display(under_age_copy.head())\n",
    "\n",
    "users_dataset[users_dataset['Age'] < 18] = under_age_copy\n",
    "display(users_dataset.head())"
   ]
  },
  {
   "cell_type": "code",
   "execution_count": null,
   "metadata": {
    "slideshow": {
     "slide_type": "fragment"
    }
   },
   "outputs": [],
   "source": [
    "# filtrar edad incorrecta (míninimo 18) Remove them from the dataset\n",
    "users_dataset = pd.read_csv(ruta_users, sep='::', index_col=0,\n",
    "    header=None, names=['UserID','Gender','Age','Occupation','Zip-code'], engine='python')\n",
    "\n",
    "display(users_dataset[users_dataset['Age'] == 1].head(4))\n",
    "\n",
    "users_dataset.loc[users_dataset['Age'] == 1,'Age'] = np.nan\n",
    "display(users_dataset.loc[pd.isnull(users_dataset['Age'])].head(4))\n",
    "\n",
    "users_dataset.drop(users_dataset[pd.isnull(users_dataset['Age'])].index, inplace = True)\n",
    "display(users_dataset.head(4))"
   ]
  },
  {
   "cell_type": "code",
   "execution_count": null,
   "metadata": {
    "slideshow": {
     "slide_type": "fragment"
    }
   },
   "outputs": [],
   "source": [
    "# Agrupar datos por atributos\n",
    "display(users_dataset.groupby(by='Age').describe())"
   ]
  },
  {
   "cell_type": "code",
   "execution_count": null,
   "metadata": {
    "slideshow": {
     "slide_type": "fragment"
    }
   },
   "outputs": [],
   "source": [
    "# Grabar la tabla modificada\n",
    "# Cambiar el separador a ','\n",
    "# Guardar NaN como 'null'\n",
    "ruta_output = os.path.join('res', 'ml-1m', 'o_users_processed.csv')\n",
    "users_dataset.to_csv(ruta_output, sep=',',na_rep='null')"
   ]
  },
  {
   "cell_type": "markdown",
   "metadata": {
    "slideshow": {
     "slide_type": "slide"
    }
   },
   "source": [
    "# Ejercicios\n",
    "- Hacer un análisis general de los otros dos archivos CSV en ml-1m ('movies.dat' y 'ratings.dat')\n",
    "- Analizando el dataset ratings.dat, ¿hay algún usuario que no tenga ninguna review? ¿Cuántos tienen menos de 30 reviews?"
   ]
  }
 ],
 "metadata": {
  "celltoolbar": "Slideshow",
  "kernelspec": {
   "display_name": "Python 3 (ipykernel)",
   "language": "python",
   "name": "python3"
  },
  "language_info": {
   "codemirror_mode": {
    "name": "ipython",
    "version": 3
   },
   "file_extension": ".py",
   "mimetype": "text/x-python",
   "name": "python",
   "nbconvert_exporter": "python",
   "pygments_lexer": "ipython3",
   "version": "3.9.1"
  }
 },
 "nbformat": 4,
 "nbformat_minor": 4
}
