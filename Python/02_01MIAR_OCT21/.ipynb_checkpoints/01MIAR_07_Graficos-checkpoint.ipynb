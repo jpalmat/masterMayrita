{
 "cells": [
  {
   "cell_type": "markdown",
   "metadata": {
    "slideshow": {
     "slide_type": "slide"
    }
   },
   "source": [
    "<img src=\"img/viu_logo.png\" width=\"200\">\n",
    "\n",
    "## 01MIAR - Representación Gráfica\n",
    "\n",
    "![logo](img/python_logo.png)\n",
    "\n",
    "*Ivan Fuertes*"
   ]
  },
  {
   "cell_type": "markdown",
   "metadata": {
    "slideshow": {
     "slide_type": "slide"
    }
   },
   "source": [
    "#### Representacion grafica\n",
    "- matplotlib basico (plot, legend, decoradores y anotaciones, grabar)\n",
    "- dibujo con pandas (tipos de graficos)\n",
    "- intro a seaborn https://seaborn.pydata.org/tutorial.html"
   ]
  },
  {
   "cell_type": "markdown",
   "metadata": {
    "slideshow": {
     "slide_type": "subslide"
    }
   },
   "source": [
    "#### Referencias\n",
    "- https://plotdb.com/\n",
    "- https://d3js.org/\n",
    "- https://plot.ly/python/\n",
    "- https://bokeh.org/\n",
    "- https://shiny.rstudio.com/gallery/\n",
    "- https://www.tableau.com/es-es"
   ]
  },
  {
   "cell_type": "markdown",
   "metadata": {
    "slideshow": {
     "slide_type": "fragment"
    }
   },
   "source": [
    "# Sumario\n",
    "- Representación gráfica\n",
    " - Low level: matplotlib\n",
    " - High level: pandas\n",
    " - Librería accesible: seaborn"
   ]
  },
  {
   "cell_type": "markdown",
   "metadata": {
    "slideshow": {
     "slide_type": "slide"
    }
   },
   "source": [
    "# matplotlib\n",
    "- Librería estándar de representación gráfica\n",
    "- Low level: fácil de usar, difícil de dominar\n",
    " - Control\n",
    "- Gráficos y diagramas"
   ]
  },
  {
   "cell_type": "markdown",
   "metadata": {
    "slideshow": {
     "slide_type": "fragment"
    }
   },
   "source": [
    "### Elementos de visualización\n",
    "- Gráfico. Tipo de representación dentro de una subfigura o figura. Existen gran cantidad de tipos de gráficos: barras, líneas, tarta...\n",
    "- Subfigura. Representación dentro de una figura.\n",
    "- Figura. Marco donde se representan de manera conjunta una visualización. Se caracterizan por tener un título general y suele tener una descripción así como una fuente o referencia"
   ]
  },
  {
   "cell_type": "code",
   "execution_count": null,
   "metadata": {
    "slideshow": {
     "slide_type": "slide"
    }
   },
   "outputs": [],
   "source": [
    "# importar matplotlib\n",
    "import matplotlib.pyplot as plt"
   ]
  },
  {
   "cell_type": "code",
   "execution_count": null,
   "metadata": {},
   "outputs": [],
   "source": [
    "import numpy as np\n",
    "import pandas as pd"
   ]
  },
  {
   "cell_type": "markdown",
   "metadata": {
    "slideshow": {
     "slide_type": "fragment"
    }
   },
   "source": [
    "- 'plot(data)' para crear un gráfico con 'data'\n",
    "- 'show()' para mostrarlo"
   ]
  },
  {
   "cell_type": "code",
   "execution_count": null,
   "metadata": {},
   "outputs": [],
   "source": [
    "%matplotlib --list"
   ]
  },
  {
   "cell_type": "code",
   "execution_count": null,
   "metadata": {
    "slideshow": {
     "slide_type": "fragment"
    }
   },
   "outputs": [],
   "source": [
    "# magic command para visualizar gráficos en jupyter en modo no interactivo\n",
    "%matplotlib inline"
   ]
  },
  {
   "cell_type": "code",
   "execution_count": null,
   "metadata": {
    "slideshow": {
     "slide_type": "fragment"
    }
   },
   "outputs": [],
   "source": [
    "data = np.random.randint(100,size=(10))\n",
    "display(data)\n",
    "plt.plot(data) # creación del gráfico\n",
    "plt.show() # comando que muestra los gráficos creados hasta el momento"
   ]
  },
  {
   "cell_type": "code",
   "execution_count": null,
   "metadata": {
    "slideshow": {
     "slide_type": "subslide"
    }
   },
   "outputs": [],
   "source": [
    "# activar modo interactivo\n",
    "%matplotlib notebook\n",
    "# plt.ioff() # evitar que se sobreescriban los gráficos\n",
    "%matplotlib inline"
   ]
  },
  {
   "cell_type": "code",
   "execution_count": null,
   "metadata": {
    "slideshow": {
     "slide_type": "subslide"
    }
   },
   "outputs": [],
   "source": [
    "# Se pueden especificar x e y por separado\n",
    "x_data = np.arange(75, 100) # dimensiones!\n",
    "y_data = np.random.randint(80,size=(25))\n",
    "\n",
    "print(x_data,y_data)\n",
    "\n",
    "if x_data.size == y_data.size:\n",
    "    plt.plot(x_data,y_data)\n",
    "    plt.show()      # OJO! ¿En qué modo está inicializado?\n",
    "else:\n",
    "    print(f\"{x_data.size} no tienen las mismas dimensiones {y_data.size}\")"
   ]
  },
  {
   "cell_type": "markdown",
   "metadata": {
    "slideshow": {
     "slide_type": "subslide"
    }
   },
   "source": [
    "## figure, axes\n",
    "- Figure: objeto en el que residen todos los gráficos (uno o múltiples)\n",
    "- Axes: cada uno de los subplots (o gráficos) dentro de Figure"
   ]
  },
  {
   "cell_type": "code",
   "execution_count": null,
   "metadata": {
    "slideshow": {
     "slide_type": "fragment"
    }
   },
   "outputs": [],
   "source": [
    "fig, axes = plt.subplots(1,2) # crea una ndarray de 1x2 axes (o subplots)\n",
    "print(type(axes))"
   ]
  },
  {
   "cell_type": "code",
   "execution_count": null,
   "metadata": {},
   "outputs": [],
   "source": [
    "# Generar los datos\n",
    "x_data1 = np.arange(0,10)\n",
    "x_data2 = np.arange(-10,0)\n",
    "y_data1 = np.random.randint(100,size=(10))\n",
    "y_data2 = np.random.randint(1000,size=(10))"
   ]
  },
  {
   "cell_type": "code",
   "execution_count": null,
   "metadata": {
    "slideshow": {
     "slide_type": "subslide"
    }
   },
   "outputs": [],
   "source": [
    "# Crear la figura y los subplots\n",
    "fig, axes = plt.subplots(1,2)\n",
    "# preparar cada subplot\n",
    "axes[0].plot(x_data1,y_data1)\n",
    "axes[1].plot(x_data2,y_data2)\n",
    "\n",
    "#mostrar ambos axes\n",
    "plt.show() # Recomendable usar plt y no fig.show()"
   ]
  },
  {
   "cell_type": "code",
   "execution_count": null,
   "metadata": {},
   "outputs": [],
   "source": [
    "# crear un nuevo eje con la x compartida\n",
    "fig, ax = plt.subplots(1, 1)\n",
    "x = np.arange(12)\n",
    "ax.plot(x, \"r\")\n",
    "\n",
    "ax2 = ax.twinx()\n",
    "ax2.plot(x ** 2, \"g\")\n",
    "plt.draw()"
   ]
  },
  {
   "cell_type": "code",
   "execution_count": null,
   "metadata": {
    "scrolled": true
   },
   "outputs": [],
   "source": [
    "# Crear la figura y los subplots\n",
    "fig, axes = plt.subplots(1,2)\n",
    "# preparar cada subplot\n",
    "axes[0].plot(x_data1,y_data1)\n",
    "axes[1].plot(x_data2,y_data2)\n",
    "\n",
    "# tanto axes como fig pueden configurarse a través de funciones\n",
    "axes[0].set_ylim([0,1000])\n",
    "axes[0].set_xlim([-1,12])\n",
    "\n",
    "axes[0].set_xlabel(\"Years\")\n",
    "axes[0].set_ylabel(\"Dollars\")\n",
    "\n",
    "axes[1].set_ylim([0,1000]) \n",
    "axes[1].set_xlim([-11,1]) \n",
    "\n",
    "plt.show()"
   ]
  },
  {
   "cell_type": "markdown",
   "metadata": {
    "slideshow": {
     "slide_type": "subslide"
    }
   },
   "source": [
    "### Más métodos\n",
    "- Documentación general de la [API](https://matplotlib.org/stable/api/axes_api.html)"
   ]
  },
  {
   "cell_type": "markdown",
   "metadata": {
    "slideshow": {
     "slide_type": "subslide"
    }
   },
   "source": [
    "# .plot()\n",
    "\n",
    "Múltiples parámetros\n",
    "\n",
    "```python\n",
    "plt.plot(x, y, style, label, linewidth=1, alpha=1)\n",
    "```\n",
    "\n",
    "- 'style': cadena de texto con formato (color, tipo...) \\[color\\]\\[marker\\]\\[line\\]\n",
    "- 'label': referencia para leyenda\n",
    "- 'linewidth': brocha\n",
    "- 'alpha': transparencia\n",
    "\n",
    "Otros: https://matplotlib.org/stable/api/_as_gen/matplotlib.pyplot.plot.html"
   ]
  },
  {
   "cell_type": "code",
   "execution_count": null,
   "metadata": {
    "slideshow": {
     "slide_type": "subslide"
    }
   },
   "outputs": [],
   "source": [
    "y_data = np.random.randint(100,size=(10))\n",
    "x_data = np.arange(10)\n",
    "fig,axis = plt.subplots(1,1)\n",
    "axis.plot(x_data,y_data,'g*-',label='green',linewidth=1,alpha=0.9) # creación del gráfico\n",
    "axis.legend(loc='best') # representar la leyenda\n",
    "plt.show()"
   ]
  },
  {
   "cell_type": "markdown",
   "metadata": {
    "slideshow": {
     "slide_type": "subslide"
    }
   },
   "source": [
    "| Color | Descripción |\n",
    "|:------|:------------|\n",
    "| b | blue |\n",
    "| g | green |\n",
    "| r | red |\n",
    "| c | cyan |\n",
    "| m | magenta |\n",
    "| y | yellow |\n",
    "| k | black |\n",
    "| w | white |\n",
    "\n",
    "| Marcador | Descripción |\n",
    "|:------|:------------|\n",
    "| . | point marker |\n",
    "| , | pixel marker |\n",
    "| o | circle marker |\n",
    "| v | triangle_down marker |\n",
    "| ^ | triangle_up marker |\n",
    "| < | triangle_left marker |\n",
    "| > | triangle_right marker |\n",
    "| 1 | tri_down marker |\n",
    "| 2 | tri_up marker |\n",
    "| 3 | tri_left marker |\n",
    "| 4 | tri_right marker |\n",
    "| s | square marker |\n",
    "| p | pentagon marker |\n",
    "| * | star marker |\n",
    "| h | hexagon1 marker |\n",
    "| H | hexagon2 marker |\n",
    "| + | plus marker |\n",
    "| x | x marker |\n",
    "| D | diamond marker |\n",
    "| d | thin_diamond marker |\n",
    "| | | vline marker |\n",
    "| _ | hline marker |\n",
    "\n",
    "| Línea | Descripción |\n",
    "|:------|:------------|\n",
    "| - | solid line style |\n",
    "| -- | dashed line style |\n",
    "| -. | dash-dot line style |\n",
    "| : | dotted line style |"
   ]
  },
  {
   "cell_type": "markdown",
   "metadata": {
    "slideshow": {
     "slide_type": "subslide"
    }
   },
   "source": [
    "### Representar más de un gráfico en una subfigura"
   ]
  },
  {
   "cell_type": "code",
   "execution_count": null,
   "metadata": {
    "scrolled": true,
    "slideshow": {
     "slide_type": "fragment"
    }
   },
   "outputs": [],
   "source": [
    "x_data = np.arange(10)\n",
    "fig,axis = plt.subplots(1,1)\n",
    "axis.plot(x_data,np.random.randint(100,size=(10)),'go-',label='green',linewidth=1,alpha=0.2) # creación del gráfico\n",
    "axis.plot(x_data,np.random.randint(100,size=(10)),'bx-.',label='blue',linewidth=1) # creación del gráfico\n",
    "axis.plot(x_data,np.random.randint(50,80,size=(10)),'rh-.',label='red',linewidth=2, alpha=0.4) # creación del gráfico\n",
    "axis.legend(loc='best')\n",
    "plt.grid()\n",
    "plt.show() "
   ]
  },
  {
   "cell_type": "markdown",
   "metadata": {
    "slideshow": {
     "slide_type": "subslide"
    }
   },
   "source": [
    "## Decoradores\n",
    "\n",
    "Cambian el aspecto general de la figura\n",
    "```python\n",
    "axes.set_xticks(<lista>) #etiquetas del eje\n",
    "axes.set_title(‘titulo’) #titulo\n",
    "axes.set_ylabel(‘label’)\n",
    "axes.set_frame_on(bool)\n",
    "```\n",
    "[Más métodos](https://matplotlib.org/stable/api/axes_api.html)\n"
   ]
  },
  {
   "cell_type": "markdown",
   "metadata": {
    "slideshow": {
     "slide_type": "subslide"
    }
   },
   "source": [
    "# Anotaciones\n",
    "\n",
    "Formas de añadir información sobre el gráfico\n",
    "\n",
    "```python\n",
    "axes.text(x,y,’texto’)\n",
    "axes.annotate(texto, xy, xytext, xycoords, arrowprops)\n",
    "```\n",
    "\n",
    "[Más métodos](https://matplotlib.org/stable/tutorials/text/annotations.html)"
   ]
  },
  {
   "cell_type": "code",
   "execution_count": null,
   "metadata": {
    "slideshow": {
     "slide_type": "subslide"
    }
   },
   "outputs": [],
   "source": [
    "y_data = np.random.randint(100, size=(10)) # Cuidado con las dimensiones absolutas\n",
    "x_data = np.arange(10)\n",
    "fig,axis = plt.subplots(1,1)\n",
    "axis.plot(x_data,y_data)\n",
    "axis.text(1,60,'Low income') # coordenadas igual a los datos\n",
    "axis.annotate('outlier', xy=(3, 70), xytext=(9, 25), arrowprops = dict(facecolor='black', shrink=0.1)) # anotación completa\n",
    "plt.show() "
   ]
  },
  {
   "cell_type": "markdown",
   "metadata": {
    "slideshow": {
     "slide_type": "subslide"
    }
   },
   "source": [
    "# Tipos de gráficos\n",
    "\n",
    "Ejemplos disponibles como referencia\n",
    "https://matplotlib.org/stable/api/_as_gen/matplotlib.pyplot.subplots.html"
   ]
  },
  {
   "cell_type": "code",
   "execution_count": null,
   "metadata": {
    "scrolled": true,
    "slideshow": {
     "slide_type": "subslide"
    }
   },
   "outputs": [],
   "source": [
    "# Horizontal bar\n",
    "fig, ax = plt.subplots()\n",
    "# Example data\n",
    "people = ('PhD', 'MSc', 'BSc', 'N/A')\n",
    "y_pos = np.arange(len(people))\n",
    "percentage = [5,45,25,25]\n",
    "\n",
    "ax.barh(y_pos, percentage, align='center',\n",
    "        color='green', edgecolor='red')\n",
    "ax.set_yticks(y_pos)\n",
    "ax.set_yticklabels(people)\n",
    "ax.invert_yaxis()  # labels read top-to-bottom\n",
    "ax.set_xlabel('Percentage of workforce')\n",
    "ax.set_title('Level of education in the company')\n",
    "plt.show()"
   ]
  },
  {
   "cell_type": "code",
   "execution_count": null,
   "metadata": {
    "slideshow": {
     "slide_type": "subslide"
    }
   },
   "outputs": [],
   "source": [
    "ls_count = (284487, 244560, 208493, 196764)\n",
    "cities = ('Madrid', 'Barcelona', 'Sevilla', 'Valencia')\n",
    "data = np.array(ls_count)/1000\n",
    "y_pos = np.arange(data.size)\n",
    "\n",
    "width = 0.35       # the width of the bars\n",
    "opacity = 0.7\n",
    "\n",
    "fig, ax = plt.subplots()\n",
    "rects1 = ax.barh(y_pos, data, width, alpha=opacity)\n",
    "\n",
    "rects1[3].set_color('#ff9757')\n",
    "rects1[2].set_color('#ffcb59')\n",
    "rects1[1].set_color('#d6ee39')\n",
    "rects1[0].set_color('#6ade30')\n",
    "\n",
    "ax.set_yticks(y_pos)\n",
    "ax.set_yticklabels(cities)\n",
    "\n",
    "# add some text for labels, title and axes ticks\n",
    "ax.set_ylabel('Ciudades')\n",
    "ax.set_xlabel('Km de carril bici')\n",
    "\n",
    "ax.legend((rects1[0], rects1[1], rects1[2], rects1[3]), cities)\n",
    "\n",
    "plt.show()"
   ]
  },
  {
   "cell_type": "code",
   "execution_count": null,
   "metadata": {
    "slideshow": {
     "slide_type": "subslide"
    }
   },
   "outputs": [],
   "source": [
    "# stack plot\n",
    "x = [2008, 2009, 2010, 2011, 2012]\n",
    "iOS = [35, 25, 20, 17, 18]\n",
    "Android = [0, 15, 35, 45, 60]\n",
    "WindowsPhone = [1, 3, 5, 5, 2]\n",
    "Others = [64,57,40,33,20]\n",
    "\n",
    "y = np.vstack([iOS, Android, WindowsPhone,Others])\n",
    "print(y)\n",
    "\n",
    "labels = [\"iOS \", \"Android\", \"WindowsPhone\",\"Others\"]\n",
    "\n",
    "fig, ax = plt.subplots()\n",
    "ax.stackplot(x, iOS, Android, WindowsPhone, Others,labels=labels)\n",
    "# ax.stackplot(x, y,labels=labels)\n",
    "ax.legend(loc='upper left')\n",
    "plt.show()"
   ]
  },
  {
   "cell_type": "code",
   "execution_count": null,
   "metadata": {},
   "outputs": [],
   "source": [
    "# Scatter plot\n",
    "from numpy.random import rand\n",
    "fig, ax = plt.subplots()\n",
    "n = 700\n",
    "for color in ['red', 'green', 'blue']:\n",
    "    x, y = rand(2, n)\n",
    "    scale = 25.0 * rand(n)\n",
    "    ax.scatter(x, y, c=color, s=scale, label=color,\n",
    "               alpha=0.3, edgecolors='none')\n",
    "\n",
    "ax.legend()\n",
    "plt.show()"
   ]
  },
  {
   "cell_type": "markdown",
   "metadata": {
    "slideshow": {
     "slide_type": "subslide"
    }
   },
   "source": [
    "## Grabar a archivo\n",
    "```python\n",
    "figure.savefig(<filename>,dpi=None, facecolor=’w’, edgecolor=’w’, format=None, bbox_inches=None)\n",
    "```\n"
   ]
  },
  {
   "cell_type": "code",
   "execution_count": null,
   "metadata": {
    "slideshow": {
     "slide_type": "fragment"
    }
   },
   "outputs": [],
   "source": [
    "# guardar la figura (puede ser múltiples gráficos)\n",
    "import os\n",
    "ruta = os.path.join(\"res\", \"o_figure.png\")\n",
    "\n",
    "fig.savefig(ruta, format='png') # varios formatos aceptados (‘pdf’,’ png’, ‘svg’, ‘eps’...)"
   ]
  },
  {
   "cell_type": "markdown",
   "metadata": {
    "slideshow": {
     "slide_type": "slide"
    }
   },
   "source": [
    "# Representación gráfica en pandas\n",
    "\n",
    "- pandas ofrece interfaz para dibujar Series y DataFrame\n",
    "- Usa matplotlib internamente\n",
    "- Fácil de usar"
   ]
  },
  {
   "cell_type": "code",
   "execution_count": null,
   "metadata": {
    "slideshow": {
     "slide_type": "subslide"
    }
   },
   "outputs": [],
   "source": [
    "rand_matrix = np.random.randint(100,size=(10,3))\n",
    "frame = pd.DataFrame(rand_matrix, columns=list('AXC'))\n",
    "frame.plot()\n",
    "plt.show() # aún es necesario llamar a show() para mostrar los gráficos\n",
    "\n",
    "display(frame) # datos en eje x, eje y, leyenda, series?"
   ]
  },
  {
   "cell_type": "markdown",
   "metadata": {
    "slideshow": {
     "slide_type": "subslide"
    }
   },
   "source": [
    "# frame.plot()\n",
    "\n",
    "```python\n",
    "frame.plot(x,y,label=<Series>,ax,style,kind,xticks,yticks,title,subplots)\n",
    "```\n",
    "\n",
    "- (solo para Series) label: referencia para la leyenda\n",
    "- ax: subfigura en la que dibujar los datos\n",
    "- style: estilo de la línea\n",
    "- kind: tipo de gráfico ('bar’, ‘pie’, ‘hist’, ‘area’ ‘line’, ‘barh’, ‘density’, ‘kde’).\n",
    "- xticks y yticks: valores en los ejes X e Y\n",
    "- title: string como título\n",
    "- (solo para DataFrame) subplots: bool si se desean subfiguras separadas para cada columna.\n",
    "- (solo para DataFrame) 'x' e 'y' se pueden utilizar para seleccionar columnas para cada eje \n",
    "\n",
    "[Lista completa](https://pandas.pydata.org/pandas-docs/stable/reference/api/pandas.DataFrame.plot.html) de argumentos"
   ]
  },
  {
   "cell_type": "code",
   "execution_count": null,
   "metadata": {
    "scrolled": true,
    "slideshow": {
     "slide_type": "subslide"
    }
   },
   "outputs": [],
   "source": [
    "rand_matrix = np.random.randint(100, size=(10,3))\n",
    "frame = pd.DataFrame(rand_matrix, columns=list('ABC'))\n",
    "frame.plot(style=['r-','g-','b-'], xticks=range(-2,12), title='Random lines', subplots=True)\n",
    "plt.show()\n",
    "display(frame)"
   ]
  },
  {
   "cell_type": "code",
   "execution_count": null,
   "metadata": {},
   "outputs": [],
   "source": [
    "# combinar pandas plot con matplotlib\n",
    "rand_matrix = np.random.randint(100, size=(10,3))\n",
    "frame = pd.DataFrame(rand_matrix, columns=list('ABC'))\n",
    "\n",
    "fig, axis = plt.subplots(3,1)\n",
    "ax = frame.plot(style=['r-','g-','b-'], xticks=range(-2,12), title='Random lines', subplots=True, ax=axis)\n",
    "\n",
    "ax[0].legend(loc='upper left')\n",
    "\n",
    "plt.show()"
   ]
  },
  {
   "cell_type": "code",
   "execution_count": null,
   "metadata": {
    "slideshow": {
     "slide_type": "subslide"
    }
   },
   "outputs": [],
   "source": [
    "# Gráfico de barras\n",
    "frame.plot(kind='bar', title='Random lines')\n",
    "plt.show()"
   ]
  },
  {
   "cell_type": "code",
   "execution_count": null,
   "metadata": {
    "slideshow": {
     "slide_type": "subslide"
    }
   },
   "outputs": [],
   "source": [
    "# Gráfico de área\n",
    "frame.plot(kind='area', xticks=range(-2,12), title='Random lines')\n",
    "plt.show()"
   ]
  },
  {
   "cell_type": "code",
   "execution_count": null,
   "metadata": {},
   "outputs": [],
   "source": [
    "# Histogramas\n",
    "frame.hist()\n",
    "plt.show()"
   ]
  },
  {
   "cell_type": "code",
   "execution_count": null,
   "metadata": {
    "slideshow": {
     "slide_type": "subslide"
    }
   },
   "outputs": [],
   "source": [
    "# Gráfico de pastel\n",
    "df = pd.DataFrame({'mass': [0.330, 4.87 , 5.97], \n",
    "                   'radius': [2439.7, 6051.8, 6378.1]}, \n",
    "                  index=['Mercury', 'Venus', 'Earth'])\n",
    "display(df)\n",
    "df.plot(y='radius', kind='pie', title='Planets') # y variable a usar\n",
    "plt.show()"
   ]
  },
  {
   "cell_type": "markdown",
   "metadata": {
    "slideshow": {
     "slide_type": "slide"
    }
   },
   "source": [
    "# Seaborn\n",
    "\n",
    "- Abstracción de matplotlib\n",
    "- Facilidad de uso y personalización\n",
    "- Excelente para exploración y visualización de relaciones entre variables"
   ]
  },
  {
   "cell_type": "markdown",
   "metadata": {
    "slideshow": {
     "slide_type": "fragment"
    }
   },
   "source": [
    "Viene con varios datasets predefinidos\n",
    "https://github.com/mwaskom/seaborn-data\n",
    "\n",
    "Documentación [oficial](https://seaborn.pydata.org/api.html)"
   ]
  },
  {
   "cell_type": "code",
   "execution_count": null,
   "metadata": {},
   "outputs": [],
   "source": [
    "import seaborn as sns"
   ]
  },
  {
   "cell_type": "code",
   "execution_count": null,
   "metadata": {
    "slideshow": {
     "slide_type": "subslide"
    }
   },
   "outputs": [],
   "source": [
    "# Load data\n",
    "flights_data = sns.load_dataset(\"flights\")\n",
    "# Construct plot\n",
    "sns.swarmplot(x=\"month\", y=\"passengers\", data=flights_data)\n",
    "# Show plot\n",
    "plt.xticks(rotation=45)\n",
    "plt.show()"
   ]
  },
  {
   "cell_type": "markdown",
   "metadata": {
    "slideshow": {
     "slide_type": "subslide"
    }
   },
   "source": [
    "#### Compatible con pandas"
   ]
  },
  {
   "cell_type": "code",
   "execution_count": null,
   "metadata": {
    "slideshow": {
     "slide_type": "fragment"
    }
   },
   "outputs": [],
   "source": [
    "# Load in data\n",
    "tips = pd.read_csv(\"https://raw.githubusercontent.com/mwaskom/seaborn-data/master/tips.csv\")\n",
    "tips.sample(5)"
   ]
  },
  {
   "cell_type": "code",
   "execution_count": null,
   "metadata": {
    "scrolled": true,
    "slideshow": {
     "slide_type": "subslide"
    }
   },
   "outputs": [],
   "source": [
    "ax = sns.barplot(x='sex', y='total_bill', hue='time', data=tips) # palette para color (negro desviacion)\n",
    "plt.show()"
   ]
  },
  {
   "cell_type": "code",
   "execution_count": null,
   "metadata": {
    "slideshow": {
     "slide_type": "subslide"
    }
   },
   "outputs": [],
   "source": [
    "# Boxplot (cuartiles)\n",
    "# ax = sns.boxplot(x='day', y='tip', data=tips)\n",
    "ax = sns.boxplot(x=tips['day'], y=tips.tip)\n",
    "plt.show()"
   ]
  },
  {
   "cell_type": "markdown",
   "metadata": {
    "slideshow": {
     "slide_type": "subslide"
    }
   },
   "source": [
    "## Relaciones entre variables\n",
    "\n",
    "```python\n",
    "sns.relplot()\n",
    "```"
   ]
  },
  {
   "cell_type": "code",
   "execution_count": null,
   "metadata": {
    "slideshow": {
     "slide_type": "fragment"
    }
   },
   "outputs": [],
   "source": [
    "tips = sns.load_dataset(\"tips\")\n",
    "tips.sample(5)"
   ]
  },
  {
   "cell_type": "code",
   "execution_count": null,
   "metadata": {
    "slideshow": {
     "slide_type": "subslide"
    }
   },
   "outputs": [],
   "source": [
    "sns.relplot(x='total_bill', y='tip', hue='sex', data=tips, kind='scatter')"
   ]
  },
  {
   "cell_type": "code",
   "execution_count": null,
   "metadata": {
    "slideshow": {
     "slide_type": "subslide"
    }
   },
   "outputs": [],
   "source": [
    "# representar la media y la variación de una variable en función de otra\n",
    "data = sns.load_dataset('flights')\n",
    "sns.relplot(x=\"year\", y=\"passengers\", kind=\"line\", data=data)"
   ]
  },
  {
   "cell_type": "code",
   "execution_count": null,
   "metadata": {
    "slideshow": {
     "slide_type": "subslide"
    }
   },
   "outputs": [],
   "source": [
    "# relacionar hasta 4 variables automáticamente\n",
    "sns.relplot(x=\"total_bill\", y=\"tip\", hue=\"smoker\",\n",
    "            col=\"sex\", height=4,\n",
    "            kind=\"scatter\",data=tips); #kind ('line','scatter'...)"
   ]
  },
  {
   "cell_type": "markdown",
   "metadata": {
    "slideshow": {
     "slide_type": "subslide"
    }
   },
   "source": [
    "## Distribución de un dataset"
   ]
  },
  {
   "cell_type": "code",
   "execution_count": null,
   "metadata": {
    "slideshow": {
     "slide_type": "fragment"
    }
   },
   "outputs": [],
   "source": [
    "# histograma y density plot\n",
    "# kde = gaussian kernel density estimate, linea de densidad\n",
    "# bins = tamaño de los contenedores\n",
    "# rug = densidad de los datos\n",
    "sns.displot(tips['tip'], kde=True, bins=40, rug=True)\n",
    "plt.show()"
   ]
  },
  {
   "cell_type": "code",
   "execution_count": null,
   "metadata": {
    "slideshow": {
     "slide_type": "subslide"
    }
   },
   "outputs": [],
   "source": [
    "# Distribución bi-variable\n",
    "sns.jointplot(x='total_bill', y='tip', data=tips)\n",
    "plt.show()"
   ]
  },
  {
   "cell_type": "code",
   "execution_count": null,
   "metadata": {
    "slideshow": {
     "slide_type": "subslide"
    }
   },
   "outputs": [],
   "source": [
    "# Density plot bi-variable\n",
    "iris = sns.load_dataset('iris')\n",
    "display(iris.head(5))\n",
    "display(iris[\"species\"].unique())\n",
    "sns.jointplot(x='petal_length', y='petal_width', kind=\"kde\", data=iris);\n",
    "plt.show()"
   ]
  },
  {
   "cell_type": "code",
   "execution_count": null,
   "metadata": {},
   "outputs": [],
   "source": [
    "print(iris['species'].unique())\n",
    "iris.head()"
   ]
  },
  {
   "cell_type": "code",
   "execution_count": null,
   "metadata": {
    "slideshow": {
     "slide_type": "subslide"
    }
   },
   "outputs": [],
   "source": [
    "# Relación de cada pareja\n",
    "sns.pairplot(iris)\n",
    "plt.show()"
   ]
  },
  {
   "cell_type": "code",
   "execution_count": null,
   "metadata": {},
   "outputs": [],
   "source": [
    "# Relación de cada pareja\n",
    "sns.pairplot(iris, hue = \"species\")\n",
    "plt.show()"
   ]
  },
  {
   "cell_type": "code",
   "execution_count": null,
   "metadata": {},
   "outputs": [],
   "source": [
    "#scatter de clases, coloreando segun clase en matplotlib\n",
    "iris = sns.load_dataset('iris')\n",
    "\n",
    "# preparacion de los datos\n",
    "data = []\n",
    "colors = [\"red\", \"green\", \"blue\"]\n",
    "groups = [\"setosa\", \"versicolor\", \"virginica\"]\n",
    "columns = [\"petal_length\", \"petal_width\"]\n",
    "for i in groups:\n",
    "    # busqueda por clase definida\n",
    "    data.append(iris[iris[\"species\"] == i][columns].values)\n",
    "\n",
    "\n",
    "#creacion de la grafica\n",
    "fig = plt.figure()\n",
    "ax = fig.add_subplot()\n",
    "for count, d in enumerate(data):\n",
    "    # separar las variables del grafico\n",
    "    x, y = d[:,0], d[:,1]\n",
    "    ax.scatter(x, y, alpha = 0.4, c = colors[count -1], edgecolors = 'none', s = 30, label = groups[count - 1])\n",
    "#etiquetas\n",
    "ax.set_xlabel(columns[0])\n",
    "ax.set_ylabel(columns[1])\n",
    "plt.legend(loc='best')\n",
    "plt.title('Matplot scatter plot')\n",
    "plt.show()"
   ]
  },
  {
   "cell_type": "markdown",
   "metadata": {
    "slideshow": {
     "slide_type": "subslide"
    }
   },
   "source": [
    "## Visualización de correlaciones\n",
    "\n",
    "- Regresión lineal con variables\n",
    "- Correlaciones numéricas"
   ]
  },
  {
   "cell_type": "code",
   "execution_count": null,
   "metadata": {
    "slideshow": {
     "slide_type": "fragment"
    }
   },
   "outputs": [],
   "source": [
    "#correlación entre cuenta total y propina, recta regresion e intervalo de confianza\n",
    "sns.regplot(x=\"total_bill\", y=\"tip\", data=tips)\n",
    "plt.show()"
   ]
  },
  {
   "cell_type": "code",
   "execution_count": null,
   "metadata": {
    "slideshow": {
     "slide_type": "subslide"
    }
   },
   "outputs": [],
   "source": [
    "#correlación con valores categóricos (variable discreta, variable debe ser numérica/continua) not a good idea\n",
    "sns.regplot(x=\"size\", y=\"tip\", data=tips)\n",
    "plt.show()"
   ]
  },
  {
   "cell_type": "code",
   "execution_count": null,
   "metadata": {
    "slideshow": {
     "slide_type": "subslide"
    }
   },
   "outputs": [],
   "source": [
    "# regresión con polinomios de más grados\n",
    "sns.regplot(x=\"petal_length\", y=\"sepal_width\", data=iris, order=5)\n",
    "plt.show()"
   ]
  },
  {
   "cell_type": "code",
   "execution_count": null,
   "metadata": {
    "slideshow": {
     "slide_type": "subslide"
    }
   },
   "outputs": [],
   "source": [
    "# Correlaciones con varias variables\n",
    "sns.lmplot(x=\"total_bill\", y=\"tip\", hue=\"smoker\", data=tips, col='time')\n",
    "plt.show()"
   ]
  },
  {
   "cell_type": "markdown",
   "metadata": {
    "slideshow": {
     "slide_type": "slide"
    }
   },
   "source": [
    "# Ejercicios\n",
    "\n",
    "- Representación gráfica con matplotlib y seaborn"
   ]
  },
  {
   "cell_type": "markdown",
   "metadata": {
    "slideshow": {
     "slide_type": "subslide"
    },
    "tags": []
   },
   "source": [
    "## matplotlib"
   ]
  },
  {
   "cell_type": "markdown",
   "metadata": {
    "slideshow": {
     "slide_type": "fragment"
    }
   },
   "source": [
    "- crear una lista de años de 2000 a 2020 (eje x)\n",
    "- generar datos aleatorios para el eje y (hacerlo 4 veces distintas: y0, y1, y2 e y3)\n",
    "- Representar las 4 secuencias de datos aleatorios en una sola figura utilizando matplotlib"
   ]
  },
  {
   "cell_type": "markdown",
   "metadata": {
    "slideshow": {
     "slide_type": "fragment"
    }
   },
   "source": [
    "- Añade una leyenda para poder identificar cada secuencia en el gráfico\n",
    "- Nombra las secuencias de la siguiente forma: \"Hawaii\", \"San Marino\", \"Islas Feroe\", \"Guayana\""
   ]
  },
  {
   "cell_type": "markdown",
   "metadata": {
    "slideshow": {
     "slide_type": "fragment"
    }
   },
   "source": [
    "- Representar los mismos datos en 4 subfiguras (axes) distintas, parte de la misma figura"
   ]
  },
  {
   "cell_type": "markdown",
   "metadata": {
    "slideshow": {
     "slide_type": "fragment"
    }
   },
   "source": [
    "- Añade la siguiente info:\n",
    "  - Título: \"Datos aleatorios\"\n",
    "  - Leyenda\n",
    "  - Nombre del eje x: \"Año\"\n",
    "  - Nombre del eje y: \"GDP\""
   ]
  },
  {
   "cell_type": "markdown",
   "metadata": {
    "slideshow": {
     "slide_type": "fragment"
    }
   },
   "source": [
    "- Añade al menos una anotación (texto y flecha) a uno de los gráficos"
   ]
  },
  {
   "cell_type": "markdown",
   "metadata": {
    "slideshow": {
     "slide_type": "slide"
    },
    "tags": []
   },
   "source": [
    "## Seaborn"
   ]
  },
  {
   "cell_type": "markdown",
   "metadata": {
    "slideshow": {
     "slide_type": "fragment"
    }
   },
   "source": [
    "- Carga los datos de un dataset de seaborn (distinto a 'tips', 'iris' o 'flights') https://github.com/mwaskom/seaborn-data\n",
    " - Si para alguno de los ejercicios no encuentras ejemplos en el dataset, busca otro para completarlo\n",
    " - Recuerda utilizar la versión 'Raw' si se utiliza la URL en el método read_csv"
   ]
  },
  {
   "cell_type": "markdown",
   "metadata": {
    "slideshow": {
     "slide_type": "fragment"
    }
   },
   "source": [
    "- Representa visualmente la relación de cada pareja de atributos (variables)"
   ]
  },
  {
   "cell_type": "markdown",
   "metadata": {
    "slideshow": {
     "slide_type": "fragment"
    }
   },
   "source": [
    "- Escoge una pareja (ambos valores contínuos y numéricos) y demuestra su correlación"
   ]
  },
  {
   "cell_type": "markdown",
   "metadata": {
    "slideshow": {
     "slide_type": "fragment"
    }
   },
   "source": [
    "- Representa los valores de dos variables (x e y, numéricas) en base a otra variable (categórica)"
   ]
  },
  {
   "cell_type": "markdown",
   "metadata": {
    "slideshow": {
     "slide_type": "fragment"
    }
   },
   "source": [
    "- Crea los gráficos que demuestren lo siguiente en el dataset seleccionado:\n",
    "  - La distribución de valores (media, distribución, outliers) de una variable numérica contínua\n",
    "  - Compara la distribución de esa variable con otra (contínua y numérica) para representar cuantitativamente la densidad de elementos por valor en ambas variables\n",
    "  - Muestra un ejemplo en el dataset de una variable a la que un modelo de regresión lineal de orden > 1 sea más ajustado que uno de orden == 1"
   ]
  }
 ],
 "metadata": {
  "celltoolbar": "Slideshow",
  "kernelspec": {
   "display_name": "Python 3 (ipykernel)",
   "language": "python",
   "name": "python3"
  },
  "language_info": {
   "codemirror_mode": {
    "name": "ipython",
    "version": 3
   },
   "file_extension": ".py",
   "mimetype": "text/x-python",
   "name": "python",
   "nbconvert_exporter": "python",
   "pygments_lexer": "ipython3",
   "version": "3.9.5"
  }
 },
 "nbformat": 4,
 "nbformat_minor": 4
}
