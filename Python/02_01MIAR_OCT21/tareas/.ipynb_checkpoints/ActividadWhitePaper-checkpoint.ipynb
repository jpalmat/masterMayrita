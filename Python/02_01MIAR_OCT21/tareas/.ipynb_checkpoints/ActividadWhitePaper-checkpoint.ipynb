{
 "cells": [
  {
   "cell_type": "markdown",
   "id": "25b77f6a-d719-4456-a431-6039d5a03d59",
   "metadata": {},
   "source": [
    "\n",
    "<img src=\"res/viu_logo.png\" width=\"200\">\n",
    "\n",
    "## 01MIAR - Actividad WhitePaper\n",
    "### Nombre: Mayra Pullupaxi\n"
   ]
  },
  {
   "cell_type": "markdown",
   "id": "59dfc0fd-53fc-48cb-a9e7-6c1bc648cd1d",
   "metadata": {},
   "source": [
    "#### Objetivo\n",
    "- Leer y analizar críticamente dos artículos científicos."
   ]
  },
  {
   "cell_type": "markdown",
   "id": "1be0b554-223c-407e-980b-01fd64087f8c",
   "metadata": {},
   "source": [
    "### Artículo 01\n"
   ]
  },
  {
   "cell_type": "markdown",
   "id": "14916bfa-0fc7-4760-a942-503919222233",
   "metadata": {},
   "source": [
    "### The NumPy array: a structure for efficient numerical computation"
   ]
  },
  {
   "cell_type": "markdown",
   "id": "3dd13941-effd-457a-b077-3080b913940f",
   "metadata": {},
   "source": [
    "#### Actividad 01.01 - Ampliar dicha explicación, aportando posibles restricciones o limitaciones a dicho sistema y ejemplos propios de los casos de uso."
   ]
  },
  {
   "cell_type": "markdown",
   "id": "d9970fe7-7cac-49cd-92eb-282a40ad3de0",
   "metadata": {},
   "source": [
    "El Broadcasting permite operar con arreglos de diferentes dimensiones, de esta manera realiza cálculos aritméticos en un lenguaje de alto nivel y mejora el rendimiento mediante tres técnicas: vectorizando los cálculos, evitando copiar en memoria y minimizando las operaciones. A continuación un ejemplo:"
   ]
  },
  {
   "cell_type": "code",
   "execution_count": 1,
   "id": "6b7a3f43-3554-44db-b3d8-a004bd283137",
   "metadata": {},
   "outputs": [],
   "source": [
    "import numpy as np"
   ]
  },
  {
   "cell_type": "code",
   "execution_count": 9,
   "id": "c4040817-b00c-41c4-821d-7217a9af969a",
   "metadata": {},
   "outputs": [
    {
     "name": "stdout",
     "output_type": "stream",
     "text": [
      "[[0 1]\n",
      " [2 3]\n",
      " [4 5]\n",
      " [6 7]]\n",
      "[[0 1]]\n",
      "[[0 1]\n",
      " [0 3]\n",
      " [0 5]\n",
      " [0 7]]\n"
     ]
    }
   ],
   "source": [
    "a = np.arange(8).reshape(4, 2)\n",
    "print(a)\n",
    "b = np.arange(2).reshape(1, 2)\n",
    "print(b)\n",
    "print(a * b)"
   ]
  },
  {
   "cell_type": "markdown",
   "id": "31cc0439-d335-4079-aff1-a8bf0ab5a99c",
   "metadata": {},
   "source": [
    "La restricción es que para realizar los cálculos aritméticos es necesario que las matrices sean de igual dimensión de elemento en elemento sino será un error, entonces la limitación es que las matrices deben ser iguales en su forma y son compatibles cuando: son iguales o uno es 1."
   ]
  },
  {
   "cell_type": "code",
   "execution_count": 10,
   "id": "02d2043a-33c6-4d30-bf36-711cbc5f5e53",
   "metadata": {},
   "outputs": [
    {
     "name": "stdout",
     "output_type": "stream",
     "text": [
      "[[ 0  1  2]\n",
      " [ 3  4  5]\n",
      " [ 6  7  8]\n",
      " [ 9 10 11]]\n",
      "[[0 1]]\n"
     ]
    },
    {
     "ename": "ValueError",
     "evalue": "operands could not be broadcast together with shapes (4,3) (1,2) ",
     "output_type": "error",
     "traceback": [
      "\u001b[0;31m---------------------------------------------------------------------------\u001b[0m",
      "\u001b[0;31mValueError\u001b[0m                                Traceback (most recent call last)",
      "\u001b[0;32m<ipython-input-10-8e2c59609a2c>\u001b[0m in \u001b[0;36m<module>\u001b[0;34m\u001b[0m\n\u001b[1;32m      7\u001b[0m \u001b[0mprint\u001b[0m\u001b[0;34m(\u001b[0m\u001b[0mb\u001b[0m\u001b[0;34m)\u001b[0m\u001b[0;34m\u001b[0m\u001b[0;34m\u001b[0m\u001b[0m\n\u001b[1;32m      8\u001b[0m \u001b[0;34m\u001b[0m\u001b[0m\n\u001b[0;32m----> 9\u001b[0;31m \u001b[0mprint\u001b[0m\u001b[0;34m(\u001b[0m\u001b[0ma\u001b[0m \u001b[0;34m*\u001b[0m \u001b[0mb\u001b[0m\u001b[0;34m)\u001b[0m\u001b[0;34m\u001b[0m\u001b[0;34m\u001b[0m\u001b[0m\n\u001b[0m",
      "\u001b[0;31mValueError\u001b[0m: operands could not be broadcast together with shapes (4,3) (1,2) "
     ]
    }
   ],
   "source": [
    "#Matriz de dimension 4 x 3\n",
    "a = np.arange(12).reshape(4, 3)\n",
    "print(a)\n",
    "\n",
    "#Matriz de dimension 1 x 2\n",
    "b = np.arange(2).reshape(1, 2)\n",
    "print(b)\n",
    "\n",
    "print(a * b)"
   ]
  },
  {
   "cell_type": "markdown",
   "id": "e206d27e-a3cc-4c18-b2c8-af3bd4dc6f17",
   "metadata": {},
   "source": [
    "En este ejemplo se muestra la limitación, al parecer las operaciones funcionarían, pero cuando se combinan y las dimensiones en cuanto a la forma no es misma existe error."
   ]
  },
  {
   "cell_type": "code",
   "execution_count": 15,
   "id": "940e12dc-6301-40ec-935b-998e20abf5dc",
   "metadata": {},
   "outputs": [
    {
     "name": "stdout",
     "output_type": "stream",
     "text": [
      "[[-0.60517948  0.45853794  1.13486184  0.99947507 -0.28382997  0.34869326\n",
      "   0.85624111 -0.38128319 -0.1620085 ]\n",
      " [-0.54544185  0.41327538  1.02283894  0.90081628 -0.25581294  0.31427354\n",
      "   0.77172103 -0.3436465  -0.14601654]\n",
      " [-0.9626993   0.72942683  1.8053003   1.58993155 -0.45150724  0.55468959\n",
      "   1.36207975 -0.60653256 -0.2577177 ]\n",
      " [ 0.82399914 -0.62433522 -1.54520305 -1.36086338  0.38645668 -0.47477311\n",
      "  -1.16583916  0.51914685  0.22058722]\n",
      " [-0.12281115  0.09305268  0.23030142  0.20282691 -0.05759859  0.07076152\n",
      "   0.17375995 -0.07737511 -0.03287694]\n",
      " [ 0.59108808 -0.44786104 -1.10843698 -0.97620264  0.27722109 -0.34057406\n",
      "  -0.83630383  0.37240514  0.15823618]\n",
      " [-0.27990974  0.21208458  0.5249003   0.46228073 -0.13127804  0.16127883\n",
      "   0.39603165 -0.17635244 -0.07493274]\n",
      " [-0.41677901  0.31578894  0.78156417  0.68832511 -0.1954699   0.24014038\n",
      "   0.5896818  -0.26258463 -0.11157308]\n",
      " [ 0.55135016 -0.41775204 -1.03391849 -0.91057406  0.25858395 -0.3176778\n",
      "  -0.78008043  0.34736893  0.14759821]]\n"
     ]
    },
    {
     "ename": "ValueError",
     "evalue": "operands could not be broadcast together with shapes (9,9) (9,12) ",
     "output_type": "error",
     "traceback": [
      "\u001b[0;31m---------------------------------------------------------------------------\u001b[0m",
      "\u001b[0;31mValueError\u001b[0m                                Traceback (most recent call last)",
      "\u001b[0;32m<ipython-input-15-ff013ef4292c>\u001b[0m in \u001b[0;36m<module>\u001b[0;34m\u001b[0m\n\u001b[1;32m      5\u001b[0m \u001b[0mprint\u001b[0m\u001b[0;34m(\u001b[0m\u001b[0mnp\u001b[0m\u001b[0;34m.\u001b[0m\u001b[0mdot\u001b[0m\u001b[0;34m(\u001b[0m\u001b[0ma\u001b[0m\u001b[0;34m,\u001b[0m\u001b[0mb\u001b[0m\u001b[0;34m)\u001b[0m\u001b[0;34m)\u001b[0m\u001b[0;34m\u001b[0m\u001b[0;34m\u001b[0m\u001b[0m\n\u001b[1;32m      6\u001b[0m \u001b[0;34m\u001b[0m\u001b[0m\n\u001b[0;32m----> 7\u001b[0;31m \u001b[0md\u001b[0m \u001b[0;34m=\u001b[0m \u001b[0mnp\u001b[0m\u001b[0;34m.\u001b[0m\u001b[0mdot\u001b[0m\u001b[0;34m(\u001b[0m\u001b[0ma\u001b[0m\u001b[0;34m,\u001b[0m\u001b[0mb\u001b[0m\u001b[0;34m)\u001b[0m \u001b[0;34m*\u001b[0m \u001b[0mc\u001b[0m\u001b[0;34m\u001b[0m\u001b[0;34m\u001b[0m\u001b[0m\n\u001b[0m",
      "\u001b[0;31mValueError\u001b[0m: operands could not be broadcast together with shapes (9,9) (9,12) "
     ]
    }
   ],
   "source": [
    "a = np.random.randn(9,1)\n",
    "b = np.random.randn(1,9)\n",
    "c = np.random.randn(9,12)\n",
    "\n",
    "print(np.dot(a,b))\n",
    "\n",
    "d = np.dot(a,b) * c"
   ]
  },
  {
   "cell_type": "markdown",
   "id": "5a91b80e-1ed7-480d-8d51-0f0a4b387bf2",
   "metadata": {},
   "source": [
    "#### Actividad 01.02 - Verificar la eficacia y mejora posible de rendimiento del uso de dicha técnica sobre ndarrays de tamaños grandes."
   ]
  },
  {
   "cell_type": "markdown",
   "id": "7717dee0-ec69-4a09-b1d6-22310708326a",
   "metadata": {},
   "source": [
    "En la ficha trata sobre memmap que son objetos en forma de matriz, además crea un mapa de memoria para una matriz almacenada en un archivo grande del disco.\n",
    "Esto permite que sin leer todo el archivo en la memoria se acceda a partes del archivo en el disco.\n",
    "\n",
    "Siempre se debe primero vaciar la instancia de memmap para escribir los cambios en el archivo, ya que todavía no existe un proceso para que lo haga. Y así asegurarse que el recurso esté realmente cerrado, ya que puede compartirse entre diferentes instancias de memmap."
   ]
  },
  {
   "cell_type": "code",
   "execution_count": 29,
   "id": "83939059-1b9d-41a4-a35d-2dc32048cbe9",
   "metadata": {
    "tags": []
   },
   "outputs": [],
   "source": [
    "import numpy as np\n",
    "from time import time \n",
    "\n",
    "from tempfile import mkdtemp\n",
    "import os.path as path\n",
    "ruta = path.join(mkdtemp(), 'data.dat')"
   ]
  },
  {
   "cell_type": "code",
   "execution_count": 30,
   "id": "01f49e8d-de03-4fe1-8a26-0387acdea160",
   "metadata": {},
   "outputs": [
    {
     "name": "stdout",
     "output_type": "stream",
     "text": [
      "Time (ms): 1\n"
     ]
    }
   ],
   "source": [
    "data_array = np.memmap(ruta, dtype = np.float64, mode = 'w+', shape=(100, 100, 100))\n",
    "\n",
    "t = time() \n",
    "for i in range(5): \n",
    "    view = np.array(data_array[::16, ::16, ::16]) \n",
    "t = ((time() - t)/5) * 1000 \n",
    "print(\"Time (ms): %i\" % t )"
   ]
  },
  {
   "cell_type": "markdown",
   "id": "ce7dad92-db26-4f01-a643-4956d1e8c82d",
   "metadata": {},
   "source": [
    "### Artículo 02"
   ]
  },
  {
   "cell_type": "markdown",
   "id": "50cbff18-3a05-4ec6-87d8-891449d91398",
   "metadata": {},
   "source": [
    "#### Actividad 02.01 - Desarrollar una opinión razonada del estado actual de las herramientas de análisis de datos estadísticos en contraposición a como se muestran en el artículo, R vs Python vs SQL vs Others..."
   ]
  },
  {
   "cell_type": "markdown",
   "id": "106a1a39-2d28-4b4e-ae82-454cf3bdcf5a",
   "metadata": {},
   "source": [
    "Si bien Python ha dado grandes pasos últimamente en el aprendizaje automático, se ha estado quedando con el análisis estadístico de datos, que en comparación con R que tiene amplitud en bibliotecas de código abierto bien examinadas y están disponibles para los usuarios y también en comparación con lenguajes especializados como Matlab, falta un nivel de madurez y estabilidad de las bibliotecas.\n",
    "\n",
    "Una de las limitaciones que tiene Pandas en Python es que no permite trabajar con tipos de datos mixtos, pero si se puede usar con gran cantidad de datos que será necesario validar sino se compromete el rendimiento. Python al ser un lenguaje de alto nivel es mucho más rápido que R puesto que compila en tiempo de ejecución, mientras que R es programación compilada.\n",
    "\n",
    "Para saber si usar Python o R es necesario conocer en donde va a ser aplicado el análisis estadístico ya que si se requiere un análisis exhaustivo de datos con amplios conocimientos matemáticos y estadísticos el lenguaje que a utilizar debería ser R, y a propósito es muy usado por los matemáticos. En cambio cuando se tiene conocimientos en programación y en informática será más fácil utilizar Python ya que su propósito es más general.\n",
    "\n",
    "Python es un lenguaje de programación de uso general mientras que SQL es un lenguaje de propósito especial usado para acceder a los datos y cada uno tiene su fin. Dentro de unos años más se verá los avances de Python frente a R y se podrá realizar una nueva comprativa. \n",
    "\n"
   ]
  }
 ],
 "metadata": {
  "kernelspec": {
   "display_name": "Python 3",
   "language": "python",
   "name": "python3"
  },
  "language_info": {
   "codemirror_mode": {
    "name": "ipython",
    "version": 3
   },
   "file_extension": ".py",
   "mimetype": "text/x-python",
   "name": "python",
   "nbconvert_exporter": "python",
   "pygments_lexer": "ipython3",
   "version": "3.8.8"
  }
 },
 "nbformat": 4,
 "nbformat_minor": 5
}
