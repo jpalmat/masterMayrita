{
 "cells": [
  {
   "cell_type": "markdown",
   "id": "25b77f6a-d719-4456-a431-6039d5a03d59",
   "metadata": {},
   "source": [
    "\n",
    "<img src=\"img/viu_logo.png\" width=\"200\">\n",
    "\n",
    "## 01MIAR - Actividad Video Valenbici\n",
    "### Nombre: Mayra Pullupaxi\n"
   ]
  },
  {
   "cell_type": "markdown",
   "id": "59dfc0fd-53fc-48cb-a9e7-6c1bc648cd1d",
   "metadata": {},
   "source": [
    "#### Objetivo\n",
    "Se requiere aplicar el conocimiento de Pandas y Numpy dado el conjunto de datos \"estaciones_bici.csv\" que tiene los de datos del servicio web de la empresa municipal Valenbici, dedicada al alquiler de bicicletas en Valencia."
   ]
  },
  {
   "cell_type": "markdown",
   "id": "1be0b554-223c-407e-980b-01fd64087f8c",
   "metadata": {},
   "source": [
    "#### Actividad\n"
   ]
  },
  {
   "cell_type": "markdown",
   "id": "3dd13941-effd-457a-b077-3080b913940f",
   "metadata": {},
   "source": [
    "Primero se importan las librerías necesarias"
   ]
  },
  {
   "cell_type": "code",
   "execution_count": 186,
   "id": "889dc29f-3696-4983-8276-a421229f0aa4",
   "metadata": {},
   "outputs": [],
   "source": [
    "import pandas as pd\n",
    "import os\n",
    "\n",
    "import matplotlib.pyplot as plt\n",
    "\n",
    "import matplotlib.dates as mdates\n",
    "from matplotlib.dates import DateFormatter"
   ]
  },
  {
   "cell_type": "markdown",
   "id": "d9970fe7-7cac-49cd-92eb-282a40ad3de0",
   "metadata": {},
   "source": [
    "Luego se obtiene la ruta y los datos del archivo csv"
   ]
  },
  {
   "cell_type": "code",
   "execution_count": 244,
   "id": "6b7a3f43-3554-44db-b3d8-a004bd283137",
   "metadata": {},
   "outputs": [],
   "source": [
    "ruta_bicis = os.path.join('res', 'estaciones_bici.csv')\n",
    "bicis = pd.read_csv(ruta_bicis, sep=';')"
   ]
  },
  {
   "cell_type": "markdown",
   "id": "5a91b80e-1ed7-480d-8d51-0f0a4b387bf2",
   "metadata": {},
   "source": [
    "1.- Carga de los datos en el dataframe con las columnas a usar"
   ]
  },
  {
   "cell_type": "code",
   "execution_count": 247,
   "id": "83939059-1b9d-41a4-a35d-2dc32048cbe9",
   "metadata": {
    "tags": []
   },
   "outputs": [
    {
     "data": {
      "text/html": [
       "<div>\n",
       "<style scoped>\n",
       "    .dataframe tbody tr th:only-of-type {\n",
       "        vertical-align: middle;\n",
       "    }\n",
       "\n",
       "    .dataframe tbody tr th {\n",
       "        vertical-align: top;\n",
       "    }\n",
       "\n",
       "    .dataframe thead th {\n",
       "        text-align: right;\n",
       "    }\n",
       "</style>\n",
       "<table border=\"1\" class=\"dataframe\">\n",
       "  <thead>\n",
       "    <tr style=\"text-align: right;\">\n",
       "      <th></th>\n",
       "      <th>station</th>\n",
       "      <th>total</th>\n",
       "      <th>download_date</th>\n",
       "      <th>available</th>\n",
       "    </tr>\n",
       "  </thead>\n",
       "  <tbody>\n",
       "    <tr>\n",
       "      <th>0</th>\n",
       "      <td>64</td>\n",
       "      <td>20</td>\n",
       "      <td>2019-02-10 17:25:37.787</td>\n",
       "      <td>9</td>\n",
       "    </tr>\n",
       "    <tr>\n",
       "      <th>1</th>\n",
       "      <td>73</td>\n",
       "      <td>20</td>\n",
       "      <td>2019-02-10 17:25:37.787</td>\n",
       "      <td>6</td>\n",
       "    </tr>\n",
       "    <tr>\n",
       "      <th>2</th>\n",
       "      <td>63</td>\n",
       "      <td>20</td>\n",
       "      <td>2019-02-10 18:13:39.827</td>\n",
       "      <td>20</td>\n",
       "    </tr>\n",
       "    <tr>\n",
       "      <th>3</th>\n",
       "      <td>64</td>\n",
       "      <td>20</td>\n",
       "      <td>2019-02-10 18:13:39.827</td>\n",
       "      <td>6</td>\n",
       "    </tr>\n",
       "    <tr>\n",
       "      <th>4</th>\n",
       "      <td>65</td>\n",
       "      <td>19</td>\n",
       "      <td>2019-02-10 18:13:39.827</td>\n",
       "      <td>9</td>\n",
       "    </tr>\n",
       "  </tbody>\n",
       "</table>\n",
       "</div>"
      ],
      "text/plain": [
       "   station  total            download_date  available\n",
       "0       64     20  2019-02-10 17:25:37.787          9\n",
       "1       73     20  2019-02-10 17:25:37.787          6\n",
       "2       63     20  2019-02-10 18:13:39.827         20\n",
       "3       64     20  2019-02-10 18:13:39.827          6\n",
       "4       65     19  2019-02-10 18:13:39.827          9"
      ]
     },
     "metadata": {},
     "output_type": "display_data"
    }
   ],
   "source": [
    "data_bicis = bicis[['station','total','download_date','available']]\n",
    "display(data_bicis.head())"
   ]
  },
  {
   "cell_type": "markdown",
   "id": "ce7dad92-db26-4f01-a643-4956d1e8c82d",
   "metadata": {},
   "source": [
    "2.- Se obtiene el número de estaciones que tienen un total de 30 bornetas"
   ]
  },
  {
   "cell_type": "code",
   "execution_count": 248,
   "id": "206964f5-839f-44fa-86a8-1ad41b08c674",
   "metadata": {},
   "outputs": [
    {
     "name": "stdout",
     "output_type": "stream",
     "text": [
      "Total de bornetas disponibles: 1098\n"
     ]
    }
   ],
   "source": [
    "total_bornetas = data_bicis[data_bicis['total'] == 30]\n",
    "print(f'Total de bornetas disponibles: {len(total_bornetas)}')"
   ]
  },
  {
   "cell_type": "markdown",
   "id": "6bdf1abe-52a0-4f03-a270-dbe6752a121f",
   "metadata": {},
   "source": [
    "3.- Se muestra el número de estación con la media más alta de bicis disponibles"
   ]
  },
  {
   "cell_type": "code",
   "execution_count": 249,
   "id": "f24624ab-7fc3-45c8-a9e0-719c364c1b03",
   "metadata": {
    "tags": []
   },
   "outputs": [
    {
     "name": "stdout",
     "output_type": "stream",
     "text": [
      "Número de estación: 50\n"
     ]
    }
   ],
   "source": [
    "#Se aplica groupby sobre la estación para obtener la media de bicis disponibles y con idxmax se obtiene la media máxima\n",
    "numero_estacion = data_bicis.groupby('station').mean()['available'].idxmax()\n",
    "print(f'Número de estación: {numero_estacion}')"
   ]
  },
  {
   "cell_type": "markdown",
   "id": "1fb8b2c5-1b65-4f50-a9e8-0d9ea3eb9466",
   "metadata": {},
   "source": [
    "4.- Histograma de las bicis disponibles de la estación del punto anterior"
   ]
  },
  {
   "cell_type": "code",
   "execution_count": 250,
   "id": "55a835d0-ed6b-4a2a-b6d2-436a87adc02d",
   "metadata": {},
   "outputs": [
    {
     "data": {
      "text/plain": [
       "Text(0, 0.5, 'Frecuencia')"
      ]
     },
     "execution_count": 250,
     "metadata": {},
     "output_type": "execute_result"
    },
    {
     "data": {
      "image/png": "[encoded data removed]",
      "text/plain": [
       "<Figure size 432x288 with 1 Axes>"
      ]
     },
     "metadata": {
      "needs_background": "light"
     },
     "output_type": "display_data"
    }
   ],
   "source": [
    "bicis_disponibles = data_bicis[data_bicis['station'] == numero_estacion]\n",
    "\n",
    "#Se usa hist para el histograma, se nombra el título y se describe los ejes\n",
    "bicis_disponibles['available'].plot.hist()\n",
    "plt.title('Histograma de bicis disponibles en la estación 50')\n",
    "plt.xlabel('Estaciones Disponibles')\n",
    "plt.ylabel('Frecuencia')"
   ]
  },
  {
   "cell_type": "markdown",
   "id": "81980119-9251-476b-aaeb-cebd60ddf4f8",
   "metadata": {},
   "source": [
    "5.- Gráfica con  la línea temporal de bicis disponibles de la estación del punto anterior. Pista, es necesario cambiar el índice a uno tipo fecha"
   ]
  },
  {
   "cell_type": "code",
   "execution_count": 262,
   "id": "a3786135-289c-4583-8d0e-62379c3e7bad",
   "metadata": {},
   "outputs": [
    {
     "data": {
      "image/png": "[encoded data removed]",
      "text/plain": [
       "<Figure size 432x288 with 1 Axes>"
      ]
     },
     "metadata": {
      "needs_background": "light"
     },
     "output_type": "display_data"
    }
   ],
   "source": [
    "#Permite asignar el índica a la fecha para que sea el eje x\n",
    "bicis_disponibles.set_index('download_date')\n",
    "x_bicis = pd.to_datetime(bicis_disponibles['download_date'], infer_datetime_format=True)\n",
    "y_bicis = bicis_disponibles['available']\n",
    "\n",
    "#Se crea el gráfico\n",
    "fig,axis = plt.subplots(1,1)\n",
    "axis.plot(x_bicis, y_bicis)\n",
    "axis.set_title('Gráfica de línea temporal de bicis disponibles en la estación 50')\n",
    "axis.set_xlabel('Fecha de descarga')\n",
    "axis.set_ylabel('Estaciones disponibles')\n",
    "plt.xticks(rotation=45)\n",
    "plt.show()"
   ]
  }
 ],
 "metadata": {
  "kernelspec": {
   "display_name": "Python 3",
   "language": "python",
   "name": "python3"
  },
  "language_info": {
   "codemirror_mode": {
    "name": "ipython",
    "version": 3
   },
   "file_extension": ".py",
   "mimetype": "text/x-python",
   "name": "python",
   "nbconvert_exporter": "python",
   "pygments_lexer": "ipython3",
   "version": "3.8.8"
  }
 },
 "nbformat": 4,
 "nbformat_minor": 5
}
