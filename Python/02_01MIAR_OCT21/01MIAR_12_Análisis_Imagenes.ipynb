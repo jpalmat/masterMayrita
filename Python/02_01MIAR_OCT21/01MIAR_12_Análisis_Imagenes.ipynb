{
 "cells": [
  {
   "cell_type": "markdown",
   "id": "ec246601-625a-444b-9971-cf942e66ebe0",
   "metadata": {
    "slideshow": {
     "slide_type": "slide"
    }
   },
   "source": [
    "\n",
    "<img src=\"img/viu_logo.png\" width=\"200\">\n",
    "\n",
    "## 01MIAR - Análisis de Imágenes\n",
    "\n",
    "![logo](img/python_logo.png)\n",
    "\n",
    "*Ivan Fuertes*"
   ]
  },
  {
   "cell_type": "markdown",
   "id": "d584cb75-b926-4979-92a5-d6a50f1e8da0",
   "metadata": {
    "slideshow": {
     "slide_type": "slide"
    }
   },
   "source": [
    "# Sumario\n",
    "- OpenCV\n",
    "- Cargar/Mostrar imagen\n",
    "- Operaciones elementales\n",
    "- Blending\n",
    "- Border detection\n",
    "- Face detection"
   ]
  },
  {
   "cell_type": "markdown",
   "id": "1fbb10a3-4094-4e47-b377-4e2f687e70d2",
   "metadata": {},
   "source": [
    "## OpenCV\n",
    "- Librería para visión por ordenador\n",
    "- Análisis de imágenes\n",
    "- https://opencv.org/releases/"
   ]
  },
  {
   "cell_type": "code",
   "execution_count": null,
   "id": "72272872-bae8-459c-847f-471ea1c3d544",
   "metadata": {},
   "outputs": [],
   "source": [
    "import cv2\n",
    "print(cv2.__version__)"
   ]
  },
  {
   "cell_type": "markdown",
   "id": "8f2fd4ea-103c-4808-8f3b-2f992acb177d",
   "metadata": {},
   "source": [
    "## Cargar / Mostrar"
   ]
  },
  {
   "cell_type": "code",
   "execution_count": null,
   "id": "487914b4-9e64-4b90-9972-fe0faa6700dc",
   "metadata": {},
   "outputs": [],
   "source": [
    "from os import path\n",
    "people_path = path.join(\"res\", \"people.jpg\")"
   ]
  },
  {
   "cell_type": "code",
   "execution_count": null,
   "id": "c56d3676-2e72-4e55-ab95-6eb60b7d397c",
   "metadata": {},
   "outputs": [],
   "source": [
    "# Cargar imagen\n",
    "img = cv2.imread(people_path)"
   ]
  },
  {
   "cell_type": "code",
   "execution_count": null,
   "id": "2ca6214f-0b70-4863-91b4-92f19a00f4a7",
   "metadata": {},
   "outputs": [],
   "source": [
    "# Leer Pixel\n",
    "img[0,0]"
   ]
  },
  {
   "cell_type": "code",
   "execution_count": null,
   "id": "cf1a8f44-3d2d-499d-bf79-740784a52ab9",
   "metadata": {},
   "outputs": [],
   "source": [
    "# Mostrar ventana\n",
    "cv2.imshow('Image', img)\n",
    "cv2.waitKey(0)\n",
    "cv2.destroyWindow('Image')"
   ]
  },
  {
   "cell_type": "markdown",
   "id": "743bc323-0877-4e89-af6a-af432c67eaed",
   "metadata": {},
   "source": [
    "- Color RGB, Red Green Blue\n",
    "- Componentes entre 0 y 255\n",
    "- OpenCV almacena canales en BGR por defecto"
   ]
  },
  {
   "cell_type": "code",
   "execution_count": null,
   "id": "a3899226-b623-4636-9728-eb7af4a2b6df",
   "metadata": {},
   "outputs": [],
   "source": [
    "# Descomponer imagen en componentes\n",
    "b, g, r = cv2.split(img)\n",
    "print(type(b))\n",
    "print(b)"
   ]
  },
  {
   "cell_type": "code",
   "execution_count": null,
   "id": "f3dc1c7d-b409-4b32-858f-ba8f2c7c0d29",
   "metadata": {},
   "outputs": [],
   "source": [
    "# Recomponer\n",
    "img_alt = cv2.merge((b,r,g))"
   ]
  },
  {
   "cell_type": "markdown",
   "id": "715ad0dc-cbbe-4594-b36c-453e8cbf2862",
   "metadata": {},
   "source": [
    "- Guardar imagen"
   ]
  },
  {
   "cell_type": "code",
   "execution_count": null,
   "id": "ef44e704-a09f-4edd-a90c-1c14dc9797e5",
   "metadata": {},
   "outputs": [],
   "source": [
    "people_alt_path = path.join(\"res\", \"o_people_alt.jpg\")\n",
    "cv2.imwrite(people_alt_path, img_alt)"
   ]
  },
  {
   "cell_type": "markdown",
   "id": "85d0e7d4-d304-44ab-b4d9-cbbbd903c1df",
   "metadata": {},
   "source": [
    "- Operaciones con dos imágenes"
   ]
  },
  {
   "cell_type": "code",
   "execution_count": null,
   "id": "d085778e-7912-4702-80aa-5056275c409d",
   "metadata": {},
   "outputs": [],
   "source": [
    "color_path = path.join(\"res\", \"overlay.jpg\")\n",
    "img_color = cv2.imread(color_path)"
   ]
  },
  {
   "cell_type": "code",
   "execution_count": null,
   "id": "c4c23851-36e9-4cdc-9246-fa9e585cc3e8",
   "metadata": {},
   "outputs": [],
   "source": [
    "# Sumar dos imágenes\n",
    "# img_add = cv2.add(img, img_color)\n",
    "img_add = img + img_color\n",
    "\n",
    "cv2.imshow('Image', img_add)\n",
    "cv2.waitKey(0)\n",
    "cv2.destroyWindow('Image')"
   ]
  },
  {
   "cell_type": "code",
   "execution_count": null,
   "id": "7efb9086-b9bf-462d-b064-e714858cb838",
   "metadata": {},
   "outputs": [],
   "source": [
    "# Restar dos imágenes\n",
    "# img_sub = cv2.subtract(img, img_color)\n",
    "img_sub = img - img_color\n",
    "\n",
    "cv2.imshow('Image', img_sub)\n",
    "cv2.waitKey(0)\n",
    "cv2.destroyWindow('Image')"
   ]
  },
  {
   "cell_type": "markdown",
   "id": "294a59f3-56a3-40d2-be0f-eeb0492b98a4",
   "metadata": {},
   "source": [
    "## Blending\n",
    "- img = alpha * img1 + (1 - alpha) * img2\n",
    "- 0 > alpha > 1\n",
    "- addweighted\n",
    "  - dst = img1 * alpha + img2 * beta + gamma"
   ]
  },
  {
   "cell_type": "code",
   "execution_count": null,
   "id": "3326cae4-7b50-4c4b-9664-7c17ab81d388",
   "metadata": {},
   "outputs": [],
   "source": [
    "# Blending de dos imágenes\n",
    "img_blend = cv2.addWeighted(img, 0.3, img_color, 0.7, 0)\n",
    "\n",
    "cv2.imshow('Image', img_blend)\n",
    "cv2.waitKey(0)\n",
    "cv2.destroyWindow('Image')"
   ]
  },
  {
   "cell_type": "markdown",
   "id": "9afa568e-c383-4cc6-be73-1b030e702667",
   "metadata": {},
   "source": [
    "## Detección de bordes\n",
    "- Filtros de imágenes, convoluciones\n",
    "- Teoría del gradiente de imagen\n",
    "\n",
    "<img src=\"img/image_gradient.png\" width=\"600\">\n",
    "\n",
    "- Filtros Sobel y Laplacian"
   ]
  },
  {
   "cell_type": "code",
   "execution_count": null,
   "id": "e7c2343c-6a76-46ea-9a4f-39d1de927836",
   "metadata": {},
   "outputs": [],
   "source": [
    "# Mostrar imágenes\n",
    "import matplotlib.pyplot as plt\n",
    "\n",
    "def show_image(sub, image, title):\n",
    "    plt.subplot(2, 2, sub)\n",
    "    plt.imshow(image, cmap = 'gray')\n",
    "    title_obj = plt.title(title)\n",
    "    plt.setp(title_obj, color='w')\n",
    "    plt.xticks([])\n",
    "    plt.yticks([])"
   ]
  },
  {
   "cell_type": "code",
   "execution_count": null,
   "id": "d43b8f65-5511-49ff-9097-a958e79d2652",
   "metadata": {},
   "outputs": [],
   "source": [
    "# Cargar imagen arrows\n",
    "from os import path\n",
    "arrows_path = path.join(\"res\", \"arrows.jpg\")\n",
    "img = cv2.imread(arrows_path, 0)"
   ]
  },
  {
   "cell_type": "markdown",
   "id": "e25a442a-3b10-42f9-996c-a60df7478854",
   "metadata": {},
   "source": [
    "- Imagen en escala de grises, formato CV_64F\n",
    "- Sobel(imagen, profundidad de color, ordenes de derivada x, y, tamaño kernel)\n",
    "  - Horizontal\n",
    "  - Vertical\n",
    " - Laplacian(imagen, profundidad de color)"
   ]
  },
  {
   "cell_type": "code",
   "execution_count": null,
   "id": "20bfac0e-3f33-4a51-a472-eb6bb19fbcb2",
   "metadata": {},
   "outputs": [],
   "source": [
    "# Aplicar filtros\n",
    "laplacian = cv2.Laplacian(img, cv2.CV_64F)\n",
    "\n",
    "sobel_x = cv2.Sobel(img, cv2.CV_64F, 1, 0, ksize=5)\n",
    "sobel_y = cv2.Sobel(img, cv2.CV_64F, 0, 1, ksize=5)\n",
    "\n",
    "show_image(1, img, 'Original')\n",
    "show_image(2, laplacian, 'Laplacian')\n",
    "show_image(3, sobel_x, 'Sobel X')\n",
    "show_image(4, sobel_y, 'Sobel Y')\n",
    "\n",
    "plt.show()"
   ]
  },
  {
   "cell_type": "code",
   "execution_count": null,
   "id": "660d3dff-8790-4a78-91a6-63d5abb54dfc",
   "metadata": {},
   "outputs": [],
   "source": [
    "# Aplicar filtros con solo 8 bits por pixel\n",
    "laplacian = cv2.Laplacian(img, cv2.CV_8U)\n",
    "\n",
    "sobel_x = cv2.Sobel(img, cv2.CV_8U, 1, 0, ksize=5)\n",
    "sobel_y = cv2.Sobel(img, cv2.CV_8U, 0, 1, ksize=5)\n",
    "\n",
    "show_image(1, img, 'Original')\n",
    "show_image(2, laplacian, 'Laplacian')\n",
    "show_image(3, sobel_x, 'Sobel X')\n",
    "show_image(4, sobel_y, 'Sobel Y')\n",
    "\n",
    "plt.show()"
   ]
  },
  {
   "cell_type": "code",
   "execution_count": null,
   "id": "1416272f-067c-49e2-aa79-7cd6b6ee309c",
   "metadata": {},
   "outputs": [],
   "source": [
    "import numpy as np\n",
    "\n",
    "laplacian = cv2.Laplacian(img, cv2.CV_64F)\n",
    "laplacian = np.uint8(np.absolute(laplacian))\n",
    "\n",
    "sobel_x = cv2.Sobel(img, cv2.CV_64F, 1, 0, ksize=5)\n",
    "sobel_x = np.uint8(np.absolute(sobel_x))\n",
    "\n",
    "sobel_y = cv2.Sobel(img, cv2.CV_64F, 0, 1, ksize=5)\n",
    "sobel_y = np.uint8(np.absolute(sobel_y))\n",
    "\n",
    "show_image(1, img, 'Original')\n",
    "show_image(2, laplacian, 'Laplacian')\n",
    "show_image(3, sobel_x, 'Sobel X')\n",
    "show_image(4, sobel_y, 'Sobel Y')\n",
    "\n",
    "plt.show()"
   ]
  },
  {
   "cell_type": "markdown",
   "id": "5bcb84cb-450a-49ae-8c40-723bc51e8a0d",
   "metadata": {
    "tags": []
   },
   "source": [
    "## Detección de caras\n",
    "- Deep Learning\n",
    "- Caffe2\n",
    "  - Definición de la arquitectura del modelo https://github.com/opencv/opencv/blob/master/samples/dnn/face_detector/deploy.prototxt\n",
    "  - Modelo con los pesos de las capas de RN https://github.com/opencv/opencv_3rdparty/tree/dnn_samples_face_detector_20170830\n",
    "  "
   ]
  },
  {
   "cell_type": "code",
   "execution_count": null,
   "id": "092fb5a8-94bd-4f89-9935-6b9e1b6f78f7",
   "metadata": {},
   "outputs": [],
   "source": [
    "from os import path\n",
    "proto_path = path.join(\"res\", \"deploy.prototxt.txt\")\n",
    "model_path = path.join(\"res\", \"res10_300x300_ssd_iter_140000.caffemodel\")\n",
    "people_path = path.join(\"res\", \"people.jpg\")"
   ]
  },
  {
   "cell_type": "code",
   "execution_count": null,
   "id": "ad5ad37f-afde-4540-8ecf-e49d68c91231",
   "metadata": {},
   "outputs": [],
   "source": [
    "# Cargar modelo en DNN de OpenCV\n",
    "net = cv2.dnn.readNetFromCaffe(proto_path, model_path)"
   ]
  },
  {
   "cell_type": "code",
   "execution_count": null,
   "id": "d2db965f-1c37-4b56-8b7a-a1344258bf47",
   "metadata": {},
   "outputs": [],
   "source": [
    "# Imagen a analizar\n",
    "img = cv2.imread(people_path)\n",
    "(h, w) = img.shape[:2]\n",
    "print((h, w))"
   ]
  },
  {
   "cell_type": "code",
   "execution_count": null,
   "id": "a06aa8c1-982c-4fcd-bd38-f4460ac13f7b",
   "metadata": {},
   "outputs": [],
   "source": [
    "# Preprocesar imagen resize 300x300, scale factor, image_size, valores medios canales de color\n",
    "blob = cv2.dnn.blobFromImage(cv2.resize(img, (300, 300)), 1.0, (300, 300), (104.0, 177.0, 123.0))"
   ]
  },
  {
   "cell_type": "code",
   "execution_count": null,
   "id": "7c1b2c5a-e378-424d-8d9a-a0e0096080b9",
   "metadata": {},
   "outputs": [],
   "source": [
    "# Enviar imagen a la red neuronal\n",
    "net.setInput(blob)\n",
    "detections = net.forward()"
   ]
  },
  {
   "cell_type": "markdown",
   "id": "28a251cb-11ca-430d-9ea6-d614517795c6",
   "metadata": {},
   "source": [
    "- Array de detecciones\n",
    "- Umbral de confianza"
   ]
  },
  {
   "cell_type": "code",
   "execution_count": null,
   "id": "89bb46d9-0ddf-4b98-aafa-d86b05fc8ef4",
   "metadata": {},
   "outputs": [],
   "source": [
    "confidence_threshold = 0.80\n",
    "\n",
    "for i in range(0, detections.shape[2]):\n",
    "    confidence = detections[0, 0, i, 2]\n",
    "    if confidence > confidence_threshold:\n",
    "        box = detections[0, 0, i, 3:7] * np.array([w, h, w, h])\n",
    "        (startX, startY, endX, endY) = box.astype(\"int\")\n",
    "        text = f\"{confidence * 100:.2f}\"        \n",
    "        y = startY - 10 if startY - 10 > 10 else startY + 10\n",
    "        cv2.rectangle(img, (startX, startY), (endX, endY),(0, 0, 255), 2)\n",
    "        cv2.putText(img, text, (startX, y), cv2.FONT_HERSHEY_SIMPLEX, 0.85, (0, 0, 255), 2)\n",
    "\n",
    "cv2.imshow('Image', img)\n",
    "cv2.waitKey(0)\n",
    "cv2.destroyWindow('Image')"
   ]
  }
 ],
 "metadata": {
  "kernelspec": {
   "display_name": "Python 3 (ipykernel)",
   "language": "python",
   "name": "python3"
  },
  "language_info": {
   "codemirror_mode": {
    "name": "ipython",
    "version": 3
   },
   "file_extension": ".py",
   "mimetype": "text/x-python",
   "name": "python",
   "nbconvert_exporter": "python",
   "pygments_lexer": "ipython3",
   "version": "3.9.5"
  }
 },
 "nbformat": 4,
 "nbformat_minor": 5
}
