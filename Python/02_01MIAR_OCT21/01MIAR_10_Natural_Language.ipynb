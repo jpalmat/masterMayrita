{
 "cells": [
  {
   "cell_type": "markdown",
   "id": "2d2953f5-c98e-4b91-9ffc-fad4b2fd8c89",
   "metadata": {
    "slideshow": {
     "slide_type": "slide"
    }
   },
   "source": [
    "\n",
    "<img src=\"img/viu_logo.png\" width=\"200\">\n",
    "\n",
    "## 01MIAR - Análisis de Datos Textuales\n",
    "\n",
    "![logo](img/python_logo.png)\n",
    "\n",
    "*Ivan Fuertes*"
   ]
  },
  {
   "cell_type": "markdown",
   "id": "e0545f00-2624-414d-b956-c252008c2cc3",
   "metadata": {
    "slideshow": {
     "slide_type": "slide"
    }
   },
   "source": [
    "# Sumario\n",
    "- NLTK\n",
    "- Concordancia\n",
    "- Frecuencia de palabras\n",
    "- Seleccionar palabras\n",
    "- Bigramas y colocaciones\n",
    "- Stemming y lematización\n",
    "- Texto online\n",
    "- Extraer texto de HTML\n",
    "- Análisis de sentimiento"
   ]
  },
  {
   "cell_type": "markdown",
   "id": "c80580a2-596f-4c9f-89d8-7711db454d79",
   "metadata": {},
   "source": [
    "## NLTK\n",
    "- Natural Language Toolkit\n",
    "- *corpora* -> textos de ejemplo"
   ]
  },
  {
   "cell_type": "code",
   "execution_count": null,
   "id": "9d4413fe-c0a2-4c2d-b2c2-685e3374207e",
   "metadata": {},
   "outputs": [],
   "source": [
    "import nltk"
   ]
  },
  {
   "cell_type": "code",
   "execution_count": null,
   "id": "c6cfa8cb-fa92-42db-a911-431afe3d9000",
   "metadata": {
    "tags": []
   },
   "outputs": [],
   "source": [
    "# Shell interactivo\n",
    "# nltk.download_shell()"
   ]
  },
  {
   "cell_type": "markdown",
   "id": "1ffc981e-1c36-4016-a6fc-b30db806f302",
   "metadata": {},
   "source": [
    "- Corpus Gutenberg https://www.gutenberg.org/"
   ]
  },
  {
   "cell_type": "code",
   "execution_count": null,
   "id": "b1d7d761-772a-4de4-8f6d-4c303720ee68",
   "metadata": {},
   "outputs": [],
   "source": [
    "# Cargar un corpus\n",
    "nltk.download('gutenberg')"
   ]
  },
  {
   "cell_type": "code",
   "execution_count": null,
   "id": "1d4327bb-a3f5-48b9-98d7-e8114d3eda98",
   "metadata": {},
   "outputs": [],
   "source": [
    "# Ficheros que contiene gutenberg\n",
    "gb = nltk.corpus.gutenberg\n",
    "print(gb.fileids())"
   ]
  },
  {
   "cell_type": "code",
   "execution_count": null,
   "id": "99e3e780-3de2-4d43-9ec8-9b777f44808a",
   "metadata": {},
   "outputs": [],
   "source": [
    "# Carga un texto\n",
    "alice = nltk.corpus.gutenberg.words('carroll-alice.txt')"
   ]
  },
  {
   "cell_type": "code",
   "execution_count": null,
   "id": "8a89b656-320c-45cc-9c7c-b1b9a3ab4b33",
   "metadata": {},
   "outputs": [],
   "source": [
    "# Longitud del texto en palabras\n",
    "len(alice)"
   ]
  },
  {
   "cell_type": "code",
   "execution_count": null,
   "id": "3c72c962-172c-4ce1-b5e0-8fc5f6f6f3cc",
   "metadata": {},
   "outputs": [],
   "source": [
    "# Lista con todas las palabras\n",
    "print(alice)\n",
    "print(alice[:20])"
   ]
  },
  {
   "cell_type": "markdown",
   "id": "8dba407d-4928-44e9-a672-032817580904",
   "metadata": {},
   "source": [
    "- Paquete *punkt* para *tokenizar*"
   ]
  },
  {
   "cell_type": "code",
   "execution_count": null,
   "id": "6c3f8c4f-5be9-420f-92f7-f840c3c8dd3a",
   "metadata": {},
   "outputs": [],
   "source": [
    "# Descargar punkt\n",
    "nltk.download('punkt')"
   ]
  },
  {
   "cell_type": "code",
   "execution_count": null,
   "id": "4d87823c-d2e8-4c6f-91d8-fe5fe9a4ab65",
   "metadata": {},
   "outputs": [],
   "source": [
    "# Cargar por frases\n",
    "alice_s = nltk.corpus.gutenberg.sents('carroll-alice.txt')"
   ]
  },
  {
   "cell_type": "code",
   "execution_count": null,
   "id": "51c4fef6-59ee-45d8-8eb8-fe87642a523c",
   "metadata": {
    "tags": []
   },
   "outputs": [],
   "source": [
    "# Lista de frases\n",
    "alice_s[1]"
   ]
  },
  {
   "cell_type": "markdown",
   "id": "5b509e6d-7c8a-489b-84b4-c55032128130",
   "metadata": {},
   "source": [
    "### Concordancia\n",
    "- Ocurrencias de una palabra"
   ]
  },
  {
   "cell_type": "code",
   "execution_count": null,
   "id": "b5075da8-e0de-444c-a7f8-9a687147378e",
   "metadata": {},
   "outputs": [],
   "source": [
    "# Crear corpus como objeto Text\n",
    "alice_t = nltk.Text(alice)"
   ]
  },
  {
   "cell_type": "code",
   "execution_count": null,
   "id": "b1f04557-5fae-4923-9062-fee2daf72ec4",
   "metadata": {},
   "outputs": [],
   "source": [
    "# Buscar una palabra\n",
    "alice_t.concordance('hatter', lines=3)"
   ]
  },
  {
   "cell_type": "code",
   "execution_count": null,
   "id": "c6a409ea-361f-4251-801e-304bb0559faf",
   "metadata": {},
   "outputs": [],
   "source": [
    "# Busca una palabra y devuelve una lista\n",
    "concordance_list = alice_t.concordance_list(\"hatter\", lines=3)\n",
    "for concordance in concordance_list:\n",
    "    print(concordance.line)"
   ]
  },
  {
   "cell_type": "markdown",
   "id": "e92fee58-c292-4ca7-94ad-4d5861ca8b9b",
   "metadata": {},
   "source": [
    "- Búsqueda por contexto"
   ]
  },
  {
   "cell_type": "code",
   "execution_count": null,
   "id": "d08f8a48-e0c1-4b2e-bb24-5d165d74bbe0",
   "metadata": {},
   "outputs": [],
   "source": [
    "# Palabra anterior y posterior a la busqueda\n",
    "alice_t.common_contexts(['hatter'])"
   ]
  },
  {
   "cell_type": "code",
   "execution_count": null,
   "id": "4f57e8dd-c8f7-4207-bfb0-223f4d103080",
   "metadata": {},
   "outputs": [],
   "source": [
    "# Buscar sinonimos (contexto similar)\n",
    "alice_t.similar('hatter')"
   ]
  },
  {
   "cell_type": "markdown",
   "id": "56faa62c-477f-4d72-a99b-2962af992c67",
   "metadata": {},
   "source": [
    "### Frecuencia de las palabras"
   ]
  },
  {
   "cell_type": "code",
   "execution_count": null,
   "id": "6c92d000-138f-442d-a373-60c58adbf82a",
   "metadata": {},
   "outputs": [],
   "source": [
    "# Clase FreqDist\n",
    "fd = nltk.FreqDist(alice)\n",
    "fd.most_common(10)"
   ]
  },
  {
   "cell_type": "markdown",
   "id": "c46621f0-5006-44f1-8465-847878e5a5af",
   "metadata": {},
   "source": [
    "- Signos de puntuación"
   ]
  },
  {
   "cell_type": "code",
   "execution_count": null,
   "id": "8e238e57-d243-40c2-8908-9df12ad3fe84",
   "metadata": {},
   "outputs": [],
   "source": [
    "# Eliminar signos de puntuacion\n",
    "import string\n",
    "punctuation = set(string.punctuation)\n",
    "alice_filter_p = [word for word in alice if word.lower() not in punctuation and word.isalpha()]"
   ]
  },
  {
   "cell_type": "code",
   "execution_count": null,
   "id": "8163308e-b1c5-40f4-960d-739fc41cb0d4",
   "metadata": {},
   "outputs": [],
   "source": [
    "fd = nltk.FreqDist(alice_filter_p)\n",
    "fd.most_common(10)"
   ]
  },
  {
   "cell_type": "markdown",
   "id": "a5bdefab-ec8c-4e0f-a3cd-5e026ba655a1",
   "metadata": {},
   "source": [
    "- Stopwords (preposiciones, artículos,...)"
   ]
  },
  {
   "cell_type": "code",
   "execution_count": null,
   "id": "7d08d781-065d-45fa-9617-59c8c1e80022",
   "metadata": {},
   "outputs": [],
   "source": [
    "# Descargar lista de stopwords\n",
    "nltk.download('stopwords')"
   ]
  },
  {
   "cell_type": "code",
   "execution_count": null,
   "id": "dee32319-12fb-4e11-ac6b-142a476d1c89",
   "metadata": {},
   "outputs": [],
   "source": [
    "# Ver algunas stopwords en ingles\n",
    "sw_en = set(nltk.corpus.stopwords.words('english'))\n",
    "print(len(sw_en))\n",
    "list(sw_en)[:5]"
   ]
  },
  {
   "cell_type": "code",
   "execution_count": null,
   "id": "96de2bda-9e4d-4235-969a-c5e51a8554c0",
   "metadata": {},
   "outputs": [],
   "source": [
    "# Eliminar signos de puntuación y stopwords\n",
    "alice_filter_p = [word for word in alice if word.lower () not in sw_en and word.lower () not in punctuation and word.isalpha()]"
   ]
  },
  {
   "cell_type": "code",
   "execution_count": null,
   "id": "f3bd412d-9827-4fbb-be39-fe10e017e074",
   "metadata": {},
   "outputs": [],
   "source": [
    "# Distribución filtrada\n",
    "fd = nltk.FreqDist(alice_filter_p)\n",
    "fd.most_common(8)"
   ]
  },
  {
   "cell_type": "code",
   "execution_count": null,
   "id": "da6c7bc5-d42a-4b96-9fd6-1703e8d9007b",
   "metadata": {},
   "outputs": [],
   "source": [
    "# Visualizar gráfica de distribución\n",
    "fd.plot(20, cumulative=False)"
   ]
  },
  {
   "cell_type": "markdown",
   "id": "a7034f11-caf3-44cc-ae2e-07c17d4f3df2",
   "metadata": {},
   "source": [
    "### Seleccionar palabras"
   ]
  },
  {
   "cell_type": "code",
   "execution_count": null,
   "id": "d3f8e1ef-82bc-491e-9f1c-9a099593de47",
   "metadata": {},
   "outputs": [],
   "source": [
    "# Palabras largas\n",
    "long_words = [word for word in alice if len(word)> 12]\n",
    "sorted(set(long_words))"
   ]
  },
  {
   "cell_type": "code",
   "execution_count": null,
   "id": "0932d3ec-fcbe-4fd8-8a53-07c6465b5cff",
   "metadata": {},
   "outputs": [],
   "source": [
    "# Palabras que tengan un sufijo\n",
    "ious_words = [word for word in alice if word.endswith('ious')]\n",
    "sorted(set(ious_words))"
   ]
  },
  {
   "cell_type": "markdown",
   "id": "a93f314c-b743-4f15-8e15-d4bb86588fd8",
   "metadata": {},
   "source": [
    "### Colocaciones\n",
    "- Bigramas, parejas de palabras habituales (sin duda, buenos dias, albergar esperanzas,...)\n",
    "- Trigramas"
   ]
  },
  {
   "cell_type": "code",
   "execution_count": null,
   "id": "1e3f935f-73a4-4674-b802-a5f7d39e5449",
   "metadata": {},
   "outputs": [],
   "source": [
    "# Buscar bigramas\n",
    "bigrams = nltk.FreqDist(nltk.bigrams(alice_filter_p))\n",
    "bigrams.most_common(10)"
   ]
  },
  {
   "cell_type": "code",
   "execution_count": null,
   "id": "a24eeec6-f521-4514-87b2-9163a3e2fb9b",
   "metadata": {},
   "outputs": [],
   "source": [
    "# Buscar trigramas\n",
    "trigrams = nltk.FreqDist(nltk.trigrams(alice_filter_p))\n",
    "trigrams.most_common(10)"
   ]
  },
  {
   "cell_type": "markdown",
   "id": "b1c17bc6-4433-41d3-9442-29f60d1bf9f1",
   "metadata": {},
   "source": [
    "### Sinónimos\n",
    "- Paquete *wordnet*"
   ]
  },
  {
   "cell_type": "code",
   "execution_count": null,
   "id": "9ee83571-0be5-44e0-93c8-69c3a84893f0",
   "metadata": {},
   "outputs": [],
   "source": [
    "# Descargar wordnet\n",
    "nltk.download(\"wordnet\")"
   ]
  },
  {
   "cell_type": "code",
   "execution_count": null,
   "id": "b99012e3-890e-4082-9894-e4e3c63dddec",
   "metadata": {},
   "outputs": [],
   "source": [
    "# Definicion y ejemplos\n",
    "from nltk.corpus import wordnet\n",
    "\n",
    "syn = wordnet.synsets(\"fun\")\n",
    "\n",
    "print(syn[0].definition())\n",
    "print(syn[0].examples())"
   ]
  },
  {
   "cell_type": "code",
   "execution_count": null,
   "id": "8d248096-8141-4cdb-9837-5329dddff16f",
   "metadata": {
    "tags": []
   },
   "outputs": [],
   "source": [
    "# Sinonimos\n",
    "synonyms = []\n",
    "\n",
    "for syn in wordnet.synsets('sorrow'):\n",
    "    for lemma in syn.lemmas():\n",
    "        synonyms.append(lemma.name())\n",
    "\n",
    "print(set(synonyms))"
   ]
  },
  {
   "cell_type": "code",
   "execution_count": null,
   "id": "cb6c44bc-c8e9-48d2-9492-6f04fb8b08e7",
   "metadata": {},
   "outputs": [],
   "source": [
    "# Antonimos\n",
    "antonyms = []\n",
    "\n",
    "for syn in wordnet.synsets(\"left\"):\n",
    "    for l in syn.lemmas():\n",
    "        if l.antonyms():\n",
    "            antonyms.append(l.antonyms()[0].name())\n",
    "\n",
    "print(set(antonyms))"
   ]
  },
  {
   "cell_type": "markdown",
   "id": "f6983efc-09bb-460f-a8b2-16bc25bb805e",
   "metadata": {},
   "source": [
    "#### Idioma castellano\n",
    "- Open Multilingual Wordnet http://compling.hss.ntu.edu.sg/omw/"
   ]
  },
  {
   "cell_type": "code",
   "execution_count": null,
   "id": "0bf0133d-9d14-4f6c-87ac-09812acc80b6",
   "metadata": {},
   "outputs": [],
   "source": [
    "nltk.download(\"omw\")"
   ]
  },
  {
   "cell_type": "code",
   "execution_count": null,
   "id": "57c27445-630f-4fd4-8f6f-50c6f36c70ca",
   "metadata": {},
   "outputs": [],
   "source": [
    "# Sinonimos en castellano\n",
    "synonyms = []\n",
    "\n",
    "for syn in wordnet.synsets('sorrow'):\n",
    "    for lemma in syn.lemmas('spa'):\n",
    "        synonyms.append(lemma.name())\n",
    "\n",
    "print(set(synonyms))"
   ]
  },
  {
   "cell_type": "markdown",
   "id": "67b42c26-ebf2-461d-a45a-a115c2f63303",
   "metadata": {},
   "source": [
    "### Stemming y lematización\n",
    "- Buscar la raiz de las palabras\n",
    "- Normalizar palabras\n",
    "- Simplifica busqueda o tratamiento"
   ]
  },
  {
   "cell_type": "code",
   "execution_count": null,
   "id": "859d1b1b-61bb-4be9-8c58-45f0c686f3da",
   "metadata": {},
   "outputs": [],
   "source": [
    "# Algoritmo Porter \n",
    "from nltk.stem import PorterStemmer\n",
    "\n",
    "stemmer = PorterStemmer()\n",
    "print(stemmer.stem('deceases'))"
   ]
  },
  {
   "cell_type": "code",
   "execution_count": null,
   "id": "ed13b623-867e-4d50-b8a0-b5a56fd6d2e5",
   "metadata": {},
   "outputs": [],
   "source": [
    "# Snowball\n",
    "from nltk.stem import SnowballStemmer\n",
    "\n",
    "es_stemmer = SnowballStemmer('spanish')\n",
    "\n",
    "print(es_stemmer.stem('correr'))"
   ]
  },
  {
   "cell_type": "markdown",
   "id": "555b1131-bc58-46b2-b4fe-f68111492484",
   "metadata": {},
   "source": [
    "- Buscar el lema de las palabras\n",
    "- Análisis morfólogico, eliminar sufijos/prefijos\n",
    "- Minimiza ambigüedad, reduce densidad"
   ]
  },
  {
   "cell_type": "code",
   "execution_count": null,
   "id": "cb751e76-b958-4774-a121-8ab06aa28fe8",
   "metadata": {},
   "outputs": [],
   "source": [
    "# Lemmatizer\n",
    "from nltk.stem import WordNetLemmatizer\n",
    "\n",
    "lemmatizer = WordNetLemmatizer()\n",
    "\n",
    "print(lemmatizer.lemmatize('deceases'))"
   ]
  },
  {
   "cell_type": "markdown",
   "id": "9edbf848-c3ee-4ca5-adef-734cb797461a",
   "metadata": {},
   "source": [
    "### Texto online"
   ]
  },
  {
   "cell_type": "code",
   "execution_count": null,
   "id": "ab2b4970-bca1-451e-9b3c-d7bf2b77dc49",
   "metadata": {},
   "outputs": [],
   "source": [
    "# Carga html desde url\n",
    "from urllib import request\n",
    "\n",
    "url = \"http://www.gutenberg.org/files/11/11-0.txt\"\n",
    "response = request.urlopen(url)\n",
    "raw = response.read().decode('utf-8-sig')\n",
    "\n",
    "print(raw[:100])"
   ]
  },
  {
   "cell_type": "markdown",
   "id": "c8261ed3-1fd0-4819-b1be-a2916b1f942e",
   "metadata": {},
   "source": [
    "- Tokenizar el texto, dividirlo en palabras"
   ]
  },
  {
   "cell_type": "code",
   "execution_count": null,
   "id": "11ad2c8c-95cc-411f-ab6c-245c137aa4c7",
   "metadata": {},
   "outputs": [],
   "source": [
    "# Tokenizar y convertir a corpus\n",
    "tokens = nltk.word_tokenize(raw)\n",
    "webtext = nltk.Text(tokens)\n",
    "webtext[:11]"
   ]
  },
  {
   "cell_type": "markdown",
   "id": "0e03a460-7f01-4d4a-820b-c9675a332c70",
   "metadata": {},
   "source": [
    "### Extraer texto de HTML"
   ]
  },
  {
   "cell_type": "code",
   "execution_count": null,
   "id": "689cbc5a-5ff3-4708-8704-875cdf5720f3",
   "metadata": {},
   "outputs": [],
   "source": [
    "# Carga html desde url\n",
    "url = \"https://www.universidadviu.com/es/la-universidad\"\n",
    "html = request.urlopen(url).read().decode('utf-8-sig')\n",
    "html[:90]"
   ]
  },
  {
   "cell_type": "markdown",
   "id": "ad389f29-f5a4-46a6-a49c-ccdd047577f9",
   "metadata": {},
   "source": [
    "#### Beautiful Soup\n",
    "- Analizar documentos HTML\n",
    "- pip install beautifulsoup4\n",
    "- Parser, analizador sintáctico\n",
    "- Reconoce etiquetas HTML\n",
    "- Extrae texto"
   ]
  },
  {
   "cell_type": "code",
   "execution_count": null,
   "id": "b0d3df12-e1a6-468f-b02f-72f8bba9be97",
   "metadata": {},
   "outputs": [],
   "source": [
    "# Extraer texto de html \n",
    "from bs4 import BeautifulSoup\n",
    "raw = BeautifulSoup(html, \"html.parser\").get_text()\n",
    "tokens = nltk.word_tokenize(raw)\n",
    "text = nltk.Text(tokens)\n",
    "print(text[:4])"
   ]
  },
  {
   "cell_type": "markdown",
   "id": "b36363bd-aa8e-4ce3-9ea1-ddd27566e1d6",
   "metadata": {},
   "source": [
    "### Análisis de Sentimiento\n",
    "- Mineria de opiniones\n",
    "- Evaluar grado de apreciación o evaluación de comentarios\n",
    "- Opinión, clasificación\n",
    "  - Positivo\n",
    "  - Neutral\n",
    "  - Negativo"
   ]
  },
  {
   "cell_type": "code",
   "execution_count": null,
   "id": "59bfee32-368e-4d73-a00f-bb43a31e0306",
   "metadata": {},
   "outputs": [],
   "source": [
    "# Descargar corpus con criticas de peliculas\n",
    "nltk.download('movie_reviews')"
   ]
  },
  {
   "cell_type": "code",
   "execution_count": null,
   "id": "fb3f258d-d1a1-4410-8a06-8dd9a3ae31e7",
   "metadata": {},
   "outputs": [],
   "source": [
    "# Criticas, categorias\n",
    "reviews = nltk.corpus.movie_reviews\n",
    "print(reviews.categories())\n",
    "id = reviews.fileids('neg')\n",
    "print(reviews.words(id)[:40])"
   ]
  },
  {
   "cell_type": "code",
   "execution_count": null,
   "id": "4cb58039-e4e6-4b02-bbc9-1324028a85ac",
   "metadata": {},
   "outputs": [],
   "source": [
    "# Construir conjunto de entrenamiento\n",
    "import random\n",
    "# Parejas de elementos (critica, categoria)\n",
    "documents = [(list(reviews.words(fileid)), category) \n",
    "    for category in reviews.categories() \n",
    "    for fileid in reviews.fileids(category)]\n",
    "\n",
    "random.shuffle(documents)"
   ]
  },
  {
   "cell_type": "code",
   "execution_count": null,
   "id": "3a744292-dcf5-41fd-a65c-bd387355fa3a",
   "metadata": {
    "tags": []
   },
   "outputs": [],
   "source": [
    "first_review = ' '.join(documents[0][0])\n",
    "first_evaluation = documents[0][1]\n",
    "print(f\"Eval = {first_evaluation}, Review = {first_review}\")"
   ]
  },
  {
   "cell_type": "code",
   "execution_count": null,
   "id": "75553bdb-5cf9-4533-997b-62d6ef60b8c7",
   "metadata": {},
   "outputs": [],
   "source": [
    "# Distribucion de frecuencia\n",
    "all_words = nltk.FreqDist(word.lower() for word in reviews.words())\n",
    "word_features = list(all_words)\n",
    "print(word_features[:20])"
   ]
  },
  {
   "cell_type": "markdown",
   "id": "665cb536-92a6-485a-859e-2dabe4622fa4",
   "metadata": {},
   "source": [
    "- Si una palabra esta presente más veces en las criticas negativas que en las positivas, se evalúa como una palabra negativa"
   ]
  },
  {
   "cell_type": "code",
   "execution_count": null,
   "id": "bdc9698e-a0e2-4bd3-91c9-7a45b1c5db39",
   "metadata": {},
   "outputs": [],
   "source": [
    "# Calcular las features, palabras importantes para establecer la opinion\n",
    "def document_features(document, word_features):\n",
    "    document_words = set(document)\n",
    "    features = {}\n",
    "    for word in word_features:\n",
    "        features [f'{word}'] = (word in document_words)\n",
    "    return features"
   ]
  },
  {
   "cell_type": "code",
   "execution_count": null,
   "id": "5910bbb7-5d21-41d7-b106-c9c0faa61962",
   "metadata": {},
   "outputs": [],
   "source": [
    "# Conjuntos de features\n",
    "featuresets = [(document_features (d, word_features), c) for (d, c) in documents]"
   ]
  },
  {
   "cell_type": "code",
   "execution_count": null,
   "id": "ccfb244f-86ad-4e04-a2b1-ccdfe590d8f9",
   "metadata": {
    "tags": []
   },
   "outputs": [],
   "source": [
    "len(featuresets)"
   ]
  },
  {
   "cell_type": "markdown",
   "id": "4a1f1aa0-b77d-4cb7-9950-922f7e8ec859",
   "metadata": {},
   "source": [
    "#### Entrenamiento del modelo"
   ]
  },
  {
   "cell_type": "code",
   "execution_count": null,
   "id": "713ab2de-c939-4233-b89a-6c2fee0bac1b",
   "metadata": {
    "tags": []
   },
   "outputs": [],
   "source": [
    "# Dividir el dataset en entrenamiento y prueba\n",
    "train_set, test_set = featuresets[:1500], featuresets[1500:]"
   ]
  },
  {
   "cell_type": "code",
   "execution_count": null,
   "id": "43c16526-4d93-401d-bc4a-65717239e9a6",
   "metadata": {},
   "outputs": [],
   "source": [
    "# Clasificador Naive Bayes\n",
    "classifier = nltk.NaiveBayesClassifier.train(train_set)"
   ]
  },
  {
   "cell_type": "code",
   "execution_count": null,
   "id": "0496452a-6069-41d5-abde-ccc126adde09",
   "metadata": {},
   "outputs": [],
   "source": [
    "# Evaluar precisión con dataset de prueba\n",
    "print(nltk.classify.accuracy(classifier, test_set))"
   ]
  },
  {
   "cell_type": "code",
   "execution_count": null,
   "id": "54ff906d-ce46-4d1f-9f7c-4167c2d62808",
   "metadata": {},
   "outputs": [],
   "source": [
    "# Palabras con más peso\n",
    "classifier.show_most_informative_features(10)"
   ]
  }
 ],
 "metadata": {
  "kernelspec": {
   "display_name": "Python 3 (ipykernel)",
   "language": "python",
   "name": "python3"
  },
  "language_info": {
   "codemirror_mode": {
    "name": "ipython",
    "version": 3
   },
   "file_extension": ".py",
   "mimetype": "text/x-python",
   "name": "python",
   "nbconvert_exporter": "python",
   "pygments_lexer": "ipython3",
   "version": "3.9.5"
  }
 },
 "nbformat": 4,
 "nbformat_minor": 5
}
