{
 "cells": [
  {
   "cell_type": "markdown",
   "metadata": {
    "slideshow": {
     "slide_type": "slide"
    }
   },
   "source": [
    "<img src=\"img/viu_logo.png\" width=\"200\">\n",
    "\n",
    "## 01MIAR - Inicio a Python\n",
    "\n",
    "![logo](img/python_logo.png)\n",
    "\n",
    "*Ivan Fuertes*"
   ]
  },
  {
   "cell_type": "code",
   "execution_count": 2,
   "metadata": {
    "slideshow": {
     "slide_type": "slide"
    }
   },
   "outputs": [
    {
     "name": "stdout",
     "output_type": "stream",
     "text": [
      "Hello world!!\n",
      "Hola\n"
     ]
    }
   ],
   "source": [
    "print(f\"Hello world!!\")"
   ]
  },
  {
   "cell_type": "markdown",
   "metadata": {
    "slideshow": {
     "slide_type": "fragment"
    }
   },
   "source": [
    "# Introducción a Python\n",
    "### Principales características\n",
    "* Lenguaje de alto nivel\n",
    "* Interpretado, no compilado. Más flexible y portable\n",
    "* Propósito general\n",
    "* Soporte de diversos paradigmas: imperativo, orientado a objetos, funcional orientada a aspectos\n",
    "* Tipado dinámico\n",
    "* Fuertemente tipado\n",
    "* Gestión automática de memoria\n",
    "* Énfasis en la legibilidad\n",
    "* Uso de identación para delimitar bloques de código\n",
    "* Gran librería con módulos para múltiples tareas\n",
    "* Multiplataforma\n"
   ]
  },
  {
   "cell_type": "markdown",
   "metadata": {
    "slideshow": {
     "slide_type": "subslide"
    }
   },
   "source": [
    "> El tipado de los datos es algo importante y a tener en cuenta cuando se está desarrollando un programa. Suele ser recurrente para logs, operaciones aritméticas, etc...\n",
    "Para IoT es interesante que pueda estar disponible en cualquier plataforma o distribución. Rapsian..."
   ]
  },
  {
   "cell_type": "markdown",
   "metadata": {
    "slideshow": {
     "slide_type": "fragment"
    }
   },
   "source": [
    "> ¿Por qué Python? A parte de estas características añadir la filosofía que hay detrás. Las capacidades en cuanto a encontrar librerías espcíficas. Destacar la legibilidad y simpleza."
   ]
  },
  {
   "cell_type": "markdown",
   "metadata": {
    "slideshow": {
     "slide_type": "fragment"
    }
   },
   "source": [
    "> No es recomendable para usos en los que el rendimiento es crítico"
   ]
  },
  {
   "cell_type": "markdown",
   "metadata": {
    "slideshow": {
     "slide_type": "slide"
    }
   },
   "source": [
    "# ¿Por qué Python?\n",
    "\n",
    "* Uno de los lenguajes más usados en todo el mundo\n",
    "* Perfecto para introducción a la programación\n",
    "* Amplio ecosistema de librerías estables y maduras\n",
    "* Comunidad muy participativa y mucha documentación\n",
    "* Incrementa productividad\n",
    "  - Menos programación, codigo más compacto\n",
    "  - No hay largas compilaciones\n",
    "  - Código legible, facilmente mantenible\n",
    "* Fácil integración con herramientas y otros lenguajes\n",
    "* Versátil en la tipología de programación\n",
    "* Es multiplataforma, portable\n",
    "* Compilable para mejorar ejecución\n",
    "* Trabajo en memoria con gran cantidad de datos\n",
    "\n",
    "\n",
    "[Stack Overflow Developer Survey Results 2021](https://insights.stackoverflow.com/survey/2021/)\n",
    "\n",
    "[IEEE, The Top Programming Languages 2021](https://spectrum.ieee.org/top-programming-languages-2021)\n",
    "\n",
    "[Tiobe Index](https://www.tiobe.com/tiobe-index/)\n",
    "\n",
    "[HackerRank Developer Skills Report](https://info.hackerrank.com/rs/487-WAY-049/images/HackerRank-2020-Developer-Skills-Report.pdf)\n",
    "\n",
    "[Hired 2021 State of Software Engineers](https://hired.com/state-of-software-engineers)"
   ]
  },
  {
   "cell_type": "markdown",
   "metadata": {
    "slideshow": {
     "slide_type": "slide"
    }
   },
   "source": [
    "# Versión de Python\n",
    "\n",
    "### ~~2.x~~\n",
    "\n",
    "### 3x > Python 3.7"
   ]
  },
  {
   "cell_type": "markdown",
   "metadata": {
    "slideshow": {
     "slide_type": "slide"
    }
   },
   "source": [
    "# Tratamiento de datos\n",
    "\n",
    "* linear algebra\n",
    "* statistical modeling\n",
    "* visualization\n",
    "* computational linguistics\n",
    "* graph analysis \n",
    "* machine learning\n",
    "* business intelligence\n",
    "* data storage and retrieval"
   ]
  },
  {
   "cell_type": "markdown",
   "metadata": {
    "slideshow": {
     "slide_type": "slide"
    }
   },
   "source": [
    "# Antes de empezar\n",
    "### Se puede utilizar diferentes formas para ejecutar código:\n",
    "* Línea de comandos o terminal, Shell de python o interactivo, python/ipython\n",
    "* IDE -> Eclipse, Pycharm, Sublime, Nano, VSCode, Atom, Spyder, ...\n",
    "* Google Colab, Azure Notebooks, Jupyter"
   ]
  },
  {
   "cell_type": "markdown",
   "metadata": {
    "slideshow": {
     "slide_type": "slide"
    }
   },
   "source": [
    "## Filosofía Python"
   ]
  },
  {
   "cell_type": "code",
   "execution_count": null,
   "metadata": {
    "slideshow": {
     "slide_type": "fragment"
    }
   },
   "outputs": [],
   "source": [
    "import this"
   ]
  },
  {
   "cell_type": "markdown",
   "metadata": {
    "slideshow": {
     "slide_type": "slide"
    }
   },
   "source": [
    "## Documentación - PEP (Python Enhacement Proposals)\n",
    "\n",
    "[Python Enhancement Proposals](https://www.python.org/dev/peps/)\n",
    "\n",
    "[Style guide for python code](https://www.python.org/dev/peps/pep-0008/)\n",
    "\n",
    "* Identation\n",
    "\n",
    "## Instalación de librerías\n",
    "\n",
    "* pip (built-in >Python3.4)\n",
    "* pipenv (gestiona paquetes y entornos virtuales)"
   ]
  },
  {
   "cell_type": "code",
   "execution_count": 4,
   "metadata": {
    "slideshow": {
     "slide_type": "slide"
    }
   },
   "outputs": [
    {
     "name": "stdout",
     "output_type": "stream",
     "text": [
      "Siempre podremos \"poner\" los comentarios en forma de salida, para ver resultados\n",
      "VIU\n"
     ]
    },
    {
     "data": {
      "text/plain": [
       "\u001b[0;31mDocstring:\u001b[0m\n",
       "print(value, ..., sep=' ', end='\\n', file=sys.stdout, flush=False)\n",
       "\n",
       "Prints the values to a stream, or to sys.stdout by default.\n",
       "Optional keyword arguments:\n",
       "file:  a file-like object (stream); defaults to the current sys.stdout.\n",
       "sep:   string inserted between values, default a space.\n",
       "end:   string appended after the last value, default a newline.\n",
       "flush: whether to forcibly flush the stream.\n",
       "\u001b[0;31mType:\u001b[0m      builtin_function_or_method\n"
      ]
     },
     "metadata": {},
     "output_type": "display_data"
    }
   ],
   "source": [
    "# Preguntar de forma interactiva\n",
    "# print?\n",
    "\n",
    "# Usar shift + tab para hint con ayuda\n",
    "\n",
    "# Comentar una linea\n",
    "\n",
    "# \"\"\" \n",
    "# Se puede comentar un texto\n",
    "# más grande para hacer descripciones detalladas con más de una línea\n",
    "# \"\"\"\n",
    "\n",
    "# print(\"Siempre podremos 'poner' los comentarios en forma de salida, para ver resultados\")\n",
    "print('Siempre podremos \"poner\" los comentarios en forma de salida, para ver resultados')\n",
    "\n",
    "universidad = 'VIU'\n",
    "\n",
    "print(universidad)\n",
    "\n",
    "print?"
   ]
  },
  {
   "cell_type": "markdown",
   "metadata": {
    "slideshow": {
     "slide_type": "slide"
    }
   },
   "source": [
    "### REPL\n",
    "Sistema interactivo para comunicarse con el ordenador en un leguaje, Python. Se debe cumplir:\n",
    "* Read. El ordenador pueda leer unidades como entrada\n",
    "* Evaluate. El código pueda ser procesado\n",
    "* Print. Los resultados puedan verse\n",
    "* Loop. Continuar con la conversación"
   ]
  },
  {
   "cell_type": "markdown",
   "metadata": {
    "slideshow": {
     "slide_type": "slide"
    }
   },
   "source": [
    "# Referencias\n",
    "\n",
    "González Duque, R. Python para todos. Licencia Creative Commons.\n",
    "\n",
    "Boschetti, A. y Massaron, L (2016). Python Data Science Essentials, Second edition. Birminghan - Munbai: Packt\n",
    "\n",
    "Python Software Foundation. 2. Built-in Functions — Python 3.6.7 documentation. Recuperado el 16 noviembre 2018 de \n",
    "https://docs.python.org/3.6/library/functions.html\n",
    "\n",
    "Tutorialspoint, Python Tutorial. Recuperado el 16 noviembre 2018 de https://www.tutorialspoint.com/python/\n",
    "\n",
    "Kenneth Reitz (2018), Code Style — The Hitchhiker's Guide to Python. Recuperado el 16 noviembre 2018 de https://docs.python-guide.org/writing/style/\n",
    "\n",
    "Frank Hofmann (2018), Introduction to the Python Coding Style. Recuperado el 16 noviembre 2018 de https://stackabuse.com/introduction-to-the-python-coding-style/\n",
    "\n",
    "Design At Large: Fernando Perez: The Architecture of Jupyter. Perez, Fernando (2017).  https://www.youtube.com/watch?v=dENc0gwzySc&t=131s YouTube.\n"
   ]
  }
 ],
 "metadata": {
  "celltoolbar": "Slideshow",
  "kernelspec": {
   "display_name": "Python 3",
   "language": "python",
   "name": "python3"
  },
  "language_info": {
   "codemirror_mode": {
    "name": "ipython",
    "version": 3
   },
   "file_extension": ".py",
   "mimetype": "text/x-python",
   "name": "python",
   "nbconvert_exporter": "python",
   "pygments_lexer": "ipython3",
   "version": "3.8.8"
  },
  "metadata": {
   "interpreter": {
    "hash": "f35a06f707b9576dd6b3ef079e74b1f578cbc33a28427aac1052a70586e6d412"
   }
  }
 },
 "nbformat": 4,
 "nbformat_minor": 4
}
