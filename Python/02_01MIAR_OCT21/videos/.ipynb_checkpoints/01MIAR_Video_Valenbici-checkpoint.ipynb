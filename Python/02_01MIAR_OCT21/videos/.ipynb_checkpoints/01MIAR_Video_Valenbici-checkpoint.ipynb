{
 "cells": [
  {
   "cell_type": "markdown",
   "id": "f37dc7b1-6e66-4d6d-811a-6280f57edc61",
   "metadata": {},
   "source": [
    "# Valenbici\n",
    "\n",
    "<img src=\"../img/valenbici.jpg\">"
   ]
  },
  {
   "cell_type": "markdown",
   "id": "7db73775-46f1-4bad-8f6a-943291e2a9e6",
   "metadata": {},
   "source": [
    "- http://www.valenbisi.es/service/carto/json\n",
    "- http://www.valenbisi.es/service/stationdetails/valence/63"
   ]
  },
  {
   "cell_type": "code",
   "execution_count": null,
   "id": "68931815-c6be-420c-bb35-720870f31233",
   "metadata": {},
   "outputs": [],
   "source": [
    "import pandas as pd"
   ]
  },
  {
   "cell_type": "code",
   "execution_count": null,
   "id": "93a7e7bd-c338-43b4-8ae3-8c8c229512b4",
   "metadata": {},
   "outputs": [],
   "source": [
    "from os import path\n",
    "bicis_path = path.join('res','estaciones_bici.csv')"
   ]
  },
  {
   "cell_type": "code",
   "execution_count": null,
   "id": "dd1ec212-02a7-44f1-9d24-c0b8cf51b889",
   "metadata": {},
   "outputs": [],
   "source": [
    "bicis = pd.read_csv(bicis_path, sep=';')"
   ]
  },
  {
   "cell_type": "code",
   "execution_count": null,
   "id": "4f6c5a5c-af98-4d45-a535-fdd979fd4f6b",
   "metadata": {},
   "outputs": [],
   "source": [
    "data = bicis[['station', 'total', 'download_date', 'available']]"
   ]
  },
  {
   "cell_type": "code",
   "execution_count": null,
   "id": "b8dc0bae-1cb7-4bb7-b10e-690031a3e090",
   "metadata": {},
   "outputs": [],
   "source": [
    "display(data.head())"
   ]
  },
  {
   "cell_type": "code",
   "execution_count": null,
   "id": "fcea6d5c-55ae-450e-a1e8-89491cdb608c",
   "metadata": {},
   "outputs": [],
   "source": [
    "display(data.info())"
   ]
  },
  {
   "cell_type": "code",
   "execution_count": null,
   "id": "ef9c36a9-4882-4750-b8ad-6004640bdca7",
   "metadata": {},
   "outputs": [],
   "source": [
    "display(data.describe(include='all'))"
   ]
  }
 ],
 "metadata": {
  "kernelspec": {
   "display_name": "Python 3",
   "language": "python",
   "name": "python3"
  },
  "language_info": {
   "codemirror_mode": {
    "name": "ipython",
    "version": 3
   },
   "file_extension": ".py",
   "mimetype": "text/x-python",
   "name": "python",
   "nbconvert_exporter": "python",
   "pygments_lexer": "ipython3",
   "version": "3.8.10"
  }
 },
 "nbformat": 4,
 "nbformat_minor": 5
}
