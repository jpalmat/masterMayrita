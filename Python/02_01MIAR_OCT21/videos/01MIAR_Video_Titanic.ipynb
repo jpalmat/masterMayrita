{
 "cells": [
  {
   "cell_type": "markdown",
   "id": "d878de26-2a9b-4d84-b5cd-68e312b7d013",
   "metadata": {
    "tags": []
   },
   "source": [
    "# Titanic Data Science Project\n",
    "- https://www.kaggle.com/c/titanic/"
   ]
  },
  {
   "cell_type": "code",
   "execution_count": null,
   "id": "58512366-dfd8-4537-84e6-4de057a670e6",
   "metadata": {},
   "outputs": [],
   "source": [
    "import numpy as np\n",
    "import pandas as pd\n",
    "import matplotlib.pyplot as plt\n",
    "import seaborn as sns"
   ]
  },
  {
   "cell_type": "code",
   "execution_count": null,
   "id": "4ea9a3b1-ea24-4b96-978f-6c8e95e1ed90",
   "metadata": {},
   "outputs": [],
   "source": [
    "from os import path\n",
    "\n",
    "train_path = path.join('res', 'titanic', 'train.csv')\n",
    "test_path = path.join('res', 'titanic', 'test.csv')"
   ]
  },
  {
   "cell_type": "code",
   "execution_count": null,
   "id": "4161914b-d8f2-42d3-b7cb-607b7ddc7e2a",
   "metadata": {},
   "outputs": [],
   "source": [
    "train_data = pd.read_csv(train_path)\n",
    "display(train_data.sample(5))"
   ]
  },
  {
   "cell_type": "code",
   "execution_count": null,
   "id": "70b8e425-3298-4370-9553-fab2e3c64794",
   "metadata": {},
   "outputs": [],
   "source": [
    "test_data = pd.read_csv(test_path)\n",
    "display(test_data.sample(5))"
   ]
  },
  {
   "cell_type": "code",
   "execution_count": null,
   "id": "a6c72ce2-f8ba-492a-851b-a22c6a3b4b59",
   "metadata": {},
   "outputs": [],
   "source": [
    "print(train_data.shape)\n",
    "print(test_data.shape)"
   ]
  },
  {
   "cell_type": "code",
   "execution_count": null,
   "id": "1d3e86ca-aab7-41f6-abfe-4c66b04beb31",
   "metadata": {},
   "outputs": [],
   "source": [
    "display(train_data.describe(include='all'))"
   ]
  },
  {
   "cell_type": "code",
   "execution_count": null,
   "id": "08e72d7a-e5e9-41de-8435-ce3145c6d477",
   "metadata": {},
   "outputs": [],
   "source": [
    "print(train_data.info())"
   ]
  },
  {
   "cell_type": "code",
   "execution_count": null,
   "id": "e51b39c6-cd40-4682-bb59-02b82b038d7a",
   "metadata": {
    "tags": []
   },
   "outputs": [],
   "source": [
    "sns.barplot(x='Embarked', y='Survived', hue='Sex', data=train_data)\n",
    "plt.show()"
   ]
  },
  {
   "cell_type": "code",
   "execution_count": null,
   "id": "9f83a8e7-8b5a-4b9c-b0c0-daaf2b30a205",
   "metadata": {},
   "outputs": [],
   "source": [
    "sns.pointplot(x='Pclass', y='Survived', hue='Sex', data=train_data)\n",
    "plt.show()"
   ]
  },
  {
   "cell_type": "code",
   "execution_count": null,
   "id": "75fe991a-74f5-4e33-b9b8-71006e522f45",
   "metadata": {},
   "outputs": [],
   "source": [
    "so = list(train_data.Age.unique())\n",
    "so.sort()\n",
    "print(so)"
   ]
  },
  {
   "cell_type": "code",
   "execution_count": null,
   "id": "c177c207-e485-4c55-b12f-17abab8a8027",
   "metadata": {},
   "outputs": [],
   "source": [
    "train_data.hist(column='Age')\n",
    "plt.show()"
   ]
  },
  {
   "cell_type": "code",
   "execution_count": null,
   "id": "dde871a6-3da6-4d10-805c-c274736cecc5",
   "metadata": {},
   "outputs": [],
   "source": [
    "def cat_age(data):\n",
    "    data['Age'] = data['Age'].fillna(-0.5)\n",
    "    bins = (-1, 0, 12, 18, 30, 60, 120)\n",
    "    cat_names = ('Unknown', 'Child', 'Teenager', 'Young Adult', 'Adult', 'Elderly')\n",
    "    categories = pd.cut(data['Age'], bins, labels = cat_names)\n",
    "    data['Age'] = categories\n",
    "    return"
   ]
  },
  {
   "cell_type": "code",
   "execution_count": null,
   "id": "101f1523-abc1-4e9e-9f5e-36011763f4db",
   "metadata": {},
   "outputs": [],
   "source": [
    "cat_age(train_data)\n",
    "cat_age(test_data)\n",
    "\n",
    "train_data['Age'].sample(10)"
   ]
  },
  {
   "cell_type": "code",
   "execution_count": null,
   "id": "cba0f549-dd09-47cb-a81e-78c27d311bab",
   "metadata": {},
   "outputs": [],
   "source": [
    "sns.countplot(x='Cabin', data=train_data)\n",
    "plt.show()"
   ]
  },
  {
   "cell_type": "code",
   "execution_count": null,
   "id": "21ae1016-f9d5-4ff7-8389-fbdd70fb0ea7",
   "metadata": {},
   "outputs": [],
   "source": [
    "train_data['Cabin'].sample(10)"
   ]
  },
  {
   "cell_type": "code",
   "execution_count": null,
   "id": "28550b88-d96d-4404-84fe-e169d0942f37",
   "metadata": {},
   "outputs": [],
   "source": [
    "def extract_cabin(data):\n",
    "    data['Cabin'] = data['Cabin'].fillna('N')\n",
    "    data['Cabin'] = data['Cabin'].apply(lambda x : x[0])"
   ]
  },
  {
   "cell_type": "code",
   "execution_count": null,
   "id": "7667493d-16ef-411f-b373-349714086f14",
   "metadata": {},
   "outputs": [],
   "source": [
    "extract_cabin(train_data)\n",
    "extract_cabin(test_data)\n",
    "\n",
    "train_data['Cabin'].sample(10)"
   ]
  },
  {
   "cell_type": "code",
   "execution_count": null,
   "id": "3fe4c7c7-c43a-4287-ba73-a4f7c3d16be2",
   "metadata": {},
   "outputs": [],
   "source": [
    "train_data['Fare'].sample(10)"
   ]
  },
  {
   "cell_type": "code",
   "execution_count": null,
   "id": "eb3a8de1-1f69-43cf-8d45-b7806fa43881",
   "metadata": {},
   "outputs": [],
   "source": [
    "def cat_fare(data):\n",
    "    data['Fare'] = data['Fare'].fillna(0.0)\n",
    "    cat_names = ['1st', '2nd', '3rd', '4th', '5th']\n",
    "    data['Fare'] = pd.qcut(data['Fare'], 5, labels = cat_names)"
   ]
  },
  {
   "cell_type": "code",
   "execution_count": null,
   "id": "c165c779-fb37-4667-903f-bbbd4eb88707",
   "metadata": {},
   "outputs": [],
   "source": [
    "cat_fare(train_data)\n",
    "cat_fare(test_data)\n",
    "\n",
    "train_data['Fare'].sample(10)"
   ]
  },
  {
   "cell_type": "code",
   "execution_count": null,
   "id": "353482c9-382a-430f-9ec8-6f73ed107b5c",
   "metadata": {},
   "outputs": [],
   "source": [
    "train_data['Name'].sample(10)"
   ]
  },
  {
   "cell_type": "code",
   "execution_count": null,
   "id": "589d500f-9f49-4aa5-a7e7-a87cc3219472",
   "metadata": {},
   "outputs": [],
   "source": [
    "def extract_title(data):\n",
    "    data['Title'] = data['Name'].apply(lambda x : x.split(' ')[1])"
   ]
  },
  {
   "cell_type": "code",
   "execution_count": null,
   "id": "3c159673-924f-41af-8b73-59cd2b53200f",
   "metadata": {},
   "outputs": [],
   "source": [
    "extract_title(train_data)\n",
    "extract_title(test_data)\n",
    "\n",
    "train_data['Title'].sample(10)"
   ]
  },
  {
   "cell_type": "code",
   "execution_count": null,
   "id": "44ad3c18-1ed2-490c-8137-b5c10d13b8ca",
   "metadata": {},
   "outputs": [],
   "source": [
    "train_data.sample(5)"
   ]
  },
  {
   "cell_type": "code",
   "execution_count": null,
   "id": "fdd7b84b-8de2-493e-9cd0-66479144b677",
   "metadata": {},
   "outputs": [],
   "source": [
    "def drop_columns(data, columns):\n",
    "    data.drop(columns, axis = 1, inplace=True)"
   ]
  },
  {
   "cell_type": "code",
   "execution_count": null,
   "id": "07f03b6b-7c77-4c2d-a10c-6a88fefc979a",
   "metadata": {},
   "outputs": [],
   "source": [
    "columns_to_drop = ['Name', 'Ticket', 'Embarked']\n",
    "\n",
    "drop_columns(train_data, columns_to_drop)\n",
    "drop_columns(test_data,columns_to_drop)\n",
    "\n",
    "train_data.sample(5)"
   ]
  },
  {
   "cell_type": "code",
   "execution_count": null,
   "id": "ff163142-e215-4ace-91ac-9c6e1ed879f9",
   "metadata": {},
   "outputs": [],
   "source": [
    "sns.barplot(x='Age',y='Survived',hue='Sex',data=train_data)"
   ]
  },
  {
   "cell_type": "code",
   "execution_count": null,
   "id": "6d58f73c-3f1c-44bd-80e2-dea9dfe00c32",
   "metadata": {},
   "outputs": [],
   "source": [
    "sns.barplot(x='Fare',y='Survived',hue='Sex',data=train_data)"
   ]
  },
  {
   "cell_type": "code",
   "execution_count": null,
   "id": "1c0ef29f-f351-42b2-86d0-dffa73445581",
   "metadata": {},
   "outputs": [],
   "source": [
    "train_data.head(5)"
   ]
  },
  {
   "cell_type": "code",
   "execution_count": null,
   "id": "00e0253a-68c4-4a48-b2d6-dcd9fd89a652",
   "metadata": {},
   "outputs": [],
   "source": [
    "from sklearn import preprocessing"
   ]
  },
  {
   "cell_type": "code",
   "execution_count": null,
   "id": "c1b71b55-3794-4eed-b196-e567b92cc845",
   "metadata": {},
   "outputs": [],
   "source": [
    "def encode_features(df_train, df_test, features):\n",
    "    df_combined = pd.concat([df_train[features], df_test[features]])\n",
    "    \n",
    "    for feature in features:\n",
    "        le = preprocessing.LabelEncoder()\n",
    "        le = le.fit(df_combined[feature])\n",
    "        df_train[feature] = le.transform(df_train[feature])\n",
    "        df_test[feature] = le.transform(df_test[feature])"
   ]
  },
  {
   "cell_type": "code",
   "execution_count": null,
   "id": "92558f2c-edd4-4b68-9caf-4ef14ace8651",
   "metadata": {},
   "outputs": [],
   "source": [
    "features = ['Sex', 'Age', 'Fare', 'Cabin', 'Title']\n",
    "encode_features(train_data, test_data, features)\n",
    "train_data.head(5)"
   ]
  },
  {
   "cell_type": "code",
   "execution_count": null,
   "id": "b9171acc-e204-48b6-9eb8-ac34ea2319e8",
   "metadata": {},
   "outputs": [],
   "source": [
    "from sklearn.model_selection import train_test_split"
   ]
  },
  {
   "cell_type": "code",
   "execution_count": null,
   "id": "a9845df7-860c-458f-9291-08b3400e29cc",
   "metadata": {},
   "outputs": [],
   "source": [
    "X = train_data.drop('Survived', axis=1)\n",
    "Y = train_data['Survived']\n",
    "\n",
    "validation_size = 0.15\n",
    "seed = np.random.randint(1000)\n",
    "X_train, X_validation, Y_train, Y_validation = train_test_split(X, Y, test_size=validation_size, random_state=seed)"
   ]
  },
  {
   "cell_type": "code",
   "execution_count": null,
   "id": "c2ff800a-2699-41db-8457-c44ba8e90645",
   "metadata": {},
   "outputs": [],
   "source": [
    "from sklearn.tree import DecisionTreeClassifier"
   ]
  },
  {
   "cell_type": "code",
   "execution_count": null,
   "id": "6ff6a96e-1f66-48ca-94c8-3d42f813b2af",
   "metadata": {},
   "outputs": [],
   "source": [
    "model = DecisionTreeClassifier()\n",
    "model.fit(X_train, Y_train)"
   ]
  },
  {
   "cell_type": "code",
   "execution_count": null,
   "id": "18f5fa50-46f9-4147-84e4-4f67b23ae5e2",
   "metadata": {},
   "outputs": [],
   "source": [
    "from sklearn.metrics import accuracy_score\n",
    "\n",
    "prediction = model.predict(X_validation)\n",
    "\n",
    "print(prediction)\n",
    "print(accuracy_score(prediction, Y_validation))"
   ]
  },
  {
   "cell_type": "code",
   "execution_count": null,
   "id": "4412a8ef-e9c0-4a52-924b-7f3a15d9ff6c",
   "metadata": {},
   "outputs": [],
   "source": [
    "from sklearn.metrics import confusion_matrix\n",
    "\n",
    "print(confusion_matrix(Y_validation, prediction))"
   ]
  },
  {
   "cell_type": "code",
   "execution_count": null,
   "id": "132b8cbf-0655-464a-b424-c0fd93ff5b71",
   "metadata": {},
   "outputs": [],
   "source": [
    "from sklearn.metrics import classification_report\n",
    "\n",
    "print(classification_report(Y_validation, prediction))"
   ]
  },
  {
   "cell_type": "code",
   "execution_count": null,
   "id": "1a6ab13d-d033-42a1-849d-c00b681be7f0",
   "metadata": {},
   "outputs": [],
   "source": [
    "train_data.head(5)"
   ]
  },
  {
   "cell_type": "code",
   "execution_count": null,
   "id": "486c051e-b2e3-439b-889c-2585fdf006d2",
   "metadata": {},
   "outputs": [],
   "source": [
    "X = train_data.drop(['Survived', 'PassengerId'], axis=1) \n",
    "Y = train_data['Survived']\n",
    "\n",
    "validation_size = 0.15\n",
    "seed = np.random.randint(1000)\n",
    "X_train, X_validation, Y_train, Y_validation = train_test_split(X, Y, test_size=validation_size, random_state=seed)\n",
    "\n",
    "model = DecisionTreeClassifier()\n",
    "model.fit(X_train, Y_train)\n",
    "\n",
    "prediction = model.predict(X_validation)\n",
    "\n",
    "print(prediction)\n",
    "print(accuracy_score(prediction, Y_validation))"
   ]
  },
  {
   "cell_type": "code",
   "execution_count": null,
   "id": "ceea6057-934d-46d0-928f-ac2236861a4f",
   "metadata": {},
   "outputs": [],
   "source": [
    "n_iters = 10\n",
    "results = []\n",
    "for i in range(n_iters):\n",
    "    seed = np.random.randint(1000)\n",
    "    X_train, X_validation, Y_train, Y_validation = train_test_split(X, Y, test_size=validation_size, random_state=seed)\n",
    "    \n",
    "    model = DecisionTreeClassifier()\n",
    "    model.fit(X_train, Y_train)\n",
    "\n",
    "    prediction = model.predict(X_validation)\n",
    "    results.append(accuracy_score(prediction, Y_validation))\n",
    "    \n",
    "print(results)\n",
    "print(sum(results) / len(results))"
   ]
  }
 ],
 "metadata": {
  "kernelspec": {
   "display_name": "Python 3",
   "language": "python",
   "name": "python3"
  },
  "language_info": {
   "codemirror_mode": {
    "name": "ipython",
    "version": 3
   },
   "file_extension": ".py",
   "mimetype": "text/x-python",
   "name": "python",
   "nbconvert_exporter": "python",
   "pygments_lexer": "ipython3",
   "version": "3.8.10"
  }
 },
 "nbformat": 4,
 "nbformat_minor": 5
}
