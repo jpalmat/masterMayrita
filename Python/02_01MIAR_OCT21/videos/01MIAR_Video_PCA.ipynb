{
 "cells": [
  {
   "cell_type": "markdown",
   "id": "6707f98d-cfdf-4a23-96be-8bf0f43d53f9",
   "metadata": {
    "tags": []
   },
   "source": [
    "# Iris PCA\n",
    "\n",
    "<img src=\"../img/iris_sizes.png\">\n",
    "\n",
    "https://github.com/mwaskom/seaborn-data/blob/master/iris.csv"
   ]
  },
  {
   "cell_type": "code",
   "execution_count": null,
   "id": "5965caf9-cd71-40cd-9b2a-dd42365aa0fb",
   "metadata": {
    "tags": []
   },
   "outputs": [],
   "source": [
    "import seaborn as sns"
   ]
  },
  {
   "cell_type": "code",
   "execution_count": null,
   "id": "82b80f1d-87c9-4a2c-bc30-9b59ae4b1bda",
   "metadata": {
    "tags": []
   },
   "outputs": [],
   "source": [
    "df_iris = sns.load_dataset('iris')\n",
    "df_iris.sample(5)"
   ]
  },
  {
   "cell_type": "code",
   "execution_count": null,
   "id": "8863a432-9a3d-4d96-b5ee-aeab60c84527",
   "metadata": {},
   "outputs": [],
   "source": [
    "sns.pairplot(data = df_iris, hue='species')"
   ]
  },
  {
   "cell_type": "code",
   "execution_count": null,
   "id": "62cb3c4d-e301-4555-b239-7aeebc3c4289",
   "metadata": {},
   "outputs": [],
   "source": [
    "display(df_iris.corr())"
   ]
  },
  {
   "cell_type": "code",
   "execution_count": null,
   "id": "6fe936cf-82e3-4580-9d28-351cd931f886",
   "metadata": {},
   "outputs": [],
   "source": [
    "sns.heatmap(df_iris.corr(), square=True, annot=True)"
   ]
  },
  {
   "cell_type": "code",
   "execution_count": null,
   "id": "90f9bf16-1d91-43c0-b107-95c2f4309ba1",
   "metadata": {},
   "outputs": [],
   "source": [
    "df_pca = df_iris.drop('species', axis=1)\n",
    "display(df_pca)"
   ]
  },
  {
   "cell_type": "code",
   "execution_count": null,
   "id": "836de698-f684-4a2d-b6a1-fe6481a38e27",
   "metadata": {},
   "outputs": [],
   "source": [
    "from sklearn.preprocessing import StandardScaler"
   ]
  },
  {
   "cell_type": "code",
   "execution_count": null,
   "id": "d5c645ae-5917-4ed7-9476-ca0fc3627aa7",
   "metadata": {
    "tags": []
   },
   "outputs": [],
   "source": [
    "x_scaled = StandardScaler()\n",
    "x_scaled.fit(df_pca)\n",
    "scaled = x_scaled.transform(df_pca)\n",
    "print(scaled.shape)\n",
    "print(scaled)"
   ]
  },
  {
   "cell_type": "code",
   "execution_count": null,
   "id": "2a467be2-3779-4cb1-97a9-ab958a60162d",
   "metadata": {},
   "outputs": [],
   "source": [
    "from sklearn.decomposition import PCA"
   ]
  },
  {
   "cell_type": "code",
   "execution_count": null,
   "id": "132acd3e-d7b0-4e1d-950b-2fb66f706239",
   "metadata": {},
   "outputs": [],
   "source": [
    "n_components = 3\n",
    "pca = PCA(n_components = n_components)\n",
    "pca.fit(scaled)"
   ]
  },
  {
   "cell_type": "code",
   "execution_count": null,
   "id": "69ea9c0f-cdfb-4067-a8b6-d382be975af1",
   "metadata": {},
   "outputs": [],
   "source": [
    "x_pca = pca.transform(scaled)\n",
    "x_pca.shape"
   ]
  },
  {
   "cell_type": "code",
   "execution_count": null,
   "id": "de111e10-b395-4385-8ab3-0be47db4e869",
   "metadata": {},
   "outputs": [],
   "source": [
    "import matplotlib.pyplot as plt\n",
    "import numpy as np"
   ]
  },
  {
   "cell_type": "code",
   "execution_count": null,
   "id": "f56dbf64-7a01-4a0b-9cb5-7120743c7eb1",
   "metadata": {},
   "outputs": [],
   "source": [
    "plt.plot(np.cumsum(pca.explained_variance_ratio_))\n",
    "plt.show()"
   ]
  },
  {
   "cell_type": "code",
   "execution_count": null,
   "id": "5f909e8b-21a6-4a7c-8a26-5cc96865ad9d",
   "metadata": {},
   "outputs": [],
   "source": [
    "columns = [i for i in pca.explained_variance_ratio_]\n",
    "columns"
   ]
  },
  {
   "cell_type": "code",
   "execution_count": null,
   "id": "9d1c4a9e-69e9-4e36-9fa6-7744d6bdfb4f",
   "metadata": {},
   "outputs": [],
   "source": [
    "columns = [f\"PC{i+1}\" for i,v in enumerate(pca.explained_variance_ratio_)]\n",
    "columns"
   ]
  },
  {
   "cell_type": "code",
   "execution_count": null,
   "id": "9a2b026c-37d6-4317-98be-a05bad0e9680",
   "metadata": {},
   "outputs": [],
   "source": [
    "import pandas as pd"
   ]
  },
  {
   "cell_type": "code",
   "execution_count": null,
   "id": "0e0a3023-fef6-4c0c-94b2-e1d5e3df5421",
   "metadata": {},
   "outputs": [],
   "source": [
    "df = pd.DataFrame(x_pca, columns=columns)\n",
    "display(df)\n",
    "df.shape"
   ]
  },
  {
   "cell_type": "code",
   "execution_count": null,
   "id": "ce7cbffa-e7ed-4e97-b310-50b66018aa4d",
   "metadata": {},
   "outputs": [],
   "source": [
    "plt.scatter(df.PC1, df.PC2)\n",
    "plt.show()"
   ]
  },
  {
   "cell_type": "code",
   "execution_count": null,
   "id": "08462bc4-5fbd-4472-b24f-c9c667642bc9",
   "metadata": {
    "tags": []
   },
   "outputs": [],
   "source": [
    "sns.scatterplot(data=df, x='PC1', y='PC2', hue='species')"
   ]
  },
  {
   "cell_type": "code",
   "execution_count": null,
   "id": "66514c90-cb19-443c-ab81-9d31bd8d199f",
   "metadata": {
    "tags": []
   },
   "outputs": [],
   "source": [
    "df.head()"
   ]
  },
  {
   "cell_type": "code",
   "execution_count": null,
   "id": "75e5c368-5c79-4ea9-9203-051d802ef9ac",
   "metadata": {},
   "outputs": [],
   "source": [
    "df_joined = df.join(df_iris['species'], how='inner')\n",
    "display(df_joined.sample(5))"
   ]
  },
  {
   "cell_type": "code",
   "execution_count": null,
   "id": "c8e95328-a185-4bfe-91aa-898870373cda",
   "metadata": {},
   "outputs": [],
   "source": [
    "sns.scatterplot(data=df_joined, x='PC1', y='PC2', hue='species')"
   ]
  }
 ],
 "metadata": {
  "kernelspec": {
   "display_name": "Python 3",
   "language": "python",
   "name": "python3"
  },
  "language_info": {
   "codemirror_mode": {
    "name": "ipython",
    "version": 3
   },
   "file_extension": ".py",
   "mimetype": "text/x-python",
   "name": "python",
   "nbconvert_exporter": "python",
   "pygments_lexer": "ipython3",
   "version": "3.8.10"
  }
 },
 "nbformat": 4,
 "nbformat_minor": 5
}
