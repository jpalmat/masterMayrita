{
 "cells": [
  {
   "cell_type": "markdown",
   "metadata": {},
   "source": [
    "### Librerías instaladas\n",
    "\n",
    "```Python\n",
    "pip install gym\n",
    "\n",
    "pip install h5py\n",
    "\n",
    "pip install Pillow\n",
    "\n",
    "pip install gym[atari]\n",
    "\n",
    "pip install keras-rl==0.4.2\n",
    "\n",
    "pip install tensorflow==1.13.1\n",
    "\n",
    "pip install Keras==2.2.4\n",
    "\n",
    "pip install jupyter\n",
    "\n",
    "pip install torch\n",
    "```"
   ]
  },
  {
   "cell_type": "code",
   "execution_count": null,
   "metadata": {},
   "outputs": [],
   "source": [
    "!pip freeze | grep torch"
   ]
  },
  {
   "cell_type": "markdown",
   "metadata": {},
   "source": [
    "### Policy Gradient Pseudo-código"
   ]
  },
  {
   "cell_type": "markdown",
   "metadata": {},
   "source": [
    "<img src=\"images/pg.png\" />"
   ]
  },
  {
   "cell_type": "markdown",
   "metadata": {},
   "source": [
    "### Ejemplo de Policy Gradient with Pytorch\n",
    "\n",
    "Adaptado de: https://github.com/Finspire13/pytorch-policy-gradient-example/blob/master/pg.py"
   ]
  },
  {
   "cell_type": "code",
   "execution_count": null,
   "metadata": {},
   "outputs": [],
   "source": [
    "import numpy as np\n",
    "import gym\n",
    "\n",
    "import torch\n",
    "import torch.nn as nn\n",
    "import torch.nn.functional as F\n",
    "\n",
    "from torch.distributions import Bernoulli\n",
    "from torch.autograd import Variable\n",
    "from itertools import count"
   ]
  },
  {
   "cell_type": "code",
   "execution_count": null,
   "metadata": {},
   "outputs": [],
   "source": [
    "# Define the model for our agent policy\n",
    "class PolicyNet(nn.Module):\n",
    "    def __init__(self):\n",
    "        super(PolicyNet, self).__init__()\n",
    "        self.fc1 = nn.Linear(4, 24)\n",
    "        self.fc2 = nn.Linear(24, 36)\n",
    "        self.fc3 = nn.Linear(36, 1)\n",
    "\n",
    "    def forward(self, x):\n",
    "        x = F.relu(self.fc1(x))\n",
    "        x = F.relu(self.fc2(x))\n",
    "        x = F.sigmoid(self.fc3(x))\n",
    "\n",
    "        return x"
   ]
  },
  {
   "cell_type": "code",
   "execution_count": null,
   "metadata": {},
   "outputs": [],
   "source": [
    "# Plot duration curve\n",
    "episode_durations = []\n",
    "\n",
    "# Parameters\n",
    "num_episode = 5000\n",
    "batch_size = 5\n",
    "learning_rate = 0.01\n",
    "gamma = 0.99\n",
    "\n",
    "env = gym.make('CartPole-v0')\n",
    "policy_net = PolicyNet()\n",
    "optimizer = torch.optim.RMSprop(policy_net.parameters(), lr=learning_rate)\n",
    "\n",
    "# Batch History\n",
    "state_pool = []\n",
    "action_pool = []\n",
    "reward_pool = []\n",
    "steps = 0"
   ]
  },
  {
   "cell_type": "code",
   "execution_count": null,
   "metadata": {},
   "outputs": [],
   "source": [
    "for e in range(num_episode):\n",
    "    state = env.reset()\n",
    "    state = torch.from_numpy(state).float()\n",
    "    state = Variable(state)\n",
    "    env.render(mode='rgb_array')\n",
    "\n",
    "    for t in count():\n",
    "        # Select the action following a probability distribution\n",
    "        probs = policy_net(state)\n",
    "        m = Bernoulli(probs)\n",
    "        action = m.sample()\n",
    "\n",
    "        action = action.data.numpy().astype(int)[0]\n",
    "        \n",
    "        next_state, reward, done, _ = env.step(action)\n",
    "        env.render(mode='rgb_array')\n",
    "\n",
    "        # To mark boundaries between episodes\n",
    "        if done:\n",
    "            reward = 0\n",
    "\n",
    "        state_pool.append(state)\n",
    "        action_pool.append(float(action))\n",
    "        reward_pool.append(reward)\n",
    "\n",
    "        state = next_state\n",
    "        state = torch.from_numpy(state).float()\n",
    "        state = Variable(state)\n",
    "\n",
    "        steps += 1\n",
    "\n",
    "        if done:\n",
    "            episode_durations.append(t + 1)\n",
    "            break\n",
    "\n",
    "    # Update policy\n",
    "    if e > 0 and e % batch_size == 0:\n",
    "\n",
    "        # Discount reward\n",
    "        running_add = 0\n",
    "        for i in reversed(range(steps)):\n",
    "            running_add = running_add * gamma + reward_pool[i]\n",
    "            reward_pool[i] = running_add\n",
    "\n",
    "        # Normalize reward\n",
    "        reward_mean = np.mean(reward_pool)\n",
    "        reward_std = np.std(reward_pool)\n",
    "        for i in range(steps):\n",
    "            reward_pool[i] = (reward_pool[i] - reward_mean) / reward_std\n",
    "\n",
    "        # Gradient Descent\n",
    "        optimizer.zero_grad()\n",
    "\n",
    "        for i in range(steps):\n",
    "            state = state_pool[i]\n",
    "            action = Variable(torch.FloatTensor([action_pool[i]]))\n",
    "            reward = reward_pool[i]\n",
    "\n",
    "            probs = policy_net(state)\n",
    "            m = Bernoulli(probs)\n",
    "            loss = -m.log_prob(action) * reward  # Negative score function x reward\n",
    "            loss.backward()\n",
    "\n",
    "        optimizer.step()\n",
    "\n",
    "        state_pool = []\n",
    "        action_pool = []\n",
    "        reward_pool = []\n",
    "        steps = 0"
   ]
  },
  {
   "cell_type": "code",
   "execution_count": null,
   "metadata": {},
   "outputs": [],
   "source": []
  }
 ],
 "metadata": {
  "kernelspec": {
   "display_name": "Python 3",
   "language": "python",
   "name": "python3"
  },
  "language_info": {
   "codemirror_mode": {
    "name": "ipython",
    "version": 3
   },
   "file_extension": ".py",
   "mimetype": "text/x-python",
   "name": "python",
   "nbconvert_exporter": "python",
   "pygments_lexer": "ipython3",
   "version": "3.8.8"
  }
 },
 "nbformat": 4,
 "nbformat_minor": 2
}
