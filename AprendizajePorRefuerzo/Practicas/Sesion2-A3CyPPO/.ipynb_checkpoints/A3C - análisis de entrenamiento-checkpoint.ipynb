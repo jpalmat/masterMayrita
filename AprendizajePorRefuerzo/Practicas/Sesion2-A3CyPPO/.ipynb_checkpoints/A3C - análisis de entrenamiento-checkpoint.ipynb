{
 "cells": [
  {
   "cell_type": "markdown",
   "id": "graphic-volleyball",
   "metadata": {},
   "source": [
    "### BONUS: Otros ejemplos"
   ]
  },
  {
   "cell_type": "markdown",
   "id": "scientific-extra",
   "metadata": {},
   "source": [
    "El código de A3C está adaptado de: https://github.com/ikostrikov/pytorch-a3c\n",
    "\n",
    "Ejemplo PPO en Keras: https://keras.io/examples/rl/ppo_cartpole/\n",
    "\n",
    "Ejemplo DDPG en Keras: https://keras.io/examples/rl/ddpg_pendulum/"
   ]
  },
  {
   "cell_type": "markdown",
   "id": "extensive-intervention",
   "metadata": {},
   "source": [
    "### Importar librerías necesarias"
   ]
  },
  {
   "cell_type": "code",
   "execution_count": 1,
   "id": "strong-partner",
   "metadata": {},
   "outputs": [],
   "source": [
    "import ast\n",
    "\n",
    "import matplotlib.pyplot as plt\n",
    "import pandas as pd"
   ]
  },
  {
   "cell_type": "markdown",
   "id": "derived-default",
   "metadata": {},
   "source": [
    "### Cargar el archivo de log generado"
   ]
  },
  {
   "cell_type": "code",
   "execution_count": 6,
   "id": "emerging-diana",
   "metadata": {},
   "outputs": [],
   "source": [
    "lines = list(open(\"a3c_log.txt\", 'r'))"
   ]
  },
  {
   "cell_type": "code",
   "execution_count": 7,
   "id": "flush-synthesis",
   "metadata": {},
   "outputs": [
    {
     "ename": "SyntaxError",
     "evalue": "invalid syntax (<unknown>, line 1)",
     "output_type": "error",
     "traceback": [
      "Traceback \u001b[0;36m(most recent call last)\u001b[0m:\n",
      "  File \u001b[1;32m\"/Users/gabrielmunoz/.venvs/university/lib/python3.7/site-packages/IPython/core/interactiveshell.py\"\u001b[0m, line \u001b[1;32m3437\u001b[0m, in \u001b[1;35mrun_code\u001b[0m\n    exec(code_obj, self.user_global_ns, self.user_ns)\n",
      "  File \u001b[1;32m\"<ipython-input-7-f0530dd3da30>\"\u001b[0m, line \u001b[1;32m4\u001b[0m, in \u001b[1;35m<module>\u001b[0m\n    data.append(ast.literal_eval(line))\n",
      "  File \u001b[1;32m\"/Library/Frameworks/Python.framework/Versions/3.7/lib/python3.7/ast.py\"\u001b[0m, line \u001b[1;32m46\u001b[0m, in \u001b[1;35mliteral_eval\u001b[0m\n    node_or_string = parse(node_or_string, mode='eval')\n",
      "\u001b[0;36m  File \u001b[0;32m\"/Library/Frameworks/Python.framework/Versions/3.7/lib/python3.7/ast.py\"\u001b[0;36m, line \u001b[0;32m35\u001b[0;36m, in \u001b[0;35mparse\u001b[0;36m\u001b[0m\n\u001b[0;31m    return compile(source, filename, mode, PyCF_ONLY_AST)\u001b[0m\n",
      "\u001b[0;36m  File \u001b[0;32m\"<unknown>\"\u001b[0;36m, line \u001b[0;32m1\u001b[0m\n\u001b[0;31m    },\u001b[0m\n\u001b[0m    ^\u001b[0m\n\u001b[0;31mSyntaxError\u001b[0m\u001b[0;31m:\u001b[0m invalid syntax\n"
     ]
    }
   ],
   "source": [
    "data = []\n",
    "\n",
    "for line in lines:\n",
    "    data.append(ast.literal_eval(line))"
   ]
  },
  {
   "cell_type": "code",
   "execution_count": null,
   "id": "driving-museum",
   "metadata": {},
   "outputs": [],
   "source": [
    "df = pd.DataFrame(data)"
   ]
  },
  {
   "cell_type": "code",
   "execution_count": null,
   "id": "stylish-property",
   "metadata": {},
   "outputs": [],
   "source": [
    "df.head()"
   ]
  },
  {
   "cell_type": "markdown",
   "id": "amber-learning",
   "metadata": {},
   "source": [
    "### Mostrar las tendencias de algunas variables"
   ]
  },
  {
   "cell_type": "code",
   "execution_count": null,
   "id": "concrete-modern",
   "metadata": {},
   "outputs": [],
   "source": [
    "plt.figure(figsize=(30, 15))\n",
    "df[\"episode_steps\"].astype(int).plot()"
   ]
  },
  {
   "cell_type": "code",
   "execution_count": null,
   "id": "documented-large",
   "metadata": {},
   "outputs": [],
   "source": [
    "plt.figure(figsize=(30, 15))\n",
    "df[\"value_avg\"].astype(float).plot()"
   ]
  },
  {
   "cell_type": "code",
   "execution_count": null,
   "id": "material-marker",
   "metadata": {},
   "outputs": [],
   "source": [
    "plt.figure(figsize=(30, 15))\n",
    "df[\"episode_reward\"].astype(float).plot()"
   ]
  }
 ],
 "metadata": {
  "kernelspec": {
   "display_name": "Python 3",
   "language": "python",
   "name": "python3"
  },
  "language_info": {
   "codemirror_mode": {
    "name": "ipython",
    "version": 3
   },
   "file_extension": ".py",
   "mimetype": "text/x-python",
   "name": "python",
   "nbconvert_exporter": "python",
   "pygments_lexer": "ipython3",
   "version": "3.8.8"
  }
 },
 "nbformat": 4,
 "nbformat_minor": 5
}
