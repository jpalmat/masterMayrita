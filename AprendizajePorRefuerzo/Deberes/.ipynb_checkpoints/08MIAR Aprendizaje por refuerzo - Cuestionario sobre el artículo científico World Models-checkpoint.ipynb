{
 "cells": [
  {
   "cell_type": "markdown",
   "id": "hindu-hunger",
   "metadata": {},
   "source": [
    "### Cuestionario sobre el artículo científico *World Models*"
   ]
  },
  {
   "cell_type": "markdown",
   "id": "ahead-release",
   "metadata": {},
   "source": [
    "Esta actividad consiste en responder las siguientes preguntas relacionadas con el artículo científico *World Models*. Este artículo se engloba dentro del conjunto de soluciones *Model-Based*, ofreciendo un enfoque muy original a la hora de explotar el conocimiento de un modelo del entorno.\n",
    "\n",
    "Enlaces de interés para la actividad:\n",
    "\n",
    "World Models: https://worldmodels.github.io/\n",
    "\n",
    "World Models (paper): https://arxiv.org/abs/1803.10122"
   ]
  },
  {
   "cell_type": "markdown",
   "id": "about-traveler",
   "metadata": {},
   "source": [
    "### Preguntas"
   ]
  },
  {
   "cell_type": "markdown",
   "id": "protecting-developer",
   "metadata": {},
   "source": [
    "1) En el artículo se menciona el problema conocido como *credit assignment problem*. En qué consiste?"
   ]
  },
  {
   "cell_type": "markdown",
   "id": "intellectual-builder",
   "metadata": {},
   "source": [
    "Consiste en analizar los pasos que causaron la recompensa resultante (positiva o negativa) para saber que pasos deben recibir crédito o culpa por el resultado final obtenido."
   ]
  },
  {
   "cell_type": "markdown",
   "id": "corrected-onion",
   "metadata": {},
   "source": [
    "2) En este artículo se utiliza en varias ocasiones el término *transfer* para referirse al uso que se hace de la *policy* en el entorno real. Desde tu punto de vista, cómo de cercana está esta idea al concepto de *transfer learning*?"
   ]
  },
  {
   "cell_type": "markdown",
   "id": "adapted-island",
   "metadata": {},
   "source": [
    "La idea está muy cercana al concepto de transfer learning ya que este útimo permite explotar redes neuronales pre-entrenadas siendo algoritmos de alto rendimiento que han sido desarrollados y entrenados sobre grandes bases de datos y que se pueden utilizar, mientras que en AR los agentes que se entrenan gradualmente para simular la realidad pueden  transferir el conocimiento a un entorno real."
   ]
  },
  {
   "cell_type": "markdown",
   "id": "southwest-prayer",
   "metadata": {},
   "source": [
    "3) De cuántos modelos consta la solución? Cita las características principales en cada caso."
   ]
  },
  {
   "cell_type": "markdown",
   "id": "boring-egypt",
   "metadata": {},
   "source": [
    "La solución consta de tres modelos:\n",
    "\n",
    "Modelo VAE (V): El papel del modelo V es aprender una representación comprimida y abstracta de cada cuadro de entrada observado. Se usa un Autocodificador Variacional (VAE) como el modelo V en los experimentos. La representación comprimida se puede utilizar para reconstruir la imagen original.\n",
    "\n",
    "Modelo MDN-RNN (M): El papel del modelo M es predecir el futuro. El modelo M sirve como modelo predictivo del futuro de X vectores que se espera que V produzca. Debido a que muchos entornos complejos son de naturaleza estocástica, se entrena la RNN para generar una función de densidad de probabilidad en lugar de una predicción determinista.\n",
    "\n",
    "Controlador (C): El modelo de controlador (C) es responsable de determinar el curso de las acciones a tomar para maximizar la recompensa acumulada esperada del agente durante la implementación del entorno."
   ]
  },
  {
   "cell_type": "markdown",
   "id": "working-liverpool",
   "metadata": {},
   "source": [
    "4) En el entorno de *car racing*, qué otra arquitectura de *Deep Learning* podría ser una opción para el modelo M?"
   ]
  },
  {
   "cell_type": "markdown",
   "id": "tested-shell",
   "metadata": {},
   "source": [
    "Se podría aplicar la arquitectura GAN en el entorno de car racing ya que consta de dos redes neuronales profundas, una generativa y otra discriminativa, que compiten mutuamente y podría así aplicarse al momento de disparar las bolas de fuego o en que momento realizarlo."
   ]
  }
 ],
 "metadata": {
  "kernelspec": {
   "display_name": "Python 3",
   "language": "python",
   "name": "python3"
  },
  "language_info": {
   "codemirror_mode": {
    "name": "ipython",
    "version": 3
   },
   "file_extension": ".py",
   "mimetype": "text/x-python",
   "name": "python",
   "nbconvert_exporter": "python",
   "pygments_lexer": "ipython3",
   "version": "3.8.8"
  }
 },
 "nbformat": 4,
 "nbformat_minor": 5
}
