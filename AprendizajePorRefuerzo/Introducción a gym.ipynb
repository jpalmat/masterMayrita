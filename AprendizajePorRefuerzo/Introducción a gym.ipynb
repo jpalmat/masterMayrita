{
 "cells": [
  {
   "cell_type": "markdown",
   "id": "signal-criterion",
   "metadata": {},
   "source": [
    "### Librerías instaladas\n",
    "\n",
    "```Python\n",
    "pip install gym\n",
    "\n",
    "pip install h5py\n",
    "\n",
    "pip install Pillow\n",
    "\n",
    "pip install gym[atari]\n",
    "\n",
    "pip install keras-rl==0.4.2\n",
    "\n",
    "pip install tensorflow==1.13.1\n",
    "\n",
    "pip install Keras==2.2.4\n",
    "\n",
    "pip install jupyter\n",
    "\n",
    "pip install torch\n",
    "```"
   ]
  },
  {
   "cell_type": "code",
   "execution_count": null,
   "id": "adolescent-detective",
   "metadata": {},
   "outputs": [],
   "source": [
    "!pip freeze | grep Keras"
   ]
  },
  {
   "cell_type": "code",
   "execution_count": null,
   "id": "simplified-berkeley",
   "metadata": {},
   "outputs": [],
   "source": [
    "!pip freeze | grep keras-rl"
   ]
  },
  {
   "cell_type": "code",
   "execution_count": null,
   "id": "defined-frame",
   "metadata": {},
   "outputs": [],
   "source": [
    "!pip freeze | grep tensorflow"
   ]
  },
  {
   "cell_type": "code",
   "execution_count": null,
   "id": "seventh-beach",
   "metadata": {},
   "outputs": [],
   "source": [
    "!pip freeze | grep torch"
   ]
  },
  {
   "cell_type": "markdown",
   "id": "decimal-accused",
   "metadata": {},
   "source": [
    "### Librería para implementar nuestras soluciones: keras-rl + tensorflow, pytorch\n",
    "\n",
    "https://www.tensorflow.org/\n",
    "\n",
    "https://github.com/keras-rl/keras-rl\n",
    "    \n",
    "https://pytorch.org/\n",
    "\n",
    "(BONUS) https://spinningup.openai.com/en/latest/"
   ]
  },
  {
   "cell_type": "markdown",
   "id": "reliable-athens",
   "metadata": {},
   "source": [
    "### Librerías para trabajar con entornos\n",
    "\n",
    "https://gym.openai.com/\n",
    "\n",
    "(BONUS) https://github.com/openai/retro\n",
    "\n",
    "(BONUS 2) https://unity.com/es/products/machine-learning-agents\n",
    "\n",
    "(BONUS 3) https://github.com/carla-simulator/carla"
   ]
  },
  {
   "cell_type": "markdown",
   "id": "working-appliance",
   "metadata": {},
   "source": [
    "### Código de ejemplo con gym"
   ]
  },
  {
   "cell_type": "code",
   "execution_count": null,
   "id": "pediatric-behavior",
   "metadata": {},
   "outputs": [],
   "source": [
    "import gym"
   ]
  },
  {
   "cell_type": "code",
   "execution_count": null,
   "id": "guilty-criminal",
   "metadata": {},
   "outputs": [],
   "source": [
    "# Creamos el entorno sobre el que vamos a ejecutar nuestro agente\n",
    "env = gym.make(\"BreakoutDeterministic-v4\")\n",
    "env.seed(123)  # Definimos la semilla para la reproducibilidad de la ejecución"
   ]
  },
  {
   "cell_type": "code",
   "execution_count": null,
   "id": "least-manor",
   "metadata": {},
   "outputs": [],
   "source": [
    "# Acciones disponibles en el entorno\n",
    "nb_actions = env.action_space.n\n",
    "nb_actions"
   ]
  },
  {
   "cell_type": "code",
   "execution_count": null,
   "id": "cloudy-killing",
   "metadata": {},
   "outputs": [],
   "source": [
    "# Dimensions de las observaciones del entorno\n",
    "env.observation_space.shape"
   ]
  },
  {
   "cell_type": "code",
   "execution_count": null,
   "id": "electronic-persian",
   "metadata": {},
   "outputs": [],
   "source": [
    "env.observation_space"
   ]
  },
  {
   "cell_type": "code",
   "execution_count": null,
   "id": "tracked-magazine",
   "metadata": {},
   "outputs": [],
   "source": [
    "# Bucle básico de ejecución\n",
    "observation = env.reset()\n",
    "steps = 1000\n",
    "\n",
    "for _ in range(steps):\n",
    "    env.render()\n",
    "\n",
    "    action = env.action_space.sample()  # your agent here (this takes random actions)\n",
    "    observation, reward, done, info = env.step(action)\n",
    "\n",
    "    if done:\n",
    "        observation = env.reset()\n",
    "\n",
    "env.close()"
   ]
  },
  {
   "cell_type": "code",
   "execution_count": null,
   "id": "necessary-atlas",
   "metadata": {},
   "outputs": [],
   "source": [
    "# Bucle de ejecución con episodios\n",
    "observation = env.reset()\n",
    "episodes = 5\n",
    "\n",
    "for episode in range(episodes):\n",
    "    done = False\n",
    "    episode_reward = 0\n",
    "    while not done:\n",
    "        env.render()\n",
    "\n",
    "        action = env.action_space.sample()  # your agent here (this takes random actions)\n",
    "        observation, reward, done, info = env.step(action)\n",
    "        \n",
    "        episode_reward += reward\n",
    "\n",
    "        if done:\n",
    "            observation = env.reset()\n",
    "\n",
    "    print(episode_reward)\n",
    "\n",
    "env.close()"
   ]
  }
 ],
 "metadata": {
  "kernelspec": {
   "display_name": "Python 3",
   "language": "python",
   "name": "python3"
  },
  "language_info": {
   "codemirror_mode": {
    "name": "ipython",
    "version": 3
   },
   "file_extension": ".py",
   "mimetype": "text/x-python",
   "name": "python",
   "nbconvert_exporter": "python",
   "pygments_lexer": "ipython3",
   "version": "3.7.9"
  }
 },
 "nbformat": 4,
 "nbformat_minor": 5
}
