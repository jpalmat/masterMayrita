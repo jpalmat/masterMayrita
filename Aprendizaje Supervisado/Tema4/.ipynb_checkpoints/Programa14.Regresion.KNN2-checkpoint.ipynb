{
 "cells": [
  {
   "cell_type": "code",
   "execution_count": null,
   "metadata": {},
   "outputs": [],
   "source": [
    "import numpy as np\n",
    "from math import sqrt\n",
    "from sklearn import datasets\n",
    "import sklearn.metrics as metrics\n",
    "from sklearn.pipeline import Pipeline\n",
    "from sklearn.neighbors import KNeighborsRegressor\n",
    "from sklearn.model_selection import cross_val_predict\n",
    "from sklearn.model_selection import KFold\n",
    "from sklearn.preprocessing import StandardScaler\n",
    "from sklearn.feature_selection import f_regression\n",
    "from sklearn.feature_selection import SelectPercentile\n",
    "from evaluacion_funciones import *"
   ]
  },
  {
   "cell_type": "code",
   "execution_count": null,
   "metadata": {},
   "outputs": [],
   "source": [
    "# Carga de datos.\n",
    "dataset = datasets.load_boston()\n",
    "X = dataset.data\n",
    "y = dataset.target\n",
    "print(np.shape(X))"
   ]
  },
  {
   "cell_type": "code",
   "execution_count": null,
   "metadata": {},
   "outputs": [],
   "source": [
    "# Métricas de evaluación.\n",
    "metricas = {\n",
    "  'MAE':  metrics.mean_absolute_error,\n",
    "  'RMSE': lambda y, y_pred:\n",
    "          sqrt(metrics.mean_squared_error(y, y_pred)),\n",
    "  'MAPE': lambda y, y_pred:\n",
    "          np.mean(np.abs((y - y_pred) / y)) * 100,\n",
    "  'R2':   metrics.r2_score}"
   ]
  },
  {
   "cell_type": "code",
   "execution_count": null,
   "metadata": {},
   "outputs": [],
   "source": [
    "# Construcción de los algoritmos de aprendizaje.\n",
    "k = 10\n",
    "base = 'KNN' + str(k)\n",
    "algoritmos = {}"
   ]
  },
  {
   "cell_type": "code",
   "execution_count": null,
   "metadata": {},
   "outputs": [],
   "source": [
    "# Algoritmo 1: KNN\n",
    "algoritmos[base] = KNeighborsRegressor(n_neighbors = k)"
   ]
  },
  {
   "cell_type": "code",
   "execution_count": null,
   "metadata": {},
   "outputs": [],
   "source": [
    "# Algoritmo 2: Estandarización + KNN\n",
    "pasos = [('estandarizacion', StandardScaler()),\n",
    "         ('reg', algoritmos['KNN'+str(k)])]\n",
    "algoritmos['Est+'+base] = Pipeline(pasos)"
   ]
  },
  {
   "cell_type": "code",
   "execution_count": null,
   "metadata": {},
   "outputs": [],
   "source": [
    "# Algoritmo 3: Estandarización + Selección atributos + KNN\n",
    "pasos = [('estandarizacion', StandardScaler()),\n",
    "         ('selatr', SelectPercentile(score_func=f_regression, percentile=10)),\n",
    "         ('reg', algoritmos['KNN'+str(k)])]\n",
    "algoritmos['Est+SelAtr+'+base] = Pipeline(pasos)"
   ]
  },
  {
   "cell_type": "code",
   "execution_count": null,
   "metadata": {},
   "outputs": [],
   "source": [
    "# Algoritmo 4: Estandarización + Selecc. atributos + KNN(p=1)\n",
    "pasos = [('estandarizacion', StandardScaler()),\n",
    "         ('selatr', SelectPercentile(score_func=f_regression,\n",
    "           percentile=10)),\n",
    "         ('reg', KNeighborsRegressor(n_neighbors = k, p=1))]\n",
    "algoritmos['Est+SelAtr+'+base+'(p=1)'] = Pipeline(pasos)"
   ]
  },
  {
   "cell_type": "code",
   "execution_count": null,
   "metadata": {},
   "outputs": [],
   "source": [
    "# Validación y obtención de las predicciones del modelo.\n",
    "y_pred = {}\n",
    "for nombre, alg in algoritmos.items():\n",
    "    y_pred[nombre] = cross_val_predict(alg, X, y, cv=KFold(n_splits=10, shuffle=True,random_state=42))"
   ]
  },
  {
   "cell_type": "code",
   "execution_count": null,
   "metadata": {},
   "outputs": [],
   "source": [
    "# Evaluación y presentación de resultados.\n",
    "for nombre, alg in algoritmos.items():\n",
    "    results = evaluacion(y, y_pred[nombre], metricas)\n",
    "    grafica_real_vs_pred(y, y_pred[nombre], results, nombre)"
   ]
  }
 ],
 "metadata": {
  "kernelspec": {
   "display_name": "Python 3",
   "language": "python",
   "name": "python3"
  },
  "language_info": {
   "codemirror_mode": {
    "name": "ipython",
    "version": 3
   },
   "file_extension": ".py",
   "mimetype": "text/x-python",
   "name": "python",
   "nbconvert_exporter": "python",
   "pygments_lexer": "ipython3",
   "version": "3.8.5"
  }
 },
 "nbformat": 4,
 "nbformat_minor": 2
}
