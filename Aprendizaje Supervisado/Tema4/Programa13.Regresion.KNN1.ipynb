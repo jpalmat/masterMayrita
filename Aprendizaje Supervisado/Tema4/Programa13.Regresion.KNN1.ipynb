{
 "cells": [
  {
   "cell_type": "code",
   "execution_count": 1,
   "metadata": {},
   "outputs": [],
   "source": [
    "import numpy as np\n",
    "from math import sqrt\n",
    "from sklearn import datasets, linear_model\n",
    "import sklearn.metrics as metrics\n",
    "from sklearn.model_selection import KFold\n",
    "from sklearn.model_selection import cross_val_predict, cross_val_score, train_test_split\n",
    "from sklearn import preprocessing\n",
    "from sklearn.neighbors import KNeighborsRegressor\n",
    "from evaluacion_funciones import * # pip install graphviz\n",
    "from sklearn.preprocessing import StandardScaler\n",
    "from sklearn.feature_selection import SelectPercentile, f_regression\n",
    "from pprint import pprint"
   ]
  },
  {
   "cell_type": "code",
   "execution_count": 2,
   "metadata": {},
   "outputs": [
    {
     "name": "stdout",
     "output_type": "stream",
     "text": [
      "(506, 13)\n"
     ]
    }
   ],
   "source": [
    "# Carga de datos.\n",
    "dataset = datasets.load_boston()\n",
    "X = dataset.data\n",
    "y = dataset.target\n",
    "print(np.shape(X))"
   ]
  },
  {
   "cell_type": "code",
   "execution_count": 6,
   "metadata": {},
   "outputs": [],
   "source": [
    "# Métricas de evaluación.\n",
    "metricas = {\n",
    "  'MAE': metrics.mean_absolute_error,\n",
    "  'RMSE': lambda y, y_pred:\n",
    "          sqrt(metrics.mean_squared_error(y, y_pred)),\n",
    "  'MAPE': lambda y, y_pred:\n",
    "          np.mean(np.abs((y - y_pred) / y)) * 100,\n",
    "  'R2': metrics.r2_score}"
   ]
  },
  {
   "cell_type": "code",
   "execution_count": 7,
   "metadata": {},
   "outputs": [
    {
     "name": "stdout",
     "output_type": "stream",
     "text": [
      "(404, 13)\n"
     ]
    }
   ],
   "source": [
    "# 1) Partición de datos externa\n",
    "X_training, X_testing, y_training, y_testing = train_test_split(X, y, test_size=0.2, random_state=42)\n",
    "print(np.shape(X_training))"
   ]
  },
  {
   "cell_type": "code",
   "execution_count": null,
   "metadata": {},
   "outputs": [],
   "source": [
    "# 2) Extracción de características (no es necesario en este caso)"
   ]
  },
  {
   "cell_type": "code",
   "execution_count": 8,
   "metadata": {},
   "outputs": [],
   "source": [
    "# 3) Estandarización de los datos de entrenamiento\n",
    "standardizer = preprocessing.StandardScaler()\n",
    "X_training = standardizer.fit_transform(X_training)"
   ]
  },
  {
   "cell_type": "code",
   "execution_count": 9,
   "metadata": {},
   "outputs": [
    {
     "name": "stdout",
     "output_type": "stream",
     "text": [
      "(404, 11)\n"
     ]
    }
   ],
   "source": [
    "# # 4) Selección de atributos\n",
    "sel = SelectPercentile(score_func=f_regression, percentile=90)\n",
    "X_training = sel.fit_transform(X_training, y_training)\n",
    "print(np.shape(X_training))"
   ]
  },
  {
   "cell_type": "code",
   "execution_count": 10,
   "metadata": {},
   "outputs": [],
   "source": [
    "# 5) Construcción del algoritmo de aprendizaje.\n",
    "k = 10\n",
    "reg = KNeighborsRegressor(n_neighbors = k, weights='uniform', metric='euclidean')"
   ]
  },
  {
   "cell_type": "code",
   "execution_count": 11,
   "metadata": {},
   "outputs": [
    {
     "name": "stdout",
     "output_type": "stream",
     "text": [
      "cross_val_MAE:   2.9372 +/- 0.6702\n"
     ]
    },
    {
     "data": {
      "image/png": "[encoded data removed]",
      "text/plain": [
       "<Figure size 432x288 with 1 Axes>"
      ]
     },
     "metadata": {
      "needs_background": "light"
     },
     "output_type": "display_data"
    }
   ],
   "source": [
    "# 5.1) Validación cruzada interna\n",
    "# Extracción de predicciones con cross_val_predict\n",
    "y_pred = cross_val_predict(reg, X_training, y_training, cv = KFold(n_splits=10, shuffle=True, random_state=42))\n",
    "\n",
    "# Extraer directamente resultados del error para cada bolsa, en lugar de las predicciones\n",
    "cross_val_results = cross_val_score(reg, X_training, y_training, \n",
    "                                    cv = KFold(n_splits=10, shuffle=True, random_state=42), scoring='neg_mean_absolute_error')\n",
    "print(\"cross_val_MAE:   %0.4f +/- %0.4f\" % (-cross_val_results.mean(), cross_val_results.std()))\n",
    "\n",
    "# Visualización de resultados\n",
    "results = evaluacion(y_training, y_pred, metricas)\n",
    "grafica_real_vs_pred(y_training, y_pred, results, \"KNN\"+str(k))"
   ]
  },
  {
   "cell_type": "code",
   "execution_count": 14,
   "metadata": {},
   "outputs": [
    {
     "name": "stdout",
     "output_type": "stream",
     "text": [
      "KNeighborsRegressor(metric='euclidean', n_neighbors=10)\n"
     ]
    }
   ],
   "source": [
    "# 5.2) Entrenamiento del modelo definitivo\n",
    "model = reg.fit(X_training, y_training)\n",
    "\n",
    "print(model)"
   ]
  },
  {
   "cell_type": "code",
   "execution_count": null,
   "metadata": {},
   "outputs": [],
   "source": [
    "# ---- PREDICCIÓN ---- #"
   ]
  },
  {
   "cell_type": "code",
   "execution_count": null,
   "metadata": {},
   "outputs": [],
   "source": [
    "# 6) Extracción de las características de test"
   ]
  },
  {
   "cell_type": "code",
   "execution_count": 15,
   "metadata": {},
   "outputs": [],
   "source": [
    "# 7) Estandarización de las característiacs de test\n",
    "X_test = standardizer.transform(X_testing)"
   ]
  },
  {
   "cell_type": "code",
   "execution_count": 16,
   "metadata": {},
   "outputs": [],
   "source": [
    "# 8) Selección de las características de test\n",
    "X_test = sel.transform(X_test)"
   ]
  },
  {
   "cell_type": "code",
   "execution_count": 17,
   "metadata": {},
   "outputs": [],
   "source": [
    "# 9) Predicción del conjunto de test\n",
    "y_pred_test = model.predict(X_test)"
   ]
  },
  {
   "cell_type": "code",
   "execution_count": 18,
   "metadata": {},
   "outputs": [
    {
     "name": "stdout",
     "output_type": "stream",
     "text": [
      "{'MAE': 2.7751960784313723,\n",
      " 'MAPE': 13.647250752896046,\n",
      " 'R2': 0.7378671827901654,\n",
      " 'RMSE': 4.384425980270461}\n"
     ]
    }
   ],
   "source": [
    "# 10) Evaluación del modelo sobre el conjunto de test\n",
    "results = evaluacion(y_testing, y_pred_test, metricas)\n",
    "pprint(results)"
   ]
  },
  {
   "cell_type": "code",
   "execution_count": 16,
   "metadata": {},
   "outputs": [
    {
     "name": "stdout",
     "output_type": "stream",
     "text": [
      "{'MAE': 3.3356989051132606,\n",
      " 'MAPE': 17.74004092580114,\n",
      " 'R2': 0.6211363896861362,\n",
      " 'RMSE': 5.271005771775818}\n"
     ]
    }
   ],
   "source": [
    "# Comparación con el algoritmo de regresión lineal en test\n",
    "reg_OLS = linear_model.LinearRegression() # definición\n",
    "model_OLS = reg_OLS.fit(X_training,y_training) # entrenamiento completo\n",
    "y_pred_OLS = model_OLS.predict(X_test) # Predicción\n",
    "results = evaluacion(y_testing, y_pred_OLS, metricas) # Evaluación de resultados\n",
    "pprint(results)"
   ]
  }
 ],
 "metadata": {
  "kernelspec": {
   "display_name": "Python 3",
   "language": "python",
   "name": "python3"
  },
  "language_info": {
   "codemirror_mode": {
    "name": "ipython",
    "version": 3
   },
   "file_extension": ".py",
   "mimetype": "text/x-python",
   "name": "python",
   "nbconvert_exporter": "python",
   "pygments_lexer": "ipython3",
   "version": "3.8.8"
  }
 },
 "nbformat": 4,
 "nbformat_minor": 4
}
