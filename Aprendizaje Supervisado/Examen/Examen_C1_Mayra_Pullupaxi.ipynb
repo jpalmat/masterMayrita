{
 "cells": [
  {
   "cell_type": "markdown",
   "metadata": {},
   "source": [
    "### EXAMEN - Convocatoria 1 - Desarrollo\n",
    "Utilizar el conjunto de datos \"dataset_exam.npy\" para resolver el ejercicio. Tener en cuenta que la última columna corresponde a la clase."
   ]
  },
  {
   "cell_type": "markdown",
   "metadata": {},
   "source": [
    "#### 1) Partición de datos externa (1.5 puntos)\n",
    "Realizar una partición externa de tipo hold-out seleccionando un 20% de los datos para test (fijar una semilla en 42).\n",
    "Comprobar si los datos, tanto de train como de test, están balanceados."
   ]
  },
  {
   "cell_type": "code",
   "execution_count": 30,
   "metadata": {},
   "outputs": [],
   "source": [
    "import numpy as np\n",
    "import pandas as pd\n",
    "from sklearn.model_selection import train_test_split\n",
    "\n",
    "datos = np.load('dataset_exam.npy')\n",
    "X = datos[:,:-1]\n",
    "y = datos [:,-1]\n",
    "\n",
    "X_train, X_test, y_train, y_test = train_test_split(X, y, test_size=0.2, shuffle=True, random_state=42)\n",
    "\n",
    "val, ocur = np.unique(X_train, return_counts=True)\n",
    "val_test, ocur_test = np.unique(X_test, return_counts=True)\n",
    "\n",
    "val, ocur = np.unique(y_train, return_counts=True)\n",
    "val_test, ocur_test = np.unique(y_test, return_counts=True)\n"
   ]
  },
  {
   "cell_type": "markdown",
   "metadata": {},
   "source": [
    "#### 2) Estandarización de los datos de train y test (1.5 puntos)\n",
    "Utilizar el método StandardScaler()."
   ]
  },
  {
   "cell_type": "code",
   "execution_count": 25,
   "metadata": {},
   "outputs": [
    {
     "name": "stdout",
     "output_type": "stream",
     "text": [
      "(393, 8)\n",
      "(99, 8)\n"
     ]
    }
   ],
   "source": [
    "from sklearn import preprocessing\n",
    "\n",
    "standardizer = preprocessing.StandardScaler()\n",
    "standardizer.fit(X_train)\n",
    "X_train_std = standardizer.transform(X_train)\n",
    "X_test_std = standardizer.transform(X_test)\n",
    "\n",
    "print(np.shape(X_train_std))\n",
    "print(np.shape(X_test_std))\n"
   ]
  },
  {
   "cell_type": "markdown",
   "metadata": {},
   "source": [
    "#### 3) Selección de atributos en train y test (1.5 puntos)\n",
    "Aplicar el método de información mutua para clasificación en el percentile 90."
   ]
  },
  {
   "cell_type": "code",
   "execution_count": 26,
   "metadata": {},
   "outputs": [],
   "source": [
    "from sklearn.feature_selection import SelectPercentile, mutual_info_regression\n",
    "\n",
    "X_train_info = SelectPercentile(mutual_info_classif, percentile=90).fit_transform(X_train_std, y_train)\n",
    "X_test_info = SelectPercentile(mutual_info_classif, percentile=90).fit_transform(X_test_std, y_test)\n"
   ]
  },
  {
   "cell_type": "markdown",
   "metadata": {},
   "source": [
    "#### 4) Comparación de modelos de clasifición mediante validación cruzada (2.5 puntos)\n",
    "Aplicar una validación cruzada interna de K=5 bolsas para optimizar y comparar la capacidad predictiva de los siguientes modelos: Regresión Logística y Support Vector Machine. La comparación debe realizarse únicamente en términos de exactitud proporcionando resultados de media +- desviación estándar."
   ]
  },
  {
   "cell_type": "code",
   "execution_count": 27,
   "metadata": {},
   "outputs": [
    {
     "name": "stdout",
     "output_type": "stream",
     "text": [
      "LOGR:  Accuracy:  0.6766 +/- 0.0538\n",
      "SVM:  Accuracy:  0.8039 +/- 0.0376\n"
     ]
    }
   ],
   "source": [
    "from sklearn.linear_model import LogisticRegression\n",
    "from sklearn.model_selection import cross_val_score, KFold\n",
    "from sklearn import preprocessing, svm\n",
    "\n",
    "algoritmos = {'LOGR': LogisticRegression(penalty='l2', solver='saga', max_iter=1000, random_state=42),\n",
    "             'SVM': svm.SVC(C=10, random_state=42, probability=True)}\n",
    "\n",
    "results={}\n",
    "for nombre, alg in algoritmos.items():\n",
    "    results[nombre] = cross_val_score(alg, X_train_info, y_train, cv=KFold(n_splits=5, shuffle=True, random_state=42))\n",
    "    print(nombre + ':  Accuracy:  %0.4f +/- %0.4f'% (results[nombre].mean(), results[nombre].std()))"
   ]
  },
  {
   "cell_type": "markdown",
   "metadata": {},
   "source": [
    "#### 5) Evaluación de los modelos sobre el conjunto de test (3 puntos)\n",
    "- Entrenar los modelos anteriores utilizando todos los datos de entrenamiento.\n",
    "- Evaluar su rendimiento sobre el conjunto de test.\n",
    "- Mostrar en una única figura la comparación de las curvas ROC obtenidas para cada modelo.\n",
    "- Crear una tabla donde se muestren los resultados de todos los modelos.\n",
    " * Las filas serán: Precisión, Sensibilidad, F-score, Exactitud y AUC\n",
    " * Las columnas serán: LR y SVM\n",
    "- Mostrar la matriz de confusión proporcionada por el mejor modelo. "
   ]
  },
  {
   "cell_type": "code",
   "execution_count": null,
   "metadata": {},
   "outputs": [],
   "source": []
  }
 ],
 "metadata": {
  "kernelspec": {
   "display_name": "Python 3",
   "language": "python",
   "name": "python3"
  },
  "language_info": {
   "codemirror_mode": {
    "name": "ipython",
    "version": 3
   },
   "file_extension": ".py",
   "mimetype": "text/x-python",
   "name": "python",
   "nbconvert_exporter": "python",
   "pygments_lexer": "ipython3",
   "version": "3.8.8"
  }
 },
 "nbformat": 4,
 "nbformat_minor": 4
}
