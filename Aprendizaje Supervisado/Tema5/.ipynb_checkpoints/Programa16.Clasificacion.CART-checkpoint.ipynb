{
 "cells": [
  {
   "cell_type": "code",
   "execution_count": null,
   "metadata": {},
   "outputs": [],
   "source": [
    "from sklearn import tree\n",
    "from sklearn import datasets\n",
    "import sklearn.metrics as metrics\n",
    "from sklearn.model_selection import KFold\n",
    "from sklearn.model_selection import cross_val_predict\n",
    "from sklearn import preprocessing\n",
    "from evaluacion_funciones import *"
   ]
  },
  {
   "cell_type": "code",
   "execution_count": null,
   "metadata": {},
   "outputs": [],
   "source": [
    "seed=42"
   ]
  },
  {
   "cell_type": "code",
   "execution_count": null,
   "metadata": {},
   "outputs": [],
   "source": [
    "# Cargamos el conjunto de datos\n",
    "datos_iris = datasets.load_iris()\n",
    "datos_wine = datasets.load_wine()\n",
    "datos_breast = datasets.load_breast_cancer()\n",
    "\n",
    "X = {\n",
    "    'IRIS': datos_iris.data,\n",
    "    'WINE': datos_wine.data,\n",
    "    'BREAST': datos_breast.data\n",
    "}\n",
    "\n",
    "y = {\n",
    "    'IRIS': datos_iris.target,\n",
    "    'WINE': datos_wine.target,\n",
    "    'BREAST': datos_breast.target\n",
    "}"
   ]
  },
  {
   "cell_type": "code",
   "execution_count": null,
   "metadata": {},
   "outputs": [],
   "source": [
    "# Métricas de evaluación.\n",
    "metricas = {\n",
    "  'ACC':    metrics.accuracy_score,\n",
    "  'PREC':   lambda y_true, y_pred:\n",
    "            metrics.precision_score(y_true, y_pred, average='micro'),\n",
    "  'RECALL': lambda y_true, y_pred:\n",
    "            metrics.recall_score(y_true, y_pred, average='micro'),\n",
    "  'F1':     lambda y_true, y_pred:\n",
    "            metrics.f1_score(y_true, y_pred, average='micro')\n",
    "}"
   ]
  },
  {
   "cell_type": "code",
   "execution_count": null,
   "metadata": {},
   "outputs": [],
   "source": [
    "# 1) Partición externa\n",
    "# 2) Extracción de características (en caso de trabajar con imágenes)\n",
    "\n",
    "# 3) Estandarizacion de los datos\n",
    "standardizer = preprocessing.StandardScaler()\n",
    "for nombre, exp in X.items():\n",
    "    X[nombre] = standardizer.fit_transform(X[nombre])\n",
    "\n",
    "# 4) Selección de atributos"
   ]
  },
  {
   "cell_type": "code",
   "execution_count": null,
   "metadata": {},
   "outputs": [],
   "source": [
    "# 5) Construcción del algoritmo de aprendizaje.\n",
    "algoritmos = {'DT': tree.DecisionTreeClassifier(random_state=seed)}"
   ]
  },
  {
   "cell_type": "code",
   "execution_count": null,
   "metadata": {},
   "outputs": [],
   "source": [
    "# 5.1) Validación cruzada interna y Optimización de los hiperparámetros\n",
    "y_pred = {}\n",
    "for nombre, exp in X.items():\n",
    "    y_pred[nombre] = cross_val_predict(algoritmos['DT'], X[nombre], y[nombre], \n",
    "                                       cv=KFold(n_splits=10, shuffle=True, random_state=seed))"
   ]
  },
  {
   "cell_type": "code",
   "execution_count": null,
   "metadata": {},
   "outputs": [],
   "source": [
    "# Mostramos el resultado de varias métricas\n",
    "results={}\n",
    "for nombre, exp in X.items():\n",
    "    results[nombre] = evaluacion(y[nombre], y_pred[nombre], metricas)\n",
    "    print(\"Matriz de confusión (%s):\\n%s\" % (nombre, metrics.confusion_matrix(y[nombre], y_pred[nombre])))\n",
    "    print(\"Tabla de métricas (%s):\\n%s\" % (nombre, metrics.classification_report(y[nombre], y_pred[nombre], digits=3)))"
   ]
  },
  {
   "cell_type": "code",
   "execution_count": null,
   "metadata": {},
   "outputs": [],
   "source": [
    "# 5.2) Entrenamiento del modelo definitivo (usamos 2 atributos para poder obtener gráficos en 2D)\n",
    "for nombre, exp in X.items():\n",
    "    modelo_definitivo = algoritmos['DT'].fit(X[nombre][:,:2], y[nombre])\n",
    "    mapa_modelo_clasif_2d(X[nombre][:,:2], y[nombre], modelo_definitivo, results[nombre], nombre)"
   ]
  },
  {
   "cell_type": "code",
   "execution_count": null,
   "metadata": {},
   "outputs": [],
   "source": [
    "# 5.3) Ploteamos el árbol con todos los datos para visualización árbol.\n",
    "for nombre, exp in X.items():\n",
    "    modelo_completo = algoritmos['DT'].fit(X[nombre], y[nombre])\n",
    "    plt.figure()\n",
    "    tree.plot_tree(modelo_completo,filled=True)  \n",
    "    plt.savefig('tree_' + nombre + '.pdf',format='pdf',bbox_inches = \"tight\")"
   ]
  }
 ],
 "metadata": {
  "kernelspec": {
   "display_name": "Python 3",
   "language": "python",
   "name": "python3"
  },
  "language_info": {
   "codemirror_mode": {
    "name": "ipython",
    "version": 3
   },
   "file_extension": ".py",
   "mimetype": "text/x-python",
   "name": "python",
   "nbconvert_exporter": "python",
   "pygments_lexer": "ipython3",
   "version": "3.8.5"
  }
 },
 "nbformat": 4,
 "nbformat_minor": 4
}
