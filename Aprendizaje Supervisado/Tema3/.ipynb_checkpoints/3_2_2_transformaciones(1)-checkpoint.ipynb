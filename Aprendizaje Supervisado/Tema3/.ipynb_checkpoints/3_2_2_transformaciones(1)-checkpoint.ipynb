{
 "cells": [
  {
   "cell_type": "code",
   "execution_count": null,
   "metadata": {},
   "outputs": [],
   "source": [
    "# READ AN IMAGE\n",
    "# pip install opencv-python\n",
    "import numpy as np\n",
    "import matplotlib.pyplot as plt\n",
    "import cv2\n",
    "\n",
    "img = cv2.imread('images/Lena_RGB.png')\n",
    "\n",
    "R = img[:,:,2]\n",
    "G = img[:,:,1]\n",
    "B = img[:,:,0]\n",
    "\n",
    "print(np.shape(R))"
   ]
  },
  {
   "cell_type": "code",
   "execution_count": null,
   "metadata": {},
   "outputs": [],
   "source": [
    "# Mostrar los canales de color\n",
    "fig, ax = plt.subplots(1,3)\n",
    "ax[0].imshow(R, cmap='gray'), ax[0].set_title('Red')\n",
    "ax[1].imshow(G, cmap='gray'), ax[1].set_title('Green')\n",
    "ax[2].imshow(B, cmap='gray'), ax[2].set_title('Blue')\n",
    "plt.show()"
   ]
  },
  {
   "cell_type": "code",
   "execution_count": null,
   "metadata": {},
   "outputs": [],
   "source": [
    "ima = cv2.cvtColor(img, cv2.COLOR_BGR2RGB)\n",
    "plt.imshow(ima, cmap='gray')\n",
    "plt.show()"
   ]
  },
  {
   "cell_type": "code",
   "execution_count": null,
   "metadata": {},
   "outputs": [],
   "source": [
    "# TRANSFORMACIONES DE INTENSIDAD\n",
    "\n",
    "# Cambio de brillo\n",
    "img = cv2.imread('images/Lena_RGB.png', cv2.IMREAD_UNCHANGED)\n",
    "img = img[:,:,2] # red color\n",
    "\n",
    "mas_brillo = 50\n",
    "menos_brillo = -150\n",
    "mas_brillo_img = cv2.add(img, mas_brillo) # Importante el \"cv2.add\" en vez de \"+\"\n",
    "menos_brillo_img = cv2.add(img, menos_brillo)\n",
    "\n",
    "fig, ax = plt.subplots(1,3)\n",
    "ax[0].imshow(img, cmap='gray'), ax[0].set_title('original')\n",
    "ax[1].imshow(mas_brillo_img, cmap='gray'), ax[1].set_title('más brillo')\n",
    "ax[2].imshow(menos_brillo_img, cmap='gray'), ax[2].set_title('menos brillo')\n",
    "plt.show()"
   ]
  },
  {
   "cell_type": "code",
   "execution_count": null,
   "metadata": {},
   "outputs": [],
   "source": [
    "# TRANSFORMACIONES DE INTENSIDAD\n",
    "\n",
    "# Cambio de contraste de acuerdo con el programa GIMP\n",
    "img = cv2.imread('images/Lena_RGB.png')\n",
    "img = img[:,:,1] # canal verde\n",
    "\n",
    "contraste = -200\n",
    "\n",
    "f = 131*(contraste + 127)/(127*(131-contraste))\n",
    "alpha_c = f\n",
    "gamma_c = 127*(1-f)\n",
    "\n",
    "contrast_img = cv2.addWeighted(img, alpha_c, img, 0, gamma_c)\n",
    "\n",
    "fig, ax = plt.subplots(1,2)\n",
    "ax[0].imshow(img, cmap='gray'), ax[0].set_title('original')\n",
    "ax[1].imshow(contrast_img, cmap='gray'), ax[1].set_title('contraste')\n",
    "plt.show()\n",
    "\n",
    "# Para ver la imagen cuando se disminuye el contraste... \n",
    "cv2.imwrite('contrast.png', contrast_img)"
   ]
  },
  {
   "cell_type": "code",
   "execution_count": null,
   "metadata": {},
   "outputs": [],
   "source": [
    "### CONVERSIONES DEL ESPACIO DE COLOR\n",
    "\n",
    "import cv2\n",
    "import matplotlib.pyplot as plt\n",
    "import numpy as np\n",
    "from skimage import io\n",
    "\n",
    "# RGB to CMYK\n",
    "bgr = cv2.imread('images/colores.png')\n",
    "rgb = cv2.cvtColor(bgr, cv2.COLOR_BGR2RGB)\n",
    "# rgb = rgb/255\n",
    "\n",
    "with np.errstate(invalid='ignore', divide='ignore'):\n",
    "    K = 255 - np.max(rgb, axis=2)\n",
    "    C = (255-rgb[...,0] - K)/(255-K)\n",
    "    M = (255-rgb[...,1] - K)/(255-K)\n",
    "    Y = (255-rgb[...,2] - K)/(255-K)\n",
    "\n",
    "CMYK = (np.dstack((C,M,Y,K)))\n",
    "C,M,Y,K = cv2.split(CMYK)\n",
    "\n",
    "fig, ax = plt.subplots(2,3)\n",
    "ax[0,0].imshow(rgb, cmap='gray'), ax[0,0].set_title('original')\n",
    "ax[0,1].imshow(CMYK.astype('uint8'), cmap='gray'), ax[0,1].set_title('CMYK')\n",
    "ax[0,2].imshow(C.astype('uint8'), cmap='gray'), ax[0,2].set_title('cyan')\n",
    "ax[1,0].imshow(M.astype('uint8'), cmap='gray'), ax[1,0].set_xlabel('magenta')\n",
    "ax[1,1].imshow(Y.astype('uint8'), cmap='gray'), ax[1,1].set_xlabel('yellow')\n",
    "ax[1,2].imshow(K.astype('uint8'), cmap='gray'), ax[1,2].set_xlabel('black')\n",
    "plt.show()"
   ]
  },
  {
   "cell_type": "code",
   "execution_count": null,
   "metadata": {},
   "outputs": [],
   "source": [
    "# CONVERSIONES DEL ESPACIO DE COLOR\n",
    "\n",
    "img = cv2.imread('images/Lena_RGB.png')\n",
    "\n",
    "gray_img = cv2.cvtColor(img, cv2.COLOR_BGR2GRAY) # gray-scale\n",
    "\n",
    "HSV = cv2.cvtColor(img, cv2.COLOR_BGR2HSV) # (H)ue, (S)aturation and (V)alue\n",
    "\n",
    "Lab = cv2.cvtColor(img, cv2.COLOR_BGR2Lab) # (L)uminosidad, a-b colores complementarios\n",
    "\n",
    "YCrCb = cv2.cvtColor(img, cv2.COLOR_BGR2YCrCb) # Y-Luma, Cr-Cb crominancia rojo y azul\n"
   ]
  },
  {
   "cell_type": "code",
   "execution_count": null,
   "metadata": {},
   "outputs": [],
   "source": [
    "# TRANSFORMACIONES GEOMÉTRICAS\n",
    "\n",
    "# Traslación\n",
    "img = io.imread('images/GOT.png')\n",
    "rows, cols, ch = img.shape\n",
    " \n",
    "M = np.float32([[1,0,280],[0,1,-80]])\n",
    "new_img = cv2.warpAffine(img,M,(cols,rows))\n",
    "\n",
    "figs, ax = plt.subplots(1,2)\n",
    "ax[0].imshow(img, cmap='gray'), ax[0].set_title('original')\n",
    "ax[1].imshow(new_img, cmap='gray'), ax[1].set_title('traslación')\n",
    "plt.show()\n"
   ]
  },
  {
   "cell_type": "code",
   "execution_count": null,
   "metadata": {},
   "outputs": [],
   "source": [
    "# TRANSFORMACIONES GEOMÉTRICAS\n",
    "\n",
    "# Cropping\n",
    "img = io.imread('images/GOT.png')\n",
    "\n",
    "new_img = img[90:290, 200:305]\n",
    "\n",
    "figs, ax = plt.subplots(1,2)\n",
    "ax[0].imshow(img, cmap='gray'), ax[0].set_title('original')\n",
    "ax[1].imshow(new_img, cmap='gray'), ax[1].set_title('crop')\n",
    "plt.show()"
   ]
  },
  {
   "cell_type": "code",
   "execution_count": null,
   "metadata": {},
   "outputs": [],
   "source": [
    "# TRANSFORMACIONES GEOMÉTRICAS\n",
    "\n",
    "# Rotación\n",
    "img = io.imread('images/GOT.png')\n",
    "rows, cols, ch = img.shape\n",
    "\n",
    "M = cv2.getRotationMatrix2D((cols/2,rows/2),angle=45,scale=1)\n",
    "new_img = cv2.warpAffine(img,M,(cols,rows))\n",
    "\n",
    "figs, ax = plt.subplots(1,2)\n",
    "ax[0].imshow(img, cmap='gray'), ax[0].set_title('original')\n",
    "ax[1].imshow(new_img, cmap='gray'), ax[1].set_title('rotación')\n",
    "plt.show()"
   ]
  },
  {
   "cell_type": "code",
   "execution_count": null,
   "metadata": {},
   "outputs": [],
   "source": [
    "# TRANSFORMACIONES GEOMÉTRICAS\n",
    "\n",
    "# Transformación de perspectiva\n",
    "img = cv2.imread('images/sudoku.png')\n",
    "rows, cols, ch = img.shape\n",
    "\n",
    "pts1 = np.float32([[56,65],[368,52],[28,387],[390,390]])\n",
    "# pts2 = np.float32([[0,0],[362,0],[0,362],[362,362]])\n",
    "\n",
    "plt.imshow(img, cmap='gray')\n",
    "for i in range(0,4):\n",
    "    plt.plot(pts1[i,0], pts1[i,1], 'or', markersize=10)\n",
    "#     plt.plot(pts2[i,0], pts2[i,1], 'ob', markersize=10)\n",
    "plt.title('Keypoints para perspectiva')\n",
    "plt.show()\n",
    " \n",
    "# M = cv2.getPerspectiveTransform(pts1,pts2)\n",
    "# pers = cv2.warpPerspective(img,M,(362,362))\n",
    "# crop =  img[50:400,20:400]\n",
    "\n",
    "# figs, ax = plt.subplots(1,2)\n",
    "# ax[0].imshow(pers, cmap='gray'), ax[0].set_title('perspectiva')\n",
    "# ax[1].imshow(crop, cmap='gray'), ax[1].set_title('crop')\n",
    "# plt.show()\n"
   ]
  },
  {
   "cell_type": "code",
   "execution_count": null,
   "metadata": {},
   "outputs": [],
   "source": [
    "# TRANSFORMACIONES GEOMÉTRICAS\n",
    "\n",
    "# Flipping\n",
    "img = io.imread('images/Lena_RGB.png')\n",
    "  \n",
    "flipVertical = cv2.flip(img, 0)\n",
    "flipHorizontal = cv2.flip(img, 1)\n",
    "flipBoth = cv2.flip(img, -1)\n",
    " \n",
    "figs, ax = plt.subplots(1,4)\n",
    "ax[0].imshow(img, cmap='gray'), ax[0].set_title('original')\n",
    "ax[1].imshow(flipVertical, cmap='gray'), ax[1].set_title('flip vertical')\n",
    "ax[2].imshow(flipHorizontal, cmap='gray'), ax[2].set_title('flip horizontal')\n",
    "ax[3].imshow(flipBoth, cmap='gray'), ax[3].set_title('flip ambos')\n",
    "plt.show()"
   ]
  }
 ],
 "metadata": {
  "kernelspec": {
   "display_name": "Python 3",
   "language": "python",
   "name": "python3"
  },
  "language_info": {
   "codemirror_mode": {
    "name": "ipython",
    "version": 3
   },
   "file_extension": ".py",
   "mimetype": "text/x-python",
   "name": "python",
   "nbconvert_exporter": "python",
   "pygments_lexer": "ipython3",
   "version": "3.8.5"
  }
 },
 "nbformat": 4,
 "nbformat_minor": 4
}
