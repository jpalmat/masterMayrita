{
 "cells": [
  {
   "cell_type": "code",
   "execution_count": null,
   "metadata": {},
   "outputs": [],
   "source": [
    "# En primer lugar, obtenemos la máscara de la imagen original mediante la umbralización con Otsu\n",
    "import matplotlib.pyplot as plt\n",
    "import cv2\n",
    "import numpy as np\n",
    "img = cv2.imread('images/figuras.png')\n",
    "img_gray = cv2.cvtColor(img, cv2.COLOR_BGR2GRAY)\n",
    "_, mask = cv2.threshold(img_gray,0,1,cv2.THRESH_OTSU)\n",
    "\n",
    "plt.imshow(mask, cmap='gray')\n",
    "plt.show()"
   ]
  },
  {
   "cell_type": "code",
   "execution_count": null,
   "metadata": {},
   "outputs": [],
   "source": [
    "# Convertimos la imagen binaria en una imagen de etiquetas para tener acceso a cada objeto por separado\n",
    "from skimage.measure import label\n",
    "\n",
    "lab, num = label(mask, return_num=True)\n",
    "\n",
    "# Importante:\n",
    "# En 'num' devuelve 6 valores correspondientes a los 6 objetos que hay en la imagen.\n",
    "# Sin embargo, 'lab' contiene hasta 7 valores diferentes, ya que también tiene en cuenta el fondo de la imagen.\n",
    "print('número de objetos: ', num)\n",
    "v,c = np.unique(lab, return_counts=True)\n",
    "print('posibles valores de intensidad: ', v)\n",
    "\n",
    "plt.imshow(lab, cmap='gray')\n",
    "plt.show()"
   ]
  },
  {
   "cell_type": "code",
   "execution_count": null,
   "metadata": {},
   "outputs": [],
   "source": [
    "# Podemos acceder de manera independiente al objeto que nos interese a partir de su etiqueta correspondiente\n",
    "objeto = lab == 1\n",
    "objeto = objeto.astype('uint8')\n",
    "plt.imshow(objeto, cmap='gray')\n",
    "plt.show()"
   ]
  },
  {
   "cell_type": "code",
   "execution_count": null,
   "metadata": {},
   "outputs": [],
   "source": [
    "# Después, podemos extraer la bounding box de dicho objeto\n",
    "\n",
    "# https://scikit-image.org/docs/dev/api/skimage.measure.html#skimage.measure.regionprops\n",
    "from skimage.measure import regionprops\n",
    "\n",
    "prop = regionprops(objeto)\n",
    "bbox = prop[0].bbox\n",
    "start_point = (bbox[1], bbox[0])\n",
    "end_point = (bbox[3], bbox[2])\n",
    "window = cv2.rectangle(img.copy(), start_point, end_point, (255, 0, 0), 5)\n",
    "                     \n",
    "plt.imshow(window, cmap='gray')\n",
    "plt.show()"
   ]
  },
  {
   "cell_type": "code",
   "execution_count": null,
   "metadata": {},
   "outputs": [],
   "source": [
    "# No confudir el comando \"rectangle()\" con hacer un crop\n"
   ]
  },
  {
   "cell_type": "code",
   "execution_count": null,
   "metadata": {},
   "outputs": [],
   "source": [
    "# Y la convex hull image\n",
    "from skimage.morphology import convex_hull_image\n",
    "\n",
    "convex_image = convex_hull_image(objeto)\n",
    "convex_image = convex_image.astype('uint8')\n",
    "conts,_ = cv2.findContours(convex_image, cv2.RETR_TREE, cv2.CHAIN_APPROX_SIMPLE)\n",
    "imagen = cv2.drawContours(img.copy(), conts, -1, (255,0,0), 5)\n",
    "                     \n",
    "plt.imshow(imagen, cmap='gray')\n",
    "plt.show()"
   ]
  },
  {
   "cell_type": "code",
   "execution_count": null,
   "metadata": {},
   "outputs": [],
   "source": [
    "# Repetimos el proceso completo para todos los objetos de la imagen\n",
    "imagen = img.copy()\n",
    "for i in range(1, num+1): \n",
    "    objeto = lab == i\n",
    "    objeto = objeto.astype('uint8')\n",
    "    \n",
    "    # bbox\n",
    "    prop = regionprops(objeto)\n",
    "    bbox = prop[0].bbox\n",
    "    imagen = cv2.rectangle(imagen, (bbox[1], bbox[0]), (bbox[3], bbox[2]), (255, 0, 0), 5)\n",
    "    \n",
    "    # covex hull\n",
    "    convex_image = convex_hull_image(objeto)\n",
    "    convex_image = convex_image.astype('uint8')\n",
    "    conts,_ = cv2.findContours(convex_image, cv2.RETR_TREE, cv2.CHAIN_APPROX_SIMPLE)\n",
    "    imagen = cv2.drawContours(imagen, conts, -1, (0,255,255), 8)\n",
    "\n",
    "plt.imshow(imagen, cmap='gray')\n",
    "plt.show()"
   ]
  },
  {
   "cell_type": "code",
   "execution_count": null,
   "metadata": {},
   "outputs": [],
   "source": [
    "# Vamos a extraer diferentes descriptores geométricos que nos ayudarán a caracterizar los objetos.\n",
    "# pip install tabulate\n",
    "from tabulate import tabulate\n",
    "import math\n",
    "\n",
    "new_lab, new_num = label(mask, return_num=True)\n",
    "\n",
    "# Extraemos las característicias geométricas\n",
    "headers = ['','Raro', 'Rayo', 'Círculo', 'Cuadrado', 'Triángulo', 'Rombo']\n",
    "A,BB,CA,E,ED,EX,MA,MiA,OR,P,S,CO,R = ['area'], ['bbox_area'], ['convex_area'], ['eccentricity'], ['equiv_diameter'], \\\n",
    "['extent'], ['major_axis'], ['minor_axis'], ['orientation'], ['perimeter'], ['solidity'], ['compactness'], ['rectangularity']\n",
    "\n",
    "for i in range(1,new_num+1):\n",
    "    objeto = new_lab == i\n",
    "    prop = regionprops(objeto.astype(np.uint8))\n",
    "    \n",
    "    A.append(np.round(prop[0].area, 4))\n",
    "    BB.append(np.round(prop[0].bbox_area, 4))\n",
    "    CA.append(np.round(prop[0].convex_area, 4))\n",
    "    E.append(np.round(prop[0].eccentricity, 4))\n",
    "    ED.append(np.round(prop[0].equivalent_diameter, 4))\n",
    "    EX.append(np.round(prop[0].extent, 4))\n",
    "    MA.append(np.round(prop[0].major_axis_length, 4))\n",
    "    MiA.append(np.round(prop[0].minor_axis_length, 4))\n",
    "    OR.append(np.round(prop[0].orientation, 4))\n",
    "    P.append(np.round(prop[0].perimeter, 4))\n",
    "    S.append(np.round(prop[0].solidity, 4))\n",
    "    CO.append(np.round(4*math.pi*prop[0].area/prop[0].perimeter**2, 4))\n",
    "    R.append(np.round(prop[0].area/prop[0].bbox_area, 4))\n",
    "\n",
    "\n",
    "my_data = [tuple(A), tuple(BB), tuple(CA), tuple(E), tuple(ED), tuple(EX), \\\n",
    "          tuple(MA), tuple(MiA), tuple(OR), tuple(P), tuple(S), tuple(CO), tuple(R)]\n",
    "\n",
    "print(tabulate(my_data, headers=headers))"
   ]
  }
 ],
 "metadata": {
  "kernelspec": {
   "display_name": "Python 3",
   "language": "python",
   "name": "python3"
  },
  "language_info": {
   "codemirror_mode": {
    "name": "ipython",
    "version": 3
   },
   "file_extension": ".py",
   "mimetype": "text/x-python",
   "name": "python",
   "nbconvert_exporter": "python",
   "pygments_lexer": "ipython3",
   "version": "3.8.5"
  }
 },
 "nbformat": 4,
 "nbformat_minor": 4
}
