{
 "cells": [
  {
   "cell_type": "code",
   "execution_count": null,
   "metadata": {},
   "outputs": [],
   "source": [
    "# Creación aleatoria de datos\n",
    "import numpy as np\n",
    "import random\n",
    "random.seed(13)\n",
    "\n",
    "nivel_estudios = []\n",
    "\n",
    "nivel_estudios.extend(['Secundaria']*110)\n",
    "nivel_estudios.extend(['Bachillerato']*172)\n",
    "nivel_estudios.extend(['Grado']*145)\n",
    "nivel_estudios.extend(['Master']*52)\n",
    "nivel_estudios.extend(['Doctorado']*21)\n",
    "\n",
    "nivel_estudios = np.random.permutation(nivel_estudios)\n"
   ]
  },
  {
   "cell_type": "code",
   "execution_count": null,
   "metadata": {},
   "outputs": [],
   "source": [
    "print(nivel_estudios)"
   ]
  },
  {
   "cell_type": "code",
   "execution_count": null,
   "metadata": {},
   "outputs": [],
   "source": [
    "# DIAGRAMA DE BARRAS\n",
    "\n",
    "import matplotlib.pyplot as plt\n",
    "import numpy as np\n",
    "\n",
    "estudios, frecuencia = np.unique(nivel_estudios, return_counts=True)\n",
    "print(estudios, frecuencia)\n",
    "\n",
    "fig, ax = plt.subplots()\n",
    "ax.set_ylabel('Frecuencia absoluta')\n",
    "ax.set_xlabel('Nivel de estudios')\n",
    "ax.set_title('Diagrama de barras')\n",
    "plt.bar(estudios, frecuencia, color='orange')\n",
    "plt.show()"
   ]
  },
  {
   "cell_type": "code",
   "execution_count": null,
   "metadata": {},
   "outputs": [],
   "source": [
    "# DIAGRAMA DE SECTORES\n",
    "colores = {'red', 'blue', 'green', 'orange', 'cyan'}\n",
    "plt.pie(frecuencia, labels=estudios, colors=colores, autopct='%1.1f%%')\n",
    "plt.title('Diagrama de sectores')\n",
    "plt.show()"
   ]
  }
 ],
 "metadata": {
  "kernelspec": {
   "display_name": "Python 3",
   "language": "python",
   "name": "python3"
  },
  "language_info": {
   "codemirror_mode": {
    "name": "ipython",
    "version": 3
   },
   "file_extension": ".py",
   "mimetype": "text/x-python",
   "name": "python",
   "nbconvert_exporter": "python",
   "pygments_lexer": "ipython3",
   "version": "3.8.5"
  }
 },
 "nbformat": 4,
 "nbformat_minor": 2
}
