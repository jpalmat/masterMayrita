{
 "cells": [
  {
   "cell_type": "code",
   "execution_count": 1,
   "metadata": {},
   "outputs": [],
   "source": [
    "# Creación aleatoria de datos\n",
    "import numpy as np\n",
    "import random\n",
    "random.seed(13)\n",
    "\n",
    "nivel_estudios = []\n",
    "\n",
    "nivel_estudios.extend(['Secundaria']*110)\n",
    "nivel_estudios.extend(['Bachillerato']*172)\n",
    "nivel_estudios.extend(['Grado']*145)\n",
    "nivel_estudios.extend(['Master']*52)\n",
    "nivel_estudios.extend(['Doctorado']*21)\n",
    "\n",
    "nivel_estudios = np.random.permutation(nivel_estudios)\n"
   ]
  },
  {
   "cell_type": "code",
   "execution_count": 2,
   "metadata": {},
   "outputs": [
    {
     "name": "stdout",
     "output_type": "stream",
     "text": [
      "['Grado' 'Secundaria' 'Master' 'Grado' 'Bachillerato' 'Doctorado'\n",
      " 'Bachillerato' 'Grado' 'Grado' 'Bachillerato' 'Bachillerato' 'Grado'\n",
      " 'Secundaria' 'Secundaria' 'Secundaria' 'Secundaria' 'Bachillerato'\n",
      " 'Bachillerato' 'Bachillerato' 'Secundaria' 'Secundaria' 'Bachillerato'\n",
      " 'Secundaria' 'Doctorado' 'Secundaria' 'Secundaria' 'Bachillerato'\n",
      " 'Secundaria' 'Secundaria' 'Doctorado' 'Grado' 'Bachillerato'\n",
      " 'Bachillerato' 'Bachillerato' 'Grado' 'Doctorado' 'Secundaria' 'Master'\n",
      " 'Doctorado' 'Secundaria' 'Secundaria' 'Bachillerato' 'Secundaria'\n",
      " 'Bachillerato' 'Grado' 'Bachillerato' 'Master' 'Secundaria'\n",
      " 'Bachillerato' 'Grado' 'Secundaria' 'Secundaria' 'Secundaria' 'Master'\n",
      " 'Bachillerato' 'Secundaria' 'Bachillerato' 'Bachillerato' 'Bachillerato'\n",
      " 'Bachillerato' 'Bachillerato' 'Bachillerato' 'Bachillerato' 'Master'\n",
      " 'Secundaria' 'Grado' 'Grado' 'Secundaria' 'Grado' 'Secundaria' 'Grado'\n",
      " 'Grado' 'Grado' 'Bachillerato' 'Bachillerato' 'Bachillerato' 'Doctorado'\n",
      " 'Master' 'Bachillerato' 'Secundaria' 'Grado' 'Grado' 'Doctorado' 'Grado'\n",
      " 'Grado' 'Grado' 'Bachillerato' 'Master' 'Grado' 'Secundaria' 'Master'\n",
      " 'Bachillerato' 'Bachillerato' 'Bachillerato' 'Grado' 'Master'\n",
      " 'Bachillerato' 'Doctorado' 'Bachillerato' 'Master' 'Grado' 'Secundaria'\n",
      " 'Bachillerato' 'Grado' 'Doctorado' 'Bachillerato' 'Grado' 'Bachillerato'\n",
      " 'Doctorado' 'Grado' 'Doctorado' 'Master' 'Bachillerato' 'Bachillerato'\n",
      " 'Bachillerato' 'Master' 'Grado' 'Grado' 'Secundaria' 'Grado'\n",
      " 'Bachillerato' 'Bachillerato' 'Grado' 'Bachillerato' 'Secundaria'\n",
      " 'Bachillerato' 'Bachillerato' 'Grado' 'Grado' 'Grado' 'Bachillerato'\n",
      " 'Doctorado' 'Secundaria' 'Secundaria' 'Grado' 'Bachillerato' 'Grado'\n",
      " 'Secundaria' 'Master' 'Grado' 'Bachillerato' 'Secundaria' 'Master'\n",
      " 'Grado' 'Doctorado' 'Secundaria' 'Grado' 'Bachillerato' 'Grado' 'Grado'\n",
      " 'Secundaria' 'Secundaria' 'Secundaria' 'Master' 'Bachillerato'\n",
      " 'Bachillerato' 'Bachillerato' 'Bachillerato' 'Grado' 'Secundaria'\n",
      " 'Bachillerato' 'Bachillerato' 'Bachillerato' 'Grado' 'Bachillerato'\n",
      " 'Secundaria' 'Grado' 'Grado' 'Secundaria' 'Doctorado' 'Grado' 'Grado'\n",
      " 'Grado' 'Secundaria' 'Bachillerato' 'Grado' 'Secundaria' 'Doctorado'\n",
      " 'Master' 'Master' 'Grado' 'Grado' 'Master' 'Bachillerato' 'Master'\n",
      " 'Bachillerato' 'Secundaria' 'Grado' 'Bachillerato' 'Grado' 'Grado'\n",
      " 'Bachillerato' 'Bachillerato' 'Bachillerato' 'Secundaria' 'Master'\n",
      " 'Bachillerato' 'Secundaria' 'Bachillerato' 'Secundaria' 'Secundaria'\n",
      " 'Bachillerato' 'Master' 'Grado' 'Bachillerato' 'Bachillerato'\n",
      " 'Secundaria' 'Bachillerato' 'Grado' 'Bachillerato' 'Bachillerato'\n",
      " 'Bachillerato' 'Secundaria' 'Bachillerato' 'Secundaria' 'Grado' 'Grado'\n",
      " 'Master' 'Bachillerato' 'Bachillerato' 'Secundaria' 'Bachillerato'\n",
      " 'Grado' 'Secundaria' 'Bachillerato' 'Grado' 'Bachillerato' 'Grado'\n",
      " 'Master' 'Bachillerato' 'Bachillerato' 'Bachillerato' 'Bachillerato'\n",
      " 'Bachillerato' 'Bachillerato' 'Secundaria' 'Secundaria' 'Secundaria'\n",
      " 'Secundaria' 'Bachillerato' 'Secundaria' 'Grado' 'Bachillerato' 'Grado'\n",
      " 'Grado' 'Bachillerato' 'Grado' 'Bachillerato' 'Master' 'Secundaria'\n",
      " 'Secundaria' 'Secundaria' 'Grado' 'Secundaria' 'Bachillerato' 'Master'\n",
      " 'Bachillerato' 'Grado' 'Bachillerato' 'Bachillerato' 'Bachillerato'\n",
      " 'Master' 'Grado' 'Bachillerato' 'Bachillerato' 'Secundaria' 'Grado'\n",
      " 'Secundaria' 'Grado' 'Bachillerato' 'Bachillerato' 'Bachillerato'\n",
      " 'Bachillerato' 'Grado' 'Secundaria' 'Bachillerato' 'Master' 'Grado'\n",
      " 'Grado' 'Master' 'Secundaria' 'Secundaria' 'Grado' 'Secundaria'\n",
      " 'Bachillerato' 'Grado' 'Bachillerato' 'Secundaria' 'Grado' 'Secundaria'\n",
      " 'Bachillerato' 'Secundaria' 'Grado' 'Secundaria' 'Master' 'Grado' 'Grado'\n",
      " 'Secundaria' 'Grado' 'Secundaria' 'Grado' 'Secundaria' 'Master'\n",
      " 'Bachillerato' 'Master' 'Bachillerato' 'Bachillerato' 'Master'\n",
      " 'Bachillerato' 'Grado' 'Grado' 'Grado' 'Master' 'Grado' 'Doctorado'\n",
      " 'Grado' 'Bachillerato' 'Bachillerato' 'Grado' 'Bachillerato' 'Grado'\n",
      " 'Grado' 'Bachillerato' 'Grado' 'Bachillerato' 'Bachillerato' 'Secundaria'\n",
      " 'Grado' 'Grado' 'Grado' 'Bachillerato' 'Secundaria' 'Bachillerato'\n",
      " 'Secundaria' 'Secundaria' 'Master' 'Bachillerato' 'Secundaria'\n",
      " 'Bachillerato' 'Secundaria' 'Bachillerato' 'Secundaria' 'Bachillerato'\n",
      " 'Grado' 'Bachillerato' 'Bachillerato' 'Grado' 'Master' 'Bachillerato'\n",
      " 'Secundaria' 'Bachillerato' 'Grado' 'Grado' 'Grado' 'Secundaria' 'Grado'\n",
      " 'Secundaria' 'Bachillerato' 'Grado' 'Bachillerato' 'Bachillerato'\n",
      " 'Secundaria' 'Grado' 'Grado' 'Grado' 'Grado' 'Secundaria' 'Bachillerato'\n",
      " 'Grado' 'Secundaria' 'Grado' 'Bachillerato' 'Bachillerato' 'Bachillerato'\n",
      " 'Grado' 'Bachillerato' 'Grado' 'Grado' 'Master' 'Master' 'Bachillerato'\n",
      " 'Grado' 'Master' 'Grado' 'Bachillerato' 'Master' 'Bachillerato' 'Master'\n",
      " 'Bachillerato' 'Grado' 'Master' 'Bachillerato' 'Secundaria'\n",
      " 'Bachillerato' 'Grado' 'Grado' 'Secundaria' 'Secundaria' 'Bachillerato'\n",
      " 'Secundaria' 'Bachillerato' 'Master' 'Bachillerato' 'Grado'\n",
      " 'Bachillerato' 'Secundaria' 'Grado' 'Grado' 'Bachillerato' 'Secundaria'\n",
      " 'Secundaria' 'Grado' 'Doctorado' 'Bachillerato' 'Secundaria' 'Grado'\n",
      " 'Grado' 'Bachillerato' 'Master' 'Bachillerato' 'Grado' 'Bachillerato'\n",
      " 'Grado' 'Master' 'Grado' 'Bachillerato' 'Master' 'Grado' 'Grado'\n",
      " 'Bachillerato' 'Grado' 'Bachillerato' 'Grado' 'Bachillerato' 'Grado'\n",
      " 'Secundaria' 'Master' 'Bachillerato' 'Bachillerato' 'Grado' 'Grado'\n",
      " 'Grado' 'Secundaria' 'Grado' 'Grado' 'Secundaria' 'Master' 'Grado'\n",
      " 'Grado' 'Secundaria' 'Doctorado' 'Grado' 'Master' 'Grado' 'Doctorado'\n",
      " 'Bachillerato' 'Grado' 'Secundaria' 'Secundaria' 'Bachillerato' 'Grado'\n",
      " 'Bachillerato' 'Grado' 'Secundaria' 'Bachillerato' 'Bachillerato' 'Grado'\n",
      " 'Grado' 'Master' 'Bachillerato' 'Bachillerato' 'Secundaria'\n",
      " 'Bachillerato' 'Master' 'Grado' 'Secundaria' 'Grado' 'Bachillerato'\n",
      " 'Secundaria' 'Bachillerato' 'Bachillerato' 'Bachillerato' 'Secundaria'\n",
      " 'Secundaria' 'Grado' 'Bachillerato' 'Master' 'Master' 'Secundaria'\n",
      " 'Bachillerato' 'Secundaria' 'Bachillerato' 'Secundaria' 'Doctorado'\n",
      " 'Doctorado' 'Bachillerato' 'Bachillerato' 'Bachillerato' 'Bachillerato'\n",
      " 'Grado']\n"
     ]
    }
   ],
   "source": [
    "print(nivel_estudios)"
   ]
  },
  {
   "cell_type": "code",
   "execution_count": 3,
   "metadata": {},
   "outputs": [
    {
     "name": "stdout",
     "output_type": "stream",
     "text": [
      "['Bachillerato' 'Doctorado' 'Grado' 'Master' 'Secundaria'] [172  21 145  52 110]\n"
     ]
    },
    {
     "data": {
      "image/png": "[encoded data removed]",
      "text/plain": [
       "<Figure size 432x288 with 1 Axes>"
      ]
     },
     "metadata": {
      "needs_background": "light"
     },
     "output_type": "display_data"
    }
   ],
   "source": [
    "# DIAGRAMA DE BARRAS\n",
    "\n",
    "import matplotlib.pyplot as plt\n",
    "import numpy as np\n",
    "\n",
    "estudios, frecuencia = np.unique(nivel_estudios, return_counts=True)\n",
    "print(estudios, frecuencia)\n",
    "\n",
    "fig, ax = plt.subplots()\n",
    "ax.set_ylabel('Frecuencia absoluta')\n",
    "ax.set_xlabel('Nivel de estudios')\n",
    "ax.set_title('Diagrama de barras')\n",
    "plt.bar(estudios, frecuencia, color='orange')\n",
    "plt.show()"
   ]
  },
  {
   "cell_type": "code",
   "execution_count": 4,
   "metadata": {},
   "outputs": [
    {
     "data": {
      "image/png": "[encoded data removed]",
      "text/plain": [
       "<Figure size 432x288 with 1 Axes>"
      ]
     },
     "metadata": {},
     "output_type": "display_data"
    }
   ],
   "source": [
    "# DIAGRAMA DE SECTORES\n",
    "colores = {'red', 'blue', 'green', 'orange', 'cyan'}\n",
    "plt.pie(frecuencia, labels=estudios, colors=colores, autopct='%1.1f%%')\n",
    "plt.title('Diagrama de sectores')\n",
    "plt.show()"
   ]
  },
  {
   "cell_type": "code",
   "execution_count": null,
   "metadata": {},
   "outputs": [],
   "source": []
  }
 ],
 "metadata": {
  "kernelspec": {
   "display_name": "Python 3",
   "language": "python",
   "name": "python3"
  },
  "language_info": {
   "codemirror_mode": {
    "name": "ipython",
    "version": 3
   },
   "file_extension": ".py",
   "mimetype": "text/x-python",
   "name": "python",
   "nbconvert_exporter": "python",
   "pygments_lexer": "ipython3",
   "version": "3.8.8"
  }
 },
 "nbformat": 4,
 "nbformat_minor": 4
}
