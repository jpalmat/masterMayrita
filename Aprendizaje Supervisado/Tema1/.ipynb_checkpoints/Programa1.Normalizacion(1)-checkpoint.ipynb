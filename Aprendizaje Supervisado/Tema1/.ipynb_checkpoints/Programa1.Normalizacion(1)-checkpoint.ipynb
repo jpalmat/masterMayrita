{
 "cells": [
  {
   "cell_type": "code",
   "execution_count": null,
   "metadata": {},
   "outputs": [],
   "source": [
    "from sklearn import preprocessing\n",
    "import numpy as np"
   ]
  },
  {
   "cell_type": "code",
   "execution_count": null,
   "metadata": {},
   "outputs": [],
   "source": [
    "# Carga de datos.\n",
    "X_train = np.array([[ 1., -200.,  2.],\n",
    "                    [ 5.,  0.,  0.],\n",
    "                    [ 0.,  1., -1.]])\n",
    "\n",
    "print(X_train)"
   ]
  },
  {
   "cell_type": "code",
   "execution_count": null,
   "metadata": {},
   "outputs": [],
   "source": [
    "# Limpieza de datos: normalización.\n",
    "normalizer = preprocessing.MinMaxScaler()\n",
    "X_train_norm = normalizer.fit_transform(X_train)"
   ]
  },
  {
   "cell_type": "code",
   "execution_count": null,
   "metadata": {},
   "outputs": [],
   "source": [
    "# Salida de resultados.\n",
    "print(X_train_norm)"
   ]
  },
  {
   "cell_type": "code",
   "execution_count": null,
   "metadata": {},
   "outputs": [],
   "source": [
    "# Ejemplo para ver que los resultados son iguales si aplicamos los métodos \"fit\" y \"transform\" por separado\n",
    "X_train_2 = np.copy(X_train)\n",
    "f = normalizer.fit(X_train)\n",
    "X_train_norm_2 = f.transform(X_train_2)\n",
    "print(X_train_norm_2)"
   ]
  },
  {
   "cell_type": "code",
   "execution_count": null,
   "metadata": {},
   "outputs": [],
   "source": [
    "# Comprobar si las matrices normalizadas son iguales\n",
    "print(np.array_equiv(X_train_norm, X_train_norm_2))"
   ]
  },
  {
   "cell_type": "code",
   "execution_count": null,
   "metadata": {},
   "outputs": [],
   "source": [
    "# Normalizar un nuevo conjunto de datos de test (SOLO HAY QUE APLICAR EL MÉTODO \"transform\", NO EL \"fit\")\n",
    "X_test = np.array([[ 1., -24.,  2.],\n",
    "                    [ 400.,  0.,  0.],\n",
    "                    [ 0.,  1., -1.]])\n",
    "\n",
    "X_test_norm = f.transform(X_test)\n",
    "print(X_test_norm)"
   ]
  }
 ],
 "metadata": {
  "kernelspec": {
   "display_name": "Python 3",
   "language": "python",
   "name": "python3"
  },
  "language_info": {
   "codemirror_mode": {
    "name": "ipython",
    "version": 3
   },
   "file_extension": ".py",
   "mimetype": "text/x-python",
   "name": "python",
   "nbconvert_exporter": "python",
   "pygments_lexer": "ipython3",
   "version": "3.8.5"
  }
 },
 "nbformat": 4,
 "nbformat_minor": 2
}
