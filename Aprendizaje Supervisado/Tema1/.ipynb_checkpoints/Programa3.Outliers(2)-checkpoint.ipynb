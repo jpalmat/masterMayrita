{
 "cells": [
  {
   "cell_type": "code",
   "execution_count": null,
   "metadata": {},
   "outputs": [],
   "source": [
    "import pandas as pd\n",
    "import numpy as np\n",
    "from scipy import stats\n",
    "from sklearn.covariance import EllipticEnvelope\n",
    "from limpieza_funciones import grafico_outliers"
   ]
  },
  {
   "cell_type": "code",
   "execution_count": null,
   "metadata": {},
   "outputs": [],
   "source": [
    "# Carga de datos.\n",
    "df = pd.read_csv(\"outliers.csv\")\n",
    "print(df)"
   ]
  },
  {
   "cell_type": "code",
   "execution_count": null,
   "metadata": {},
   "outputs": [],
   "source": [
    "# Limpieza de datos: detección de outliers.\n",
    "outlier_method = EllipticEnvelope().fit(df)\n",
    "# Obtenemos unos valores de puntuación a nivel de instancia para determinar después las que corresponden con valores atípicos\n",
    "scores_pred = outlier_method.decision_function(df)\n",
    "print(scores_pred)\n",
    "print(np.shape(scores_pred))"
   ]
  },
  {
   "cell_type": "code",
   "execution_count": null,
   "metadata": {},
   "outputs": [],
   "source": [
    "# Seleccionamos manualmente los umbrales a partir de los cuales vamos a determinar qué valores son outliers y cuáles no. \n",
    "Q1 = stats.scoreatpercentile(scores_pred, 25)\n",
    "Q3 = stats.scoreatpercentile(scores_pred, 75)\n",
    "RIC = Q3 - Q1\n",
    "li = Q1 - 3*RIC #xmin\n",
    "ls = Q3 + 3*RIC #xmax\n",
    "\n",
    "print('limite inferior: ', li)\n",
    "print('limite superior: ', ls)\n",
    "\n",
    "import matplotlib.pyplot as plt\n",
    "prop = plt.boxplot(scores_pred)\n",
    "plt.boxplot(scores_pred)\n",
    "plt.show()"
   ]
  },
  {
   "cell_type": "code",
   "execution_count": null,
   "metadata": {},
   "outputs": [],
   "source": [
    "# Estimación de outliers. Encontramos la posición de los outliers dentro de nuestros conjunto de datos\n",
    "pos_i = np.where(scores_pred<li)\n",
    "pos_s = np.where(scores_pred>ls)\n",
    "print('Posición de outliers en el extremo inferior: ', pos_i[0])\n",
    "print('Posición de outliers en el extremo superior: ', pos_s[0])"
   ]
  },
  {
   "cell_type": "code",
   "execution_count": null,
   "metadata": {},
   "outputs": [],
   "source": [
    "# Matriz de outliers. Observamos que los outliers son aquellas instancias donde el valor es 1\n",
    "mask_outliers = np.zeros(np.shape(scores_pred))\n",
    "mask_outliers[pos_i] = 1\n",
    "mask_outliers[pos_s] = 1\n",
    "print(mask_outliers)"
   ]
  },
  {
   "cell_type": "code",
   "execution_count": null,
   "metadata": {},
   "outputs": [],
   "source": [
    "# Contamos el número de datos reales y de outliers que hemos detectado\n",
    "valores, ocurrencias = np.unique(mask_outliers, return_counts=True)\n",
    "print(valores, ocurrencias)\n",
    "print('Número de instancias normales: ', ocurrencias[0])\n",
    "print('Número de instancias atípicas: ', ocurrencias[1])"
   ]
  },
  {
   "cell_type": "code",
   "execution_count": null,
   "metadata": {},
   "outputs": [],
   "source": [
    "# Dibujamos la gráfica de outliers.\n",
    "threshold = stats.scoreatpercentile(scores_pred, 25) # Fijamos un umbral específico\n",
    "grafico_outliers(df, outlier_method, 150, threshold, -7, 7)"
   ]
  }
 ],
 "metadata": {
  "kernelspec": {
   "display_name": "Python 3",
   "language": "python",
   "name": "python3"
  },
  "language_info": {
   "codemirror_mode": {
    "name": "ipython",
    "version": 3
   },
   "file_extension": ".py",
   "mimetype": "text/x-python",
   "name": "python",
   "nbconvert_exporter": "python",
   "pygments_lexer": "ipython3",
   "version": "3.8.5"
  }
 },
 "nbformat": 4,
 "nbformat_minor": 2
}
