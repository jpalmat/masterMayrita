{
 "cells": [
  {
   "cell_type": "code",
   "execution_count": null,
   "metadata": {},
   "outputs": [],
   "source": [
    "from sklearn import preprocessing\n",
    "import numpy as np"
   ]
  },
  {
   "cell_type": "code",
   "execution_count": null,
   "metadata": {},
   "outputs": [],
   "source": [
    "# Carga de datos\n",
    "X_train = np.array([[ 1., -1.,  2.],\n",
    "                    [ 2.,  0.,  0.],\n",
    "                    [ 0.,  1., -1.]])"
   ]
  },
  {
   "cell_type": "code",
   "execution_count": null,
   "metadata": {},
   "outputs": [],
   "source": [
    "# Limpieza de datos: estandarización.\n",
    "standardizer = preprocessing.StandardScaler()\n",
    "X_train_std = standardizer.fit_transform(X_train)"
   ]
  },
  {
   "cell_type": "code",
   "execution_count": null,
   "metadata": {},
   "outputs": [],
   "source": [
    "# Salida de resultados.\n",
    "print(X_train_std)"
   ]
  },
  {
   "cell_type": "code",
   "execution_count": null,
   "metadata": {},
   "outputs": [],
   "source": [
    "# Ejemplo para ver que los resultados son iguales si aplicamos los métodos \"fit\" y \"transform\" por separado\n",
    "X_train_2 = np.copy(X_train)\n",
    "f = standardizer.fit(X_train)\n",
    "X_train_std_2 = f.transform(X_train_2)\n",
    "print(X_train_std_2)"
   ]
  },
  {
   "cell_type": "code",
   "execution_count": null,
   "metadata": {},
   "outputs": [],
   "source": [
    "# Comprobar si las matrices estandarizadas son iguales\n",
    "print(np.array_equiv(X_train_std, X_train_std_2))"
   ]
  },
  {
   "cell_type": "code",
   "execution_count": null,
   "metadata": {},
   "outputs": [],
   "source": [
    "# Estandarizar un nuevo conjunto de datos de test (SOLO HAY QUE APLICAR EL MÉTODO \"transform\", NO EL \"fit\")\n",
    "X_test = np.array([[ 1., -24.,  2.],\n",
    "                    [ 400.,  0.,  0.],\n",
    "                    [ 0.,  1., -1.]])\n",
    "\n",
    "X_test_std = f.transform(X_test)\n",
    "print(X_test_std)"
   ]
  },
  {
   "cell_type": "markdown",
   "metadata": {},
   "source": [
    "#### Ejemplo para DETECTAR OUTLIERS a partir de la estandarización "
   ]
  },
  {
   "cell_type": "code",
   "execution_count": null,
   "metadata": {},
   "outputs": [],
   "source": [
    "# Definimos una matriz de datos grande y colocamos manualmente dos outliers en las posiciones [9,1] y [14,2]\n",
    "X_train = np.array([[ 1., -1.,  2.],\n",
    "                    [ 0,  0.,  0.],\n",
    "                    [ 0.,  1., -1.], \n",
    "                   [ 1., -1.,  2.],\n",
    "                    [ 1.,  0.,  0.],\n",
    "                    [ 0.,  1., -1.],\n",
    "                   [ 1., -1.,  2.],\n",
    "                    [ 1.,  0.,  0.],\n",
    "                    [ 0.,  1., -1.],\n",
    "                   [ 1., 300.,  2.],\n",
    "                    [ 1.,  0.,  0.],\n",
    "                    [ 0.,  1., -1.],\n",
    "                    [ 1., -1.,  2.],\n",
    "                    [ 1.,  0.,  0.],\n",
    "                    [ 0.,  1., 300.],\n",
    "                   [ 1.,  0.,  0.],\n",
    "                    [ 0.,  1., -1.],\n",
    "                    [ 1., -1.,  2.],\n",
    "                    [ 1.,  0.,  0.],\n",
    "                    [ 0.,  1., -1.]])"
   ]
  },
  {
   "cell_type": "code",
   "execution_count": null,
   "metadata": {},
   "outputs": [],
   "source": [
    "# Estandarizamos\n",
    "standardizer = preprocessing.StandardScaler()\n",
    "X_train_std = standardizer.fit_transform(X_train)\n",
    "print(X_train_std)"
   ]
  },
  {
   "cell_type": "code",
   "execution_count": null,
   "metadata": {},
   "outputs": [],
   "source": [
    "# Los outliers serán aquellos valores cuyo resultado estandarizado sea superior a 3 unidades\n",
    "[x,y] = np.where(X_train_std>3)\n",
    "print('Outliers detectados en las coordenadas: ')\n",
    "for i in np.arange(0,len(x)):\n",
    "    print('[', str(x[i]), ',', str(y[i]), ']')\n"
   ]
  }
 ],
 "metadata": {
  "kernelspec": {
   "display_name": "Python 3",
   "language": "python",
   "name": "python3"
  },
  "language_info": {
   "codemirror_mode": {
    "name": "ipython",
    "version": 3
   },
   "file_extension": ".py",
   "mimetype": "text/x-python",
   "name": "python",
   "nbconvert_exporter": "python",
   "pygments_lexer": "ipython3",
   "version": "3.8.5"
  }
 },
 "nbformat": 4,
 "nbformat_minor": 2
}
