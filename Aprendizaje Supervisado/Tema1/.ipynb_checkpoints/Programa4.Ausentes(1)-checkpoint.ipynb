{
 "cells": [
  {
   "cell_type": "code",
   "execution_count": null,
   "metadata": {},
   "outputs": [],
   "source": [
    "import numpy as np\n",
    "from sklearn.impute import SimpleImputer"
   ]
  },
  {
   "cell_type": "code",
   "execution_count": null,
   "metadata": {},
   "outputs": [],
   "source": [
    "# Carga de datos.\n",
    "a = [[1,      2], \n",
    "     [np.nan, 3], \n",
    "     [7,      6]]\n",
    "print(a)"
   ]
  },
  {
   "cell_type": "code",
   "execution_count": null,
   "metadata": {},
   "outputs": [],
   "source": [
    "# Limpieza de datos: imputación valores ausentes (modelo).\n",
    "imp = SimpleImputer(strategy='mean') # Utilizamos la estrategia de la media\n",
    "\n",
    "#Podemos aplicar \"fit_transform\" sobre 'a', o hacerlo de manera separada con \"fit\" y \"transform\"\n",
    "imputer_entrenado = imp.fit(a)\n",
    "cleaned_a = imputer_entrenado.transform(a)\n",
    "print(cleaned_a)"
   ]
  },
  {
   "cell_type": "code",
   "execution_count": null,
   "metadata": {},
   "outputs": [],
   "source": [
    "# Limpieza de datos: imputación valores ausentes (aplicación).\n",
    "b = [[np.nan, 10], \n",
    "     [6,      np.nan], \n",
    "     [8,      1]]\n",
    "\n",
    "# Utilizamos el imputer entrenado sobre nuestro conjunto de entrenamiento (a) y lo aplicamos sobre la nueva matriz (b)\n",
    "imp = SimpleImputer(strategy='mean')\n",
    "imputer_entrenado = imp.fit(a)\n",
    "cleaned_b = imputer_entrenado.transform(b)\n",
    "print(cleaned_b)"
   ]
  }
 ],
 "metadata": {
  "kernelspec": {
   "display_name": "Python 3",
   "language": "python",
   "name": "python3"
  },
  "language_info": {
   "codemirror_mode": {
    "name": "ipython",
    "version": 3
   },
   "file_extension": ".py",
   "mimetype": "text/x-python",
   "name": "python",
   "nbconvert_exporter": "python",
   "pygments_lexer": "ipython3",
   "version": "3.8.5"
  }
 },
 "nbformat": 4,
 "nbformat_minor": 4
}
