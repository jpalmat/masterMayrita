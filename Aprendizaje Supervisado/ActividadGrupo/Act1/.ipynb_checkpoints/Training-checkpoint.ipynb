{
 "cells": [
  {
   "cell_type": "markdown",
   "metadata": {},
   "source": [
    "#### Carga de datos"
   ]
  },
  {
   "cell_type": "code",
   "execution_count": null,
   "metadata": {},
   "outputs": [],
   "source": [
    "import numpy as np\n",
    "datos_train = np.load('data/train.npy')\n",
    "\n",
    "# Separación de los atributos (X_train) y del target (y_train)\n",
    "X_train = datos_train[:,:-1]\n",
    "y_train = datos_train[:,-1]"
   ]
  },
  {
   "cell_type": "markdown",
   "metadata": {},
   "source": [
    "#### Exploración de los datos"
   ]
  },
  {
   "cell_type": "code",
   "execution_count": null,
   "metadata": {},
   "outputs": [],
   "source": [
    "# Exploración de los datos\n",
    "print('X_train shape: ', np.shape(X_train))\n",
    "print('y_train shape: ', np.shape(y_train))\n",
    "\n",
    "# Target balanceado??\n",
    "val, ocur = np.unique(y_train, return_counts=True)\n",
    "print('valores de \"y\": ', val)\n",
    "print('frecuenca de \"y\": ', ocur)\n",
    "\n",
    "# Datos estandarizados??\n",
    "print('Valores: ', X_train[0]) "
   ]
  },
  {
   "cell_type": "markdown",
   "metadata": {},
   "source": [
    "#### Definición del diccionario de métricas"
   ]
  },
  {
   "cell_type": "code",
   "execution_count": null,
   "metadata": {},
   "outputs": [],
   "source": [
    "import sklearn.metrics as metrics\n",
    "metricas = {'accuracy': 'accuracy',\n",
    "           'recall': 'recall',\n",
    "           'precision': 'precision',\n",
    "           'fscore': 'f1'}"
   ]
  },
  {
   "cell_type": "markdown",
   "metadata": {},
   "source": [
    "#### Entrenamiento del algoritmo de clasificación SVM"
   ]
  },
  {
   "cell_type": "code",
   "execution_count": null,
   "metadata": {},
   "outputs": [],
   "source": [
    "# Hiperparámetros por defecto\n",
    "from sklearn.svm import SVC\n",
    "model_def = SVC()"
   ]
  },
  {
   "cell_type": "code",
   "execution_count": null,
   "metadata": {},
   "outputs": [],
   "source": [
    "# Hacer cross-validation \n",
    "from sklearn.model_selection import cross_validate, cross_val_score, KFold\n",
    "from pprint import pprint\n",
    "res = cross_validate(model_def, X_train, y_train, cv = KFold(n_splits=5, shuffle=True, random_state=42), scoring=metricas)\n",
    "pprint(res)"
   ]
  },
  {
   "cell_type": "code",
   "execution_count": null,
   "metadata": {},
   "outputs": [],
   "source": [
    "# Tunear los hiperparámetros\n",
    "alg = SVC(C=10, gamma='auto', kernel='poly', random_state=42)\n",
    "res = cross_validate(alg, X_train, y_train, cv = KFold(n_splits=5, shuffle=True, random_state=42), scoring=metricas)\n",
    "print('Results: ', np.round(np.mean(res['test_accuracy']),4), '+-', np.round(np.std(res['test_accuracy']), 4))"
   ]
  },
  {
   "cell_type": "code",
   "execution_count": null,
   "metadata": {},
   "outputs": [],
   "source": [
    "# Entrenar modelo final\n",
    "final_model = SVC(C=0.25, gamma=0.1, kernel='sigmoid', random_state=42)\n",
    "final_model = final_model.fit(X_train, y_train)"
   ]
  },
  {
   "cell_type": "markdown",
   "metadata": {},
   "source": [
    "#### Guardado del modelo definitivo"
   ]
  },
  {
   "cell_type": "code",
   "execution_count": null,
   "metadata": {},
   "outputs": [],
   "source": [
    "# Guardar modelo final\n",
    "import pickle\n",
    "with open('models/model_ejemplo.pickle', 'wb') as fw:\n",
    "    pickle.dump(final_model, fw)"
   ]
  }
 ],
 "metadata": {
  "kernelspec": {
   "display_name": "Python 3",
   "language": "python",
   "name": "python3"
  },
  "language_info": {
   "codemirror_mode": {
    "name": "ipython",
    "version": 3
   },
   "file_extension": ".py",
   "mimetype": "text/x-python",
   "name": "python",
   "nbconvert_exporter": "python",
   "pygments_lexer": "ipython3",
   "version": "3.8.5"
  }
 },
 "nbformat": 4,
 "nbformat_minor": 4
}
