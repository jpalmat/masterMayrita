{
 "cells": [
  {
   "cell_type": "markdown",
   "metadata": {},
   "source": [
    "#### Carga de datos"
   ]
  },
  {
   "cell_type": "code",
   "execution_count": 3,
   "metadata": {},
   "outputs": [],
   "source": [
    "import numpy as np\n",
    "datos_train = np.load('data/train.npy')\n",
    "\n",
    "# Separación de los atributos (X_train) y del target (y_train)\n",
    "X_train = datos_train[:,:-1]\n",
    "y_train = datos_train[:,-1]"
   ]
  },
  {
   "cell_type": "markdown",
   "metadata": {},
   "source": [
    "#### Exploración de los datos"
   ]
  },
  {
   "cell_type": "code",
   "execution_count": 4,
   "metadata": {},
   "outputs": [
    {
     "name": "stdout",
     "output_type": "stream",
     "text": [
      "X_train shape:  (152, 10)\n",
      "y_train shape:  (152,)\n",
      "valores de \"y\":  [0. 1.]\n",
      "frecuenca de \"y\":  [75 77]\n",
      "Valores:  [ 0.08643772 -0.11146045 -1.8330433  -0.94005044 -0.04319178  0.32683947\n",
      "  0.24654552  1.24681431 -1.10444142  0.50027139]\n"
     ]
    }
   ],
   "source": [
    "# Exploración de los datos\n",
    "print('X_train shape: ', np.shape(X_train))\n",
    "print('y_train shape: ', np.shape(y_train))\n",
    "\n",
    "# Target balanceado??\n",
    "val, ocur = np.unique(y_train, return_counts=True)\n",
    "print('valores de \"y\": ', val)\n",
    "print('frecuenca de \"y\": ', ocur)\n",
    "\n",
    "# Datos estandarizados??\n",
    "print('Valores: ', X_train[0]) "
   ]
  },
  {
   "cell_type": "markdown",
   "metadata": {},
   "source": [
    "#### Definición del diccionario de métricas"
   ]
  },
  {
   "cell_type": "code",
   "execution_count": 5,
   "metadata": {},
   "outputs": [],
   "source": [
    "import sklearn.metrics as metrics\n",
    "metricas = {'accuracy': 'accuracy',\n",
    "           'recall': 'recall',\n",
    "           'precision': 'precision',\n",
    "           'fscore': 'f1'}"
   ]
  },
  {
   "cell_type": "markdown",
   "metadata": {},
   "source": [
    "#### Entrenamiento del algoritmo de clasificación SVM"
   ]
  },
  {
   "cell_type": "code",
   "execution_count": 6,
   "metadata": {},
   "outputs": [],
   "source": [
    "# Hiperparámetros por defecto\n",
    "from sklearn.svm import SVC\n",
    "model_def = SVC()"
   ]
  },
  {
   "cell_type": "code",
   "execution_count": 7,
   "metadata": {},
   "outputs": [
    {
     "name": "stdout",
     "output_type": "stream",
     "text": [
      "{'fit_time': array([1.49771309e+00, 9.86099243e-04, 9.72986221e-04, 8.95977020e-04,\n",
      "       9.39846039e-04]),\n",
      " 'score_time': array([0.00283813, 0.00285482, 0.00265479, 0.00285912, 0.00243998]),\n",
      " 'test_accuracy': array([0.90322581, 0.90322581, 0.9       , 0.86666667, 0.9       ]),\n",
      " 'test_fscore': array([0.90909091, 0.90322581, 0.89655172, 0.85714286, 0.88888889]),\n",
      " 'test_precision': array([1.        , 0.93333333, 0.92857143, 0.85714286, 0.92307692]),\n",
      " 'test_recall': array([0.83333333, 0.875     , 0.86666667, 0.85714286, 0.85714286])}\n"
     ]
    }
   ],
   "source": [
    "# Hacer cross-validation \n",
    "from sklearn.model_selection import cross_validate, cross_val_score, KFold\n",
    "from pprint import pprint\n",
    "res = cross_validate(model_def, X_train, y_train, cv = KFold(n_splits=5, shuffle=True, random_state=42), scoring=metricas)\n",
    "pprint(res)"
   ]
  },
  {
   "cell_type": "code",
   "execution_count": 8,
   "metadata": {},
   "outputs": [
    {
     "name": "stdout",
     "output_type": "stream",
     "text": [
      "Results:  0.8746 +- 0.0497\n"
     ]
    }
   ],
   "source": [
    "# Tunear los hiperparámetros\n",
    "alg = SVC(C=10, gamma='auto', kernel='poly', random_state=42)\n",
    "res = cross_validate(alg, X_train, y_train, cv = KFold(n_splits=5, shuffle=True, random_state=42), scoring=metricas)\n",
    "print('Results: ', np.round(np.mean(res['test_accuracy']),4), '+-', np.round(np.std(res['test_accuracy']), 4))"
   ]
  },
  {
   "cell_type": "code",
   "execution_count": 9,
   "metadata": {},
   "outputs": [],
   "source": [
    "# Entrenar modelo final\n",
    "final_model = SVC(C=0.25, gamma=0.1, kernel='sigmoid', random_state=42)\n",
    "final_model = final_model.fit(X_train, y_train)"
   ]
  },
  {
   "cell_type": "markdown",
   "metadata": {},
   "source": [
    "#### Guardado del modelo definitivo"
   ]
  },
  {
   "cell_type": "code",
   "execution_count": 11,
   "metadata": {},
   "outputs": [],
   "source": [
    "# Guardar modelo final\n",
    "import pickle\n",
    "with open('data/model_ejemplo.pickle', 'wb') as fw:\n",
    "    pickle.dump(final_model, fw)"
   ]
  }
 ],
 "metadata": {
  "kernelspec": {
   "display_name": "Python 3",
   "language": "python",
   "name": "python3"
  },
  "language_info": {
   "codemirror_mode": {
    "name": "ipython",
    "version": 3
   },
   "file_extension": ".py",
   "mimetype": "text/x-python",
   "name": "python",
   "nbconvert_exporter": "python",
   "pygments_lexer": "ipython3",
   "version": "3.8.8"
  }
 },
 "nbformat": 4,
 "nbformat_minor": 4
}
