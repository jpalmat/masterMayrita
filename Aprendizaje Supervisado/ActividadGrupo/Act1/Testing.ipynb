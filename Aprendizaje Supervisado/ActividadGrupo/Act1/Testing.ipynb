{
 "cells": [
  {
   "cell_type": "markdown",
   "metadata": {},
   "source": [
    "#### Carga de datos"
   ]
  },
  {
   "cell_type": "code",
   "execution_count": 3,
   "metadata": {},
   "outputs": [],
   "source": [
    "import numpy as np\n",
    "datos_test = np.load('data/test.npy')\n",
    "\n",
    "# Separación de los atributos (X_test) y del target (y_test)\n",
    "X_test = datos_test[:,:-1]\n",
    "y_test = datos_test[:,-1]"
   ]
  },
  {
   "cell_type": "markdown",
   "metadata": {},
   "source": [
    "#### Carga del modelo"
   ]
  },
  {
   "cell_type": "code",
   "execution_count": 4,
   "metadata": {},
   "outputs": [],
   "source": [
    "# Load models\n",
    "import pickle\n",
    "from pprint import pprint\n",
    "with open('data/model_ejemplo.pickle', 'rb') as fr:\n",
    "    model = pickle.load(fr)"
   ]
  },
  {
   "cell_type": "markdown",
   "metadata": {},
   "source": [
    "#### Predicción sobre el conjunto de test"
   ]
  },
  {
   "cell_type": "code",
   "execution_count": 5,
   "metadata": {},
   "outputs": [
    {
     "name": "stdout",
     "output_type": "stream",
     "text": [
      "[1. 0. 1. 1. 1. 0. 1. 1. 1. 1. 0. 0. 1. 0. 0. 0. 1. 1. 0. 1. 0. 0. 0. 0.\n",
      " 0. 1. 1. 0. 0. 0. 0. 1. 1. 1. 0. 0.]\n"
     ]
    }
   ],
   "source": [
    "# Extraer predicciones\n",
    "y_pred = model.predict(X_test)\n",
    "print(y_pred)"
   ]
  },
  {
   "cell_type": "markdown",
   "metadata": {},
   "source": [
    "#### Obtención de los resultados"
   ]
  },
  {
   "cell_type": "code",
   "execution_count": 6,
   "metadata": {},
   "outputs": [
    {
     "name": "stdout",
     "output_type": "stream",
     "text": [
      "             model_ejemplo\n",
      "---------  ---------------\n",
      "Precision           0.9412\n",
      "Recall              1\n",
      "F1-score            0.9697\n",
      "Accuracy            0.9722\n",
      "AUC                 0.975\n"
     ]
    }
   ],
   "source": [
    "# Comparación de modelos\n",
    "import sklearn.metrics as metrics\n",
    "from tabulate import tabulate\n",
    "headers = ['', 'model_ejemplo']\n",
    "P,S,FS,ACC,AUC = ['Precision'], ['Recall'], ['F1-score'], ['Accuracy'], ['AUC']\n",
    "P.append(np.round(metrics.precision_score(y_test, y_pred),4))\n",
    "S.append(np.round(metrics.recall_score(y_test, y_pred),4))\n",
    "FS.append(np.round(metrics.f1_score(y_test, y_pred),4))\n",
    "ACC.append(np.round(metrics.accuracy_score(y_test, y_pred),4))\n",
    "AUC.append(np.round(metrics.roc_auc_score(y_test, y_pred),4))\n",
    "my_data = [tuple(P), tuple(S), tuple(FS), tuple(ACC), tuple(AUC)]\n",
    "print(tabulate(my_data, headers=headers))"
   ]
  }
 ],
 "metadata": {
  "kernelspec": {
   "display_name": "Python 3",
   "language": "python",
   "name": "python3"
  },
  "language_info": {
   "codemirror_mode": {
    "name": "ipython",
    "version": 3
   },
   "file_extension": ".py",
   "mimetype": "text/x-python",
   "name": "python",
   "nbconvert_exporter": "python",
   "pygments_lexer": "ipython3",
   "version": "3.8.8"
  }
 },
 "nbformat": 4,
 "nbformat_minor": 4
}
