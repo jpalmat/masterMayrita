{
 "cells": [
  {
   "cell_type": "code",
   "execution_count": 1,
   "metadata": {},
   "outputs": [],
   "source": [
    "# Librerías\n",
    "import os\n",
    "import cv2\n",
    "import matplotlib.pyplot as plt\n",
    "import numpy as np\n",
    "import pickle\n",
    "from pprint import pprint\n",
    "from skimage.feature import hog\n",
    "\n",
    "from sklearn import preprocessing\n",
    "from sklearn.feature_selection import VarianceThreshold\n",
    "from sklearn.model_selection import cross_val_score, KFold\n",
    "from sklearn.ensemble import RandomForestClassifier"
   ]
  },
  {
   "cell_type": "code",
   "execution_count": null,
   "metadata": {},
   "outputs": [],
   "source": [
    "# Carga de datos\n",
    "images, target  = [], []\n",
    "folder = os.listdir('digits/train/')\n",
    "\n",
    "for i in np.arange(len(folder)):\n",
    "    name = folder[i] # name image\n",
    "    img = cv2.imread('digits/train/' + name, 0)\n",
    "    img[img<255]=0\n",
    "    images.append(img)\n",
    "    \n",
    "    idx = name.find('_')\n",
    "    tgt = int(name[idx+1])\n",
    "    target.append(tgt)\n",
    "\n",
    "images = np.array(images)\n",
    "target = np.array(target)\n",
    "print(np.shape(images))\n",
    "print(np.shape(target))\n"
   ]
  },
  {
   "cell_type": "code",
   "execution_count": null,
   "metadata": {},
   "outputs": [],
   "source": [
    "# Exploración de los datos\n",
    "img = images[195]\n",
    "plt.imshow(img, cmap='gray')\n",
    "plt.title('label: '+str(target[195]))\n",
    "plt.show()\n",
    "\n",
    "# Comprobamos si están balanceados\n",
    "val, frec = np.unique(target, return_counts=True)\n",
    "print(val, frec)\n"
   ]
  },
  {
   "cell_type": "code",
   "execution_count": null,
   "metadata": {},
   "outputs": [],
   "source": [
    "# 1) Extracción de características \n",
    "X_train = []\n",
    "y_train = target\n",
    "for i in np.arange(len(folder)):\n",
    "    features = hog(images[i], orientations=9, pixels_per_cell=(4, 4), cells_per_block=(2, 2), \n",
    "                   transform_sqrt=True, block_norm=\"L1\")\n",
    "    X_train.append(features)\n",
    "    \n",
    "X_train = np.array(X_train)\n",
    "print(np.shape(X_train))\n",
    "print(np.shape(y_train))\n"
   ]
  },
  {
   "cell_type": "code",
   "execution_count": null,
   "metadata": {},
   "outputs": [],
   "source": [
    "# 2) Estandarización de los atributos\n",
    "std = preprocessing.StandardScaler()\n",
    "X_std = std.fit_transform(X_train)\n",
    "print(np.shape(X_std))\n",
    "\n",
    "# Guardar el estandarizador\n",
    "with open('objetos/estandarizador.pickle', 'wb') as fw:\n",
    "    pickle.dump(std, fw)"
   ]
  },
  {
   "cell_type": "code",
   "execution_count": null,
   "metadata": {},
   "outputs": [],
   "source": [
    "# 3) Selección de características\n",
    "th = 0.0001\n",
    "sel = VarianceThreshold(th)\n",
    "X_train_sel = sel.fit_transform(X_std)\n",
    "print(np.shape(X_train_sel))\n",
    "\n",
    "# Guardar el selector\n",
    "with open('objetos/selector.pickle', 'wb') as fw:\n",
    "    pickle.dump(sel, fw)"
   ]
  },
  {
   "cell_type": "code",
   "execution_count": null,
   "metadata": {},
   "outputs": [],
   "source": [
    "# 4) Entrenamiento mediante cross-validation\n",
    "clf = RandomForestClassifier(n_estimators=200, criterion='gini', max_depth=None, random_state=42, \n",
    "                             min_samples_split=2, min_samples_leaf=1, min_weight_fraction_leaf=0.0, max_features='auto', \n",
    "                             max_leaf_nodes=None, min_impurity_decrease=0, bootstrap=False)\n",
    "\n",
    "results = cross_val_score(clf, X_train_sel, y_train, cv = KFold(n_splits=5, shuffle=True, random_state=42))\n",
    "\n",
    "# Plotear resultados en términos de media y desviación estándar\n",
    "print(\"Accuracy (media +/- desv.): %0.4f +/- %0.4f\" % (results.mean(), results.std()))"
   ]
  },
  {
   "cell_type": "code",
   "execution_count": null,
   "metadata": {},
   "outputs": [],
   "source": [
    "# 4.1) Entrenamiento definitivo\n",
    "final_clf = clf.fit(X_train_sel, y_train)\n",
    "\n",
    "# Guardar modelo final\n",
    "with open('objetos/clasificador.pickle', 'wb') as fw:\n",
    "    pickle.dump(final_clf, fw)"
   ]
  }
 ],
 "metadata": {
  "kernelspec": {
   "display_name": "Python 3",
   "language": "python",
   "name": "python3"
  },
  "language_info": {
   "codemirror_mode": {
    "name": "ipython",
    "version": 3
   },
   "file_extension": ".py",
   "mimetype": "text/x-python",
   "name": "python",
   "nbconvert_exporter": "python",
   "pygments_lexer": "ipython3",
   "version": "3.8.5"
  }
 },
 "nbformat": 4,
 "nbformat_minor": 2
}
