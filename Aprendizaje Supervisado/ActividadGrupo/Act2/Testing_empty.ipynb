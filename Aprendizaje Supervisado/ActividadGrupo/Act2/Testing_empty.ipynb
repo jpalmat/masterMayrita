{
 "cells": [
  {
   "cell_type": "code",
   "execution_count": null,
   "metadata": {},
   "outputs": [],
   "source": [
    "# Librerías\n",
    "import os\n",
    "import cv2\n",
    "import matplotlib.pyplot as plt\n",
    "import numpy as np\n",
    "import pickle\n",
    "from pprint import pprint\n",
    "from skimage.feature import hog\n",
    "\n",
    "from sklearn import preprocessing\n",
    "from sklearn.feature_selection import VarianceThreshold\n",
    "from sklearn.model_selection import cross_val_score, KFold\n",
    "from sklearn.ensemble import RandomForestClassifier\n",
    "\n",
    "from tabulate import tabulate\n",
    "from sklearn import metrics"
   ]
  },
  {
   "cell_type": "code",
   "execution_count": null,
   "metadata": {},
   "outputs": [],
   "source": [
    "################################ PREDICCIÓN ################################"
   ]
  },
  {
   "cell_type": "code",
   "execution_count": null,
   "metadata": {},
   "outputs": [],
   "source": [
    "# Cargar todos los objetos obtenidos durante el entrenamiento\n",
    "# estandarizador\n",
    "with open('objetos/estandarizador.pickle', 'rb') as fr:\n",
    "    std = pickle.load(fr)\n",
    "    \n",
    "# selector\n",
    "# ???\n",
    "\n",
    "# model\n",
    "# ???\n",
    "    "
   ]
  },
  {
   "cell_type": "code",
   "execution_count": null,
   "metadata": {},
   "outputs": [],
   "source": [
    "# Carga de datos de test\n",
    "images, target  = [], []\n",
    "folder = os.listdir('digits/test/')\n",
    "\n",
    "# Bucle for hasta la longitud del folder\n",
    "    # leer imagen\n",
    "    # ???\n",
    "    # Binarizar imagen\n",
    "    # ???\n",
    "    # añadir imagen a la lista\n",
    "    # ???\n",
    "    \n",
    "    # extraer la etiqueta de la imagen\n",
    "    # ???\n",
    "    # añadir etiqueta a la lista\n",
    "    # ???\n",
    "\n",
    "# convertir las listas en arrays\n",
    "# ???\n",
    "# ???"
   ]
  },
  {
   "cell_type": "code",
   "execution_count": null,
   "metadata": {},
   "outputs": [],
   "source": [
    "# 5) Extracción de características de test\n",
    "X_test = []\n",
    "y_test = target\n",
    "\n",
    "# Bucle for hasta la longitud del folder\n",
    "    # Extraer características de cada imagen (IMPORTANTE: igual que en training)\n",
    "    # ???\n",
    "    # Añadir características a la lista\n",
    "    # ???\n",
    "\n",
    "# Convertir la lista en array\n",
    "# ???"
   ]
  },
  {
   "cell_type": "code",
   "execution_count": null,
   "metadata": {},
   "outputs": [],
   "source": [
    "# 6) Estandarización de características de test\n",
    "# ???"
   ]
  },
  {
   "cell_type": "code",
   "execution_count": null,
   "metadata": {},
   "outputs": [],
   "source": [
    "# 7) Selección de características\n",
    "# ???"
   ]
  },
  {
   "cell_type": "code",
   "execution_count": null,
   "metadata": {},
   "outputs": [],
   "source": [
    "# 8) Extraer predicciones\n",
    "# ???"
   ]
  },
  {
   "cell_type": "code",
   "execution_count": null,
   "metadata": {},
   "outputs": [],
   "source": [
    "# 9) Evaluar resultados\n",
    "# Precisión, Sensitivity, F-score y Accuracy\n",
    "\n",
    "headers = ['', 'CLF']\n",
    "P, S, FS, ACC = [['Precision'], ['Sensibilidad'], ['F1-Score'], ['Accuracy']]\n",
    "\n",
    "P.append(np.round(metrics.precision_score(y_test, y_pred, average='macro'),4))\n",
    "# ???\n",
    "# ???\n",
    "# ???\n",
    "\n",
    "my_data = [tuple(P), tuple(S), tuple(FS), tuple(ACC)]\n",
    "print(tabulate(my_data, headers=headers))\n",
    "\n",
    "# Confusion matrix\n",
    "print('\\nCONFUSION MATRIX')\n",
    "# ???"
   ]
  }
 ],
 "metadata": {
  "kernelspec": {
   "display_name": "Python 3",
   "language": "python",
   "name": "python3"
  },
  "language_info": {
   "codemirror_mode": {
    "name": "ipython",
    "version": 3
   },
   "file_extension": ".py",
   "mimetype": "text/x-python",
   "name": "python",
   "nbconvert_exporter": "python",
   "pygments_lexer": "ipython3",
   "version": "3.8.5"
  }
 },
 "nbformat": 4,
 "nbformat_minor": 2
}
