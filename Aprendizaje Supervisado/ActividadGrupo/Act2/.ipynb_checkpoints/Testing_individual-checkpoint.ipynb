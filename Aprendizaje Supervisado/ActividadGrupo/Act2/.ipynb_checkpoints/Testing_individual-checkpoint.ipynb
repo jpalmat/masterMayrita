{
 "cells": [
  {
   "cell_type": "code",
   "execution_count": null,
   "metadata": {},
   "outputs": [],
   "source": [
    "# Librerías\n",
    "import os\n",
    "import cv2\n",
    "import matplotlib.pyplot as plt\n",
    "import numpy as np\n",
    "import pickle\n",
    "from pprint import pprint\n",
    "from skimage.feature import hog\n",
    "\n",
    "from sklearn import preprocessing\n",
    "from sklearn.feature_selection import VarianceThreshold\n",
    "from sklearn.model_selection import cross_val_score, KFold\n",
    "from sklearn.ensemble import RandomForestClassifier"
   ]
  },
  {
   "cell_type": "code",
   "execution_count": null,
   "metadata": {},
   "outputs": [],
   "source": [
    "################################ PREDICCIÓN INDIVIDUAL ################################"
   ]
  },
  {
   "cell_type": "code",
   "execution_count": null,
   "metadata": {},
   "outputs": [],
   "source": [
    "# Cargar todos los objetos obtenidos durante el entrenamiento\n",
    "# estandarizador\n",
    "with open('objetos/estandarizador.pickle', 'rb') as fr:\n",
    "    std = pickle.load(fr)\n",
    "    \n",
    "# selector\n",
    "with open('objetos/selector.pickle', 'rb') as fr:\n",
    "    sel = pickle.load(fr)\n",
    "\n",
    "# model\n",
    "with open('objetos/clasificador.pickle', 'rb') as fr:\n",
    "    model = pickle.load(fr)\n",
    "\n",
    "# Leer la imagen\n",
    "test_img = cv2.imread('test_3.jpeg', 0)\n",
    "plt.imshow(test_img, cmap='gray')\n",
    "plt.show()\n"
   ]
  },
  {
   "cell_type": "code",
   "execution_count": null,
   "metadata": {},
   "outputs": [],
   "source": [
    "# Procesar la imagen para que cumpla los requisitos del algoritmo entrenado\n",
    "t, test_ima = cv2.threshold(test_img,0,1,cv2.THRESH_OTSU)\n",
    "test_ima = cv2.resize(test_ima, (16,16))\n",
    "\n",
    "# Extraer características\n",
    "feat_test = hog(test_ima, orientations=9, pixels_per_cell=(4, 4), cells_per_block=(2, 2), \n",
    "                   transform_sqrt=True, block_norm=\"L1\")\n",
    "\n",
    "# Estandarizar las características\n",
    "feat_test = std.transform(np.expand_dims(feat_test,axis=0))\n",
    "print(np.shape(feat_test))\n",
    "\n",
    "# Seleccionar las características\n",
    "feat_test = sel.transform(feat_test)\n",
    "print(np.shape(feat_test))\n",
    "\n",
    "# Extraer la predicción\n",
    "y_pred = model.predict(feat_test)\n",
    "\n",
    "# Evaluar si la predicción es correcta\n",
    "plt.imshow(test_ima, cmap='gray')\n",
    "plt.title('prediction: ' + str(y_pred[0]))\n",
    "plt.show()"
   ]
  }
 ],
 "metadata": {
  "kernelspec": {
   "display_name": "Python 3",
   "language": "python",
   "name": "python3"
  },
  "language_info": {
   "codemirror_mode": {
    "name": "ipython",
    "version": 3
   },
   "file_extension": ".py",
   "mimetype": "text/x-python",
   "name": "python",
   "nbconvert_exporter": "python",
   "pygments_lexer": "ipython3",
   "version": "3.8.5"
  }
 },
 "nbformat": 4,
 "nbformat_minor": 2
}
