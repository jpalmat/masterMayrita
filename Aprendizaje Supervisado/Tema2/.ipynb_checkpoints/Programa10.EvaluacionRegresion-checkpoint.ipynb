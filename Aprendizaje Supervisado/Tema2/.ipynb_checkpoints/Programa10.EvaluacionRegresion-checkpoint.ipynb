{
 "cells": [
  {
   "cell_type": "code",
   "execution_count": null,
   "metadata": {},
   "outputs": [],
   "source": [
    "import numpy as np\n",
    "from math import sqrt\n",
    "from pprint import pprint\n",
    "from sklearn import datasets\n",
    "from sklearn.dummy import DummyRegressor\n",
    "from sklearn.model_selection import cross_validate\n",
    "from sklearn.model_selection import KFold\n",
    "from sklearn.metrics import make_scorer\n",
    "from sklearn.metrics import mean_squared_error\n",
    "from sklearn.model_selection import train_test_split"
   ]
  },
  {
   "cell_type": "code",
   "execution_count": null,
   "metadata": {},
   "outputs": [],
   "source": [
    "# Carga de datos.\n",
    "datos = datasets.load_boston()\n",
    "X = datos.data\n",
    "y = datos.target\n",
    "# pprint(datos)\n",
    "# print(np.shape(datos.data))"
   ]
  },
  {
   "cell_type": "code",
   "execution_count": null,
   "metadata": {},
   "outputs": [],
   "source": [
    "# Partición EXTERNA. Test: hold-out split 80-20%.\n",
    "X_train, X_test, y_train, y_test = train_test_split(X, y, test_size=0.2, random_state=42)\n",
    "print('Train dimensions: ', np.shape(X_train))\n",
    "print('Test dimensions:  ', np.shape(X_test))"
   ]
  },
  {
   "cell_type": "code",
   "execution_count": null,
   "metadata": {},
   "outputs": [],
   "source": [
    "# Algoritmo de aprendizaje.\n",
    "reg = DummyRegressor()"
   ]
  },
  {
   "cell_type": "code",
   "execution_count": null,
   "metadata": {},
   "outputs": [],
   "source": [
    "# Métricas de evaluación.\n",
    "metricas = {\n",
    "  'MAE': 'neg_mean_absolute_error',\n",
    "  'RMSE': make_scorer(\n",
    "          lambda y, y_pred:\n",
    "            sqrt(mean_squared_error(y, y_pred)),\n",
    "            greater_is_better=False),\n",
    "  'MAPE': make_scorer(\n",
    "          lambda y, y_pred:\n",
    "            np.mean(np.abs((y - y_pred) / y)) * 100,\n",
    "            greater_is_better=False)}"
   ]
  },
  {
   "cell_type": "code",
   "execution_count": null,
   "metadata": {},
   "outputs": [],
   "source": [
    "# Validación y evaluación del modelo.\n",
    "# en \"cv = KFold(n_splits=5)\" se hace un cross-validation INTERNO!! \n",
    "evaluacion = cross_validate(reg, X_train, y_train, cv = KFold(n_splits=5), scoring = metricas)"
   ]
  },
  {
   "cell_type": "code",
   "execution_count": null,
   "metadata": {},
   "outputs": [],
   "source": [
    "# Presentación de los resultados de la evaluación.\n",
    "pprint(evaluacion)"
   ]
  },
  {
   "cell_type": "code",
   "execution_count": null,
   "metadata": {},
   "outputs": [],
   "source": [
    "# Veamos como disminuye el error durante el cross-validation interno si utilizamos un algoritmo más complejo\n",
    "# El objetivo es utilizar cross-validation INTERNO para optimizar los hiperpárametros (C, por ejemplo)\n",
    "from sklearn.svm import SVR\n",
    "svr = SVR(C=100)\n",
    "results = cross_validate(svr, X_train, y_train, cv=KFold(n_splits=5), scoring=metricas)\n",
    "pprint(results)"
   ]
  },
  {
   "cell_type": "code",
   "execution_count": null,
   "metadata": {},
   "outputs": [],
   "source": [
    "# Una vez hemos optimizado los hiperparámetros en el conjunto de validación, entrenamos un nuevo modelo que contenga\n",
    "# todos los datos de entrenamiento (es decir, train + validation) para evaluar el test\n",
    "from sklearn.metrics import mean_absolute_error\n",
    "svr = SVR(C=100) # Definimos el modelo con los hiperparámetros optimizados\n",
    "svr = svr.fit(X_train, y_train) # Entrenamos el modelo\n",
    "\n",
    "# Extraemos las predicciones del test\n",
    "y_pred = svr.predict(X_test)\n",
    "# Observamos el error cometido (En este caso utilizando solo la métrica MAE)\n",
    "print('Error MAE en test: ', mean_absolute_error(y_pred, y_test))"
   ]
  },
  {
   "cell_type": "code",
   "execution_count": null,
   "metadata": {},
   "outputs": [],
   "source": [
    "# También podemos ver cuánto difieren los valores predichos de los reales (observamos únicamente los 10 primeros valores)\n",
    "print('Predicciones:   ', np.round(y_pred[:10], 1))\n",
    "print('Valores reales: ', y_test[:10])"
   ]
  }
 ],
 "metadata": {
  "kernelspec": {
   "display_name": "Python 3",
   "language": "python",
   "name": "python3"
  },
  "language_info": {
   "codemirror_mode": {
    "name": "ipython",
    "version": 3
   },
   "file_extension": ".py",
   "mimetype": "text/x-python",
   "name": "python",
   "nbconvert_exporter": "python",
   "pygments_lexer": "ipython3",
   "version": "3.8.5"
  }
 },
 "nbformat": 4,
 "nbformat_minor": 2
}
