{
 "cells": [
  {
   "cell_type": "code",
   "execution_count": null,
   "metadata": {},
   "outputs": [],
   "source": [
    "import numpy as np\n",
    "from sklearn import datasets\n",
    "from sklearn.dummy import DummyClassifier\n",
    "from sklearn.model_selection import train_test_split"
   ]
  },
  {
   "cell_type": "code",
   "execution_count": null,
   "metadata": {},
   "outputs": [],
   "source": [
    "# Carga de datos.\n",
    "iris = datasets.load_iris()\n",
    "print(iris)"
   ]
  },
  {
   "cell_type": "code",
   "execution_count": null,
   "metadata": {},
   "outputs": [],
   "source": [
    "# Mostrar características de la tabla de datos.\n",
    "print(\"Tabla de datos: %d instancias y %d atributos\" % (iris.data.shape[0], iris.data.shape[1]))\n",
    "print(\"Valores de la clase:\", set(iris.target))\n",
    "\n",
    "valores, ocurrencias = np.unique(iris.target, return_counts=True)\n",
    "print(valores, ocurrencias)"
   ]
  },
  {
   "cell_type": "code",
   "execution_count": null,
   "metadata": {},
   "outputs": [],
   "source": [
    "# Test: hold-out split 80-20%. # Partición externa\n",
    "X_training, X_test, y_training, y_test = train_test_split(iris.data, iris.target, test_size=0.2, random_state=42)\n",
    "valores_test, ocur_test = np.unique(y_test, return_counts=True)\n",
    "print('Test: ', 'clases:', valores_test, ' ocurrencias: ', ocur_test)"
   ]
  },
  {
   "cell_type": "code",
   "execution_count": null,
   "metadata": {},
   "outputs": [],
   "source": [
    "# Validación: hold-out split 80-20%. # Partición interna\n",
    "X_train, X_val, y_train, y_val = train_test_split(X_training, y_training, test_size=0.2, random_state=42)\n",
    "valores_train, ocur_train = np.unique(y_train, return_counts=True)\n",
    "print('Entrenamiento: ', ' clases:', valores_train, '  ocurrencias:', ocur_train)\n",
    "\n",
    "valores_val, ocur_val = np.unique(y_val, return_counts=True)\n",
    "print('Entrenamiento: ', ' clases:', valores_val, '  ocurrencias:', ocur_val)"
   ]
  },
  {
   "cell_type": "code",
   "execution_count": null,
   "metadata": {},
   "outputs": [],
   "source": [
    "# Construcción del objeto que contiene el algoritmo de aprendizaje.\n",
    "clf = DummyClassifier(strategy='prior', random_state=42)"
   ]
  },
  {
   "cell_type": "code",
   "execution_count": null,
   "metadata": {},
   "outputs": [],
   "source": [
    "# Entrenamiento del algoritmo de aprendizaje.\n",
    "model = clf.fit(X_train, y_train)"
   ]
  },
  {
   "cell_type": "code",
   "execution_count": null,
   "metadata": {},
   "outputs": [],
   "source": [
    "# Evaluación del algoritmo de aprendizaje con el método \"score\" que devuelve directamente la métrica de 'accuracy'\n",
    "val_accuracy = clf.score(X_val, y_val)\n",
    "print(\"Exactitud en validación: \", val_accuracy)\n",
    "\n",
    "test_accuracy = clf.score(X_test, y_test)\n",
    "print(\"Exactitud en test: \", test_accuracy)"
   ]
  },
  {
   "cell_type": "code",
   "execution_count": null,
   "metadata": {},
   "outputs": [],
   "source": [
    "# Obtenemos las predicciones sobre conjunto de validación y de test\n",
    "y_pred_val = clf.predict(X_val)\n",
    "print('Predicciones de validación ', y_pred_val)\n",
    "print('Etiquetas reales validación', y_val)\n",
    "\n",
    "y_pred_test = clf.predict(X_test)\n",
    "print('\\nPredicciones de test ', y_pred_val)\n",
    "print('Etiquetas reales test', y_val)"
   ]
  },
  {
   "cell_type": "code",
   "execution_count": null,
   "metadata": {},
   "outputs": [],
   "source": [
    "# Aplicamos un ejemplo con un clasificador más complejo que el \"dummyclassifier\"\n",
    "from sklearn.svm import SVC\n",
    "svc = SVC(C=0.5) # Definimos algoritmo\n",
    "svc.fit(X_train, y_train) # Entrenamos modelo\n",
    "\n",
    "val_accuracy = svc.score(X_val, y_val) # Evaluamos modelo en validación\n",
    "print('Exactitud en validación ', np.round(val_accuracy*100, 4), '%')\n",
    "\n",
    "test_accuracy = svc.score(X_test, y_test) # Evaluamos modelo en test\n",
    "print('Exactitud en test ', np.round(test_accuracy*100, 4), '%')"
   ]
  }
 ],
 "metadata": {
  "kernelspec": {
   "display_name": "Python 3",
   "language": "python",
   "name": "python3"
  },
  "language_info": {
   "codemirror_mode": {
    "name": "ipython",
    "version": 3
   },
   "file_extension": ".py",
   "mimetype": "text/x-python",
   "name": "python",
   "nbconvert_exporter": "python",
   "pygments_lexer": "ipython3",
   "version": "3.8.5"
  }
 },
 "nbformat": 4,
 "nbformat_minor": 2
}
