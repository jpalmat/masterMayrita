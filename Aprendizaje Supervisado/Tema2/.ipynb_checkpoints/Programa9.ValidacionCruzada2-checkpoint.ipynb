{
 "cells": [
  {
   "cell_type": "code",
   "execution_count": null,
   "metadata": {},
   "outputs": [],
   "source": [
    "import numpy as np\n",
    "from sklearn import datasets\n",
    "from sklearn.dummy import DummyClassifier\n",
    "from sklearn.model_selection import cross_val_score\n",
    "from sklearn.model_selection import KFold\n",
    "from sklearn.model_selection import train_test_split"
   ]
  },
  {
   "cell_type": "code",
   "execution_count": null,
   "metadata": {},
   "outputs": [],
   "source": [
    "# Carga de datos.\n",
    "iris = datasets.load_iris()"
   ]
  },
  {
   "cell_type": "code",
   "execution_count": null,
   "metadata": {},
   "outputs": [],
   "source": [
    "# Test: hold-out split 80-20%. PARTICIÓN EXTERNA\n",
    "X_train, X_test, y_train, y_test = train_test_split(iris.data, iris.target, test_size=0.2, random_state=42)\n",
    "\n",
    "valores_test, ocur_test = np.unique(y_test, return_counts=True)\n",
    "print('Test: ', 'clases:', valores_test, ' ocurrencias: ', ocur_test)\n",
    "\n",
    "valores_train, ocur_train = np.unique(y_train, return_counts=True)\n",
    "print('Entrenamiento: ', ' clases:', valores_train, '  ocurrencias:', ocur_train)"
   ]
  },
  {
   "cell_type": "code",
   "execution_count": null,
   "metadata": {},
   "outputs": [],
   "source": [
    "# Construcción del objeto que contiene el algoritmo de aprendizaje.\n",
    "clf = DummyClassifier(strategy='prior', random_state=42)"
   ]
  },
  {
   "cell_type": "code",
   "execution_count": null,
   "metadata": {},
   "outputs": [],
   "source": [
    "# Validación, entrenamiento y evaluación del algoritmo de aprendizaje.\n",
    "# en \"cv = KFold(n_splits=5)\" estamos haciendo un cross-validation INTERNO!\n",
    "results = cross_val_score(clf, X_train, y_train, cv = KFold(n_splits=5))\n",
    "print(\"Resultados por bolsa: \", results)\n",
    "print(\"Accuracy (media +/- desv.): %0.4f +/- %0.4f\" % (results.mean(), results.std()))"
   ]
  },
  {
   "cell_type": "code",
   "execution_count": null,
   "metadata": {},
   "outputs": [],
   "source": [
    "# Una vez entrenado y validado el modelo, utilizamos todos los datos de \"train\" y \"val\" para entrenar el modelo definitivo\n",
    "clf = clf.fit(X_train, y_train) # Entrenamiento\n",
    "\n",
    "# Y posteriormente evaluar el resultado del modelo entrenado con el conjunto de test\n",
    "test_results = clf.score(X_test, y_test) # Evaluación en test\n",
    "print('Exactitud en test: ', test_results*100, '%')"
   ]
  },
  {
   "cell_type": "code",
   "execution_count": null,
   "metadata": {},
   "outputs": [],
   "source": [
    "# Veamos qué ocurre con un modelo más complejo que \"dummyclassifier\"\n",
    "# Hacemos el cross-validation interno para seleccionar los mejores hiperparámetros\n",
    "from sklearn.svm import SVC\n",
    "svc = SVC(C=0.5)\n",
    "results = cross_val_score(svc, X_train, y_train, cv = KFold(n_splits=5))\n",
    "print(\"Resultados por bolsa: \", results)\n",
    "print(\"Accuracy (media +/- desv.): %0.4f +/- %0.4f\" % (results.mean(), results.std()))"
   ]
  },
  {
   "cell_type": "code",
   "execution_count": null,
   "metadata": {},
   "outputs": [],
   "source": [
    "# Una vez entrenado y validado el modelo para seleccionar los mejores hyperparameters, utilizamos todos los datos de \n",
    "# \"train\" y \"val\" para entrenar el modelo definitivo\n",
    "svc = svc.fit(X_train, y_train) # Entrenamiento\n",
    "\n",
    "# Y posteriormente evaluar el resultado del modelo entrenado con el conjunto de test\n",
    "test_results = svc.score(X_test, y_test) # Evaluación en test\n",
    "print('Exactitud en test: ', test_results*100, '%')\n",
    "\n",
    "# También podemos extraer las predicciones, en lugar de directamente la accuracy\n",
    "y_pred = svc.predict(X_test)\n",
    "print('Predicciones:     ', y_pred)\n",
    "print('Etiquetas reales: ', y_test)"
   ]
  }
 ],
 "metadata": {
  "kernelspec": {
   "display_name": "Python 3",
   "language": "python",
   "name": "python3"
  },
  "language_info": {
   "codemirror_mode": {
    "name": "ipython",
    "version": 3
   },
   "file_extension": ".py",
   "mimetype": "text/x-python",
   "name": "python",
   "nbconvert_exporter": "python",
   "pygments_lexer": "ipython3",
   "version": "3.8.5"
  }
 },
 "nbformat": 4,
 "nbformat_minor": 2
}
