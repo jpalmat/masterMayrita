{
 "cells": [
  {
   "cell_type": "markdown",
   "metadata": {},
   "source": [
    "## Convocatoria 1 - Proyecto 2"
   ]
  },
  {
   "cell_type": "markdown",
   "metadata": {},
   "source": [
    "### Ejercicio 1 (4 puntos)\n",
    "Utilizar el conjunto de datos \"dataset_1.npy\" para resolver el ejercicio. Tener en cuenta que la última columna corresponde a la clase."
   ]
  },
  {
   "cell_type": "markdown",
   "metadata": {},
   "source": [
    "#### 1.a) Imputación de valores ausentes (2 puntos)\n",
    "\n",
    "- En aquellas instancias (filas) que contengan UN ÚNICO VALOR NaN en alguno de sus atributos (columnas), se imputará dicho valor.\n",
    " * Si el atributo corresponde a una variable discreta, se imputará el valor utilizando la moda de dicho atributo. \n",
    " * Si el atributo corresponde a una variable continua, se imputará el valor utilizando la media de dicho atributo. \n",
    "- Aquellas instancias (filas) que contengan MÁS DE UN VALOR NaN en sus atributos, deberán ser eliminadas por completo. \n",
    "\n",
    "Los outputs deberán ser: \n",
    "- Una matriz \"X\" de dimensiones M x N, donde M será el número de instancias y N, el de atributos.\n",
    "- Un vector \"y\" de dimensiones M. "
   ]
  },
  {
   "cell_type": "code",
   "execution_count": null,
   "metadata": {},
   "outputs": [],
   "source": []
  },
  {
   "cell_type": "markdown",
   "metadata": {},
   "source": [
    "#### 1.b) Eliminación de valores outliers extremos (2 puntos)\n",
    "- Aplicar el método de Elliptic Envelope fijando una semilla en 42\n",
    "- Utilizar el diagrama de caja y bigotes para establecer los umbrales de decisión\n",
    "- Plotear el diagrama (box and whiskers) obtenido a partir de las puntuaciones calculadas con el método Elliptic Envelope\n",
    "- Eliminar las instancias que contengan valores outliers extremos\n",
    "\n",
    "Los outputs deberán ser: \n",
    "- Una matriz \"X\" de dimensiones M' x N, donde M' será el nuevo número de instancias y N, el de atributos.\n",
    "- Un vector \"y\" de dimensiones M'. "
   ]
  },
  {
   "cell_type": "code",
   "execution_count": null,
   "metadata": {},
   "outputs": [],
   "source": []
  },
  {
   "cell_type": "markdown",
   "metadata": {},
   "source": [
    "### Ejercicio 2 (6 puntos)"
   ]
  },
  {
   "cell_type": "markdown",
   "metadata": {},
   "source": [
    "Crear un programa, con comentarios que aclaren el código, donde se computen las métricas MAE, MSE, RMSE, MAPE y R2 aplicando los regresores OLS y KNN en DOS datasets de regresión (a elegir). Nota: Al menos uno de los datasets deberá ser externo a la librería de scikit-learn.\n",
    "\n",
    "Se debe llevar a cabo:\n",
    "- Exploración de los datos y descripción del dataset\n",
    "- Tratamiento de outliers y valores perdidos (si los hay)\n",
    "- Partición externa de datos\n",
    "- Estandarización de los datos\n",
    "- Selección de atributos mediante métodos supervisados (solo uno)\n",
    "- Validación cruzada interna para optimizar los hiperparámetros de los algoritmos (si procede)\n",
    "- Modelado\n",
    "- Predicción y evaluación sobre el conjunto de test (resultados cuantitativos y cualitativos)\n",
    "- Breve discusión comparando los resultados obtenidos con cada método."
   ]
  },
  {
   "cell_type": "code",
   "execution_count": null,
   "metadata": {},
   "outputs": [],
   "source": []
  }
 ],
 "metadata": {
  "kernelspec": {
   "display_name": "Python 3",
   "language": "python",
   "name": "python3"
  },
  "language_info": {
   "codemirror_mode": {
    "name": "ipython",
    "version": 3
   },
   "file_extension": ".py",
   "mimetype": "text/x-python",
   "name": "python",
   "nbconvert_exporter": "python",
   "pygments_lexer": "ipython3",
   "version": "3.8.5"
  }
 },
 "nbformat": 4,
 "nbformat_minor": 4
}
